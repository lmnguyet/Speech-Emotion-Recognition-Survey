{
  "nbformat": 4,
  "nbformat_minor": 0,
  "metadata": {
    "colab": {
      "provenance": [],
      "gpuType": "T4",
      "toc_visible": true
    },
    "kernelspec": {
      "name": "python3",
      "display_name": "Python 3"
    },
    "language_info": {
      "name": "python"
    },
    "accelerator": "GPU"
  },
  "cells": [
    {
      "cell_type": "code",
      "source": [
        "from google.colab import drive\n",
        "drive.mount('/content/drive')"
      ],
      "metadata": {
        "colab": {
          "base_uri": "https://localhost:8080/"
        },
        "id": "CTmHEHjhvTet",
        "outputId": "68e79eab-4852-4d89-dfef-e146c96ac53c"
      },
      "execution_count": null,
      "outputs": [
        {
          "output_type": "stream",
          "name": "stdout",
          "text": [
            "Mounted at /content/drive\n"
          ]
        }
      ]
    },
    {
      "cell_type": "code",
      "source": [
        "from tqdm import tqdm\n",
        "import numpy as np\n",
        "import pandas as pd\n",
        "import warnings\n",
        "warnings.filterwarnings(\"ignore\")\n",
        "import joblib\n",
        "from sklearn.preprocessing import StandardScaler\n",
        "from tensorflow.keras.utils import to_categorical\n",
        "from sklearn.metrics import classification_report"
      ],
      "metadata": {
        "id": "l8rg61Ibbp6H"
      },
      "execution_count": null,
      "outputs": []
    },
    {
      "cell_type": "markdown",
      "source": [
        "# Nhóm học máy truyền thống"
      ],
      "metadata": {
        "id": "GvDbIUOTZRxW"
      }
    },
    {
      "cell_type": "code",
      "source": [
        "root_data = \"/content/drive/MyDrive/Study/Năm 3/CS337-Xử lý âm thanh và tiếng nói/RAVDESS_5000/src_data\"\n",
        "test_root_data = \"/content/drive/MyDrive/Study/Năm 3/CS337-Xử lý âm thanh và tiếng nói/test_features\""
      ],
      "metadata": {
        "id": "8fVzc9_XW8zT"
      },
      "execution_count": null,
      "outputs": []
    },
    {
      "cell_type": "markdown",
      "source": [
        "## SVM"
      ],
      "metadata": {
        "id": "3zIe8ZeSZX3D"
      }
    },
    {
      "cell_type": "code",
      "source": [
        "from sklearn.svm import SVC\n",
        "from sklearn.metrics import classification_report\n",
        "classifier = SVC(kernel = 'rbf', C = 6)"
      ],
      "metadata": {
        "id": "pIcdTsGmaMm5"
      },
      "execution_count": null,
      "outputs": []
    },
    {
      "cell_type": "markdown",
      "source": [
        "### Dùng spectral feature"
      ],
      "metadata": {
        "id": "9QU-XBebZa58"
      }
    },
    {
      "cell_type": "code",
      "source": [
        "features = \"spectral_features\"\n",
        "# load data\n",
        "feature_path = root_data + \"/\" + features + \"/\"\n",
        "X_train = joblib.load(feature_path + 'X_train.joblib')\n",
        "y_train = joblib.load(feature_path + 'y_train.joblib')\n",
        "X_test = joblib.load(feature_path + 'X_test.joblib')\n",
        "y_test = joblib.load(feature_path + 'y_test.joblib')\n",
        "# Chuẩn hóa dữ liệu\n",
        "scaler = StandardScaler()\n",
        "X_train = scaler.fit_transform(X_train)\n",
        "X_test = scaler.transform(X_test)\n",
        "\n",
        "\n",
        "# Huấn luyện model\n",
        "classifier.fit(X_train, y_train)\n",
        "\n",
        "# Dự đoán bộ test\n",
        "y_pred = classifier.predict(X_test)\n",
        "\n",
        "# Đánh giá kết quả\n",
        "print(\"Kết quả huấn luyện model SVM với đặc trưng\", features)\n",
        "print(classification_report(y_test, y_pred))\n",
        "#, target_names=['Anger', 'Disgust', 'Fear', 'Happy', 'Neutral', 'Sad']"
      ],
      "metadata": {
        "colab": {
          "base_uri": "https://localhost:8080/"
        },
        "id": "cUCtTLR4ZsqR",
        "outputId": "82a0cc38-df9f-451c-8be6-a64a80d96142"
      },
      "execution_count": null,
      "outputs": [
        {
          "output_type": "stream",
          "name": "stdout",
          "text": [
            "Kết quả huấn luyện model SVM với đặc trưng spectral_features\n",
            "              precision    recall  f1-score   support\n",
            "\n",
            "           0       0.97      0.84      0.90        82\n",
            "           1       0.82      0.92      0.87        49\n",
            "           2       0.80      0.82      0.81       110\n",
            "           3       0.75      0.88      0.81       113\n",
            "           4       0.85      0.87      0.86       126\n",
            "           5       0.85      0.75      0.80       107\n",
            "           6       0.83      0.89      0.86        97\n",
            "           7       0.94      0.84      0.88       104\n",
            "\n",
            "    accuracy                           0.84       788\n",
            "   macro avg       0.85      0.85      0.85       788\n",
            "weighted avg       0.85      0.84      0.84       788\n",
            "\n"
          ]
        }
      ]
    },
    {
      "cell_type": "code",
      "source": [
        "import joblib\n",
        "joblib.dump(classifier, '/content/drive/MyDrive/Study/Năm 3/CS337-Xử lý âm thanh và tiếng nói/model/SVM_spectral.joblib')"
      ],
      "metadata": {
        "colab": {
          "base_uri": "https://localhost:8080/"
        },
        "id": "gxaJuAcmFZ0R",
        "outputId": "264e3199-5986-42b7-fccc-ceeed459208e"
      },
      "execution_count": null,
      "outputs": [
        {
          "output_type": "execute_result",
          "data": {
            "text/plain": [
              "['/content/drive/MyDrive/Study/Năm 3/CS337-Xử lý âm thanh và tiếng nói/model/SVM_spectral.joblib']"
            ]
          },
          "metadata": {},
          "execution_count": 10
        }
      ]
    },
    {
      "cell_type": "markdown",
      "source": [
        "### Dùng Prosodic feature"
      ],
      "metadata": {
        "id": "4ZMajY9hZhBt"
      }
    },
    {
      "cell_type": "code",
      "source": [
        "features = \"prosodic_features\"\n",
        "# load data\n",
        "feature_path = root_data + \"/\" + features + \"/\"\n",
        "X_train = joblib.load(feature_path + 'X_train.joblib')\n",
        "y_train = joblib.load(feature_path + 'y_train.joblib')\n",
        "X_test = joblib.load(feature_path + 'X_test.joblib')\n",
        "y_test = joblib.load(feature_path + 'y_test.joblib')\n",
        "# Chuẩn hóa dữ liệu\n",
        "scaler = StandardScaler()\n",
        "X_train = scaler.fit_transform(X_train)\n",
        "X_test = scaler.transform(X_test)\n",
        "\n",
        "# Huấn luyện model\n",
        "classifier.fit(X_train, y_train)\n",
        "\n",
        "# Dự đoán bộ test\n",
        "y_pred = classifier.predict(X_test)\n",
        "\n",
        "# Đánh giá kết quả\n",
        "print(\"Kết quả huấn luyện model SVM với đặc trưng\", features)\n",
        "print(classification_report(y_test, y_pred))\n",
        "# target_names=['Anger', 'Disgust', 'Fear', 'Happy', 'Neutral', 'Sad'])"
      ],
      "metadata": {
        "colab": {
          "base_uri": "https://localhost:8080/"
        },
        "id": "OUgMMQEMc2lb",
        "outputId": "60f31725-5a5d-43ee-e092-4350282455a8"
      },
      "execution_count": null,
      "outputs": [
        {
          "output_type": "stream",
          "name": "stdout",
          "text": [
            "Kết quả huấn luyện model SVM với đặc trưng prosodic_features\n",
            "              precision    recall  f1-score   support\n",
            "\n",
            "           0       0.84      0.74      0.79        82\n",
            "           1       0.59      0.71      0.65        49\n",
            "           2       0.68      0.73      0.70       110\n",
            "           3       0.69      0.79      0.74       113\n",
            "           4       0.86      0.80      0.83       126\n",
            "           5       0.83      0.74      0.78       107\n",
            "           6       0.72      0.74      0.73        97\n",
            "           7       0.73      0.67      0.70       104\n",
            "\n",
            "    accuracy                           0.74       788\n",
            "   macro avg       0.74      0.74      0.74       788\n",
            "weighted avg       0.75      0.74      0.75       788\n",
            "\n"
          ]
        }
      ]
    },
    {
      "cell_type": "code",
      "source": [
        "import joblib\n",
        "joblib.dump(classifier, '/content/drive/MyDrive/Study/Năm 3/CS337-Xử lý âm thanh và tiếng nói/model/SVM_prosodic.joblib')"
      ],
      "metadata": {
        "colab": {
          "base_uri": "https://localhost:8080/"
        },
        "id": "azuw_iIArMqs",
        "outputId": "ec4e713d-f9d1-4c01-bfbe-af3c1c8afa88"
      },
      "execution_count": null,
      "outputs": [
        {
          "output_type": "execute_result",
          "data": {
            "text/plain": [
              "['/content/drive/MyDrive/Study/Năm 3/CS337-Xử lý âm thanh và tiếng nói/model/SVM_prosodic.joblib']"
            ]
          },
          "metadata": {},
          "execution_count": 12
        }
      ]
    },
    {
      "cell_type": "markdown",
      "source": [
        "### Spectral + Prosodict"
      ],
      "metadata": {
        "id": "-v3nV_fwZme8"
      }
    },
    {
      "cell_type": "code",
      "execution_count": null,
      "metadata": {
        "colab": {
          "base_uri": "https://localhost:8080/"
        },
        "id": "k4FytkVPYWLj",
        "outputId": "0cfdfb46-abc1-49db-bbd6-62048f977106"
      },
      "outputs": [
        {
          "output_type": "stream",
          "name": "stdout",
          "text": [
            "Kết quả huấn luyện model SVM với đặc trưng full_features\n",
            "              precision    recall  f1-score   support\n",
            "\n",
            "           0       0.92      0.89      0.91        82\n",
            "           1       0.79      0.86      0.82        49\n",
            "           2       0.86      0.85      0.85       110\n",
            "           3       0.83      0.86      0.84       113\n",
            "           4       0.89      0.90      0.90       126\n",
            "           5       0.89      0.83      0.86       107\n",
            "           6       0.88      0.93      0.90        97\n",
            "           7       0.91      0.88      0.90       104\n",
            "\n",
            "    accuracy                           0.88       788\n",
            "   macro avg       0.87      0.88      0.87       788\n",
            "weighted avg       0.88      0.88      0.88       788\n",
            "\n"
          ]
        }
      ],
      "source": [
        "features = \"full_features\"\n",
        "# load data\n",
        "feature_path = root_data + \"/\" + features + \"/\"\n",
        "X_train = joblib.load(feature_path + 'X_train.joblib')\n",
        "y_train = joblib.load(feature_path + 'y_train.joblib')\n",
        "X_test = joblib.load(feature_path + 'X_test.joblib')\n",
        "y_test = joblib.load(feature_path + 'y_test.joblib')\n",
        "# Chuẩn hóa dữ liệu\n",
        "scaler = StandardScaler()\n",
        "X_train = scaler.fit_transform(X_train)\n",
        "X_test = scaler.transform(X_test)\n",
        "\n",
        "# Huấn luyện model\n",
        "classifier.fit(X_train, y_train)\n",
        "\n",
        "# Dự đoán bộ test\n",
        "y_pred = classifier.predict(X_test)\n",
        "\n",
        "# Đánh giá kết quả\n",
        "print(\"Kết quả huấn luyện model SVM với đặc trưng\", features)\n",
        "print(classification_report(y_test, y_pred))\n",
        "# , target_names=['Anger', 'Disgust', 'Fear', 'Happy', 'Neutral', 'Sad'])"
      ]
    },
    {
      "cell_type": "code",
      "source": [
        "import joblib\n",
        "joblib.dump(classifier, '/content/drive/MyDrive/Study/Năm 3/CS337-Xử lý âm thanh và tiếng nói/model/SVM_full.joblib')"
      ],
      "metadata": {
        "colab": {
          "base_uri": "https://localhost:8080/"
        },
        "id": "rJk2RFWLweuc",
        "outputId": "fafad70c-d6e7-428d-aaa7-7333f698b6d9"
      },
      "execution_count": null,
      "outputs": [
        {
          "output_type": "execute_result",
          "data": {
            "text/plain": [
              "['/content/drive/MyDrive/Study/Năm 3/CS337-Xử lý âm thanh và tiếng nói/model/SVM_full.joblib']"
            ]
          },
          "metadata": {},
          "execution_count": 14
        }
      ]
    },
    {
      "cell_type": "markdown",
      "source": [
        "### Test mấy cái nho nhỏ"
      ],
      "metadata": {
        "id": "EtPDb0NKF3Lb"
      }
    },
    {
      "cell_type": "code",
      "source": [
        "#list_features = ['mfcc_features', 'chroma_features', 'spectral_contrast_features', 'tonal_centroid_features', 'mel_spectrogram_features','pitch_features', 'mfcc_pitch_features']\n",
        "list_features = ['mfcc_features']\n",
        "for features in list_features:\n",
        "  # load data\n",
        "  feature_path = test_root_data + \"/\" + features + \"/\"\n",
        "  X_train = joblib.load(feature_path + 'X_train.joblib')\n",
        "  y_train = joblib.load(feature_path + 'y_train.joblib')\n",
        "  X_test = joblib.load(feature_path + 'X_test.joblib')\n",
        "  y_test = joblib.load(feature_path + 'y_test.joblib')\n",
        "  # Chuẩn hóa dữ liệu\n",
        "  scaler = StandardScaler()\n",
        "  X_train = scaler.fit_transform(X_train)\n",
        "  X_test = scaler.transform(X_test)\n",
        "\n",
        "  # Huấn luyện model\n",
        "  classifier.fit(X_train, y_train)\n",
        "\n",
        "  # Dự đoán bộ test\n",
        "  y_pred = classifier.predict(X_test)\n",
        "\n",
        "  # Đánh giá kết quả\n",
        "  print(\"Kết quả huấn luyện model SVM với đặc trưng\", features)\n",
        "  print(classification_report(y_test, y_pred))\n",
        "  # , target_names=['Anger', 'Disgust', 'Fear', 'Happy', 'Neutral', 'Sad'])"
      ],
      "metadata": {
        "colab": {
          "base_uri": "https://localhost:8080/"
        },
        "id": "cIDGqO2MGS3h",
        "outputId": "fddecb23-c19d-49e5-d560-b789e2c3c227"
      },
      "execution_count": null,
      "outputs": [
        {
          "output_type": "stream",
          "name": "stdout",
          "text": [
            "Kết quả huấn luyện model SVM với đặc trưng mfcc_features\n",
            "              precision    recall  f1-score   support\n",
            "\n",
            "           0       0.97      0.89      0.93        82\n",
            "           1       0.82      0.92      0.87        49\n",
            "           2       0.91      0.92      0.91       110\n",
            "           3       0.88      0.89      0.89       113\n",
            "           4       0.92      0.94      0.93       126\n",
            "           5       0.92      0.90      0.91       107\n",
            "           6       0.87      0.90      0.88        97\n",
            "           7       0.94      0.90      0.92       104\n",
            "\n",
            "    accuracy                           0.91       788\n",
            "   macro avg       0.90      0.91      0.90       788\n",
            "weighted avg       0.91      0.91      0.91       788\n",
            "\n"
          ]
        }
      ]
    },
    {
      "cell_type": "code",
      "source": [
        "import joblib\n",
        "joblib.dump(classifier, '/content/drive/MyDrive/Study/Năm 3/CS337-Xử lý âm thanh và tiếng nói/model/SVM_mfcc.joblib')"
      ],
      "metadata": {
        "colab": {
          "base_uri": "https://localhost:8080/"
        },
        "id": "a7aVoBCHwq77",
        "outputId": "3ef0bb75-3a8f-4eed-d732-5d467abb3857"
      },
      "execution_count": null,
      "outputs": [
        {
          "output_type": "execute_result",
          "data": {
            "text/plain": [
              "['/content/drive/MyDrive/Study/Năm 3/CS337-Xử lý âm thanh và tiếng nói/model/SVM_mfcc.joblib']"
            ]
          },
          "metadata": {},
          "execution_count": 16
        }
      ]
    },
    {
      "cell_type": "markdown",
      "source": [
        "## Naive Bayes"
      ],
      "metadata": {
        "id": "lxQf1IBmdcmz"
      }
    },
    {
      "cell_type": "code",
      "source": [
        "from sklearn.naive_bayes import GaussianNB\n",
        "from sklearn.metrics import classification_report\n",
        "classifier = GaussianNB()"
      ],
      "metadata": {
        "id": "AnoGfYDfdgXU"
      },
      "execution_count": null,
      "outputs": []
    },
    {
      "cell_type": "markdown",
      "source": [
        "### Dùng spectral feature"
      ],
      "metadata": {
        "id": "aNu-b2TpeEc2"
      }
    },
    {
      "cell_type": "code",
      "source": [
        "features = \"spectral_features\"\n",
        "# load data\n",
        "feature_path = root_data + \"/\" + features + \"/\"\n",
        "X_train = joblib.load(feature_path + 'X_train.joblib')\n",
        "y_train = joblib.load(feature_path + 'y_train.joblib')\n",
        "X_test = joblib.load(feature_path + 'X_test.joblib')\n",
        "y_test = joblib.load(feature_path + 'y_test.joblib')\n",
        "\n",
        "# Chuẩn hóa dữ liệu\n",
        "scaler = StandardScaler()\n",
        "X_train = scaler.fit_transform(X_train)\n",
        "X_test = scaler.transform(X_test)\n",
        "\n",
        "# Huấn luyện model\n",
        "classifier.fit(X_train, y_train)\n",
        "\n",
        "# Dự đoán bộ test\n",
        "y_pred = classifier.predict(X_test)\n",
        "\n",
        "# Đánh giá kết quả\n",
        "print(\"Kết quả huấn luyện model NB với đặc trưng\", features)\n",
        "print(classification_report(y_test, y_pred))\n",
        "#, target_names=['Anger', 'Disgust', 'Fear', 'Happy', 'Neutral', 'Sad'])\n",
        "X_train.shape"
      ],
      "metadata": {
        "colab": {
          "base_uri": "https://localhost:8080/"
        },
        "outputId": "05b2afa8-bf23-4a03-91dc-51c3c9d558cf",
        "id": "m4PJTP9aeEc2"
      },
      "execution_count": null,
      "outputs": [
        {
          "output_type": "stream",
          "name": "stdout",
          "text": [
            "Kết quả huấn luyện model NB với đặc trưng spectral_features\n",
            "              precision    recall  f1-score   support\n",
            "\n",
            "           0       0.87      0.72      0.79        82\n",
            "           1       0.24      0.94      0.38        49\n",
            "           2       0.66      0.28      0.39       110\n",
            "           3       0.37      0.39      0.38       113\n",
            "           4       0.88      0.52      0.66       126\n",
            "           5       0.62      0.42      0.50       107\n",
            "           6       0.44      0.59      0.50        97\n",
            "           7       0.41      0.34      0.37       104\n",
            "\n",
            "    accuracy                           0.49       788\n",
            "   macro avg       0.56      0.52      0.50       788\n",
            "weighted avg       0.58      0.49      0.50       788\n",
            "\n"
          ]
        },
        {
          "output_type": "execute_result",
          "data": {
            "text/plain": [
              "(3676, 193)"
            ]
          },
          "metadata": {},
          "execution_count": 18
        }
      ]
    },
    {
      "cell_type": "code",
      "source": [
        "import joblib\n",
        "joblib.dump(classifier, '/content/drive/MyDrive/Study/Năm 3/CS337-Xử lý âm thanh và tiếng nói/model/NB_spectral.joblib')"
      ],
      "metadata": {
        "colab": {
          "base_uri": "https://localhost:8080/"
        },
        "id": "3qHNoAJjHOvK",
        "outputId": "47f07aee-cb64-4640-8fca-2e1eb5183a30"
      },
      "execution_count": null,
      "outputs": [
        {
          "output_type": "execute_result",
          "data": {
            "text/plain": [
              "['/content/drive/MyDrive/Study/Năm 3/CS337-Xử lý âm thanh và tiếng nói/model/NB_spectral.joblib']"
            ]
          },
          "metadata": {},
          "execution_count": 19
        }
      ]
    },
    {
      "cell_type": "markdown",
      "source": [
        "### Dùng Prosodic feature"
      ],
      "metadata": {
        "id": "B7De-vCNeEc3"
      }
    },
    {
      "cell_type": "code",
      "source": [
        "features = \"prosodic_features\"\n",
        "# load data\n",
        "feature_path = root_data + \"/\" + features + \"/\"\n",
        "X_train = joblib.load(feature_path + 'X_train.joblib')\n",
        "y_train = joblib.load(feature_path + 'y_train.joblib')\n",
        "X_test = joblib.load(feature_path + 'X_test.joblib')\n",
        "y_test = joblib.load(feature_path + 'y_test.joblib')\n",
        "# Chuẩn hóa dữ liệu\n",
        "scaler = StandardScaler()\n",
        "X_train = scaler.fit_transform(X_train)\n",
        "X_test = scaler.transform(X_test)\n",
        "\n",
        "# Huấn luyện model\n",
        "classifier.fit(X_train, y_train)\n",
        "\n",
        "# Dự đoán bộ test\n",
        "y_pred = classifier.predict(X_test)\n",
        "\n",
        "# Đánh giá kết quả\n",
        "print(\"Kết quả huấn luyện model NB với đặc trưng\", features)\n",
        "print(classification_report(y_test, y_pred))\n",
        "#, target_names=['Anger', 'Disgust', 'Fear', 'Happy', 'Neutral', 'Sad']\n",
        "X_train.shape"
      ],
      "metadata": {
        "colab": {
          "base_uri": "https://localhost:8080/"
        },
        "outputId": "63e80bec-faa1-4479-c91c-8a84fd9dc5c7",
        "id": "Macvd6ByeEc4"
      },
      "execution_count": null,
      "outputs": [
        {
          "output_type": "stream",
          "name": "stdout",
          "text": [
            "Kết quả huấn luyện model NB với đặc trưng prosodic_features\n",
            "              precision    recall  f1-score   support\n",
            "\n",
            "           0       0.25      0.70      0.36        82\n",
            "           1       0.23      0.78      0.36        49\n",
            "           2       0.56      0.35      0.43       110\n",
            "           3       0.88      0.27      0.41       113\n",
            "           4       0.61      0.49      0.55       126\n",
            "           5       0.50      0.28      0.36       107\n",
            "           6       0.52      0.40      0.45        97\n",
            "           7       0.69      0.36      0.47       104\n",
            "\n",
            "    accuracy                           0.42       788\n",
            "   macro avg       0.53      0.45      0.42       788\n",
            "weighted avg       0.57      0.42      0.43       788\n",
            "\n"
          ]
        },
        {
          "output_type": "execute_result",
          "data": {
            "text/plain": [
              "(3676, 67)"
            ]
          },
          "metadata": {},
          "execution_count": 20
        }
      ]
    },
    {
      "cell_type": "code",
      "source": [
        "import joblib\n",
        "joblib.dump(classifier, '/content/drive/MyDrive/Study/Năm 3/CS337-Xử lý âm thanh và tiếng nói/model/NB_prosodic.joblib')"
      ],
      "metadata": {
        "colab": {
          "base_uri": "https://localhost:8080/"
        },
        "id": "oOR5XBEcw3ER",
        "outputId": "ea7b88ed-ed2f-450d-9545-495fd7b5dfd7"
      },
      "execution_count": null,
      "outputs": [
        {
          "output_type": "execute_result",
          "data": {
            "text/plain": [
              "['/content/drive/MyDrive/Study/Năm 3/CS337-Xử lý âm thanh và tiếng nói/model/NB_prosodic.joblib']"
            ]
          },
          "metadata": {},
          "execution_count": 21
        }
      ]
    },
    {
      "cell_type": "markdown",
      "source": [
        "### Spectral + Prosodict"
      ],
      "metadata": {
        "id": "oug2IOCueEc4"
      }
    },
    {
      "cell_type": "code",
      "execution_count": null,
      "metadata": {
        "colab": {
          "base_uri": "https://localhost:8080/"
        },
        "outputId": "1efc3f6f-6819-4b50-f573-0e70c07aec32",
        "id": "FxajDnHbeEc4"
      },
      "outputs": [
        {
          "output_type": "stream",
          "name": "stdout",
          "text": [
            "Kết quả huấn luyện model NB với đặc trưng full_features\n",
            "              precision    recall  f1-score   support\n",
            "\n",
            "           0       0.89      0.72      0.80        82\n",
            "           1       0.24      0.94      0.38        49\n",
            "           2       0.63      0.28      0.39       110\n",
            "           3       0.38      0.40      0.39       113\n",
            "           4       0.88      0.55      0.68       126\n",
            "           5       0.63      0.42      0.51       107\n",
            "           6       0.44      0.61      0.51        97\n",
            "           7       0.43      0.34      0.38       104\n",
            "\n",
            "    accuracy                           0.49       788\n",
            "   macro avg       0.57      0.53      0.50       788\n",
            "weighted avg       0.59      0.49      0.51       788\n",
            "\n"
          ]
        },
        {
          "output_type": "execute_result",
          "data": {
            "text/plain": [
              "(3676, 260)"
            ]
          },
          "metadata": {},
          "execution_count": 22
        }
      ],
      "source": [
        "features = \"full_features\"\n",
        "# load data\n",
        "feature_path = root_data + \"/\" + features + \"/\"\n",
        "X_train = joblib.load(feature_path + 'X_train.joblib')\n",
        "y_train = joblib.load(feature_path + 'y_train.joblib')\n",
        "X_test = joblib.load(feature_path + 'X_test.joblib')\n",
        "y_test = joblib.load(feature_path + 'y_test.joblib')\n",
        "\n",
        "# Chuẩn hóa dữ liệu\n",
        "scaler = StandardScaler()\n",
        "X_train = scaler.fit_transform(X_train)\n",
        "X_test = scaler.transform(X_test)\n",
        "\n",
        "# Huấn luyện model\n",
        "classifier.fit(X_train, y_train)\n",
        "\n",
        "# Dự đoán bộ test\n",
        "y_pred = classifier.predict(X_test)\n",
        "\n",
        "# Đánh giá kết quả\n",
        "print(\"Kết quả huấn luyện model NB với đặc trưng\", features)\n",
        "print(classification_report(y_test, y_pred))\n",
        "#, target_names=['Anger', 'Disgust', 'Fear', 'Happy', 'Neutral', 'Sad'])\n",
        "X_train.shape"
      ]
    },
    {
      "cell_type": "code",
      "source": [
        "import joblib\n",
        "joblib.dump(classifier, '/content/drive/MyDrive/Study/Năm 3/CS337-Xử lý âm thanh và tiếng nói/model/NB_full.joblib')"
      ],
      "metadata": {
        "colab": {
          "base_uri": "https://localhost:8080/"
        },
        "id": "81NIQ0WOw8qG",
        "outputId": "e3722737-a9d5-4c59-f84a-099617d8fe73"
      },
      "execution_count": null,
      "outputs": [
        {
          "output_type": "execute_result",
          "data": {
            "text/plain": [
              "['/content/drive/MyDrive/Study/Năm 3/CS337-Xử lý âm thanh và tiếng nói/model/NB_full.joblib']"
            ]
          },
          "metadata": {},
          "execution_count": 23
        }
      ]
    },
    {
      "cell_type": "markdown",
      "source": [
        "#### test mấy cái nhỏ nhỏ"
      ],
      "metadata": {
        "id": "h05ZNag-wx_q"
      }
    },
    {
      "cell_type": "code",
      "source": [
        "#list_features = ['mfcc_features', 'chroma_features', 'spectral_contrast_features', 'tonal_centroid_features', 'mel_spectrogram_features','pitch_features', 'mfcc_pitch_features']\n",
        "list_features = ['mfcc_features']\n",
        "for features in list_features:\n",
        "  # load data\n",
        "  feature_path = test_root_data + \"/\" + features + \"/\"\n",
        "  X_train = joblib.load(feature_path + 'X_train.joblib')\n",
        "  y_train = joblib.load(feature_path + 'y_train.joblib')\n",
        "  X_test = joblib.load(feature_path + 'X_test.joblib')\n",
        "  y_test = joblib.load(feature_path + 'y_test.joblib')\n",
        "  # Chuẩn hóa dữ liệu\n",
        "  scaler = StandardScaler()\n",
        "  X_train = scaler.fit_transform(X_train)\n",
        "  X_test = scaler.transform(X_test)\n",
        "\n",
        "  # Huấn luyện model\n",
        "  classifier.fit(X_train, y_train)\n",
        "\n",
        "  # Dự đoán bộ test\n",
        "  y_pred = classifier.predict(X_test)\n",
        "\n",
        "  # Đánh giá kết quả\n",
        "  print(\"Kết quả huấn luyện model SVM với đặc trưng\", features)\n",
        "  print(classification_report(y_test, y_pred))\n",
        "  # , target_names=['Anger', 'Disgust', 'Fear', 'Happy', 'Neutral', 'Sad'])"
      ],
      "metadata": {
        "colab": {
          "base_uri": "https://localhost:8080/"
        },
        "id": "Z-EC3QJRw0zw",
        "outputId": "8860339d-1a5e-48fc-b04f-186177d229e5"
      },
      "execution_count": null,
      "outputs": [
        {
          "output_type": "stream",
          "name": "stdout",
          "text": [
            "Kết quả huấn luyện model SVM với đặc trưng mfcc_features\n",
            "              precision    recall  f1-score   support\n",
            "\n",
            "           0       0.97      0.77      0.86        82\n",
            "           1       0.24      0.73      0.37        49\n",
            "           2       0.60      0.34      0.43       110\n",
            "           3       0.86      0.59      0.70       113\n",
            "           4       0.78      0.48      0.59       126\n",
            "           5       0.72      0.66      0.69       107\n",
            "           6       0.49      0.78      0.60        97\n",
            "           7       0.62      0.63      0.63       104\n",
            "\n",
            "    accuracy                           0.60       788\n",
            "   macro avg       0.66      0.62      0.61       788\n",
            "weighted avg       0.69      0.60      0.62       788\n",
            "\n"
          ]
        }
      ]
    },
    {
      "cell_type": "code",
      "source": [
        "import joblib\n",
        "joblib.dump(classifier, '/content/drive/MyDrive/Study/Năm 3/CS337-Xử lý âm thanh và tiếng nói/model/NB_mfcc.joblib')"
      ],
      "metadata": {
        "colab": {
          "base_uri": "https://localhost:8080/"
        },
        "id": "w9Jsdh6ixBXp",
        "outputId": "066537cc-addb-4a55-df58-31ddf6fd1667"
      },
      "execution_count": null,
      "outputs": [
        {
          "output_type": "execute_result",
          "data": {
            "text/plain": [
              "['/content/drive/MyDrive/Study/Năm 3/CS337-Xử lý âm thanh và tiếng nói/model/NB_mfcc.joblib']"
            ]
          },
          "metadata": {},
          "execution_count": 25
        }
      ]
    },
    {
      "cell_type": "markdown",
      "source": [
        "## MLP"
      ],
      "metadata": {
        "id": "kfzZiMnYfDp0"
      }
    },
    {
      "cell_type": "code",
      "source": [
        "from sklearn.neural_network import MLPClassifier\n",
        "from sklearn.metrics import classification_report\n",
        "classifier = MLPClassifier(random_state= 42, hidden_layer_sizes= 250, max_iter=300)"
      ],
      "metadata": {
        "id": "y5T8V4TVfZsO"
      },
      "execution_count": null,
      "outputs": []
    },
    {
      "cell_type": "markdown",
      "source": [
        "### Dùng spectral feature\n"
      ],
      "metadata": {
        "id": "bRvzpRoSfbDA"
      }
    },
    {
      "cell_type": "code",
      "source": [
        "features = \"spectral_features\"\n",
        "# load data\n",
        "feature_path = root_data + \"/\" + features + \"/\"\n",
        "X_train = joblib.load(feature_path + 'X_train.joblib')\n",
        "y_train = joblib.load(feature_path + 'y_train.joblib')\n",
        "X_test = joblib.load(feature_path + 'X_test.joblib')\n",
        "y_test = joblib.load(feature_path + 'y_test.joblib')\n",
        "# Chuẩn hóa dữ liệu\n",
        "scaler = StandardScaler()\n",
        "X_train = scaler.fit_transform(X_train)\n",
        "X_test = scaler.transform(X_test)\n",
        "\n",
        "# Huấn luyện model\n",
        "classifier.fit(X_train, y_train)\n",
        "\n",
        "# Dự đoán bộ test\n",
        "y_pred = classifier.predict(X_test)\n",
        "\n",
        "# Đánh giá kết quả\n",
        "print(\"Kết quả huấn luyện model MLP với đặc trưng\", features)\n",
        "print(classification_report(y_test, y_pred))\n",
        "#, target_names=['Anger', 'Disgust', 'Fear', 'Happy', 'Neutral', 'Sad'])"
      ],
      "metadata": {
        "colab": {
          "base_uri": "https://localhost:8080/"
        },
        "id": "P2STZ0XEfgTa",
        "outputId": "715c0bd2-575a-4a2a-e618-b53f580fe009"
      },
      "execution_count": null,
      "outputs": [
        {
          "output_type": "stream",
          "name": "stdout",
          "text": [
            "Kết quả huấn luyện model MLP với đặc trưng spectral_features\n",
            "              precision    recall  f1-score   support\n",
            "\n",
            "           0       0.92      0.93      0.92        82\n",
            "           1       0.88      0.88      0.88        49\n",
            "           2       0.83      0.87      0.85       110\n",
            "           3       0.86      0.89      0.88       113\n",
            "           4       0.91      0.91      0.91       126\n",
            "           5       0.88      0.82      0.85       107\n",
            "           6       0.89      0.88      0.88        97\n",
            "           7       0.91      0.89      0.90       104\n",
            "\n",
            "    accuracy                           0.88       788\n",
            "   macro avg       0.89      0.88      0.88       788\n",
            "weighted avg       0.88      0.88      0.88       788\n",
            "\n"
          ]
        }
      ]
    },
    {
      "cell_type": "code",
      "source": [
        "import joblib\n",
        "joblib.dump(classifier, '/content/drive/MyDrive/Study/Năm 3/CS337-Xử lý âm thanh và tiếng nói/model/MLP_spectral.joblib')"
      ],
      "metadata": {
        "colab": {
          "base_uri": "https://localhost:8080/"
        },
        "id": "IR5xbXVpxGdd",
        "outputId": "d1271c42-d1b1-4959-f38e-2d488a652998"
      },
      "execution_count": null,
      "outputs": [
        {
          "output_type": "execute_result",
          "data": {
            "text/plain": [
              "['/content/drive/MyDrive/Study/Năm 3/CS337-Xử lý âm thanh và tiếng nói/model/MLP_spectral.joblib']"
            ]
          },
          "metadata": {},
          "execution_count": 53
        }
      ]
    },
    {
      "cell_type": "markdown",
      "source": [
        "### Dùng Prosodic feature"
      ],
      "metadata": {
        "id": "7qi6SQHVflZE"
      }
    },
    {
      "cell_type": "code",
      "source": [
        "features = \"prosodic_features\"\n",
        "# load data\n",
        "feature_path = root_data + \"/\" + features + \"/\"\n",
        "X_train = joblib.load(feature_path + 'X_train.joblib')\n",
        "y_train = joblib.load(feature_path + 'y_train.joblib')\n",
        "X_test = joblib.load(feature_path + 'X_test.joblib')\n",
        "y_test = joblib.load(feature_path + 'y_test.joblib')\n",
        "# Chuẩn hóa dữ liệu\n",
        "scaler = StandardScaler()\n",
        "X_train = scaler.fit_transform(X_train)\n",
        "X_test = scaler.transform(X_test)\n",
        "\n",
        "# Huấn luyện model\n",
        "classifier.fit(X_train, y_train)\n",
        "\n",
        "# Dự đoán bộ test\n",
        "y_pred = classifier.predict(X_test)\n",
        "\n",
        "# Đánh giá kết quả\n",
        "print(\"Kết quả huấn luyện model MLP với đặc trưng\", features)\n",
        "print(classification_report(y_test, y_pred))\n",
        "#, target_names=['Anger', 'Disgust', 'Fear', 'Happy', 'Neutral', 'Sad'])"
      ],
      "metadata": {
        "colab": {
          "base_uri": "https://localhost:8080/"
        },
        "id": "8OMJJgCkfqd-",
        "outputId": "f1fd20eb-8eab-44f9-8012-bbf3ca11f0eb"
      },
      "execution_count": null,
      "outputs": [
        {
          "output_type": "stream",
          "name": "stdout",
          "text": [
            "Kết quả huấn luyện model MLP với đặc trưng prosodic_features\n",
            "              precision    recall  f1-score   support\n",
            "\n",
            "           0       0.80      0.80      0.80        82\n",
            "           1       0.64      0.69      0.67        49\n",
            "           2       0.67      0.67      0.67       110\n",
            "           3       0.73      0.78      0.76       113\n",
            "           4       0.80      0.81      0.80       126\n",
            "           5       0.74      0.72      0.73       107\n",
            "           6       0.68      0.73      0.71        97\n",
            "           7       0.74      0.62      0.67       104\n",
            "\n",
            "    accuracy                           0.73       788\n",
            "   macro avg       0.73      0.73      0.73       788\n",
            "weighted avg       0.73      0.73      0.73       788\n",
            "\n"
          ]
        }
      ]
    },
    {
      "cell_type": "code",
      "source": [
        "import joblib\n",
        "joblib.dump(classifier, '/content/drive/MyDrive/Study/Năm 3/CS337-Xử lý âm thanh và tiếng nói/model/MLP_prosodic.joblib')"
      ],
      "metadata": {
        "colab": {
          "base_uri": "https://localhost:8080/"
        },
        "id": "fDfls07hxK12",
        "outputId": "8aabab80-0c77-4b9f-985c-42aba121e693"
      },
      "execution_count": null,
      "outputs": [
        {
          "output_type": "execute_result",
          "data": {
            "text/plain": [
              "['/content/drive/MyDrive/Study/Năm 3/CS337-Xử lý âm thanh và tiếng nói/model/MLP_prosodic.joblib']"
            ]
          },
          "metadata": {},
          "execution_count": 30
        }
      ]
    },
    {
      "cell_type": "markdown",
      "source": [
        "### Spectral + Prosodict"
      ],
      "metadata": {
        "id": "pyHIiuSZftMD"
      }
    },
    {
      "cell_type": "code",
      "source": [
        "features = \"full_features\"\n",
        "# load data\n",
        "feature_path = root_data + \"/\" + features + \"/\"\n",
        "X_train = joblib.load(feature_path + 'X_train.joblib')\n",
        "y_train = joblib.load(feature_path + 'y_train.joblib')\n",
        "X_test = joblib.load(feature_path + 'X_test.joblib')\n",
        "y_test = joblib.load(feature_path + 'y_test.joblib')\n",
        "# Chuẩn hóa dữ liệu\n",
        "scaler = StandardScaler()\n",
        "X_train = scaler.fit_transform(X_train)\n",
        "X_test = scaler.transform(X_test)\n",
        "\n",
        "# Huấn luyện model\n",
        "classifier.fit(X_train, y_train)\n",
        "\n",
        "# Dự đoán bộ test\n",
        "y_pred = classifier.predict(X_test)\n",
        "\n",
        "# Đánh giá kết quả\n",
        "print(\"Kết quả huấn luyện model MLP với đặc trưng\", features)\n",
        "print(classification_report(y_test, y_pred))\n",
        "#, target_names=['Anger', 'Disgust', 'Fear', 'Happy', 'Neutral', 'Sad'])"
      ],
      "metadata": {
        "colab": {
          "base_uri": "https://localhost:8080/"
        },
        "id": "uD2b3ZM7evrL",
        "outputId": "c0238f72-a9d0-4857-a7da-a5731a47b073"
      },
      "execution_count": null,
      "outputs": [
        {
          "output_type": "stream",
          "name": "stdout",
          "text": [
            "Kết quả huấn luyện model MLP với đặc trưng full_features\n",
            "              precision    recall  f1-score   support\n",
            "\n",
            "           0       0.95      0.91      0.93        82\n",
            "           1       0.81      0.86      0.83        49\n",
            "           2       0.87      0.92      0.89       110\n",
            "           3       0.85      0.82      0.83       113\n",
            "           4       0.92      0.90      0.91       126\n",
            "           5       0.88      0.85      0.86       107\n",
            "           6       0.94      0.94      0.94        97\n",
            "           7       0.90      0.92      0.91       104\n",
            "\n",
            "    accuracy                           0.89       788\n",
            "   macro avg       0.89      0.89      0.89       788\n",
            "weighted avg       0.89      0.89      0.89       788\n",
            "\n"
          ]
        }
      ]
    },
    {
      "cell_type": "code",
      "source": [
        "import joblib\n",
        "joblib.dump(classifier, '/content/drive/MyDrive/Study/Năm 3/CS337-Xử lý âm thanh và tiếng nói/model/MLP_full.joblib')"
      ],
      "metadata": {
        "colab": {
          "base_uri": "https://localhost:8080/"
        },
        "id": "MkMh0muoxRYI",
        "outputId": "f021374b-79d8-4b38-f1a0-5088d539759c"
      },
      "execution_count": null,
      "outputs": [
        {
          "output_type": "execute_result",
          "data": {
            "text/plain": [
              "['/content/drive/MyDrive/Study/Năm 3/CS337-Xử lý âm thanh và tiếng nói/model/MLP_full.joblib']"
            ]
          },
          "metadata": {},
          "execution_count": 56
        }
      ]
    },
    {
      "cell_type": "markdown",
      "source": [
        "### Test mấy cái nho nhỏ"
      ],
      "metadata": {
        "id": "kx4fel1qRWZS"
      }
    },
    {
      "cell_type": "code",
      "source": [
        "list_features = ['mfcc_features']#, 'chroma_features', 'spectral_contrast_features', 'tonal_centroid_features', 'mel_spectrogram_features','pitch_features', 'mfcc_pitch_features']\n",
        "for features in list_features:\n",
        "  # load data\n",
        "  feature_path = test_root_data + \"/\" + features + \"/\"\n",
        "  X_train = joblib.load(feature_path + 'X_train.joblib')\n",
        "  y_train = joblib.load(feature_path + 'y_train.joblib')\n",
        "  X_test = joblib.load(feature_path + 'X_test.joblib')\n",
        "  y_test = joblib.load(feature_path + 'y_test.joblib')\n",
        "  # Chuẩn hóa dữ liệu\n",
        "  scaler = StandardScaler()\n",
        "  X_train = scaler.fit_transform(X_train)\n",
        "  X_test = scaler.transform(X_test)\n",
        "\n",
        "  # Huấn luyện model\n",
        "  classifier.fit(X_train, y_train)\n",
        "\n",
        "  # Dự đoán bộ test\n",
        "  y_pred = classifier.predict(X_test)\n",
        "\n",
        "  # Đánh giá kết quả\n",
        "  print(\"Kết quả huấn luyện model SVM với đặc trưng\", features)\n",
        "  print(classification_report(y_test, y_pred))\n",
        "  # , target_names=['Anger', 'Disgust', 'Fear', 'Happy', 'Neutral', 'Sad'])"
      ],
      "metadata": {
        "colab": {
          "base_uri": "https://localhost:8080/"
        },
        "id": "ySqTFe2CRaAG",
        "outputId": "47be69c5-8fb7-4479-8491-3d7173c92d8b"
      },
      "execution_count": null,
      "outputs": [
        {
          "output_type": "stream",
          "name": "stdout",
          "text": [
            "Kết quả huấn luyện model SVM với đặc trưng mfcc_features\n",
            "              precision    recall  f1-score   support\n",
            "\n",
            "           0       0.91      0.94      0.92        82\n",
            "           1       0.87      0.82      0.84        49\n",
            "           2       0.85      0.89      0.87       110\n",
            "           3       0.88      0.93      0.90       113\n",
            "           4       0.93      0.91      0.92       126\n",
            "           5       0.88      0.88      0.88       107\n",
            "           6       0.92      0.88      0.90        97\n",
            "           7       0.93      0.89      0.91       104\n",
            "\n",
            "    accuracy                           0.90       788\n",
            "   macro avg       0.90      0.89      0.89       788\n",
            "weighted avg       0.90      0.90      0.90       788\n",
            "\n"
          ]
        }
      ]
    },
    {
      "cell_type": "code",
      "source": [
        "import joblib\n",
        "joblib.dump(classifier, '/content/drive/MyDrive/Study/Năm 3/CS337-Xử lý âm thanh và tiếng nói/model/MLP_mfcc.joblib')"
      ],
      "metadata": {
        "colab": {
          "base_uri": "https://localhost:8080/"
        },
        "id": "WYADTxkp6MFH",
        "outputId": "6190b5d7-1bf6-4786-ed26-1730b8c5ac72"
      },
      "execution_count": null,
      "outputs": [
        {
          "output_type": "execute_result",
          "data": {
            "text/plain": [
              "['/content/drive/MyDrive/Study/Năm 3/CS337-Xử lý âm thanh và tiếng nói/model/MLP_mfcc.joblib']"
            ]
          },
          "metadata": {},
          "execution_count": 58
        }
      ]
    },
    {
      "cell_type": "markdown",
      "source": [
        "## Decision tree"
      ],
      "metadata": {
        "id": "fw_H8dEuen-8"
      }
    },
    {
      "cell_type": "code",
      "source": [
        "from sklearn.tree import DecisionTreeClassifier\n",
        "from sklearn.model_selection import GridSearchCV\n",
        "\n",
        "# Tạo mô hình Decision Tree\n",
        "classifier = DecisionTreeClassifier()\n",
        "\n",
        "# Định nghĩa không gian siêu tham số để tìm kiếm\n",
        "param_grid = {\n",
        "    'max_depth': [None,5, 7, 10, 20, 30],\n",
        "    'min_samples_split': [2, 5, 10, 15]\n",
        "}\n",
        "\n",
        "features = \"Spectral_features\"\n",
        "# load data\n",
        "feature_path = root_data + \"/\" + features + \"/\"\n",
        "X_train = joblib.load(feature_path + 'X_train.joblib')\n",
        "y_train = joblib.load(feature_path + 'y_train.joblib')\n",
        "X_test = joblib.load(feature_path + 'X_test.joblib')\n",
        "y_test = joblib.load(feature_path + 'y_test.joblib')\n",
        "\n",
        "# Chuẩn hóa dữ liệu\n",
        "scaler = StandardScaler()\n",
        "X_train = scaler.fit_transform(X_train)\n",
        "X_test = scaler.transform(X_test)\n",
        "\n",
        "# Sử dụng Grid Search để tìm giá trị tối ưu cho các siêu tham số\n",
        "grid_search = GridSearchCV(classifier, param_grid)\n",
        "grid_search.fit(X_train, y_train)\n",
        "\n",
        "# In ra giá trị tối ưu của các siêu tham số\n",
        "print(\"Giá trị tối ưu của max_depth:\", grid_search.best_params_['max_depth'])\n",
        "print(\"Giá trị tối ưu của min_samples_split:\", grid_search.best_params_['min_samples_split'])\n",
        "\n",
        "# Sử dụng mô hình đã được tối ưu hóa để đánh giá\n",
        "y_pred = grid_search.predict(X_test)\n"
      ],
      "metadata": {
        "colab": {
          "base_uri": "https://localhost:8080/"
        },
        "id": "XJha1ParesHm",
        "outputId": "1be90fd2-eb52-4f07-ae4e-e314d6e25c05"
      },
      "execution_count": null,
      "outputs": [
        {
          "output_type": "stream",
          "name": "stdout",
          "text": [
            "Giá trị tối ưu của max_depth: 10\n",
            "Giá trị tối ưu của min_samples_split: 2\n"
          ]
        }
      ]
    },
    {
      "cell_type": "code",
      "source": [
        "from sklearn.tree import DecisionTreeClassifier\n",
        "from sklearn.model_selection import GridSearchCV\n",
        "classifier = DecisionTreeClassifier(max_depth = 10, min_samples_split = 2)"
      ],
      "metadata": {
        "id": "7YKjwelHfs8m"
      },
      "execution_count": null,
      "outputs": []
    },
    {
      "cell_type": "markdown",
      "source": [
        "### Dùng spectral feature\n"
      ],
      "metadata": {
        "id": "_w3s1Jl2gC7C"
      }
    },
    {
      "cell_type": "code",
      "source": [
        "features = \"spectral_features\"\n",
        "# load data\n",
        "feature_path = root_data + \"/\" + features + \"/\"\n",
        "X_train = joblib.load(feature_path + 'X_train.joblib')\n",
        "y_train = joblib.load(feature_path + 'y_train.joblib')\n",
        "X_test = joblib.load(feature_path + 'X_test.joblib')\n",
        "y_test = joblib.load(feature_path + 'y_test.joblib')\n",
        "\n",
        "# # Chuẩn hóa dữ liệu\n",
        "# scaler = StandardScaler()\n",
        "# X_train = scaler.fit_transform(X_train)\n",
        "# X_test = scaler.transform(X_test)\n",
        "\n",
        "# Huấn luyện model Decision Tree\n",
        "classifier.fit(X_train, y_train)\n",
        "\n",
        "# Dự đoán bộ test\n",
        "y_pred = classifier.predict(X_test)\n",
        "\n",
        "# Đánh giá kết quả\n",
        "print(\"Kết quả huấn luyện model Decision Tree với đặc trưng\", features)\n",
        "print(classification_report(y_test, y_pred))\n",
        "X_train.shape"
      ],
      "metadata": {
        "colab": {
          "base_uri": "https://localhost:8080/"
        },
        "id": "QICU1ve8ezjf",
        "outputId": "e4627268-1f00-484e-fa7c-17d537d8b9cc"
      },
      "execution_count": null,
      "outputs": [
        {
          "output_type": "stream",
          "name": "stdout",
          "text": [
            "Kết quả huấn luyện model Decision Tree với đặc trưng spectral_features\n",
            "              precision    recall  f1-score   support\n",
            "\n",
            "           0       0.90      0.80      0.85        82\n",
            "           1       0.67      0.49      0.56        49\n",
            "           2       0.51      0.67      0.58       110\n",
            "           3       0.66      0.70      0.68       113\n",
            "           4       0.66      0.74      0.70       126\n",
            "           5       0.79      0.61      0.69       107\n",
            "           6       0.79      0.69      0.74        97\n",
            "           7       0.65      0.67      0.66       104\n",
            "\n",
            "    accuracy                           0.68       788\n",
            "   macro avg       0.70      0.67      0.68       788\n",
            "weighted avg       0.70      0.68      0.69       788\n",
            "\n"
          ]
        },
        {
          "output_type": "execute_result",
          "data": {
            "text/plain": [
              "(3676, 193)"
            ]
          },
          "metadata": {},
          "execution_count": 34
        }
      ]
    },
    {
      "cell_type": "code",
      "source": [
        "import joblib\n",
        "joblib.dump(classifier, '/content/drive/MyDrive/Study/Năm 3/CS337-Xử lý âm thanh và tiếng nói/model/DT_spectral.joblib')"
      ],
      "metadata": {
        "colab": {
          "base_uri": "https://localhost:8080/"
        },
        "id": "E98_A8qOzL2f",
        "outputId": "e3e5424b-3539-4ded-e7cf-90cc4f2eb408"
      },
      "execution_count": null,
      "outputs": [
        {
          "output_type": "execute_result",
          "data": {
            "text/plain": [
              "['/content/drive/MyDrive/Study/Năm 3/CS337-Xử lý âm thanh và tiếng nói/model/DT_spectral.joblib']"
            ]
          },
          "metadata": {},
          "execution_count": 35
        }
      ]
    },
    {
      "cell_type": "markdown",
      "source": [
        "### Dùng Prosodic feature"
      ],
      "metadata": {
        "id": "DI_18SpDgLnd"
      }
    },
    {
      "cell_type": "code",
      "source": [
        "features = \"prosodic_features\"\n",
        "# load data\n",
        "feature_path = root_data + \"/\" + features + \"/\"\n",
        "X_train = joblib.load(feature_path + 'X_train.joblib')\n",
        "y_train = joblib.load(feature_path + 'y_train.joblib')\n",
        "X_test = joblib.load(feature_path + 'X_test.joblib')\n",
        "y_test = joblib.load(feature_path + 'y_test.joblib')\n",
        "# Chuẩn hóa dữ liệu\n",
        "scaler = StandardScaler()\n",
        "X_train = scaler.fit_transform(X_train)\n",
        "X_test = scaler.transform(X_test)\n",
        "\n",
        "# Huấn luyện model\n",
        "classifier.fit(X_train, y_train)\n",
        "\n",
        "# Dự đoán bộ test\n",
        "y_pred = classifier.predict(X_test)\n",
        "\n",
        "# Đánh giá kết quả\n",
        "print(\"Kết quả huấn luyện model NB với đặc trưng\", features)\n",
        "print(classification_report(y_test, y_pred))\n",
        "#, target_names=['Anger', 'Disgust', 'Fear', 'Happy', 'Neutral', 'Sad']\n",
        "X_train.shape"
      ],
      "metadata": {
        "colab": {
          "base_uri": "https://localhost:8080/"
        },
        "outputId": "b5cdeb08-ffe7-4f8d-fb05-46d8dc184475",
        "id": "g7B9rnOwgLnu"
      },
      "execution_count": null,
      "outputs": [
        {
          "output_type": "stream",
          "name": "stdout",
          "text": [
            "Kết quả huấn luyện model NB với đặc trưng prosodic_features\n",
            "              precision    recall  f1-score   support\n",
            "\n",
            "           0       0.64      0.71      0.67        82\n",
            "           1       0.56      0.57      0.57        49\n",
            "           2       0.44      0.61      0.51       110\n",
            "           3       0.64      0.61      0.63       113\n",
            "           4       0.76      0.50      0.60       126\n",
            "           5       0.63      0.58      0.60       107\n",
            "           6       0.54      0.63      0.58        97\n",
            "           7       0.58      0.53      0.55       104\n",
            "\n",
            "    accuracy                           0.59       788\n",
            "   macro avg       0.60      0.59      0.59       788\n",
            "weighted avg       0.61      0.59      0.59       788\n",
            "\n"
          ]
        },
        {
          "output_type": "execute_result",
          "data": {
            "text/plain": [
              "(3676, 67)"
            ]
          },
          "metadata": {},
          "execution_count": 36
        }
      ]
    },
    {
      "cell_type": "code",
      "source": [
        "import joblib\n",
        "joblib.dump(classifier, '/content/drive/MyDrive/Study/Năm 3/CS337-Xử lý âm thanh và tiếng nói/model/DT_prosodic.joblib')"
      ],
      "metadata": {
        "colab": {
          "base_uri": "https://localhost:8080/"
        },
        "id": "3MPHxkaezOx4",
        "outputId": "e72eb92a-de67-4fc6-b565-2d131bae461a"
      },
      "execution_count": null,
      "outputs": [
        {
          "output_type": "execute_result",
          "data": {
            "text/plain": [
              "['/content/drive/MyDrive/Study/Năm 3/CS337-Xử lý âm thanh và tiếng nói/model/DT_prosodic.joblib']"
            ]
          },
          "metadata": {},
          "execution_count": 37
        }
      ]
    },
    {
      "cell_type": "markdown",
      "source": [
        "### Spectral + Prosodict"
      ],
      "metadata": {
        "id": "uaOyeIvOgLnv"
      }
    },
    {
      "cell_type": "code",
      "execution_count": null,
      "metadata": {
        "colab": {
          "base_uri": "https://localhost:8080/"
        },
        "outputId": "974227cf-dd88-474f-c8f7-2b3625590b48",
        "id": "dnMbDarlgLnw"
      },
      "outputs": [
        {
          "output_type": "stream",
          "name": "stdout",
          "text": [
            "Kết quả huấn luyện model NB với đặc trưng full_features\n",
            "              precision    recall  f1-score   support\n",
            "\n",
            "           0       0.92      0.82      0.86        82\n",
            "           1       0.54      0.59      0.56        49\n",
            "           2       0.57      0.60      0.58       110\n",
            "           3       0.60      0.72      0.66       113\n",
            "           4       0.79      0.70      0.74       126\n",
            "           5       0.62      0.69      0.65       107\n",
            "           6       0.91      0.80      0.85        97\n",
            "           7       0.74      0.66      0.70       104\n",
            "\n",
            "    accuracy                           0.70       788\n",
            "   macro avg       0.71      0.70      0.70       788\n",
            "weighted avg       0.71      0.70      0.70       788\n",
            "\n"
          ]
        },
        {
          "output_type": "execute_result",
          "data": {
            "text/plain": [
              "(3676, 260)"
            ]
          },
          "metadata": {},
          "execution_count": 38
        }
      ],
      "source": [
        "features = \"full_features\"\n",
        "# load data\n",
        "feature_path = root_data + \"/\" + features + \"/\"\n",
        "X_train = joblib.load(feature_path + 'X_train.joblib')\n",
        "y_train = joblib.load(feature_path + 'y_train.joblib')\n",
        "X_test = joblib.load(feature_path + 'X_test.joblib')\n",
        "y_test = joblib.load(feature_path + 'y_test.joblib')\n",
        "\n",
        "# Chuẩn hóa dữ liệu\n",
        "scaler = StandardScaler()\n",
        "X_train = scaler.fit_transform(X_train)\n",
        "X_test = scaler.transform(X_test)\n",
        "\n",
        "# Huấn luyện model\n",
        "classifier.fit(X_train, y_train)\n",
        "\n",
        "# Dự đoán bộ test\n",
        "y_pred = classifier.predict(X_test)\n",
        "\n",
        "# Đánh giá kết quả\n",
        "print(\"Kết quả huấn luyện model NB với đặc trưng\", features)\n",
        "print(classification_report(y_test, y_pred))\n",
        "#, target_names=['Anger', 'Disgust', 'Fear', 'Happy', 'Neutral', 'Sad'])\n",
        "X_train.shape"
      ]
    },
    {
      "cell_type": "code",
      "source": [
        "import joblib\n",
        "joblib.dump(classifier, '/content/drive/MyDrive/Study/Năm 3/CS337-Xử lý âm thanh và tiếng nói/model/DT_full.joblib')"
      ],
      "metadata": {
        "colab": {
          "base_uri": "https://localhost:8080/"
        },
        "id": "myQTfkgrzr5Z",
        "outputId": "a4ad5915-b790-4b1b-b963-881f9931cb55"
      },
      "execution_count": null,
      "outputs": [
        {
          "output_type": "execute_result",
          "data": {
            "text/plain": [
              "['/content/drive/MyDrive/Study/Năm 3/CS337-Xử lý âm thanh và tiếng nói/model/DT_full.joblib']"
            ]
          },
          "metadata": {},
          "execution_count": 39
        }
      ]
    },
    {
      "cell_type": "markdown",
      "source": [
        "### Test mấy cái nhỏ nhỏ"
      ],
      "metadata": {
        "id": "mk_tciQoxgXT"
      }
    },
    {
      "cell_type": "code",
      "source": [
        "#list_features = ['mfcc_features', 'chroma_features', 'spectral_contrast_features', 'tonal_centroid_features', 'mel_spectrogram_features','pitch_features', 'mfcc_pitch_features']\n",
        "list_features = ['mfcc_features']\n",
        "for features in list_features:\n",
        "  # load data\n",
        "  feature_path = test_root_data + \"/\" + features + \"/\"\n",
        "  X_train = joblib.load(feature_path + 'X_train.joblib')\n",
        "  y_train = joblib.load(feature_path + 'y_train.joblib')\n",
        "  X_test = joblib.load(feature_path + 'X_test.joblib')\n",
        "  y_test = joblib.load(feature_path + 'y_test.joblib')\n",
        "  # Chuẩn hóa dữ liệu\n",
        "  scaler = StandardScaler()\n",
        "  X_train = scaler.fit_transform(X_train)\n",
        "  X_test = scaler.transform(X_test)\n",
        "\n",
        "  # Huấn luyện model\n",
        "  classifier.fit(X_train, y_train)\n",
        "\n",
        "  # Dự đoán bộ test\n",
        "  y_pred = classifier.predict(X_test)\n",
        "\n",
        "  # Đánh giá kết quả\n",
        "  print(\"Kết quả huấn luyện model SVM với đặc trưng\", features)\n",
        "  print(classification_report(y_test, y_pred))\n",
        "  # , target_names=['Anger', 'Disgust', 'Fear', 'Happy', 'Neutral', 'Sad'])"
      ],
      "metadata": {
        "colab": {
          "base_uri": "https://localhost:8080/"
        },
        "id": "bO4W8RijxjGs",
        "outputId": "31d25ace-5c36-4b32-e488-0610bf30dc50"
      },
      "execution_count": null,
      "outputs": [
        {
          "output_type": "stream",
          "name": "stdout",
          "text": [
            "Kết quả huấn luyện model SVM với đặc trưng mfcc_features\n",
            "              precision    recall  f1-score   support\n",
            "\n",
            "           0       0.93      0.79      0.86        82\n",
            "           1       0.45      0.69      0.55        49\n",
            "           2       0.54      0.76      0.63       110\n",
            "           3       0.80      0.64      0.71       113\n",
            "           4       0.63      0.55      0.59       126\n",
            "           5       0.67      0.52      0.59       107\n",
            "           6       0.57      0.77      0.66        97\n",
            "           7       0.72      0.52      0.60       104\n",
            "\n",
            "    accuracy                           0.65       788\n",
            "   macro avg       0.67      0.66      0.65       788\n",
            "weighted avg       0.67      0.65      0.65       788\n",
            "\n"
          ]
        }
      ]
    },
    {
      "cell_type": "code",
      "source": [
        "import joblib\n",
        "joblib.dump(classifier, '/content/drive/MyDrive/Study/Năm 3/CS337-Xử lý âm thanh và tiếng nói/model/DT_mfcc.joblib')"
      ],
      "metadata": {
        "colab": {
          "base_uri": "https://localhost:8080/"
        },
        "id": "wU6LGm41z56t",
        "outputId": "0e5d1c44-cab9-437e-97f8-80939af6bcf1"
      },
      "execution_count": null,
      "outputs": [
        {
          "output_type": "execute_result",
          "data": {
            "text/plain": [
              "['/content/drive/MyDrive/Study/Năm 3/CS337-Xử lý âm thanh và tiếng nói/model/DT_mfcc.joblib']"
            ]
          },
          "metadata": {},
          "execution_count": 41
        }
      ]
    },
    {
      "cell_type": "markdown",
      "source": [
        "## Random forest"
      ],
      "metadata": {
        "id": "CVwireU2Sf7J"
      }
    },
    {
      "cell_type": "code",
      "source": [
        "from sklearn.ensemble import RandomForestClassifier\n",
        "from sklearn.metrics import classification_report\n",
        "classifier = RandomForestClassifier(criterion = \"gini\", max_features = \"log2\",\n",
        "                                   max_leaf_nodes = 100, min_samples_leaf = 3,\n",
        "                                   min_samples_split = 20, n_estimators = 22000, max_depth=10, random_state=42)"
      ],
      "metadata": {
        "id": "6_DW4YKOSmVg"
      },
      "execution_count": null,
      "outputs": []
    },
    {
      "cell_type": "code",
      "source": [],
      "metadata": {
        "id": "x0PHGN43Te4o"
      },
      "execution_count": null,
      "outputs": []
    },
    {
      "cell_type": "markdown",
      "source": [
        "### Dùng spectral feature\n"
      ],
      "metadata": {
        "id": "oky5nLktTn6_"
      }
    },
    {
      "cell_type": "code",
      "source": [
        "features = \"spectral_features\"\n",
        "# load data\n",
        "feature_path = root_data + \"/\" + features + \"/\"\n",
        "X_train = joblib.load(feature_path + 'X_train.joblib')\n",
        "y_train = joblib.load(feature_path + 'y_train.joblib')\n",
        "X_test = joblib.load(feature_path + 'X_test.joblib')\n",
        "y_test = joblib.load(feature_path + 'y_test.joblib')\n",
        "# Chuẩn hóa dữ liệu\n",
        "scaler = StandardScaler()\n",
        "X_train = scaler.fit_transform(X_train)\n",
        "X_test = scaler.transform(X_test)\n",
        "\n",
        "# Huấn luyện model\n",
        "classifier.fit(X_train, y_train)\n",
        "\n",
        "# Dự đoán bộ test\n",
        "y_pred = classifier.predict(X_test)\n",
        "\n",
        "# Đánh giá kết quả\n",
        "print(\"Kết quả huấn luyện model Randomforest với đặc trưng\", features)\n",
        "print(classification_report(y_test, y_pred))\n",
        "#, target_names=['Anger', 'Disgust', 'Fear', 'Happy', 'Neutral', 'Sad'])"
      ],
      "metadata": {
        "colab": {
          "base_uri": "https://localhost:8080/"
        },
        "outputId": "460e887b-bff1-4813-8b78-37ee918b4bf8",
        "id": "UHSp-8gvTn7A"
      },
      "execution_count": null,
      "outputs": [
        {
          "output_type": "stream",
          "name": "stdout",
          "text": [
            "Kết quả huấn luyện model Randomforest với đặc trưng spectral_features\n",
            "              precision    recall  f1-score   support\n",
            "\n",
            "           0       1.00      0.84      0.91        82\n",
            "           1       0.71      0.84      0.77        49\n",
            "           2       0.72      0.83      0.77       110\n",
            "           3       0.67      0.84      0.75       113\n",
            "           4       0.91      0.80      0.85       126\n",
            "           5       0.83      0.72      0.77       107\n",
            "           6       0.75      0.81      0.78        97\n",
            "           7       0.95      0.77      0.85       104\n",
            "\n",
            "    accuracy                           0.80       788\n",
            "   macro avg       0.82      0.81      0.81       788\n",
            "weighted avg       0.82      0.80      0.81       788\n",
            "\n"
          ]
        }
      ]
    },
    {
      "cell_type": "code",
      "source": [
        "import joblib\n",
        "joblib.dump(classifier, '/content/drive/MyDrive/Study/Năm 3/CS337-Xử lý âm thanh và tiếng nói/model/RF_spectral.joblib')"
      ],
      "metadata": {
        "colab": {
          "base_uri": "https://localhost:8080/"
        },
        "id": "mOW27Sgb0DrW",
        "outputId": "a7a54739-f155-4c72-afb5-5461f4a63947"
      },
      "execution_count": null,
      "outputs": [
        {
          "output_type": "execute_result",
          "data": {
            "text/plain": [
              "['/content/drive/MyDrive/Study/Năm 3/CS337-Xử lý âm thanh và tiếng nói/model/RF_spectral.joblib']"
            ]
          },
          "metadata": {},
          "execution_count": 44
        }
      ]
    },
    {
      "cell_type": "markdown",
      "source": [
        "### Dùng Prosodic feature"
      ],
      "metadata": {
        "id": "7XvqF_0LTn7A"
      }
    },
    {
      "cell_type": "code",
      "source": [
        "features = \"prosodic_features\"\n",
        "# load data\n",
        "feature_path = root_data + \"/\" + features + \"/\"\n",
        "X_train = joblib.load(feature_path + 'X_train.joblib')\n",
        "y_train = joblib.load(feature_path + 'y_train.joblib')\n",
        "X_test = joblib.load(feature_path + 'X_test.joblib')\n",
        "y_test = joblib.load(feature_path + 'y_test.joblib')\n",
        "# Chuẩn hóa dữ liệu\n",
        "scaler = StandardScaler()\n",
        "X_train = scaler.fit_transform(X_train)\n",
        "X_test = scaler.transform(X_test)\n",
        "\n",
        "# Huấn luyện model\n",
        "classifier.fit(X_train, y_train)\n",
        "\n",
        "# Dự đoán bộ test\n",
        "y_pred = classifier.predict(X_test)\n",
        "\n",
        "# Đánh giá kết quả\n",
        "print(\"Kết quả huấn luyện model Randomforest với đặc trưng\", features)\n",
        "print(classification_report(y_test, y_pred))\n",
        "#, target_names=['Anger', 'Disgust', 'Fear', 'Happy', 'Neutral', 'Sad'])"
      ],
      "metadata": {
        "colab": {
          "base_uri": "https://localhost:8080/"
        },
        "outputId": "dd5ff2c3-0f59-4203-ddc4-382da127b80a",
        "id": "gE9bo-VMTn7A"
      },
      "execution_count": null,
      "outputs": [
        {
          "output_type": "stream",
          "name": "stdout",
          "text": [
            "Kết quả huấn luyện model Randomforest với đặc trưng prosodic_features\n",
            "              precision    recall  f1-score   support\n",
            "\n",
            "           0       0.90      0.67      0.77        82\n",
            "           1       0.54      0.57      0.55        49\n",
            "           2       0.60      0.71      0.65       110\n",
            "           3       0.54      0.76      0.63       113\n",
            "           4       0.76      0.78      0.77       126\n",
            "           5       0.72      0.69      0.70       107\n",
            "           6       0.76      0.65      0.70        97\n",
            "           7       0.83      0.58      0.68       104\n",
            "\n",
            "    accuracy                           0.69       788\n",
            "   macro avg       0.71      0.68      0.68       788\n",
            "weighted avg       0.71      0.69      0.69       788\n",
            "\n"
          ]
        }
      ]
    },
    {
      "cell_type": "code",
      "source": [
        "import joblib\n",
        "joblib.dump(classifier, '/content/drive/MyDrive/Study/Năm 3/CS337-Xử lý âm thanh và tiếng nói/model/RF_prosodic.joblib')"
      ],
      "metadata": {
        "colab": {
          "base_uri": "https://localhost:8080/"
        },
        "id": "BdkIDEWW0JAg",
        "outputId": "8cf97454-d9f4-4100-8789-7f3f2925ebdc"
      },
      "execution_count": null,
      "outputs": [
        {
          "output_type": "execute_result",
          "data": {
            "text/plain": [
              "['/content/drive/MyDrive/Study/Năm 3/CS337-Xử lý âm thanh và tiếng nói/model/RF_prosodic.joblib']"
            ]
          },
          "metadata": {},
          "execution_count": 46
        }
      ]
    },
    {
      "cell_type": "markdown",
      "source": [
        "### Spectral + Prosodict"
      ],
      "metadata": {
        "id": "VU9nhWJ-Tn7A"
      }
    },
    {
      "cell_type": "code",
      "source": [
        "features = \"full_features\"\n",
        "# load data\n",
        "feature_path = root_data + \"/\" + features + \"/\"\n",
        "X_train = joblib.load(feature_path + 'X_train.joblib')\n",
        "y_train = joblib.load(feature_path + 'y_train.joblib')\n",
        "X_test = joblib.load(feature_path + 'X_test.joblib')\n",
        "y_test = joblib.load(feature_path + 'y_test.joblib')\n",
        "# Chuẩn hóa dữ liệu\n",
        "scaler = StandardScaler()\n",
        "X_train = scaler.fit_transform(X_train)\n",
        "X_test = scaler.transform(X_test)\n",
        "\n",
        "# Huấn luyện model\n",
        "classifier.fit(X_train, y_train)\n",
        "\n",
        "# Dự đoán bộ test\n",
        "y_pred = classifier.predict(X_test)\n",
        "\n",
        "# Đánh giá kết quả\n",
        "print(\"Kết quả huấn luyện model Randomforest với đặc trưng\", features)\n",
        "print(classification_report(y_test, y_pred))\n",
        "#, target_names=['Anger', 'Disgust', 'Fear', 'Happy', 'Neutral', 'Sad'])"
      ],
      "metadata": {
        "colab": {
          "base_uri": "https://localhost:8080/"
        },
        "outputId": "1d519e6c-0aac-4218-a3e1-f0304730c394",
        "id": "sN4qwOPUTn7A"
      },
      "execution_count": null,
      "outputs": [
        {
          "output_type": "stream",
          "name": "stdout",
          "text": [
            "Kết quả huấn luyện model Randomforest với đặc trưng full_features\n",
            "              precision    recall  f1-score   support\n",
            "\n",
            "           0       1.00      0.84      0.91        82\n",
            "           1       0.70      0.86      0.77        49\n",
            "           2       0.73      0.83      0.78       110\n",
            "           3       0.68      0.83      0.75       113\n",
            "           4       0.91      0.81      0.86       126\n",
            "           5       0.82      0.71      0.76       107\n",
            "           6       0.74      0.82      0.78        97\n",
            "           7       0.94      0.75      0.83       104\n",
            "\n",
            "    accuracy                           0.80       788\n",
            "   macro avg       0.81      0.81      0.81       788\n",
            "weighted avg       0.82      0.80      0.81       788\n",
            "\n"
          ]
        }
      ]
    },
    {
      "cell_type": "code",
      "source": [
        "import joblib\n",
        "joblib.dump(classifier, '/content/drive/MyDrive/Study/Năm 3/CS337-Xử lý âm thanh và tiếng nói/model/RF_full.joblib')"
      ],
      "metadata": {
        "colab": {
          "base_uri": "https://localhost:8080/"
        },
        "id": "-Ib1811E0QUk",
        "outputId": "cb65719b-b527-4414-97fb-5f6d1a5e8cc1"
      },
      "execution_count": null,
      "outputs": [
        {
          "output_type": "execute_result",
          "data": {
            "text/plain": [
              "['/content/drive/MyDrive/Study/Năm 3/CS337-Xử lý âm thanh và tiếng nói/model/RF_full.joblib']"
            ]
          },
          "metadata": {},
          "execution_count": 48
        }
      ]
    },
    {
      "cell_type": "markdown",
      "source": [
        "### Test mấy cái nho nhỏ"
      ],
      "metadata": {
        "id": "9YagtlnKyHQE"
      }
    },
    {
      "cell_type": "code",
      "source": [
        "#list_features = ['mfcc_features', 'chroma_features', 'spectral_contrast_features', 'tonal_centroid_features', 'mel_spectrogram_features','pitch_features', 'mfcc_pitch_features']\n",
        "list_features = ['mfcc_features', 'pitch_features', 'mfcc_pitch_features']\n",
        "list_features = ['mfcc_features']\n",
        "for features in list_features:\n",
        "  # load data\n",
        "  feature_path = test_root_data + \"/\" + features + \"/\"\n",
        "  X_train = joblib.load(feature_path + 'X_train.joblib')\n",
        "  y_train = joblib.load(feature_path + 'y_train.joblib')\n",
        "  X_test = joblib.load(feature_path + 'X_test.joblib')\n",
        "  y_test = joblib.load(feature_path + 'y_test.joblib')\n",
        "  # Chuẩn hóa dữ liệu\n",
        "  scaler = StandardScaler()\n",
        "  X_train = scaler.fit_transform(X_train)\n",
        "  X_test = scaler.transform(X_test)\n",
        "\n",
        "  # Huấn luyện model\n",
        "  classifier.fit(X_train, y_train)\n",
        "\n",
        "  # Dự đoán bộ test\n",
        "  y_pred = classifier.predict(X_test)\n",
        "\n",
        "  # Đánh giá kết quả\n",
        "  print(\"Kết quả huấn luyện model SVM với đặc trưng\", features)\n",
        "  print(classification_report(y_test, y_pred))\n",
        "  # , target_names=['Anger', 'Disgust', 'Fear', 'Happy', 'Neutral', 'Sad'])"
      ],
      "metadata": {
        "colab": {
          "base_uri": "https://localhost:8080/"
        },
        "id": "uHxFNgseyPm4",
        "outputId": "3ac96ce3-ba6a-4f01-b1ff-3aa77481dd7e"
      },
      "execution_count": null,
      "outputs": [
        {
          "output_type": "stream",
          "name": "stdout",
          "text": [
            "Kết quả huấn luyện model SVM với đặc trưng mfcc_features\n",
            "              precision    recall  f1-score   support\n",
            "\n",
            "           0       0.99      0.84      0.91        82\n",
            "           1       0.71      0.90      0.79        49\n",
            "           2       0.88      0.83      0.85       110\n",
            "           3       0.70      0.84      0.77       113\n",
            "           4       0.83      0.85      0.84       126\n",
            "           5       0.81      0.74      0.77       107\n",
            "           6       0.81      0.86      0.83        97\n",
            "           7       0.92      0.77      0.84       104\n",
            "\n",
            "    accuracy                           0.82       788\n",
            "   macro avg       0.83      0.83      0.82       788\n",
            "weighted avg       0.83      0.82      0.82       788\n",
            "\n"
          ]
        }
      ]
    },
    {
      "cell_type": "code",
      "source": [
        "import joblib\n",
        "joblib.dump(classifier, '/content/drive/MyDrive/Study/Năm 3/CS337-Xử lý âm thanh và tiếng nói/model/RF_mfcc.joblib')"
      ],
      "metadata": {
        "colab": {
          "base_uri": "https://localhost:8080/"
        },
        "id": "4TMvRN9t0dkP",
        "outputId": "4b80475f-002c-4e67-9062-1430e92dac24"
      },
      "execution_count": null,
      "outputs": [
        {
          "output_type": "execute_result",
          "data": {
            "text/plain": [
              "['/content/drive/MyDrive/Study/Năm 3/CS337-Xử lý âm thanh và tiếng nói/model/RF_mfcc.joblib']"
            ]
          },
          "metadata": {},
          "execution_count": 50
        }
      ]
    },
    {
      "cell_type": "markdown",
      "source": [
        "# Nhóm deep learning"
      ],
      "metadata": {
        "id": "WAzFohGfZVQQ"
      }
    },
    {
      "cell_type": "code",
      "source": [
        "from keras.callbacks import EarlyStopping, ModelCheckpoint\n",
        "early_stopping_callback = EarlyStopping(monitor='val_loss', patience=10, min_delta=0.001, mode='min', verbose=1)\n",
        "\n",
        "# Callback để lưu mô hình tại điểm kiểm tra tốt nhất\n",
        "model_checkpoint_callback = ModelCheckpoint('best_model.h5', monitor='val_loss', save_best_only=True, mode='min')"
      ],
      "metadata": {
        "id": "xPWMHIuOjXuL"
      },
      "execution_count": null,
      "outputs": []
    },
    {
      "cell_type": "markdown",
      "source": [
        "## LSTM"
      ],
      "metadata": {
        "id": "BbAJjKxMtpX6"
      }
    },
    {
      "cell_type": "code",
      "source": [
        "root_data = \"/content/drive/MyDrive/Study/Năm 3/CS337-Xử lý âm thanh và tiếng nói/RAVDESS_5000/src_data\""
      ],
      "metadata": {
        "id": "lrMqsZwHumVZ"
      },
      "execution_count": null,
      "outputs": []
    },
    {
      "cell_type": "markdown",
      "source": [
        "### Dùng spectral feature"
      ],
      "metadata": {
        "id": "BN28ntF-lV32"
      }
    },
    {
      "cell_type": "code",
      "source": [
        "features = \"spectral_features\"\n",
        "# load data\n",
        "feature_path = root_data + \"/\" + features + \"/\"\n",
        "X_train = joblib.load(feature_path + 'X_train.joblib')\n",
        "y_train = joblib.load(feature_path + 'y_train.joblib')\n",
        "X_test = joblib.load(feature_path + 'X_test.joblib')\n",
        "y_test = joblib.load(feature_path + 'y_test.joblib')\n",
        "X_dev = joblib.load(feature_path + 'X_dev.joblib')\n",
        "y_dev = joblib.load(feature_path + 'y_dev.joblib')\n",
        "# Chuẩn hóa dữ liệu\n",
        "scaler = StandardScaler()\n",
        "X_train = scaler.fit_transform(X_train)\n",
        "X_test = scaler.transform(X_test)\n",
        "X_dev = scaler.transform(X_dev)\n",
        "X_train.shape\n",
        "# reshape\n",
        "y_train = to_categorical(y_train, num_classes=8)\n",
        "y_dev = to_categorical(y_dev, num_classes=8)"
      ],
      "metadata": {
        "id": "IqOBXyS6ldY_"
      },
      "execution_count": null,
      "outputs": []
    },
    {
      "cell_type": "code",
      "source": [
        "X_train.shape, X_dev.shape, X_test.shape"
      ],
      "metadata": {
        "colab": {
          "base_uri": "https://localhost:8080/"
        },
        "id": "xCTyfv6-Fu4Z",
        "outputId": "512a48f8-6042-499b-e7f4-2d5c78952c85"
      },
      "execution_count": null,
      "outputs": [
        {
          "output_type": "execute_result",
          "data": {
            "text/plain": [
              "((3676, 193), (788, 193), (788, 193))"
            ]
          },
          "metadata": {},
          "execution_count": 84
        }
      ]
    },
    {
      "cell_type": "markdown",
      "source": [
        "#### LSTM"
      ],
      "metadata": {
        "id": "PS9dYixHWMv2"
      }
    },
    {
      "cell_type": "code",
      "source": [
        "import tensorflow as tf\n",
        "from tensorflow.keras.models import Sequential\n",
        "from tensorflow.keras.layers import LSTM, Dense, Dropout\n",
        "from tensorflow.keras.optimizers import Adam\n",
        "from tensorflow.keras.callbacks import EarlyStopping, ModelCheckpoint\n",
        "\n",
        "# Thiết lập mô hình\n",
        "model = Sequential()\n",
        "\n",
        "# Thêm lớp LSTM với 100 đơn vị và đầu vào có shape (1440, 193)\n",
        "model.add(LSTM(256, input_shape=(193,1), return_sequences=True))\n",
        "model.add(Dropout(0.2))\n",
        "\n",
        "# Thêm lớp LSTM thứ hai\n",
        "model.add(LSTM(128, return_sequences=True))\n",
        "model.add(Dropout(0.2))\n",
        "\n",
        "model.add(LSTM(64))\n",
        "model.add(Dropout(0.2))\n",
        "\n",
        "# Thêm lớp Dense đầu tiên\n",
        "model.add(Dense(32, activation='relu'))\n",
        "model.add(Dropout(0.2))\n",
        "# Thêm lớp Dense với 8 đầu ra (số lớp bạn muốn phân loại)\n",
        "model.add(Dense(8, activation='softmax'))\n",
        "\n",
        "# Tạo tối ưu hóa với learning rate mới\n",
        "learning_rate = 0.001\n",
        "custom_optimizer = Adam(learning_rate=learning_rate)\n",
        "\n",
        "# Dừng sớm\n",
        "early_stopping_callback = EarlyStopping(monitor='val_loss', patience=10, min_delta=0.005, mode='min', verbose=1)\n",
        "\n",
        "# Callback để lưu mô hình tại điểm kiểm tra tốt nhất\n",
        "model_checkpoint_callback = ModelCheckpoint('best_model.h5', monitor='val_loss', save_best_only=True, mode='min')\n",
        "\n",
        "# Biên dịch mô hình\n",
        "model.compile(loss='categorical_crossentropy', optimizer=custom_optimizer, metrics=['accuracy'])\n",
        "\n",
        "# # Hiển thị tóm tắt của mô hình\n",
        "# model.summary()\n",
        "model.fit(X_train, y_train, epochs=200, batch_size=64, validation_data=(X_dev, y_dev), callbacks=[early_stopping_callback, model_checkpoint_callback])\n"
      ],
      "metadata": {
        "colab": {
          "base_uri": "https://localhost:8080/"
        },
        "id": "_uYastOvWQGO",
        "outputId": "1114a5c3-893d-4ff7-a12c-09027579a7b1"
      },
      "execution_count": null,
      "outputs": [
        {
          "output_type": "stream",
          "name": "stdout",
          "text": [
            "Epoch 1/200\n",
            "58/58 [==============================] - 8s 65ms/step - loss: 1.9787 - accuracy: 0.1940 - val_loss: 1.9115 - val_accuracy: 0.1929\n",
            "Epoch 2/200\n",
            "58/58 [==============================] - 2s 38ms/step - loss: 1.8062 - accuracy: 0.2927 - val_loss: 1.7413 - val_accuracy: 0.3058\n",
            "Epoch 3/200\n",
            "58/58 [==============================] - 2s 37ms/step - loss: 1.7764 - accuracy: 0.3077 - val_loss: 1.6917 - val_accuracy: 0.3350\n",
            "Epoch 4/200\n",
            "58/58 [==============================] - 2s 38ms/step - loss: 1.7034 - accuracy: 0.3354 - val_loss: 1.6265 - val_accuracy: 0.3566\n",
            "Epoch 5/200\n",
            "58/58 [==============================] - 2s 35ms/step - loss: 1.6414 - accuracy: 0.3577 - val_loss: 1.6011 - val_accuracy: 0.3655\n",
            "Epoch 6/200\n",
            "58/58 [==============================] - 2s 38ms/step - loss: 1.5936 - accuracy: 0.3893 - val_loss: 1.5240 - val_accuracy: 0.3985\n",
            "Epoch 7/200\n",
            "58/58 [==============================] - 2s 40ms/step - loss: 1.5528 - accuracy: 0.3977 - val_loss: 1.5075 - val_accuracy: 0.4150\n",
            "Epoch 8/200\n",
            "58/58 [==============================] - 2s 38ms/step - loss: 1.5432 - accuracy: 0.4034 - val_loss: 1.4803 - val_accuracy: 0.4226\n",
            "Epoch 9/200\n",
            "58/58 [==============================] - 2s 39ms/step - loss: 1.5022 - accuracy: 0.4255 - val_loss: 1.4734 - val_accuracy: 0.4150\n",
            "Epoch 10/200\n",
            "58/58 [==============================] - 2s 36ms/step - loss: 1.4835 - accuracy: 0.4385 - val_loss: 1.4573 - val_accuracy: 0.4404\n",
            "Epoch 11/200\n",
            "58/58 [==============================] - 2s 36ms/step - loss: 1.4434 - accuracy: 0.4538 - val_loss: 1.4173 - val_accuracy: 0.4404\n",
            "Epoch 12/200\n",
            "58/58 [==============================] - 2s 36ms/step - loss: 1.4431 - accuracy: 0.4529 - val_loss: 1.4071 - val_accuracy: 0.4480\n",
            "Epoch 13/200\n",
            "58/58 [==============================] - 2s 35ms/step - loss: 1.4815 - accuracy: 0.4260 - val_loss: 1.4745 - val_accuracy: 0.4201\n",
            "Epoch 14/200\n",
            "58/58 [==============================] - 2s 40ms/step - loss: 1.4270 - accuracy: 0.4478 - val_loss: 1.4049 - val_accuracy: 0.4467\n",
            "Epoch 15/200\n",
            "58/58 [==============================] - 2s 38ms/step - loss: 1.4260 - accuracy: 0.4450 - val_loss: 1.3629 - val_accuracy: 0.4454\n",
            "Epoch 16/200\n",
            "58/58 [==============================] - 2s 38ms/step - loss: 1.4362 - accuracy: 0.4456 - val_loss: 1.4360 - val_accuracy: 0.4302\n",
            "Epoch 17/200\n",
            "58/58 [==============================] - 2s 35ms/step - loss: 1.3763 - accuracy: 0.4747 - val_loss: 1.4254 - val_accuracy: 0.4581\n",
            "Epoch 18/200\n",
            "58/58 [==============================] - 2s 35ms/step - loss: 1.3617 - accuracy: 0.4709 - val_loss: 1.4337 - val_accuracy: 0.4772\n",
            "Epoch 19/200\n",
            "58/58 [==============================] - 2s 36ms/step - loss: 1.3657 - accuracy: 0.4701 - val_loss: 1.3162 - val_accuracy: 0.4556\n",
            "Epoch 20/200\n",
            "58/58 [==============================] - 2s 38ms/step - loss: 1.3370 - accuracy: 0.4818 - val_loss: 1.2847 - val_accuracy: 0.4886\n",
            "Epoch 21/200\n",
            "58/58 [==============================] - 2s 41ms/step - loss: 1.3026 - accuracy: 0.4935 - val_loss: 1.2383 - val_accuracy: 0.5381\n",
            "Epoch 22/200\n",
            "58/58 [==============================] - 2s 39ms/step - loss: 1.2856 - accuracy: 0.5016 - val_loss: 1.2935 - val_accuracy: 0.4873\n",
            "Epoch 23/200\n",
            "58/58 [==============================] - 2s 38ms/step - loss: 1.3032 - accuracy: 0.4869 - val_loss: 1.2249 - val_accuracy: 0.5381\n",
            "Epoch 24/200\n",
            "58/58 [==============================] - 2s 37ms/step - loss: 1.2833 - accuracy: 0.5035 - val_loss: 1.3188 - val_accuracy: 0.4886\n",
            "Epoch 25/200\n",
            "58/58 [==============================] - 2s 34ms/step - loss: 1.2898 - accuracy: 0.4976 - val_loss: 1.3625 - val_accuracy: 0.4708\n",
            "Epoch 26/200\n",
            "58/58 [==============================] - 2s 34ms/step - loss: 1.2821 - accuracy: 0.5057 - val_loss: 1.2890 - val_accuracy: 0.5266\n",
            "Epoch 27/200\n",
            "58/58 [==============================] - 2s 35ms/step - loss: 1.2586 - accuracy: 0.5180 - val_loss: 1.2557 - val_accuracy: 0.4975\n",
            "Epoch 28/200\n",
            "58/58 [==============================] - 2s 39ms/step - loss: 1.2377 - accuracy: 0.5209 - val_loss: 1.2072 - val_accuracy: 0.5228\n",
            "Epoch 29/200\n",
            "58/58 [==============================] - 2s 37ms/step - loss: 1.1966 - accuracy: 0.5384 - val_loss: 1.2720 - val_accuracy: 0.4670\n",
            "Epoch 30/200\n",
            "58/58 [==============================] - 2s 35ms/step - loss: 1.1977 - accuracy: 0.5419 - val_loss: 1.1789 - val_accuracy: 0.5419\n",
            "Epoch 31/200\n",
            "58/58 [==============================] - 2s 37ms/step - loss: 1.2209 - accuracy: 0.5332 - val_loss: 1.1865 - val_accuracy: 0.5673\n",
            "Epoch 32/200\n",
            "58/58 [==============================] - 2s 34ms/step - loss: 1.4640 - accuracy: 0.4396 - val_loss: 1.3827 - val_accuracy: 0.4835\n",
            "Epoch 33/200\n",
            "58/58 [==============================] - 2s 37ms/step - loss: 1.3281 - accuracy: 0.4804 - val_loss: 1.3090 - val_accuracy: 0.4784\n",
            "Epoch 34/200\n",
            "58/58 [==============================] - 2s 35ms/step - loss: 1.2503 - accuracy: 0.5098 - val_loss: 1.2473 - val_accuracy: 0.5076\n",
            "Epoch 35/200\n",
            "58/58 [==============================] - 2s 36ms/step - loss: 1.1928 - accuracy: 0.5454 - val_loss: 1.2026 - val_accuracy: 0.5622\n",
            "Epoch 36/200\n",
            "58/58 [==============================] - 2s 39ms/step - loss: 1.1920 - accuracy: 0.5365 - val_loss: 1.2053 - val_accuracy: 0.5660\n",
            "Epoch 37/200\n",
            "58/58 [==============================] - 2s 35ms/step - loss: 1.1662 - accuracy: 0.5560 - val_loss: 1.1724 - val_accuracy: 0.5723\n",
            "Epoch 38/200\n",
            "58/58 [==============================] - 2s 34ms/step - loss: 1.1420 - accuracy: 0.5650 - val_loss: 1.1859 - val_accuracy: 0.5673\n",
            "Epoch 39/200\n",
            "58/58 [==============================] - 2s 35ms/step - loss: 1.1145 - accuracy: 0.5748 - val_loss: 1.1259 - val_accuracy: 0.5533\n",
            "Epoch 40/200\n",
            "58/58 [==============================] - 2s 34ms/step - loss: 1.1344 - accuracy: 0.5645 - val_loss: 1.2086 - val_accuracy: 0.5381\n",
            "Epoch 41/200\n",
            "58/58 [==============================] - 2s 37ms/step - loss: 1.1377 - accuracy: 0.5626 - val_loss: 1.1371 - val_accuracy: 0.5723\n",
            "Epoch 42/200\n",
            "58/58 [==============================] - 2s 39ms/step - loss: 1.1028 - accuracy: 0.5710 - val_loss: 1.1022 - val_accuracy: 0.5977\n",
            "Epoch 43/200\n",
            "58/58 [==============================] - 2s 36ms/step - loss: 1.0865 - accuracy: 0.5830 - val_loss: 1.1423 - val_accuracy: 0.5990\n",
            "Epoch 44/200\n",
            "58/58 [==============================] - 2s 35ms/step - loss: 1.0535 - accuracy: 0.5909 - val_loss: 1.0929 - val_accuracy: 0.6053\n",
            "Epoch 45/200\n",
            "58/58 [==============================] - 2s 37ms/step - loss: 1.0615 - accuracy: 0.5903 - val_loss: 1.1674 - val_accuracy: 0.5571\n",
            "Epoch 46/200\n",
            "58/58 [==============================] - 2s 38ms/step - loss: 1.0397 - accuracy: 0.6004 - val_loss: 1.0466 - val_accuracy: 0.6066\n",
            "Epoch 47/200\n",
            "58/58 [==============================] - 2s 37ms/step - loss: 1.0988 - accuracy: 0.5881 - val_loss: 1.4933 - val_accuracy: 0.4683\n",
            "Epoch 48/200\n",
            "58/58 [==============================] - 2s 35ms/step - loss: 1.2184 - accuracy: 0.5283 - val_loss: 1.1397 - val_accuracy: 0.5673\n",
            "Epoch 49/200\n",
            "58/58 [==============================] - 2s 38ms/step - loss: 1.1122 - accuracy: 0.5759 - val_loss: 1.1199 - val_accuracy: 0.5761\n",
            "Epoch 50/200\n",
            "58/58 [==============================] - 2s 40ms/step - loss: 1.1035 - accuracy: 0.5688 - val_loss: 1.1479 - val_accuracy: 0.6041\n",
            "Epoch 51/200\n",
            "58/58 [==============================] - 2s 35ms/step - loss: 1.1102 - accuracy: 0.5841 - val_loss: 1.0880 - val_accuracy: 0.5952\n",
            "Epoch 52/200\n",
            "58/58 [==============================] - 2s 37ms/step - loss: 1.0354 - accuracy: 0.5998 - val_loss: 1.0908 - val_accuracy: 0.6091\n",
            "Epoch 53/200\n",
            "58/58 [==============================] - 2s 35ms/step - loss: 0.9750 - accuracy: 0.6235 - val_loss: 1.0517 - val_accuracy: 0.6015\n",
            "Epoch 54/200\n",
            "58/58 [==============================] - 2s 35ms/step - loss: 1.0960 - accuracy: 0.5974 - val_loss: 1.1177 - val_accuracy: 0.5711\n",
            "Epoch 55/200\n",
            "58/58 [==============================] - 2s 35ms/step - loss: 1.0520 - accuracy: 0.5971 - val_loss: 1.0739 - val_accuracy: 0.5850\n",
            "Epoch 56/200\n",
            "58/58 [==============================] - 2s 41ms/step - loss: 0.9898 - accuracy: 0.6151 - val_loss: 1.0060 - val_accuracy: 0.6320\n",
            "Epoch 57/200\n",
            "58/58 [==============================] - 2s 37ms/step - loss: 0.9390 - accuracy: 0.6374 - val_loss: 1.0341 - val_accuracy: 0.6307\n",
            "Epoch 58/200\n",
            "58/58 [==============================] - 2s 37ms/step - loss: 0.9494 - accuracy: 0.6352 - val_loss: 1.0626 - val_accuracy: 0.6307\n",
            "Epoch 59/200\n",
            "58/58 [==============================] - 2s 37ms/step - loss: 0.9789 - accuracy: 0.6319 - val_loss: 1.0414 - val_accuracy: 0.6117\n",
            "Epoch 60/200\n",
            "58/58 [==============================] - 2s 35ms/step - loss: 0.9958 - accuracy: 0.6251 - val_loss: 1.0576 - val_accuracy: 0.6028\n",
            "Epoch 61/200\n",
            "58/58 [==============================] - 2s 37ms/step - loss: 0.9693 - accuracy: 0.6298 - val_loss: 1.0062 - val_accuracy: 0.6320\n",
            "Epoch 62/200\n",
            "58/58 [==============================] - 2s 37ms/step - loss: 0.9097 - accuracy: 0.6515 - val_loss: 1.0024 - val_accuracy: 0.6472\n",
            "Epoch 63/200\n",
            "58/58 [==============================] - 2s 37ms/step - loss: 0.9288 - accuracy: 0.6496 - val_loss: 1.0036 - val_accuracy: 0.6320\n",
            "Epoch 64/200\n",
            "58/58 [==============================] - 2s 39ms/step - loss: 0.9899 - accuracy: 0.6181 - val_loss: 1.1995 - val_accuracy: 0.5584\n",
            "Epoch 65/200\n",
            "58/58 [==============================] - 2s 35ms/step - loss: 1.0440 - accuracy: 0.6099 - val_loss: 1.0357 - val_accuracy: 0.6332\n",
            "Epoch 66/200\n",
            "58/58 [==============================] - 2s 38ms/step - loss: 1.0126 - accuracy: 0.6240 - val_loss: 0.9755 - val_accuracy: 0.6345\n",
            "Epoch 67/200\n",
            "58/58 [==============================] - 2s 37ms/step - loss: 0.9008 - accuracy: 0.6480 - val_loss: 1.0612 - val_accuracy: 0.6282\n",
            "Epoch 68/200\n",
            "58/58 [==============================] - 2s 37ms/step - loss: 0.9169 - accuracy: 0.6464 - val_loss: 0.9798 - val_accuracy: 0.6523\n",
            "Epoch 69/200\n",
            "58/58 [==============================] - 2s 39ms/step - loss: 0.9017 - accuracy: 0.6493 - val_loss: 0.9626 - val_accuracy: 0.6548\n",
            "Epoch 70/200\n",
            "58/58 [==============================] - 2s 39ms/step - loss: 0.8933 - accuracy: 0.6548 - val_loss: 0.9823 - val_accuracy: 0.6409\n",
            "Epoch 71/200\n",
            "58/58 [==============================] - 2s 38ms/step - loss: 0.9863 - accuracy: 0.6284 - val_loss: 0.9910 - val_accuracy: 0.6637\n",
            "Epoch 72/200\n",
            "58/58 [==============================] - 2s 37ms/step - loss: 0.9050 - accuracy: 0.6534 - val_loss: 0.9754 - val_accuracy: 0.6662\n",
            "Epoch 73/200\n",
            "58/58 [==============================] - 2s 37ms/step - loss: 0.8583 - accuracy: 0.6649 - val_loss: 0.9829 - val_accuracy: 0.6612\n",
            "Epoch 74/200\n",
            "58/58 [==============================] - 2s 34ms/step - loss: 0.8310 - accuracy: 0.6793 - val_loss: 0.9756 - val_accuracy: 0.6586\n",
            "Epoch 75/200\n",
            "58/58 [==============================] - 2s 36ms/step - loss: 0.8111 - accuracy: 0.6885 - val_loss: 0.9243 - val_accuracy: 0.6853\n",
            "Epoch 76/200\n",
            "58/58 [==============================] - 2s 39ms/step - loss: 0.8540 - accuracy: 0.6790 - val_loss: 0.9317 - val_accuracy: 0.6713\n",
            "Epoch 77/200\n",
            "58/58 [==============================] - 2s 36ms/step - loss: 0.8079 - accuracy: 0.6872 - val_loss: 0.9392 - val_accuracy: 0.6459\n",
            "Epoch 78/200\n",
            "58/58 [==============================] - 2s 36ms/step - loss: 0.8005 - accuracy: 0.6926 - val_loss: 0.9178 - val_accuracy: 0.6713\n",
            "Epoch 79/200\n",
            "58/58 [==============================] - 2s 34ms/step - loss: 0.7720 - accuracy: 0.6978 - val_loss: 0.9728 - val_accuracy: 0.6662\n",
            "Epoch 80/200\n",
            "58/58 [==============================] - 2s 34ms/step - loss: 0.7898 - accuracy: 0.6940 - val_loss: 0.9552 - val_accuracy: 0.6434\n",
            "Epoch 81/200\n",
            "58/58 [==============================] - 2s 35ms/step - loss: 0.8029 - accuracy: 0.6940 - val_loss: 0.9834 - val_accuracy: 0.6612\n",
            "Epoch 82/200\n",
            "58/58 [==============================] - 2s 34ms/step - loss: 0.8059 - accuracy: 0.6929 - val_loss: 0.9711 - val_accuracy: 0.6751\n",
            "Epoch 83/200\n",
            "58/58 [==============================] - 2s 39ms/step - loss: 0.7841 - accuracy: 0.6994 - val_loss: 0.9680 - val_accuracy: 0.6662\n",
            "Epoch 84/200\n",
            "58/58 [==============================] - 2s 39ms/step - loss: 0.7494 - accuracy: 0.7027 - val_loss: 0.9904 - val_accuracy: 0.6497\n",
            "Epoch 85/200\n",
            "58/58 [==============================] - 2s 38ms/step - loss: 0.7899 - accuracy: 0.6891 - val_loss: 0.9132 - val_accuracy: 0.6929\n",
            "Epoch 86/200\n",
            "58/58 [==============================] - 2s 35ms/step - loss: 0.7525 - accuracy: 0.7114 - val_loss: 0.9687 - val_accuracy: 0.6536\n",
            "Epoch 87/200\n",
            "58/58 [==============================] - 2s 37ms/step - loss: 0.7847 - accuracy: 0.6948 - val_loss: 0.9537 - val_accuracy: 0.6815\n",
            "Epoch 88/200\n",
            "58/58 [==============================] - 2s 37ms/step - loss: 0.7678 - accuracy: 0.7051 - val_loss: 0.9429 - val_accuracy: 0.6840\n",
            "Epoch 88: early stopping\n"
          ]
        },
        {
          "output_type": "execute_result",
          "data": {
            "text/plain": [
              "<keras.src.callbacks.History at 0x7f6448e80fa0>"
            ]
          },
          "metadata": {},
          "execution_count": 85
        }
      ]
    },
    {
      "cell_type": "code",
      "source": [
        "y_pred = model.predict(X_test)\n",
        "# Chuyển dự đoán thành danh sách các lớp\n",
        "y_pred_labels = np.argmax(y_pred, axis=1)\n",
        "\n",
        "# Sau đó, bạn có thể tính classification report bằng scikit-learn\n",
        "from sklearn.metrics import classification_report\n",
        "print(classification_report(y_test, y_pred_labels))"
      ],
      "metadata": {
        "colab": {
          "base_uri": "https://localhost:8080/"
        },
        "id": "kJoOxC2_bfsj",
        "outputId": "251c9dd1-ae84-45d0-d803-76e6b2710307"
      },
      "execution_count": null,
      "outputs": [
        {
          "output_type": "stream",
          "name": "stdout",
          "text": [
            "25/25 [==============================] - 1s 10ms/step\n",
            "              precision    recall  f1-score   support\n",
            "\n",
            "           0       0.88      0.79      0.83        82\n",
            "           1       0.41      0.80      0.54        49\n",
            "           2       0.74      0.68      0.71       110\n",
            "           3       0.67      0.63      0.65       113\n",
            "           4       0.82      0.67      0.73       126\n",
            "           5       0.64      0.67      0.65       107\n",
            "           6       0.75      0.78      0.77        97\n",
            "           7       0.74      0.67      0.71       104\n",
            "\n",
            "    accuracy                           0.70       788\n",
            "   macro avg       0.71      0.71      0.70       788\n",
            "weighted avg       0.72      0.70      0.71       788\n",
            "\n"
          ]
        }
      ]
    },
    {
      "cell_type": "code",
      "source": [
        "model.save('/content/drive/MyDrive/Study/Năm 3/CS337-Xử lý âm thanh và tiếng nói/model/LSTM_spectral.h5')"
      ],
      "metadata": {
        "id": "l8Ngefx0yOss"
      },
      "execution_count": null,
      "outputs": []
    },
    {
      "cell_type": "markdown",
      "source": [
        "#### LSTM + CNN 4"
      ],
      "metadata": {
        "id": "Yo0ujYes29u9"
      }
    },
    {
      "cell_type": "code",
      "source": [
        "import tensorflow as tf\n",
        "from tensorflow.keras.models import Sequential\n",
        "from tensorflow.keras.layers import LSTM, Dense, Dropout\n",
        "from tensorflow.keras.optimizers import Adam\n",
        "from tensorflow.keras.callbacks import EarlyStopping, ModelCheckpoint\n",
        "from tensorflow.keras.layers import Conv1D, MaxPooling1D, Flatten, LSTM, Dense, BatchNormalization\n",
        "# Xây dựng mô hình CNN\n",
        "model = Sequential()\n",
        "\n",
        "model.add(Conv1D(256, 5, activation='relu', input_shape=(193, 1)))\n",
        "#model.add(BatchNormalization())\n",
        "\n",
        "model.add(Conv1D(128, 5, activation='relu'))\n",
        "model.add(MaxPooling1D(pool_size=8))\n",
        "\n",
        "model.add(BatchNormalization())\n",
        "model.add(Dropout(0.3))\n",
        "\n",
        "# Thêm lớp Bi-LSTM thứ hai với 100 đơn vị\n",
        "# model.add(Bidirectional(LSTM(100, return_sequences=True)))\n",
        "# model.add(Dropout(0.3))\n",
        "\n",
        "# Thêm lớp LSTM cho xử lý thông tin thời gian\n",
        "model.add(LSTM(128, return_sequences=True))\n",
        "model.add(Dropout(0.2))\n",
        "# Thêm lớp LSTM cho xử lý thông tin thời gian\n",
        "model.add(LSTM(64))\n",
        "model.add(Dropout(0.2))\n",
        "\n",
        "# Thêm lớp Dense đầu tiên\n",
        "model.add(Dense(32, activation='relu'))\n",
        "model.add(Dropout(0.3))\n",
        "\n",
        "# Thêm lớp Dense với 8 đầu ra (số lớp bạn muốn phân loại)\n",
        "model.add(Dense(8, activation='softmax'))\n",
        "\n",
        "# Tạo tối ưu hóa với learning rate mới\n",
        "learning_rate = 0.0005\n",
        "custom_optimizer = Adam(learning_rate=learning_rate)\n",
        "\n",
        "# Dừng sớm\n",
        "early_stopping_callback = EarlyStopping(monitor='val_loss', patience=20, min_delta=0.001, mode='min', verbose=1)\n",
        "\n",
        "# Callback để lưu mô hình tại điểm kiểm tra tốt nhất\n",
        "model_checkpoint_callback = ModelCheckpoint('best_model.h5', monitor='val_loss', save_best_only=True, mode='min')\n",
        "\n",
        "# Biên dịch mô hình\n",
        "model.compile(loss='categorical_crossentropy', optimizer=custom_optimizer, metrics=['accuracy'])\n",
        "\n",
        "# # Hiển thị tóm tắt của mô hình\n",
        "# model.summary()\n",
        "model.fit(X_train, y_train, epochs=200, batch_size=64, validation_data=(X_dev, y_dev), callbacks=[early_stopping_callback, model_checkpoint_callback])\n"
      ],
      "metadata": {
        "colab": {
          "base_uri": "https://localhost:8080/"
        },
        "id": "gCeUnTmi3AI6",
        "outputId": "4960c4d8-2d1c-4898-ab5d-53cfc8b319d4"
      },
      "execution_count": null,
      "outputs": [
        {
          "output_type": "stream",
          "name": "stdout",
          "text": [
            "Epoch 1/200\n",
            "58/58 [==============================] - 6s 29ms/step - loss: 1.9037 - accuracy: 0.2405 - val_loss: 1.9655 - val_accuracy: 0.2132\n",
            "Epoch 2/200\n",
            "58/58 [==============================] - 1s 12ms/step - loss: 1.6173 - accuracy: 0.3686 - val_loss: 2.0262 - val_accuracy: 0.2246\n",
            "Epoch 3/200\n",
            "58/58 [==============================] - 1s 14ms/step - loss: 1.4572 - accuracy: 0.4508 - val_loss: 1.8276 - val_accuracy: 0.2881\n",
            "Epoch 4/200\n",
            "58/58 [==============================] - 1s 14ms/step - loss: 1.3174 - accuracy: 0.5000 - val_loss: 1.4953 - val_accuracy: 0.4315\n",
            "Epoch 5/200\n",
            "58/58 [==============================] - 1s 23ms/step - loss: 1.2114 - accuracy: 0.5367 - val_loss: 1.3675 - val_accuracy: 0.4772\n",
            "Epoch 6/200\n",
            "58/58 [==============================] - 2s 29ms/step - loss: 1.1493 - accuracy: 0.5745 - val_loss: 1.2423 - val_accuracy: 0.5076\n",
            "Epoch 7/200\n",
            "58/58 [==============================] - 2s 31ms/step - loss: 1.0750 - accuracy: 0.6118 - val_loss: 1.2307 - val_accuracy: 0.5343\n",
            "Epoch 8/200\n",
            "58/58 [==============================] - 2s 26ms/step - loss: 1.0244 - accuracy: 0.6243 - val_loss: 0.9285 - val_accuracy: 0.6650\n",
            "Epoch 9/200\n",
            "58/58 [==============================] - 1s 21ms/step - loss: 0.9597 - accuracy: 0.6564 - val_loss: 1.0180 - val_accuracy: 0.6459\n",
            "Epoch 10/200\n",
            "58/58 [==============================] - 1s 22ms/step - loss: 0.9240 - accuracy: 0.6727 - val_loss: 0.8237 - val_accuracy: 0.6992\n",
            "Epoch 11/200\n",
            "58/58 [==============================] - 1s 25ms/step - loss: 0.8834 - accuracy: 0.6793 - val_loss: 0.8685 - val_accuracy: 0.6954\n",
            "Epoch 12/200\n",
            "58/58 [==============================] - 1s 25ms/step - loss: 0.8488 - accuracy: 0.6956 - val_loss: 0.7420 - val_accuracy: 0.7157\n",
            "Epoch 13/200\n",
            "58/58 [==============================] - 1s 21ms/step - loss: 0.7984 - accuracy: 0.7141 - val_loss: 0.6891 - val_accuracy: 0.7322\n",
            "Epoch 14/200\n",
            "58/58 [==============================] - 2s 26ms/step - loss: 0.7913 - accuracy: 0.7179 - val_loss: 0.9426 - val_accuracy: 0.6942\n",
            "Epoch 15/200\n",
            "58/58 [==============================] - 2s 33ms/step - loss: 0.7639 - accuracy: 0.7212 - val_loss: 0.6883 - val_accuracy: 0.7462\n",
            "Epoch 16/200\n",
            "58/58 [==============================] - 3s 56ms/step - loss: 0.7220 - accuracy: 0.7435 - val_loss: 0.7648 - val_accuracy: 0.7157\n",
            "Epoch 17/200\n",
            "58/58 [==============================] - 2s 36ms/step - loss: 0.6786 - accuracy: 0.7603 - val_loss: 0.7290 - val_accuracy: 0.7360\n",
            "Epoch 18/200\n",
            "58/58 [==============================] - 1s 25ms/step - loss: 0.6915 - accuracy: 0.7467 - val_loss: 0.7231 - val_accuracy: 0.7475\n",
            "Epoch 19/200\n",
            "58/58 [==============================] - 1s 21ms/step - loss: 0.6919 - accuracy: 0.7495 - val_loss: 0.7530 - val_accuracy: 0.7170\n",
            "Epoch 20/200\n",
            "58/58 [==============================] - 1s 18ms/step - loss: 0.6407 - accuracy: 0.7715 - val_loss: 0.7442 - val_accuracy: 0.7373\n",
            "Epoch 21/200\n",
            "58/58 [==============================] - 1s 19ms/step - loss: 0.6702 - accuracy: 0.7622 - val_loss: 0.6632 - val_accuracy: 0.7551\n",
            "Epoch 22/200\n",
            "58/58 [==============================] - 1s 21ms/step - loss: 0.6553 - accuracy: 0.7712 - val_loss: 0.6692 - val_accuracy: 0.7716\n",
            "Epoch 23/200\n",
            "58/58 [==============================] - 1s 19ms/step - loss: 0.6121 - accuracy: 0.7799 - val_loss: 0.6796 - val_accuracy: 0.7525\n",
            "Epoch 24/200\n",
            "58/58 [==============================] - 1s 18ms/step - loss: 0.5942 - accuracy: 0.7933 - val_loss: 0.7078 - val_accuracy: 0.7538\n",
            "Epoch 25/200\n",
            "58/58 [==============================] - 1s 20ms/step - loss: 0.5867 - accuracy: 0.7935 - val_loss: 0.5978 - val_accuracy: 0.7830\n",
            "Epoch 26/200\n",
            "58/58 [==============================] - 1s 22ms/step - loss: 0.6074 - accuracy: 0.7881 - val_loss: 0.6699 - val_accuracy: 0.7678\n",
            "Epoch 27/200\n",
            "58/58 [==============================] - 1s 26ms/step - loss: 0.5867 - accuracy: 0.7889 - val_loss: 0.5848 - val_accuracy: 0.7881\n",
            "Epoch 28/200\n",
            "58/58 [==============================] - 1s 25ms/step - loss: 0.5576 - accuracy: 0.8047 - val_loss: 0.6058 - val_accuracy: 0.7792\n",
            "Epoch 29/200\n",
            "58/58 [==============================] - 2s 28ms/step - loss: 0.5531 - accuracy: 0.8060 - val_loss: 0.5823 - val_accuracy: 0.7754\n",
            "Epoch 30/200\n",
            "58/58 [==============================] - 1s 21ms/step - loss: 0.5368 - accuracy: 0.8096 - val_loss: 0.6371 - val_accuracy: 0.7868\n",
            "Epoch 31/200\n",
            "58/58 [==============================] - 1s 19ms/step - loss: 0.5427 - accuracy: 0.8096 - val_loss: 0.6134 - val_accuracy: 0.7830\n",
            "Epoch 32/200\n",
            "58/58 [==============================] - 1s 24ms/step - loss: 0.5150 - accuracy: 0.8101 - val_loss: 0.5791 - val_accuracy: 0.7931\n",
            "Epoch 33/200\n",
            "58/58 [==============================] - 1s 17ms/step - loss: 0.5239 - accuracy: 0.8150 - val_loss: 0.6730 - val_accuracy: 0.7690\n",
            "Epoch 34/200\n",
            "58/58 [==============================] - 1s 13ms/step - loss: 0.4895 - accuracy: 0.8259 - val_loss: 0.6081 - val_accuracy: 0.7957\n",
            "Epoch 35/200\n",
            "58/58 [==============================] - 1s 13ms/step - loss: 0.5224 - accuracy: 0.8205 - val_loss: 0.5935 - val_accuracy: 0.7919\n",
            "Epoch 36/200\n",
            "58/58 [==============================] - 1s 13ms/step - loss: 0.4812 - accuracy: 0.8294 - val_loss: 0.6572 - val_accuracy: 0.7640\n",
            "Epoch 37/200\n",
            "58/58 [==============================] - 1s 13ms/step - loss: 0.4962 - accuracy: 0.8224 - val_loss: 0.6127 - val_accuracy: 0.7970\n",
            "Epoch 38/200\n",
            "58/58 [==============================] - 1s 13ms/step - loss: 0.4773 - accuracy: 0.8316 - val_loss: 0.5972 - val_accuracy: 0.7931\n",
            "Epoch 39/200\n",
            "58/58 [==============================] - 1s 14ms/step - loss: 0.4890 - accuracy: 0.8267 - val_loss: 0.6078 - val_accuracy: 0.7881\n",
            "Epoch 40/200\n",
            "58/58 [==============================] - 1s 13ms/step - loss: 0.4615 - accuracy: 0.8428 - val_loss: 0.6416 - val_accuracy: 0.7843\n",
            "Epoch 41/200\n",
            "58/58 [==============================] - 1s 15ms/step - loss: 0.4903 - accuracy: 0.8229 - val_loss: 0.5871 - val_accuracy: 0.7982\n",
            "Epoch 42/200\n",
            "58/58 [==============================] - 1s 17ms/step - loss: 0.4447 - accuracy: 0.8379 - val_loss: 0.5755 - val_accuracy: 0.7957\n",
            "Epoch 43/200\n",
            "58/58 [==============================] - 1s 16ms/step - loss: 0.4467 - accuracy: 0.8395 - val_loss: 0.6063 - val_accuracy: 0.7982\n",
            "Epoch 44/200\n",
            "58/58 [==============================] - 1s 18ms/step - loss: 0.4541 - accuracy: 0.8466 - val_loss: 0.6027 - val_accuracy: 0.8109\n",
            "Epoch 45/200\n",
            "58/58 [==============================] - 1s 16ms/step - loss: 0.4102 - accuracy: 0.8528 - val_loss: 0.6693 - val_accuracy: 0.7957\n",
            "Epoch 46/200\n",
            "58/58 [==============================] - 1s 13ms/step - loss: 0.4155 - accuracy: 0.8558 - val_loss: 0.6025 - val_accuracy: 0.8135\n",
            "Epoch 47/200\n",
            "58/58 [==============================] - 1s 13ms/step - loss: 0.4019 - accuracy: 0.8632 - val_loss: 0.6136 - val_accuracy: 0.8008\n",
            "Epoch 48/200\n",
            "58/58 [==============================] - 1s 13ms/step - loss: 0.3775 - accuracy: 0.8724 - val_loss: 0.5792 - val_accuracy: 0.7957\n",
            "Epoch 49/200\n",
            "58/58 [==============================] - 1s 13ms/step - loss: 0.3871 - accuracy: 0.8662 - val_loss: 0.5852 - val_accuracy: 0.8147\n",
            "Epoch 50/200\n",
            "58/58 [==============================] - 1s 13ms/step - loss: 0.3870 - accuracy: 0.8692 - val_loss: 0.6475 - val_accuracy: 0.7957\n",
            "Epoch 51/200\n",
            "58/58 [==============================] - 1s 14ms/step - loss: 0.3934 - accuracy: 0.8645 - val_loss: 0.5645 - val_accuracy: 0.8135\n",
            "Epoch 52/200\n",
            "58/58 [==============================] - 1s 13ms/step - loss: 0.3541 - accuracy: 0.8781 - val_loss: 0.6957 - val_accuracy: 0.7843\n",
            "Epoch 53/200\n",
            "58/58 [==============================] - 1s 13ms/step - loss: 0.3877 - accuracy: 0.8708 - val_loss: 0.7290 - val_accuracy: 0.7931\n",
            "Epoch 54/200\n",
            "58/58 [==============================] - 1s 13ms/step - loss: 0.3769 - accuracy: 0.8686 - val_loss: 0.6341 - val_accuracy: 0.8122\n",
            "Epoch 55/200\n",
            "58/58 [==============================] - 1s 13ms/step - loss: 0.3581 - accuracy: 0.8762 - val_loss: 0.6288 - val_accuracy: 0.8096\n",
            "Epoch 56/200\n",
            "58/58 [==============================] - 1s 13ms/step - loss: 0.3492 - accuracy: 0.8828 - val_loss: 0.5733 - val_accuracy: 0.8236\n",
            "Epoch 57/200\n",
            "58/58 [==============================] - 1s 12ms/step - loss: 0.3457 - accuracy: 0.8814 - val_loss: 0.6406 - val_accuracy: 0.8084\n",
            "Epoch 58/200\n",
            "58/58 [==============================] - 1s 12ms/step - loss: 0.3354 - accuracy: 0.8814 - val_loss: 0.7235 - val_accuracy: 0.7919\n",
            "Epoch 59/200\n",
            "58/58 [==============================] - 1s 17ms/step - loss: 0.3547 - accuracy: 0.8806 - val_loss: 0.5457 - val_accuracy: 0.8299\n",
            "Epoch 60/200\n",
            "58/58 [==============================] - 1s 17ms/step - loss: 0.3269 - accuracy: 0.8898 - val_loss: 0.5996 - val_accuracy: 0.8173\n",
            "Epoch 61/200\n",
            "58/58 [==============================] - 1s 16ms/step - loss: 0.3512 - accuracy: 0.8779 - val_loss: 0.6875 - val_accuracy: 0.7970\n",
            "Epoch 62/200\n",
            "58/58 [==============================] - 1s 17ms/step - loss: 0.3268 - accuracy: 0.8857 - val_loss: 0.6447 - val_accuracy: 0.8084\n",
            "Epoch 63/200\n",
            "58/58 [==============================] - 1s 16ms/step - loss: 0.3158 - accuracy: 0.8917 - val_loss: 0.6262 - val_accuracy: 0.8160\n",
            "Epoch 64/200\n",
            "58/58 [==============================] - 1s 12ms/step - loss: 0.3178 - accuracy: 0.8939 - val_loss: 0.5768 - val_accuracy: 0.8363\n",
            "Epoch 65/200\n",
            "58/58 [==============================] - 1s 12ms/step - loss: 0.2941 - accuracy: 0.9007 - val_loss: 0.5571 - val_accuracy: 0.8477\n",
            "Epoch 66/200\n",
            "58/58 [==============================] - 1s 12ms/step - loss: 0.3088 - accuracy: 0.8985 - val_loss: 0.5759 - val_accuracy: 0.8185\n",
            "Epoch 67/200\n",
            "58/58 [==============================] - 1s 12ms/step - loss: 0.2937 - accuracy: 0.9023 - val_loss: 0.6311 - val_accuracy: 0.8236\n",
            "Epoch 68/200\n",
            "58/58 [==============================] - 1s 13ms/step - loss: 0.2898 - accuracy: 0.9029 - val_loss: 0.5919 - val_accuracy: 0.8249\n",
            "Epoch 69/200\n",
            "58/58 [==============================] - 1s 12ms/step - loss: 0.2889 - accuracy: 0.9013 - val_loss: 0.5993 - val_accuracy: 0.8274\n",
            "Epoch 70/200\n",
            "58/58 [==============================] - 1s 12ms/step - loss: 0.3106 - accuracy: 0.8985 - val_loss: 0.7023 - val_accuracy: 0.7995\n",
            "Epoch 71/200\n",
            "58/58 [==============================] - 1s 12ms/step - loss: 0.2926 - accuracy: 0.9023 - val_loss: 0.6908 - val_accuracy: 0.7931\n",
            "Epoch 72/200\n",
            "58/58 [==============================] - 1s 12ms/step - loss: 0.2781 - accuracy: 0.9026 - val_loss: 0.6827 - val_accuracy: 0.7957\n",
            "Epoch 73/200\n",
            "58/58 [==============================] - 1s 13ms/step - loss: 0.2744 - accuracy: 0.9094 - val_loss: 0.6073 - val_accuracy: 0.8211\n",
            "Epoch 74/200\n",
            "58/58 [==============================] - 1s 12ms/step - loss: 0.2869 - accuracy: 0.9091 - val_loss: 0.5775 - val_accuracy: 0.8223\n",
            "Epoch 75/200\n",
            "58/58 [==============================] - 1s 13ms/step - loss: 0.2489 - accuracy: 0.9189 - val_loss: 0.7254 - val_accuracy: 0.8122\n",
            "Epoch 76/200\n",
            "58/58 [==============================] - 1s 14ms/step - loss: 0.2652 - accuracy: 0.9110 - val_loss: 0.6532 - val_accuracy: 0.8071\n",
            "Epoch 77/200\n",
            "58/58 [==============================] - 1s 14ms/step - loss: 0.2669 - accuracy: 0.9110 - val_loss: 0.6135 - val_accuracy: 0.8299\n",
            "Epoch 78/200\n",
            "58/58 [==============================] - 1s 17ms/step - loss: 0.2517 - accuracy: 0.9208 - val_loss: 0.6583 - val_accuracy: 0.8274\n",
            "Epoch 79/200\n",
            "58/58 [==============================] - 1s 17ms/step - loss: 0.2373 - accuracy: 0.9219 - val_loss: 0.7794 - val_accuracy: 0.8046\n",
            "Epoch 79: early stopping\n"
          ]
        },
        {
          "output_type": "execute_result",
          "data": {
            "text/plain": [
              "<keras.src.callbacks.History at 0x7f64445406d0>"
            ]
          },
          "metadata": {},
          "execution_count": 88
        }
      ]
    },
    {
      "cell_type": "code",
      "source": [
        "y_pred = model.predict(X_test)\n",
        "# Chuyển dự đoán thành danh sách các lớp\n",
        "y_pred_labels = np.argmax(y_pred, axis=1)\n",
        "\n",
        "# Sau đó, bạn có thể tính classification report bằng scikit-learn\n",
        "from sklearn.metrics import classification_report\n",
        "print(classification_report(y_test, y_pred_labels))"
      ],
      "metadata": {
        "colab": {
          "base_uri": "https://localhost:8080/"
        },
        "id": "9aER2Fpz4F1M",
        "outputId": "9e85829a-de6e-4170-f14d-d969c0d68745"
      },
      "execution_count": null,
      "outputs": [
        {
          "output_type": "stream",
          "name": "stdout",
          "text": [
            "25/25 [==============================] - 1s 4ms/step\n",
            "              precision    recall  f1-score   support\n",
            "\n",
            "           0       0.79      0.90      0.84        82\n",
            "           1       0.84      0.84      0.84        49\n",
            "           2       0.82      0.83      0.82       110\n",
            "           3       0.80      0.76      0.78       113\n",
            "           4       0.90      0.88      0.89       126\n",
            "           5       0.80      0.79      0.79       107\n",
            "           6       0.81      0.86      0.83        97\n",
            "           7       0.94      0.87      0.90       104\n",
            "\n",
            "    accuracy                           0.84       788\n",
            "   macro avg       0.84      0.84      0.84       788\n",
            "weighted avg       0.84      0.84      0.84       788\n",
            "\n"
          ]
        }
      ]
    },
    {
      "cell_type": "code",
      "source": [
        "model.save('/content/drive/MyDrive/Study/Năm 3/CS337-Xử lý âm thanh và tiếng nói/model/LSTM_CNN_spectral.h5')"
      ],
      "metadata": {
        "id": "TSjNye1ZA8gB"
      },
      "execution_count": null,
      "outputs": []
    },
    {
      "cell_type": "markdown",
      "source": [
        "### Dùng prosodic feature"
      ],
      "metadata": {
        "id": "q-8I_v7aIogQ"
      }
    },
    {
      "cell_type": "code",
      "source": [
        "features = \"prosodic_features\"\n",
        "# load data\n",
        "feature_path = root_data + \"/\" + features + \"/\"\n",
        "X_train = joblib.load(feature_path + 'X_train.joblib')\n",
        "y_train = joblib.load(feature_path + 'y_train.joblib')\n",
        "X_test = joblib.load(feature_path + 'X_test.joblib')\n",
        "y_test = joblib.load(feature_path + 'y_test.joblib')\n",
        "X_dev = joblib.load(feature_path + 'X_dev.joblib')\n",
        "y_dev = joblib.load(feature_path + 'y_dev.joblib')\n",
        "# Chuẩn hóa dữ liệu\n",
        "scaler = StandardScaler()\n",
        "X_train = scaler.fit_transform(X_train)\n",
        "X_test = scaler.transform(X_test)\n",
        "X_dev = scaler.transform(X_dev)\n",
        "X_train.shape\n",
        "# reshape\n",
        "y_train = to_categorical(y_train, num_classes=8)\n",
        "y_dev = to_categorical(y_dev, num_classes=8)\n",
        "X_train.shape"
      ],
      "metadata": {
        "colab": {
          "base_uri": "https://localhost:8080/"
        },
        "id": "_lyAdv7oIogQ",
        "outputId": "71f8803f-a644-47ab-e004-3e476588fdd8"
      },
      "execution_count": null,
      "outputs": [
        {
          "output_type": "execute_result",
          "data": {
            "text/plain": [
              "(3676, 67)"
            ]
          },
          "metadata": {},
          "execution_count": 8
        }
      ]
    },
    {
      "cell_type": "markdown",
      "source": [
        "#### LSTM"
      ],
      "metadata": {
        "id": "IYnvuH8RjFnn"
      }
    },
    {
      "cell_type": "code",
      "source": [
        "import tensorflow as tf\n",
        "from tensorflow.keras.models import Sequential\n",
        "from tensorflow.keras.layers import LSTM, Dense, Dropout\n",
        "from tensorflow.keras.optimizers import Adam\n",
        "from tensorflow.keras.callbacks import EarlyStopping, ModelCheckpoint\n",
        "\n",
        "# Thiết lập mô hình\n",
        "model = Sequential()\n",
        "\n",
        "# Thêm lớp LSTM với 100 đơn vị và đầu vào có shape (1440, 193)\n",
        "model.add(LSTM(256, input_shape=(67,1), return_sequences=True))\n",
        "model.add(Dropout(0.2))\n",
        "\n",
        "# Thêm lớp LSTM thứ hai\n",
        "model.add(LSTM(128, return_sequences=True))\n",
        "model.add(Dropout(0.2))\n",
        "\n",
        "model.add(LSTM(64))\n",
        "model.add(Dropout(0.2))\n",
        "\n",
        "# Thêm lớp Dense đầu tiên\n",
        "model.add(Dense(32, activation='relu'))\n",
        "model.add(Dropout(0.2))\n",
        "# Thêm lớp Dense với 8 đầu ra (số lớp bạn muốn phân loại)\n",
        "model.add(Dense(8, activation='softmax'))\n",
        "\n",
        "# Tạo tối ưu hóa với learning rate mới\n",
        "learning_rate = 0.001\n",
        "custom_optimizer = Adam(learning_rate=learning_rate)\n",
        "\n",
        "# Dừng sớm\n",
        "early_stopping_callback = EarlyStopping(monitor='val_loss', patience=10, min_delta=0.005, mode='min', verbose=1)\n",
        "\n",
        "# Callback để lưu mô hình tại điểm kiểm tra tốt nhất\n",
        "model_checkpoint_callback = ModelCheckpoint('best_model.h5', monitor='val_loss', save_best_only=True, mode='min')\n",
        "\n",
        "# Biên dịch mô hình\n",
        "model.compile(loss='categorical_crossentropy', optimizer=custom_optimizer, metrics=['accuracy'])\n",
        "\n",
        "# # Hiển thị tóm tắt của mô hình\n",
        "# model.summary()\n",
        "model.fit(X_train, y_train, epochs=200, batch_size=64, validation_data=(X_dev, y_dev), callbacks=[early_stopping_callback, model_checkpoint_callback])\n"
      ],
      "metadata": {
        "colab": {
          "base_uri": "https://localhost:8080/"
        },
        "id": "NFmpg5n5jHhF",
        "outputId": "7c06d379-4ad1-4c73-b109-949cce561fbc"
      },
      "execution_count": null,
      "outputs": [
        {
          "output_type": "stream",
          "name": "stdout",
          "text": [
            "Epoch 1/200\n",
            "58/58 [==============================] - 8s 47ms/step - loss: 2.0522 - accuracy: 0.1681 - val_loss: 2.0170 - val_accuracy: 0.1028\n",
            "Epoch 2/200\n",
            "58/58 [==============================] - 1s 17ms/step - loss: 1.9966 - accuracy: 0.2081 - val_loss: 1.9644 - val_accuracy: 0.2030\n",
            "Epoch 3/200\n",
            "58/58 [==============================] - 1s 15ms/step - loss: 1.9888 - accuracy: 0.2119 - val_loss: 1.9850 - val_accuracy: 0.1878\n",
            "Epoch 4/200\n",
            "58/58 [==============================] - 1s 17ms/step - loss: 1.9572 - accuracy: 0.2100 - val_loss: 1.9520 - val_accuracy: 0.2234\n",
            "Epoch 5/200\n",
            "58/58 [==============================] - 1s 15ms/step - loss: 1.8915 - accuracy: 0.2378 - val_loss: 1.8187 - val_accuracy: 0.2576\n",
            "Epoch 6/200\n",
            "58/58 [==============================] - 1s 16ms/step - loss: 1.8503 - accuracy: 0.2416 - val_loss: 1.7952 - val_accuracy: 0.2843\n",
            "Epoch 7/200\n",
            "58/58 [==============================] - 1s 16ms/step - loss: 1.7774 - accuracy: 0.2601 - val_loss: 1.7180 - val_accuracy: 0.2741\n",
            "Epoch 8/200\n",
            "58/58 [==============================] - 1s 15ms/step - loss: 1.7515 - accuracy: 0.2913 - val_loss: 1.7882 - val_accuracy: 0.2640\n",
            "Epoch 9/200\n",
            "58/58 [==============================] - 1s 15ms/step - loss: 1.7644 - accuracy: 0.2894 - val_loss: 1.8738 - val_accuracy: 0.2449\n",
            "Epoch 10/200\n",
            "58/58 [==============================] - 1s 16ms/step - loss: 1.7727 - accuracy: 0.2756 - val_loss: 1.6736 - val_accuracy: 0.3096\n",
            "Epoch 11/200\n",
            "58/58 [==============================] - 1s 15ms/step - loss: 1.7617 - accuracy: 0.2824 - val_loss: 1.7448 - val_accuracy: 0.3084\n",
            "Epoch 12/200\n",
            "58/58 [==============================] - 1s 15ms/step - loss: 1.7472 - accuracy: 0.2862 - val_loss: 1.6992 - val_accuracy: 0.3211\n",
            "Epoch 13/200\n",
            "58/58 [==============================] - 1s 17ms/step - loss: 1.7095 - accuracy: 0.2971 - val_loss: 1.6601 - val_accuracy: 0.3363\n",
            "Epoch 14/200\n",
            "58/58 [==============================] - 1s 20ms/step - loss: 1.6809 - accuracy: 0.3145 - val_loss: 1.6456 - val_accuracy: 0.3261\n",
            "Epoch 15/200\n",
            "58/58 [==============================] - 1s 20ms/step - loss: 1.6670 - accuracy: 0.3145 - val_loss: 1.6338 - val_accuracy: 0.3350\n",
            "Epoch 16/200\n",
            "58/58 [==============================] - 1s 19ms/step - loss: 1.6521 - accuracy: 0.3172 - val_loss: 1.6063 - val_accuracy: 0.3173\n",
            "Epoch 17/200\n",
            "58/58 [==============================] - 1s 17ms/step - loss: 1.6251 - accuracy: 0.3180 - val_loss: 1.5800 - val_accuracy: 0.3312\n",
            "Epoch 18/200\n",
            "58/58 [==============================] - 1s 16ms/step - loss: 1.6083 - accuracy: 0.3335 - val_loss: 1.5726 - val_accuracy: 0.3173\n",
            "Epoch 19/200\n",
            "58/58 [==============================] - 1s 16ms/step - loss: 1.5710 - accuracy: 0.3515 - val_loss: 1.5191 - val_accuracy: 0.3477\n",
            "Epoch 20/200\n",
            "58/58 [==============================] - 1s 15ms/step - loss: 1.5358 - accuracy: 0.3577 - val_loss: 1.5299 - val_accuracy: 0.3363\n",
            "Epoch 21/200\n",
            "58/58 [==============================] - 1s 16ms/step - loss: 1.4813 - accuracy: 0.3879 - val_loss: 1.4231 - val_accuracy: 0.4048\n",
            "Epoch 22/200\n",
            "58/58 [==============================] - 1s 16ms/step - loss: 1.4398 - accuracy: 0.4119 - val_loss: 1.3615 - val_accuracy: 0.3959\n",
            "Epoch 23/200\n",
            "58/58 [==============================] - 1s 16ms/step - loss: 1.4095 - accuracy: 0.4257 - val_loss: 1.3201 - val_accuracy: 0.4429\n",
            "Epoch 24/200\n",
            "58/58 [==============================] - 1s 16ms/step - loss: 1.3861 - accuracy: 0.4320 - val_loss: 1.2805 - val_accuracy: 0.4416\n",
            "Epoch 25/200\n",
            "58/58 [==============================] - 1s 15ms/step - loss: 1.3784 - accuracy: 0.4301 - val_loss: 1.3507 - val_accuracy: 0.4188\n",
            "Epoch 26/200\n",
            "58/58 [==============================] - 1s 16ms/step - loss: 1.3792 - accuracy: 0.4421 - val_loss: 1.2783 - val_accuracy: 0.4594\n",
            "Epoch 27/200\n",
            "58/58 [==============================] - 1s 16ms/step - loss: 1.3566 - accuracy: 0.4431 - val_loss: 1.2571 - val_accuracy: 0.4683\n",
            "Epoch 28/200\n",
            "58/58 [==============================] - 1s 19ms/step - loss: 1.3421 - accuracy: 0.4516 - val_loss: 1.2474 - val_accuracy: 0.4569\n",
            "Epoch 29/200\n",
            "58/58 [==============================] - 1s 18ms/step - loss: 1.3469 - accuracy: 0.4543 - val_loss: 1.2760 - val_accuracy: 0.4759\n",
            "Epoch 30/200\n",
            "58/58 [==============================] - 1s 18ms/step - loss: 1.3203 - accuracy: 0.4573 - val_loss: 1.2587 - val_accuracy: 0.4645\n",
            "Epoch 31/200\n",
            "58/58 [==============================] - 1s 19ms/step - loss: 1.3115 - accuracy: 0.4676 - val_loss: 1.2882 - val_accuracy: 0.4518\n",
            "Epoch 32/200\n",
            "58/58 [==============================] - 1s 17ms/step - loss: 1.3264 - accuracy: 0.4554 - val_loss: 1.2454 - val_accuracy: 0.4822\n",
            "Epoch 33/200\n",
            "58/58 [==============================] - 1s 15ms/step - loss: 1.3035 - accuracy: 0.4682 - val_loss: 1.2484 - val_accuracy: 0.4708\n",
            "Epoch 34/200\n",
            "58/58 [==============================] - 1s 16ms/step - loss: 1.2946 - accuracy: 0.4761 - val_loss: 1.2301 - val_accuracy: 0.4860\n",
            "Epoch 35/200\n",
            "58/58 [==============================] - 1s 16ms/step - loss: 1.3136 - accuracy: 0.4780 - val_loss: 1.2194 - val_accuracy: 0.4987\n",
            "Epoch 36/200\n",
            "58/58 [==============================] - 1s 16ms/step - loss: 1.3063 - accuracy: 0.4674 - val_loss: 1.2112 - val_accuracy: 0.4848\n",
            "Epoch 37/200\n",
            "58/58 [==============================] - 1s 15ms/step - loss: 1.3010 - accuracy: 0.4725 - val_loss: 1.2292 - val_accuracy: 0.4873\n",
            "Epoch 38/200\n",
            "58/58 [==============================] - 1s 15ms/step - loss: 1.2857 - accuracy: 0.4761 - val_loss: 1.2141 - val_accuracy: 0.4835\n",
            "Epoch 39/200\n",
            "58/58 [==============================] - 1s 16ms/step - loss: 1.2897 - accuracy: 0.4845 - val_loss: 1.2075 - val_accuracy: 0.4886\n",
            "Epoch 40/200\n",
            "58/58 [==============================] - 1s 16ms/step - loss: 1.2826 - accuracy: 0.4807 - val_loss: 1.2039 - val_accuracy: 0.4873\n",
            "Epoch 41/200\n",
            "58/58 [==============================] - 1s 16ms/step - loss: 1.2828 - accuracy: 0.4850 - val_loss: 1.1992 - val_accuracy: 0.5025\n",
            "Epoch 42/200\n",
            "58/58 [==============================] - 1s 15ms/step - loss: 1.2870 - accuracy: 0.4695 - val_loss: 1.2053 - val_accuracy: 0.4784\n",
            "Epoch 43/200\n",
            "58/58 [==============================] - 1s 17ms/step - loss: 1.2674 - accuracy: 0.4921 - val_loss: 1.2134 - val_accuracy: 0.5051\n",
            "Epoch 44/200\n",
            "58/58 [==============================] - 1s 18ms/step - loss: 1.2737 - accuracy: 0.4807 - val_loss: 1.2064 - val_accuracy: 0.4810\n",
            "Epoch 45/200\n",
            "58/58 [==============================] - 1s 18ms/step - loss: 1.2658 - accuracy: 0.4801 - val_loss: 1.2090 - val_accuracy: 0.5102\n",
            "Epoch 46/200\n",
            "58/58 [==============================] - 1s 17ms/step - loss: 1.2807 - accuracy: 0.4818 - val_loss: 1.2278 - val_accuracy: 0.4873\n",
            "Epoch 47/200\n",
            "58/58 [==============================] - 1s 19ms/step - loss: 1.2517 - accuracy: 0.4940 - val_loss: 1.1977 - val_accuracy: 0.5038\n",
            "Epoch 48/200\n",
            "58/58 [==============================] - 1s 16ms/step - loss: 1.2659 - accuracy: 0.4908 - val_loss: 1.1943 - val_accuracy: 0.5013\n",
            "Epoch 49/200\n",
            "58/58 [==============================] - 1s 16ms/step - loss: 1.2644 - accuracy: 0.4937 - val_loss: 1.1929 - val_accuracy: 0.4987\n",
            "Epoch 50/200\n",
            "58/58 [==============================] - 1s 15ms/step - loss: 1.2683 - accuracy: 0.4880 - val_loss: 1.2015 - val_accuracy: 0.4937\n",
            "Epoch 51/200\n",
            "58/58 [==============================] - 1s 15ms/step - loss: 1.2610 - accuracy: 0.4894 - val_loss: 1.2213 - val_accuracy: 0.4797\n",
            "Epoch 52/200\n",
            "58/58 [==============================] - 1s 15ms/step - loss: 1.2599 - accuracy: 0.4937 - val_loss: 1.2186 - val_accuracy: 0.4873\n",
            "Epoch 53/200\n",
            "58/58 [==============================] - 1s 15ms/step - loss: 1.2597 - accuracy: 0.4921 - val_loss: 1.2122 - val_accuracy: 0.4835\n",
            "Epoch 54/200\n",
            "58/58 [==============================] - 1s 15ms/step - loss: 1.2502 - accuracy: 0.4924 - val_loss: 1.1857 - val_accuracy: 0.5051\n",
            "Epoch 55/200\n",
            "58/58 [==============================] - 1s 15ms/step - loss: 1.2566 - accuracy: 0.5014 - val_loss: 1.1999 - val_accuracy: 0.5102\n",
            "Epoch 56/200\n",
            "58/58 [==============================] - 1s 15ms/step - loss: 1.2469 - accuracy: 0.4845 - val_loss: 1.2040 - val_accuracy: 0.5190\n",
            "Epoch 57/200\n",
            "58/58 [==============================] - 1s 16ms/step - loss: 1.2498 - accuracy: 0.4935 - val_loss: 1.1745 - val_accuracy: 0.5140\n",
            "Epoch 58/200\n",
            "58/58 [==============================] - 1s 15ms/step - loss: 1.2513 - accuracy: 0.5014 - val_loss: 1.1881 - val_accuracy: 0.5063\n",
            "Epoch 59/200\n",
            "58/58 [==============================] - 1s 18ms/step - loss: 1.2498 - accuracy: 0.4927 - val_loss: 1.1807 - val_accuracy: 0.5165\n",
            "Epoch 60/200\n",
            "58/58 [==============================] - 1s 18ms/step - loss: 1.2351 - accuracy: 0.4984 - val_loss: 1.1913 - val_accuracy: 0.4962\n",
            "Epoch 61/200\n",
            "58/58 [==============================] - 1s 19ms/step - loss: 1.2430 - accuracy: 0.4976 - val_loss: 1.1822 - val_accuracy: 0.4975\n",
            "Epoch 62/200\n",
            "58/58 [==============================] - 1s 23ms/step - loss: 1.2338 - accuracy: 0.5041 - val_loss: 1.1718 - val_accuracy: 0.5127\n",
            "Epoch 63/200\n",
            "58/58 [==============================] - 2s 29ms/step - loss: 1.2172 - accuracy: 0.5101 - val_loss: 1.1669 - val_accuracy: 0.5102\n",
            "Epoch 64/200\n",
            "58/58 [==============================] - 1s 25ms/step - loss: 1.1970 - accuracy: 0.5226 - val_loss: 1.1420 - val_accuracy: 0.5317\n",
            "Epoch 65/200\n",
            "58/58 [==============================] - 2s 29ms/step - loss: 1.1836 - accuracy: 0.5193 - val_loss: 1.1900 - val_accuracy: 0.4987\n",
            "Epoch 66/200\n",
            "58/58 [==============================] - 1s 24ms/step - loss: 1.1920 - accuracy: 0.5277 - val_loss: 1.1208 - val_accuracy: 0.5279\n",
            "Epoch 67/200\n",
            "58/58 [==============================] - 2s 26ms/step - loss: 1.1660 - accuracy: 0.5356 - val_loss: 1.0943 - val_accuracy: 0.5558\n",
            "Epoch 68/200\n",
            "58/58 [==============================] - 1s 18ms/step - loss: 1.1712 - accuracy: 0.5272 - val_loss: 1.1043 - val_accuracy: 0.5355\n",
            "Epoch 69/200\n",
            "58/58 [==============================] - 1s 15ms/step - loss: 1.1541 - accuracy: 0.5359 - val_loss: 1.1589 - val_accuracy: 0.4987\n",
            "Epoch 70/200\n",
            "58/58 [==============================] - 1s 16ms/step - loss: 1.1430 - accuracy: 0.5449 - val_loss: 1.1079 - val_accuracy: 0.5558\n",
            "Epoch 71/200\n",
            "58/58 [==============================] - 1s 18ms/step - loss: 1.1221 - accuracy: 0.5582 - val_loss: 1.0760 - val_accuracy: 0.5508\n",
            "Epoch 72/200\n",
            "58/58 [==============================] - 1s 18ms/step - loss: 1.1318 - accuracy: 0.5392 - val_loss: 1.0552 - val_accuracy: 0.5584\n",
            "Epoch 73/200\n",
            "58/58 [==============================] - 1s 21ms/step - loss: 1.1051 - accuracy: 0.5563 - val_loss: 1.0436 - val_accuracy: 0.5571\n",
            "Epoch 74/200\n",
            "58/58 [==============================] - 1s 18ms/step - loss: 1.1236 - accuracy: 0.5503 - val_loss: 1.0694 - val_accuracy: 0.5343\n",
            "Epoch 75/200\n",
            "58/58 [==============================] - 1s 15ms/step - loss: 1.0888 - accuracy: 0.5656 - val_loss: 1.0753 - val_accuracy: 0.5571\n",
            "Epoch 76/200\n",
            "58/58 [==============================] - 1s 15ms/step - loss: 1.0993 - accuracy: 0.5582 - val_loss: 1.0695 - val_accuracy: 0.5736\n",
            "Epoch 77/200\n",
            "58/58 [==============================] - 1s 16ms/step - loss: 1.0959 - accuracy: 0.5677 - val_loss: 1.0386 - val_accuracy: 0.5685\n",
            "Epoch 78/200\n",
            "58/58 [==============================] - 1s 15ms/step - loss: 1.0859 - accuracy: 0.5609 - val_loss: 1.0479 - val_accuracy: 0.5533\n",
            "Epoch 79/200\n",
            "58/58 [==============================] - 1s 15ms/step - loss: 1.0959 - accuracy: 0.5588 - val_loss: 1.0670 - val_accuracy: 0.5622\n",
            "Epoch 80/200\n",
            "58/58 [==============================] - 1s 15ms/step - loss: 1.0806 - accuracy: 0.5579 - val_loss: 1.0660 - val_accuracy: 0.5584\n",
            "Epoch 81/200\n",
            "58/58 [==============================] - 1s 16ms/step - loss: 1.0782 - accuracy: 0.5596 - val_loss: 1.0590 - val_accuracy: 0.5533\n",
            "Epoch 82/200\n",
            "58/58 [==============================] - 1s 17ms/step - loss: 1.0864 - accuracy: 0.5623 - val_loss: 1.0325 - val_accuracy: 0.5647\n",
            "Epoch 83/200\n",
            "58/58 [==============================] - 1s 16ms/step - loss: 1.0663 - accuracy: 0.5775 - val_loss: 1.0238 - val_accuracy: 0.5622\n",
            "Epoch 84/200\n",
            "58/58 [==============================] - 1s 15ms/step - loss: 1.0797 - accuracy: 0.5732 - val_loss: 1.0424 - val_accuracy: 0.5660\n",
            "Epoch 85/200\n",
            "58/58 [==============================] - 1s 15ms/step - loss: 1.0454 - accuracy: 0.5865 - val_loss: 1.0452 - val_accuracy: 0.5799\n",
            "Epoch 86/200\n",
            "58/58 [==============================] - 1s 18ms/step - loss: 1.0390 - accuracy: 0.5843 - val_loss: 1.0246 - val_accuracy: 0.5673\n",
            "Epoch 87/200\n",
            "58/58 [==============================] - 1s 19ms/step - loss: 1.0519 - accuracy: 0.5767 - val_loss: 1.0518 - val_accuracy: 0.5622\n",
            "Epoch 88/200\n",
            "58/58 [==============================] - 1s 19ms/step - loss: 1.0510 - accuracy: 0.5705 - val_loss: 1.0328 - val_accuracy: 0.5723\n",
            "Epoch 89/200\n",
            "58/58 [==============================] - 1s 18ms/step - loss: 1.0428 - accuracy: 0.5789 - val_loss: 1.0678 - val_accuracy: 0.5774\n",
            "Epoch 90/200\n",
            "58/58 [==============================] - 1s 16ms/step - loss: 1.0543 - accuracy: 0.5775 - val_loss: 1.0561 - val_accuracy: 0.5660\n",
            "Epoch 91/200\n",
            "58/58 [==============================] - 1s 15ms/step - loss: 1.0608 - accuracy: 0.5715 - val_loss: 1.0915 - val_accuracy: 0.5673\n",
            "Epoch 92/200\n",
            "58/58 [==============================] - 1s 16ms/step - loss: 1.0324 - accuracy: 0.5762 - val_loss: 1.0142 - val_accuracy: 0.5850\n",
            "Epoch 93/200\n",
            "58/58 [==============================] - 1s 15ms/step - loss: 1.0294 - accuracy: 0.5906 - val_loss: 1.0742 - val_accuracy: 0.5736\n",
            "Epoch 94/200\n",
            "58/58 [==============================] - 1s 15ms/step - loss: 1.0274 - accuracy: 0.5846 - val_loss: 1.0218 - val_accuracy: 0.5736\n",
            "Epoch 95/200\n",
            "58/58 [==============================] - 1s 16ms/step - loss: 1.0209 - accuracy: 0.5849 - val_loss: 1.0130 - val_accuracy: 0.5850\n",
            "Epoch 96/200\n",
            "58/58 [==============================] - 1s 15ms/step - loss: 1.0109 - accuracy: 0.5928 - val_loss: 1.0408 - val_accuracy: 0.5711\n",
            "Epoch 97/200\n",
            "58/58 [==============================] - 1s 16ms/step - loss: 1.0302 - accuracy: 0.5860 - val_loss: 1.0114 - val_accuracy: 0.5850\n",
            "Epoch 98/200\n",
            "58/58 [==============================] - 1s 15ms/step - loss: 1.0147 - accuracy: 0.5903 - val_loss: 1.0133 - val_accuracy: 0.5952\n",
            "Epoch 99/200\n",
            "58/58 [==============================] - 1s 15ms/step - loss: 1.0032 - accuracy: 0.5998 - val_loss: 1.0486 - val_accuracy: 0.5799\n",
            "Epoch 100/200\n",
            "58/58 [==============================] - 1s 15ms/step - loss: 1.0114 - accuracy: 0.5996 - val_loss: 1.0222 - val_accuracy: 0.5787\n",
            "Epoch 101/200\n",
            "58/58 [==============================] - 1s 17ms/step - loss: 1.0110 - accuracy: 0.5939 - val_loss: 1.0019 - val_accuracy: 0.5850\n",
            "Epoch 102/200\n",
            "58/58 [==============================] - 1s 18ms/step - loss: 1.0124 - accuracy: 0.5979 - val_loss: 1.0243 - val_accuracy: 0.5609\n",
            "Epoch 103/200\n",
            "58/58 [==============================] - 1s 18ms/step - loss: 1.0360 - accuracy: 0.5879 - val_loss: 1.1365 - val_accuracy: 0.5470\n",
            "Epoch 104/200\n",
            "58/58 [==============================] - 1s 18ms/step - loss: 1.0272 - accuracy: 0.5963 - val_loss: 1.0132 - val_accuracy: 0.5825\n",
            "Epoch 105/200\n",
            "58/58 [==============================] - 1s 18ms/step - loss: 0.9946 - accuracy: 0.5922 - val_loss: 1.0101 - val_accuracy: 0.5825\n",
            "Epoch 106/200\n",
            "58/58 [==============================] - 1s 15ms/step - loss: 0.9847 - accuracy: 0.6080 - val_loss: 1.0245 - val_accuracy: 0.5787\n",
            "Epoch 107/200\n",
            "58/58 [==============================] - 1s 15ms/step - loss: 0.9822 - accuracy: 0.6001 - val_loss: 1.0555 - val_accuracy: 0.5685\n",
            "Epoch 108/200\n",
            "58/58 [==============================] - 1s 15ms/step - loss: 1.0065 - accuracy: 0.5982 - val_loss: 1.0395 - val_accuracy: 0.5774\n",
            "Epoch 109/200\n",
            "58/58 [==============================] - 1s 15ms/step - loss: 0.9816 - accuracy: 0.6004 - val_loss: 1.0277 - val_accuracy: 0.5749\n",
            "Epoch 110/200\n",
            "58/58 [==============================] - 1s 15ms/step - loss: 0.9679 - accuracy: 0.6137 - val_loss: 1.0316 - val_accuracy: 0.5863\n",
            "Epoch 111/200\n",
            "58/58 [==============================] - 1s 15ms/step - loss: 0.9869 - accuracy: 0.6031 - val_loss: 1.0335 - val_accuracy: 0.5749\n",
            "Epoch 111: early stopping\n"
          ]
        },
        {
          "output_type": "execute_result",
          "data": {
            "text/plain": [
              "<keras.src.callbacks.History at 0x7d01821557e0>"
            ]
          },
          "metadata": {},
          "execution_count": 17
        }
      ]
    },
    {
      "cell_type": "code",
      "source": [
        "y_pred = model.predict(X_test)\n",
        "# Chuyển dự đoán thành danh sách các lớp\n",
        "y_pred_labels = np.argmax(y_pred, axis=1)\n",
        "\n",
        "# Sau đó, bạn có thể tính classification report bằng scikit-learn\n",
        "from sklearn.metrics import classification_report\n",
        "print(classification_report(y_test, y_pred_labels))"
      ],
      "metadata": {
        "colab": {
          "base_uri": "https://localhost:8080/"
        },
        "id": "eX2sHOrel6FG",
        "outputId": "ab342f7d-e10f-4b98-b9c7-44691dd9e098"
      },
      "execution_count": null,
      "outputs": [
        {
          "output_type": "stream",
          "name": "stdout",
          "text": [
            "25/25 [==============================] - 1s 9ms/step\n",
            "              precision    recall  f1-score   support\n",
            "\n",
            "           0       0.53      0.62      0.57        82\n",
            "           1       0.41      0.82      0.55        49\n",
            "           2       0.56      0.65      0.60       110\n",
            "           3       0.68      0.60      0.64       113\n",
            "           4       0.72      0.56      0.63       126\n",
            "           5       0.70      0.58      0.64       107\n",
            "           6       0.80      0.63      0.71        97\n",
            "           7       0.62      0.62      0.62       104\n",
            "\n",
            "    accuracy                           0.62       788\n",
            "   macro avg       0.63      0.64      0.62       788\n",
            "weighted avg       0.65      0.62      0.63       788\n",
            "\n"
          ]
        }
      ]
    },
    {
      "cell_type": "code",
      "source": [
        "model.save('/content/drive/MyDrive/Study/Năm 3/CS337-Xử lý âm thanh và tiếng nói/model/LSTM_prosodic.h5')"
      ],
      "metadata": {
        "id": "8C1UQr51BkZW"
      },
      "execution_count": null,
      "outputs": []
    },
    {
      "cell_type": "markdown",
      "source": [
        "#### LSTM + CNN"
      ],
      "metadata": {
        "id": "TH6Sl1ujIogV"
      }
    },
    {
      "cell_type": "code",
      "source": [
        "import tensorflow as tf\n",
        "from tensorflow.keras.models import Sequential\n",
        "from tensorflow.keras.layers import LSTM, Dense, Dropout\n",
        "from tensorflow.keras.optimizers import Adam\n",
        "from tensorflow.keras.callbacks import EarlyStopping, ModelCheckpoint\n",
        "from tensorflow.keras.layers import Conv1D, MaxPooling1D, Flatten, LSTM, Dense, BatchNormalization\n",
        "# Xây dựng mô hình CNN\n",
        "model = Sequential()\n",
        "\n",
        "model.add(Conv1D(256, 5, activation='relu', input_shape=(67, 1)))\n",
        "#model.add(BatchNormalization())\n",
        "\n",
        "model.add(Conv1D(128, 5, activation='relu'))\n",
        "model.add(MaxPooling1D(pool_size=8))\n",
        "\n",
        "model.add(BatchNormalization())\n",
        "model.add(Dropout(0.3))\n",
        "\n",
        "# Thêm lớp Bi-LSTM thứ hai với 100 đơn vị\n",
        "# model.add(Bidirectional(LSTM(100, return_sequences=True)))\n",
        "# model.add(Dropout(0.3))\n",
        "\n",
        "# Thêm lớp LSTM cho xử lý thông tin thời gian\n",
        "model.add(LSTM(128, return_sequences=True))\n",
        "model.add(Dropout(0.2))\n",
        "# Thêm lớp LSTM cho xử lý thông tin thời gian\n",
        "model.add(LSTM(64))\n",
        "model.add(Dropout(0.2))\n",
        "\n",
        "# Thêm lớp Dense đầu tiên\n",
        "model.add(Dense(32, activation='relu'))\n",
        "model.add(Dropout(0.3))\n",
        "\n",
        "# Thêm lớp Dense với 8 đầu ra (số lớp bạn muốn phân loại)\n",
        "model.add(Dense(8, activation='softmax'))\n",
        "\n",
        "# Tạo tối ưu hóa với learning rate mới\n",
        "learning_rate = 0.001\n",
        "custom_optimizer = Adam(learning_rate=learning_rate)\n",
        "\n",
        "# Dừng sớm\n",
        "early_stopping_callback = EarlyStopping(monitor='val_loss', patience=20, min_delta=0.001, mode='min', verbose=1)\n",
        "\n",
        "# Callback để lưu mô hình tại điểm kiểm tra tốt nhất\n",
        "model_checkpoint_callback = ModelCheckpoint('best_model.h5', monitor='val_loss', save_best_only=True, mode='min')\n",
        "\n",
        "# Biên dịch mô hình\n",
        "model.compile(loss='categorical_crossentropy', optimizer=custom_optimizer, metrics=['accuracy'])\n",
        "\n",
        "# # Hiển thị tóm tắt của mô hình\n",
        "# model.summary()\n",
        "model.fit(X_train, y_train, epochs=200, batch_size=64, validation_data=(X_dev, y_dev), callbacks=[early_stopping_callback, model_checkpoint_callback])\n"
      ],
      "metadata": {
        "colab": {
          "base_uri": "https://localhost:8080/"
        },
        "outputId": "a0be4c36-3691-4234-ad5c-cc74b9e5e9fb",
        "id": "RAQw76_9IogV"
      },
      "execution_count": null,
      "outputs": [
        {
          "output_type": "stream",
          "name": "stdout",
          "text": [
            "Epoch 1/200\n",
            "58/58 [==============================] - 11s 33ms/step - loss: 1.9773 - accuracy: 0.2051 - val_loss: 1.9923 - val_accuracy: 0.2145\n",
            "Epoch 2/200\n",
            "58/58 [==============================] - 1s 11ms/step - loss: 1.8186 - accuracy: 0.2851 - val_loss: 1.8795 - val_accuracy: 0.2741\n",
            "Epoch 3/200\n",
            "58/58 [==============================] - 1s 13ms/step - loss: 1.7283 - accuracy: 0.3335 - val_loss: 1.8265 - val_accuracy: 0.2817\n",
            "Epoch 4/200\n",
            "58/58 [==============================] - 1s 13ms/step - loss: 1.6590 - accuracy: 0.3662 - val_loss: 1.6074 - val_accuracy: 0.3807\n",
            "Epoch 5/200\n",
            "58/58 [==============================] - 1s 14ms/step - loss: 1.6047 - accuracy: 0.3909 - val_loss: 1.5422 - val_accuracy: 0.4112\n",
            "Epoch 6/200\n",
            "58/58 [==============================] - 1s 14ms/step - loss: 1.5596 - accuracy: 0.4140 - val_loss: 1.5021 - val_accuracy: 0.4543\n",
            "Epoch 7/200\n",
            "58/58 [==============================] - 1s 13ms/step - loss: 1.5066 - accuracy: 0.4263 - val_loss: 1.6460 - val_accuracy: 0.3794\n",
            "Epoch 8/200\n",
            "58/58 [==============================] - 1s 13ms/step - loss: 1.4828 - accuracy: 0.4355 - val_loss: 1.4893 - val_accuracy: 0.4327\n",
            "Epoch 9/200\n",
            "58/58 [==============================] - 1s 10ms/step - loss: 1.4456 - accuracy: 0.4494 - val_loss: 1.4341 - val_accuracy: 0.4632\n",
            "Epoch 10/200\n",
            "58/58 [==============================] - 1s 10ms/step - loss: 1.4168 - accuracy: 0.4739 - val_loss: 1.4176 - val_accuracy: 0.4619\n",
            "Epoch 11/200\n",
            "58/58 [==============================] - 1s 10ms/step - loss: 1.3885 - accuracy: 0.4744 - val_loss: 1.3924 - val_accuracy: 0.4708\n",
            "Epoch 12/200\n",
            "58/58 [==============================] - 1s 10ms/step - loss: 1.3583 - accuracy: 0.4908 - val_loss: 1.3532 - val_accuracy: 0.5140\n",
            "Epoch 13/200\n",
            "58/58 [==============================] - 1s 9ms/step - loss: 1.3199 - accuracy: 0.5112 - val_loss: 1.3962 - val_accuracy: 0.4848\n",
            "Epoch 14/200\n",
            "58/58 [==============================] - 1s 9ms/step - loss: 1.3056 - accuracy: 0.5120 - val_loss: 1.3704 - val_accuracy: 0.4987\n",
            "Epoch 15/200\n",
            "58/58 [==============================] - 1s 9ms/step - loss: 1.2710 - accuracy: 0.5302 - val_loss: 1.4096 - val_accuracy: 0.5102\n",
            "Epoch 16/200\n",
            "58/58 [==============================] - 1s 10ms/step - loss: 1.2560 - accuracy: 0.5335 - val_loss: 1.4466 - val_accuracy: 0.5152\n",
            "Epoch 17/200\n",
            "58/58 [==============================] - 1s 9ms/step - loss: 1.2533 - accuracy: 0.5332 - val_loss: 1.4083 - val_accuracy: 0.4924\n",
            "Epoch 18/200\n",
            "58/58 [==============================] - 1s 9ms/step - loss: 1.2183 - accuracy: 0.5530 - val_loss: 1.4209 - val_accuracy: 0.4949\n",
            "Epoch 19/200\n",
            "58/58 [==============================] - 1s 9ms/step - loss: 1.2018 - accuracy: 0.5550 - val_loss: 1.3803 - val_accuracy: 0.5114\n",
            "Epoch 20/200\n",
            "58/58 [==============================] - 1s 10ms/step - loss: 1.1581 - accuracy: 0.5702 - val_loss: 1.3483 - val_accuracy: 0.5317\n",
            "Epoch 21/200\n",
            "58/58 [==============================] - 1s 9ms/step - loss: 1.1578 - accuracy: 0.5909 - val_loss: 1.3515 - val_accuracy: 0.4975\n",
            "Epoch 22/200\n",
            "58/58 [==============================] - 1s 10ms/step - loss: 1.1421 - accuracy: 0.5881 - val_loss: 1.3334 - val_accuracy: 0.5406\n",
            "Epoch 23/200\n",
            "58/58 [==============================] - 1s 10ms/step - loss: 1.0904 - accuracy: 0.5966 - val_loss: 1.3261 - val_accuracy: 0.5406\n",
            "Epoch 24/200\n",
            "58/58 [==============================] - 1s 9ms/step - loss: 1.0747 - accuracy: 0.6034 - val_loss: 1.3619 - val_accuracy: 0.5419\n",
            "Epoch 25/200\n",
            "58/58 [==============================] - 1s 9ms/step - loss: 1.0722 - accuracy: 0.6064 - val_loss: 1.4160 - val_accuracy: 0.5254\n",
            "Epoch 26/200\n",
            "58/58 [==============================] - 1s 11ms/step - loss: 1.0612 - accuracy: 0.6096 - val_loss: 1.3694 - val_accuracy: 0.5305\n",
            "Epoch 27/200\n",
            "58/58 [==============================] - 1s 12ms/step - loss: 1.0562 - accuracy: 0.6213 - val_loss: 1.4815 - val_accuracy: 0.5305\n",
            "Epoch 28/200\n",
            "58/58 [==============================] - 1s 14ms/step - loss: 1.0285 - accuracy: 0.6205 - val_loss: 1.3920 - val_accuracy: 0.5330\n",
            "Epoch 29/200\n",
            "58/58 [==============================] - 1s 13ms/step - loss: 0.9997 - accuracy: 0.6366 - val_loss: 1.3812 - val_accuracy: 0.5241\n",
            "Epoch 30/200\n",
            "58/58 [==============================] - 1s 13ms/step - loss: 0.9732 - accuracy: 0.6455 - val_loss: 1.3722 - val_accuracy: 0.5495\n",
            "Epoch 31/200\n",
            "58/58 [==============================] - 1s 13ms/step - loss: 0.9489 - accuracy: 0.6581 - val_loss: 1.3988 - val_accuracy: 0.5457\n",
            "Epoch 32/200\n",
            "58/58 [==============================] - 1s 11ms/step - loss: 0.9326 - accuracy: 0.6678 - val_loss: 1.3902 - val_accuracy: 0.5228\n",
            "Epoch 33/200\n",
            "58/58 [==============================] - 1s 9ms/step - loss: 0.9501 - accuracy: 0.6638 - val_loss: 1.3764 - val_accuracy: 0.5546\n",
            "Epoch 34/200\n",
            "58/58 [==============================] - 1s 9ms/step - loss: 0.9392 - accuracy: 0.6627 - val_loss: 1.3693 - val_accuracy: 0.5431\n",
            "Epoch 35/200\n",
            "58/58 [==============================] - 1s 10ms/step - loss: 0.8876 - accuracy: 0.6774 - val_loss: 1.4452 - val_accuracy: 0.5406\n",
            "Epoch 36/200\n",
            "58/58 [==============================] - 1s 9ms/step - loss: 0.8779 - accuracy: 0.6812 - val_loss: 1.4543 - val_accuracy: 0.5343\n",
            "Epoch 37/200\n",
            "58/58 [==============================] - 1s 9ms/step - loss: 0.8702 - accuracy: 0.6902 - val_loss: 1.5389 - val_accuracy: 0.5216\n",
            "Epoch 38/200\n",
            "58/58 [==============================] - 1s 9ms/step - loss: 0.8557 - accuracy: 0.6972 - val_loss: 1.4119 - val_accuracy: 0.5698\n",
            "Epoch 39/200\n",
            "58/58 [==============================] - 1s 9ms/step - loss: 0.8715 - accuracy: 0.6926 - val_loss: 1.4834 - val_accuracy: 0.5292\n",
            "Epoch 40/200\n",
            "58/58 [==============================] - 1s 9ms/step - loss: 0.8299 - accuracy: 0.7040 - val_loss: 1.4714 - val_accuracy: 0.5368\n",
            "Epoch 41/200\n",
            "58/58 [==============================] - 1s 10ms/step - loss: 0.8071 - accuracy: 0.7184 - val_loss: 1.4344 - val_accuracy: 0.5444\n",
            "Epoch 42/200\n",
            "58/58 [==============================] - 1s 9ms/step - loss: 0.8305 - accuracy: 0.7146 - val_loss: 1.5201 - val_accuracy: 0.5254\n",
            "Epoch 43/200\n",
            "58/58 [==============================] - 1s 9ms/step - loss: 0.7873 - accuracy: 0.7195 - val_loss: 1.5173 - val_accuracy: 0.5482\n",
            "Epoch 43: early stopping\n"
          ]
        },
        {
          "output_type": "execute_result",
          "data": {
            "text/plain": [
              "<keras.src.callbacks.History at 0x7d0151e0e920>"
            ]
          },
          "metadata": {},
          "execution_count": 22
        }
      ]
    },
    {
      "cell_type": "code",
      "source": [
        "y_pred = model.predict(X_test)\n",
        "# Chuyển dự đoán thành danh sách các lớp\n",
        "y_pred_labels = np.argmax(y_pred, axis=1)\n",
        "\n",
        "# Sau đó, bạn có thể tính classification report bằng scikit-learn\n",
        "from sklearn.metrics import classification_report\n",
        "print(classification_report(y_test, y_pred_labels))"
      ],
      "metadata": {
        "colab": {
          "base_uri": "https://localhost:8080/"
        },
        "outputId": "490c4da9-832a-4d93-c1cc-d44cc9a0c28a",
        "id": "4Tmn9O9jIogW"
      },
      "execution_count": null,
      "outputs": [
        {
          "output_type": "stream",
          "name": "stdout",
          "text": [
            "25/25 [==============================] - 1s 3ms/step\n",
            "              precision    recall  f1-score   support\n",
            "\n",
            "           0       0.68      0.49      0.57        82\n",
            "           1       0.57      0.43      0.49        49\n",
            "           2       0.62      0.48      0.54       110\n",
            "           3       0.66      0.58      0.62       113\n",
            "           4       0.66      0.57      0.61       126\n",
            "           5       0.58      0.57      0.57       107\n",
            "           6       0.47      0.63      0.54        97\n",
            "           7       0.43      0.67      0.53       104\n",
            "\n",
            "    accuracy                           0.56       788\n",
            "   macro avg       0.58      0.55      0.56       788\n",
            "weighted avg       0.59      0.56      0.56       788\n",
            "\n"
          ]
        }
      ]
    },
    {
      "cell_type": "code",
      "source": [
        "model.save('/content/drive/MyDrive/Study/Năm 3/CS337-Xử lý âm thanh và tiếng nói/model/LSTM_CNN_prosodic.h5')"
      ],
      "metadata": {
        "id": "GcSslbFskn7X"
      },
      "execution_count": null,
      "outputs": []
    },
    {
      "cell_type": "markdown",
      "source": [
        "### Dùng full feature"
      ],
      "metadata": {
        "id": "k7g8JPMrLCem"
      }
    },
    {
      "cell_type": "code",
      "source": [
        "features = \"full_features\"\n",
        "# load data\n",
        "feature_path = root_data + \"/\" + features + \"/\"\n",
        "X_train = joblib.load(feature_path + 'X_train.joblib')\n",
        "y_train = joblib.load(feature_path + 'y_train.joblib')\n",
        "X_test = joblib.load(feature_path + 'X_test.joblib')\n",
        "y_test = joblib.load(feature_path + 'y_test.joblib')\n",
        "X_dev = joblib.load(feature_path + 'X_dev.joblib')\n",
        "y_dev = joblib.load(feature_path + 'y_dev.joblib')\n",
        "# Chuẩn hóa dữ liệu\n",
        "scaler = StandardScaler()\n",
        "X_train = scaler.fit_transform(X_train)\n",
        "X_test = scaler.transform(X_test)\n",
        "X_dev = scaler.transform(X_dev)\n",
        "X_train.shape\n",
        "# reshape\n",
        "y_train = to_categorical(y_train, num_classes=8)\n",
        "y_dev = to_categorical(y_dev, num_classes=8)"
      ],
      "metadata": {
        "id": "TFm28OinLCew"
      },
      "execution_count": null,
      "outputs": []
    },
    {
      "cell_type": "markdown",
      "source": [
        "#### LSTM"
      ],
      "metadata": {
        "id": "mOw24HUtmHg5"
      }
    },
    {
      "cell_type": "code",
      "source": [
        "import tensorflow as tf\n",
        "from tensorflow.keras.models import Sequential\n",
        "from tensorflow.keras.layers import LSTM, Dense, Dropout\n",
        "from tensorflow.keras.optimizers import Adam\n",
        "from tensorflow.keras.callbacks import EarlyStopping, ModelCheckpoint\n",
        "\n",
        "# Thiết lập mô hình\n",
        "model = Sequential()\n",
        "\n",
        "# Thêm lớp LSTM với 100 đơn vị và đầu vào có shape (1440, 193)\n",
        "model.add(LSTM(256, input_shape=(260,1), return_sequences=True))\n",
        "model.add(Dropout(0.2))\n",
        "\n",
        "# Thêm lớp LSTM thứ hai\n",
        "model.add(LSTM(128, return_sequences=True))\n",
        "model.add(Dropout(0.2))\n",
        "\n",
        "model.add(LSTM(64))\n",
        "model.add(Dropout(0.2))\n",
        "\n",
        "# Thêm lớp Dense đầu tiên\n",
        "model.add(Dense(32, activation='relu'))\n",
        "model.add(Dropout(0.2))\n",
        "# Thêm lớp Dense với 8 đầu ra (số lớp bạn muốn phân loại)\n",
        "model.add(Dense(8, activation='softmax'))\n",
        "\n",
        "# Tạo tối ưu hóa với learning rate mới\n",
        "learning_rate = 0.001\n",
        "custom_optimizer = Adam(learning_rate=learning_rate)\n",
        "\n",
        "# Dừng sớm\n",
        "early_stopping_callback = EarlyStopping(monitor='val_loss', patience=10, min_delta=0.005, mode='min', verbose=1)\n",
        "\n",
        "# Callback để lưu mô hình tại điểm kiểm tra tốt nhất\n",
        "model_checkpoint_callback = ModelCheckpoint('best_model.h5', monitor='val_loss', save_best_only=True, mode='min')\n",
        "\n",
        "# Biên dịch mô hình\n",
        "model.compile(loss='categorical_crossentropy', optimizer=custom_optimizer, metrics=['accuracy'])\n",
        "\n",
        "# # Hiển thị tóm tắt của mô hình\n",
        "# model.summary()\n",
        "model.fit(X_train, y_train, epochs=200, batch_size=64, validation_data=(X_dev, y_dev), callbacks=[early_stopping_callback, model_checkpoint_callback])\n"
      ],
      "metadata": {
        "colab": {
          "base_uri": "https://localhost:8080/"
        },
        "id": "eFpcl5dwmL5k",
        "outputId": "a919e87f-2684-4219-f0d4-77837dba0931"
      },
      "execution_count": null,
      "outputs": [
        {
          "output_type": "stream",
          "name": "stdout",
          "text": [
            "Epoch 1/200\n",
            "58/58 [==============================] - 10s 63ms/step - loss: 2.0426 - accuracy: 0.1823 - val_loss: 2.0144 - val_accuracy: 0.1751\n",
            "Epoch 2/200\n",
            "58/58 [==============================] - 2s 43ms/step - loss: 1.9758 - accuracy: 0.2116 - val_loss: 1.9629 - val_accuracy: 0.1840\n",
            "Epoch 3/200\n",
            "58/58 [==============================] - 2s 43ms/step - loss: 1.9567 - accuracy: 0.2059 - val_loss: 1.9547 - val_accuracy: 0.1853\n",
            "Epoch 4/200\n",
            "58/58 [==============================] - 3s 46ms/step - loss: 1.9114 - accuracy: 0.2214 - val_loss: 2.0265 - val_accuracy: 0.1777\n",
            "Epoch 5/200\n",
            "58/58 [==============================] - 3s 44ms/step - loss: 2.0614 - accuracy: 0.1510 - val_loss: 2.0646 - val_accuracy: 0.1206\n",
            "Epoch 6/200\n",
            "58/58 [==============================] - 2s 43ms/step - loss: 1.9967 - accuracy: 0.1994 - val_loss: 2.0345 - val_accuracy: 0.1548\n",
            "Epoch 7/200\n",
            "58/58 [==============================] - 2s 43ms/step - loss: 2.0518 - accuracy: 0.1665 - val_loss: 2.0686 - val_accuracy: 0.1180\n",
            "Epoch 8/200\n",
            "58/58 [==============================] - 2s 43ms/step - loss: 2.0576 - accuracy: 0.1553 - val_loss: 2.0648 - val_accuracy: 0.1485\n",
            "Epoch 9/200\n",
            "58/58 [==============================] - 3s 45ms/step - loss: 2.0604 - accuracy: 0.1523 - val_loss: 2.0681 - val_accuracy: 0.1180\n",
            "Epoch 10/200\n",
            "58/58 [==============================] - 3s 45ms/step - loss: 2.0584 - accuracy: 0.1526 - val_loss: 2.0653 - val_accuracy: 0.1180\n",
            "Epoch 11/200\n",
            "58/58 [==============================] - 3s 44ms/step - loss: 2.0582 - accuracy: 0.1529 - val_loss: 2.0654 - val_accuracy: 0.1180\n",
            "Epoch 12/200\n",
            "58/58 [==============================] - 2s 43ms/step - loss: 2.0568 - accuracy: 0.1532 - val_loss: 2.0648 - val_accuracy: 0.1180\n",
            "Epoch 13/200\n",
            "58/58 [==============================] - 2s 43ms/step - loss: 2.0568 - accuracy: 0.1548 - val_loss: 2.0646 - val_accuracy: 0.1180\n",
            "Epoch 13: early stopping\n"
          ]
        },
        {
          "output_type": "execute_result",
          "data": {
            "text/plain": [
              "<keras.src.callbacks.History at 0x7d00447d3100>"
            ]
          },
          "metadata": {},
          "execution_count": 44
        }
      ]
    },
    {
      "cell_type": "code",
      "source": [
        "y_pred = model.predict(X_test)\n",
        "# Chuyển dự đoán thành danh sách các lớp\n",
        "y_pred_labels = np.argmax(y_pred, axis=1)\n",
        "\n",
        "# Sau đó, bạn có thể tính classification report bằng scikit-learn\n",
        "from sklearn.metrics import classification_report\n",
        "print(classification_report(y_test, y_pred_labels))"
      ],
      "metadata": {
        "colab": {
          "base_uri": "https://localhost:8080/"
        },
        "id": "-eHYF_IjmNeF",
        "outputId": "e920f1dd-8690-4d32-a1e2-5c9da9bf4acc"
      },
      "execution_count": null,
      "outputs": [
        {
          "output_type": "stream",
          "name": "stdout",
          "text": [
            "25/25 [==============================] - 2s 17ms/step\n",
            "              precision    recall  f1-score   support\n",
            "\n",
            "           0       0.00      0.00      0.00        82\n",
            "           1       0.00      0.00      0.00        49\n",
            "           2       0.00      0.00      0.00       110\n",
            "           3       0.00      0.00      0.00       113\n",
            "           4       0.00      0.00      0.00       126\n",
            "           5       0.14      1.00      0.24       107\n",
            "           6       0.00      0.00      0.00        97\n",
            "           7       0.00      0.00      0.00       104\n",
            "\n",
            "    accuracy                           0.14       788\n",
            "   macro avg       0.02      0.12      0.03       788\n",
            "weighted avg       0.02      0.14      0.03       788\n",
            "\n"
          ]
        }
      ]
    },
    {
      "cell_type": "code",
      "source": [
        "model.save('/content/drive/MyDrive/Study/Năm 3/CS337-Xử lý âm thanh và tiếng nói/model/LSTM_full.h5')"
      ],
      "metadata": {
        "id": "JyvkaJOJp_7A"
      },
      "execution_count": null,
      "outputs": []
    },
    {
      "cell_type": "markdown",
      "source": [
        "#### LSTM + CNN"
      ],
      "metadata": {
        "id": "BcjpqwFHLCey"
      }
    },
    {
      "cell_type": "code",
      "source": [
        "import tensorflow as tf\n",
        "from tensorflow.keras.models import Sequential\n",
        "from tensorflow.keras.layers import LSTM, Dense, Dropout\n",
        "from tensorflow.keras.optimizers import Adam\n",
        "from tensorflow.keras.callbacks import EarlyStopping, ModelCheckpoint\n",
        "from tensorflow.keras.layers import Conv1D, MaxPooling1D, Flatten, LSTM, Dense, BatchNormalization\n",
        "# Xây dựng mô hình CNN\n",
        "model = Sequential()\n",
        "\n",
        "model.add(Conv1D(256, 5, activation='relu', input_shape=(260, 1)))\n",
        "#model.add(BatchNormalization())\n",
        "\n",
        "model.add(Conv1D(128, 5, activation='relu'))\n",
        "model.add(MaxPooling1D(pool_size=8))\n",
        "\n",
        "model.add(BatchNormalization())\n",
        "model.add(Dropout(0.3))\n",
        "\n",
        "# Thêm lớp Bi-LSTM thứ hai với 100 đơn vị\n",
        "# model.add(Bidirectional(LSTM(100, return_sequences=True)))\n",
        "# model.add(Dropout(0.3))\n",
        "\n",
        "# Thêm lớp LSTM cho xử lý thông tin thời gian\n",
        "model.add(LSTM(128, return_sequences=True))\n",
        "model.add(Dropout(0.2))\n",
        "# Thêm lớp LSTM cho xử lý thông tin thời gian\n",
        "model.add(LSTM(64))\n",
        "model.add(Dropout(0.2))\n",
        "\n",
        "# Thêm lớp Dense đầu tiên\n",
        "model.add(Dense(32, activation='relu'))\n",
        "model.add(Dropout(0.3))\n",
        "\n",
        "# Thêm lớp Dense với 8 đầu ra (số lớp bạn muốn phân loại)\n",
        "model.add(Dense(8, activation='softmax'))\n",
        "\n",
        "# Tạo tối ưu hóa với learning rate mới\n",
        "learning_rate = 0.0005\n",
        "custom_optimizer = Adam(learning_rate=learning_rate)\n",
        "\n",
        "# Dừng sớm\n",
        "early_stopping_callback = EarlyStopping(monitor='val_loss', patience=20, min_delta=0.001, mode='min', verbose=1)\n",
        "\n",
        "# Callback để lưu mô hình tại điểm kiểm tra tốt nhất\n",
        "model_checkpoint_callback = ModelCheckpoint('best_model.h5', monitor='val_loss', save_best_only=True, mode='min')\n",
        "\n",
        "# Biên dịch mô hình\n",
        "model.compile(loss='categorical_crossentropy', optimizer=custom_optimizer, metrics=['accuracy'])\n",
        "\n",
        "# # Hiển thị tóm tắt của mô hình\n",
        "# model.summary()\n",
        "model.fit(X_train, y_train, epochs=200, batch_size=64, validation_data=(X_dev, y_dev), callbacks=[early_stopping_callback, model_checkpoint_callback])\n"
      ],
      "metadata": {
        "colab": {
          "base_uri": "https://localhost:8080/"
        },
        "outputId": "118e5d32-ddac-4635-a6b0-3a76a4a3b3f3",
        "id": "162jI-xwLCey"
      },
      "execution_count": null,
      "outputs": [
        {
          "output_type": "stream",
          "name": "stdout",
          "text": [
            "Epoch 1/200\n",
            "58/58 [==============================] - 7s 30ms/step - loss: 1.9120 - accuracy: 0.2315 - val_loss: 1.9746 - val_accuracy: 0.1523\n",
            "Epoch 2/200\n",
            "58/58 [==============================] - 1s 14ms/step - loss: 1.6183 - accuracy: 0.3594 - val_loss: 2.6981 - val_accuracy: 0.1713\n",
            "Epoch 3/200\n",
            "58/58 [==============================] - 1s 19ms/step - loss: 1.4125 - accuracy: 0.4554 - val_loss: 2.1365 - val_accuracy: 0.2449\n",
            "Epoch 4/200\n",
            "58/58 [==============================] - 1s 18ms/step - loss: 1.3120 - accuracy: 0.4878 - val_loss: 2.1955 - val_accuracy: 0.3376\n",
            "Epoch 5/200\n",
            "58/58 [==============================] - 1s 20ms/step - loss: 1.2039 - accuracy: 0.5321 - val_loss: 1.9427 - val_accuracy: 0.3541\n",
            "Epoch 6/200\n",
            "58/58 [==============================] - 1s 20ms/step - loss: 1.1449 - accuracy: 0.5634 - val_loss: 1.3224 - val_accuracy: 0.5178\n",
            "Epoch 7/200\n",
            "58/58 [==============================] - 1s 15ms/step - loss: 1.0945 - accuracy: 0.5873 - val_loss: 1.1076 - val_accuracy: 0.5711\n",
            "Epoch 8/200\n",
            "58/58 [==============================] - 1s 18ms/step - loss: 1.0471 - accuracy: 0.6064 - val_loss: 1.1609 - val_accuracy: 0.5825\n",
            "Epoch 9/200\n",
            "58/58 [==============================] - 1s 18ms/step - loss: 1.0237 - accuracy: 0.6197 - val_loss: 1.3072 - val_accuracy: 0.5571\n",
            "Epoch 10/200\n",
            "58/58 [==============================] - 1s 19ms/step - loss: 0.9505 - accuracy: 0.6472 - val_loss: 1.0561 - val_accuracy: 0.6180\n",
            "Epoch 11/200\n",
            "58/58 [==============================] - 1s 19ms/step - loss: 0.9734 - accuracy: 0.6406 - val_loss: 0.9140 - val_accuracy: 0.6383\n",
            "Epoch 12/200\n",
            "58/58 [==============================] - 1s 16ms/step - loss: 0.9149 - accuracy: 0.6561 - val_loss: 0.9901 - val_accuracy: 0.6218\n",
            "Epoch 13/200\n",
            "58/58 [==============================] - 1s 15ms/step - loss: 0.8801 - accuracy: 0.6776 - val_loss: 0.8891 - val_accuracy: 0.6840\n",
            "Epoch 14/200\n",
            "58/58 [==============================] - 1s 14ms/step - loss: 0.8877 - accuracy: 0.6755 - val_loss: 0.8898 - val_accuracy: 0.6777\n",
            "Epoch 15/200\n",
            "58/58 [==============================] - 1s 14ms/step - loss: 0.8413 - accuracy: 0.6923 - val_loss: 0.8994 - val_accuracy: 0.6777\n",
            "Epoch 16/200\n",
            "58/58 [==============================] - 1s 15ms/step - loss: 0.7979 - accuracy: 0.7168 - val_loss: 0.7827 - val_accuracy: 0.6777\n",
            "Epoch 17/200\n",
            "58/58 [==============================] - 1s 14ms/step - loss: 0.7767 - accuracy: 0.7152 - val_loss: 0.8247 - val_accuracy: 0.7043\n",
            "Epoch 18/200\n",
            "58/58 [==============================] - 1s 15ms/step - loss: 0.7516 - accuracy: 0.7274 - val_loss: 0.7189 - val_accuracy: 0.7157\n",
            "Epoch 19/200\n",
            "58/58 [==============================] - 1s 14ms/step - loss: 0.7520 - accuracy: 0.7301 - val_loss: 0.7944 - val_accuracy: 0.7195\n",
            "Epoch 20/200\n",
            "58/58 [==============================] - 1s 15ms/step - loss: 0.7187 - accuracy: 0.7432 - val_loss: 0.7313 - val_accuracy: 0.7398\n",
            "Epoch 21/200\n",
            "58/58 [==============================] - 1s 14ms/step - loss: 0.7054 - accuracy: 0.7489 - val_loss: 0.7365 - val_accuracy: 0.7322\n",
            "Epoch 22/200\n",
            "58/58 [==============================] - 1s 15ms/step - loss: 0.6954 - accuracy: 0.7514 - val_loss: 0.6923 - val_accuracy: 0.7424\n",
            "Epoch 23/200\n",
            "58/58 [==============================] - 1s 16ms/step - loss: 0.6611 - accuracy: 0.7666 - val_loss: 0.6619 - val_accuracy: 0.7525\n",
            "Epoch 24/200\n",
            "58/58 [==============================] - 1s 16ms/step - loss: 0.6495 - accuracy: 0.7658 - val_loss: 0.7195 - val_accuracy: 0.7424\n",
            "Epoch 25/200\n",
            "58/58 [==============================] - 1s 18ms/step - loss: 0.6176 - accuracy: 0.7810 - val_loss: 0.6854 - val_accuracy: 0.7322\n",
            "Epoch 26/200\n",
            "58/58 [==============================] - 1s 18ms/step - loss: 0.6348 - accuracy: 0.7715 - val_loss: 0.6815 - val_accuracy: 0.7500\n",
            "Epoch 27/200\n",
            "58/58 [==============================] - 1s 17ms/step - loss: 0.6117 - accuracy: 0.7829 - val_loss: 0.8164 - val_accuracy: 0.7297\n",
            "Epoch 28/200\n",
            "58/58 [==============================] - 1s 14ms/step - loss: 0.6270 - accuracy: 0.7797 - val_loss: 0.7885 - val_accuracy: 0.7411\n",
            "Epoch 29/200\n",
            "58/58 [==============================] - 1s 15ms/step - loss: 0.6180 - accuracy: 0.7737 - val_loss: 0.6526 - val_accuracy: 0.7576\n",
            "Epoch 30/200\n",
            "58/58 [==============================] - 1s 15ms/step - loss: 0.5526 - accuracy: 0.8036 - val_loss: 0.6364 - val_accuracy: 0.7640\n",
            "Epoch 31/200\n",
            "58/58 [==============================] - 1s 14ms/step - loss: 0.5584 - accuracy: 0.8055 - val_loss: 0.6600 - val_accuracy: 0.7703\n",
            "Epoch 32/200\n",
            "58/58 [==============================] - 1s 15ms/step - loss: 0.5666 - accuracy: 0.7946 - val_loss: 0.6003 - val_accuracy: 0.7881\n",
            "Epoch 33/200\n",
            "58/58 [==============================] - 1s 14ms/step - loss: 0.5429 - accuracy: 0.8123 - val_loss: 0.7628 - val_accuracy: 0.7411\n",
            "Epoch 34/200\n",
            "58/58 [==============================] - 1s 14ms/step - loss: 0.5342 - accuracy: 0.8104 - val_loss: 0.6367 - val_accuracy: 0.7817\n",
            "Epoch 35/200\n",
            "58/58 [==============================] - 1s 15ms/step - loss: 0.5361 - accuracy: 0.8074 - val_loss: 0.6094 - val_accuracy: 0.7728\n",
            "Epoch 36/200\n",
            "58/58 [==============================] - 1s 14ms/step - loss: 0.5118 - accuracy: 0.8218 - val_loss: 0.6076 - val_accuracy: 0.7906\n",
            "Epoch 37/200\n",
            "58/58 [==============================] - 1s 15ms/step - loss: 0.4797 - accuracy: 0.8351 - val_loss: 0.5536 - val_accuracy: 0.8046\n",
            "Epoch 38/200\n",
            "58/58 [==============================] - 1s 14ms/step - loss: 0.5050 - accuracy: 0.8240 - val_loss: 0.6521 - val_accuracy: 0.7754\n",
            "Epoch 39/200\n",
            "58/58 [==============================] - 1s 14ms/step - loss: 0.4670 - accuracy: 0.8330 - val_loss: 0.6644 - val_accuracy: 0.7792\n",
            "Epoch 40/200\n",
            "58/58 [==============================] - 1s 17ms/step - loss: 0.4862 - accuracy: 0.8346 - val_loss: 0.6319 - val_accuracy: 0.7868\n",
            "Epoch 41/200\n",
            "58/58 [==============================] - 1s 18ms/step - loss: 0.4489 - accuracy: 0.8422 - val_loss: 0.6320 - val_accuracy: 0.7868\n",
            "Epoch 42/200\n",
            "58/58 [==============================] - 1s 19ms/step - loss: 0.4611 - accuracy: 0.8324 - val_loss: 0.5524 - val_accuracy: 0.7982\n",
            "Epoch 43/200\n",
            "58/58 [==============================] - 1s 18ms/step - loss: 0.4458 - accuracy: 0.8428 - val_loss: 0.6576 - val_accuracy: 0.7779\n",
            "Epoch 44/200\n",
            "58/58 [==============================] - 1s 14ms/step - loss: 0.4279 - accuracy: 0.8509 - val_loss: 0.6715 - val_accuracy: 0.7944\n",
            "Epoch 45/200\n",
            "58/58 [==============================] - 1s 14ms/step - loss: 0.4240 - accuracy: 0.8507 - val_loss: 0.6085 - val_accuracy: 0.7970\n",
            "Epoch 46/200\n",
            "58/58 [==============================] - 1s 14ms/step - loss: 0.4254 - accuracy: 0.8493 - val_loss: 0.6467 - val_accuracy: 0.7855\n",
            "Epoch 47/200\n",
            "58/58 [==============================] - 1s 14ms/step - loss: 0.4173 - accuracy: 0.8577 - val_loss: 0.6081 - val_accuracy: 0.8020\n",
            "Epoch 48/200\n",
            "58/58 [==============================] - 1s 14ms/step - loss: 0.4301 - accuracy: 0.8498 - val_loss: 0.6189 - val_accuracy: 0.7982\n",
            "Epoch 49/200\n",
            "58/58 [==============================] - 1s 15ms/step - loss: 0.4184 - accuracy: 0.8572 - val_loss: 0.6350 - val_accuracy: 0.7893\n",
            "Epoch 50/200\n",
            "58/58 [==============================] - 1s 14ms/step - loss: 0.3860 - accuracy: 0.8686 - val_loss: 0.7752 - val_accuracy: 0.7652\n",
            "Epoch 51/200\n",
            "58/58 [==============================] - 1s 14ms/step - loss: 0.4086 - accuracy: 0.8640 - val_loss: 0.6842 - val_accuracy: 0.7919\n",
            "Epoch 52/200\n",
            "58/58 [==============================] - 1s 15ms/step - loss: 0.4131 - accuracy: 0.8555 - val_loss: 0.5917 - val_accuracy: 0.8020\n",
            "Epoch 53/200\n",
            "58/58 [==============================] - 1s 14ms/step - loss: 0.3611 - accuracy: 0.8749 - val_loss: 0.5995 - val_accuracy: 0.8033\n",
            "Epoch 54/200\n",
            "58/58 [==============================] - 1s 14ms/step - loss: 0.3629 - accuracy: 0.8689 - val_loss: 0.6085 - val_accuracy: 0.7995\n",
            "Epoch 55/200\n",
            "58/58 [==============================] - 1s 14ms/step - loss: 0.3718 - accuracy: 0.8732 - val_loss: 0.5991 - val_accuracy: 0.8135\n",
            "Epoch 56/200\n",
            "58/58 [==============================] - 1s 16ms/step - loss: 0.3594 - accuracy: 0.8749 - val_loss: 0.6362 - val_accuracy: 0.7982\n",
            "Epoch 57/200\n",
            "58/58 [==============================] - 1s 18ms/step - loss: 0.3477 - accuracy: 0.8773 - val_loss: 0.6484 - val_accuracy: 0.8008\n",
            "Epoch 58/200\n",
            "58/58 [==============================] - 1s 18ms/step - loss: 0.3514 - accuracy: 0.8787 - val_loss: 0.7055 - val_accuracy: 0.7868\n",
            "Epoch 59/200\n",
            "58/58 [==============================] - 1s 18ms/step - loss: 0.3130 - accuracy: 0.8915 - val_loss: 0.7180 - val_accuracy: 0.7893\n",
            "Epoch 60/200\n",
            "58/58 [==============================] - 1s 16ms/step - loss: 0.3263 - accuracy: 0.8876 - val_loss: 0.7296 - val_accuracy: 0.7868\n",
            "Epoch 61/200\n",
            "58/58 [==============================] - 1s 14ms/step - loss: 0.3357 - accuracy: 0.8893 - val_loss: 0.7373 - val_accuracy: 0.7931\n",
            "Epoch 62/200\n",
            "58/58 [==============================] - 1s 15ms/step - loss: 0.3543 - accuracy: 0.8808 - val_loss: 0.6041 - val_accuracy: 0.8058\n",
            "Epoch 62: early stopping\n"
          ]
        },
        {
          "output_type": "execute_result",
          "data": {
            "text/plain": [
              "<keras.src.callbacks.History at 0x7d0054985c90>"
            ]
          },
          "metadata": {},
          "execution_count": 85
        }
      ]
    },
    {
      "cell_type": "code",
      "source": [
        "y_pred = model.predict(X_test)\n",
        "# Chuyển dự đoán thành danh sách các lớp\n",
        "y_pred_labels = np.argmax(y_pred, axis=1)\n",
        "\n",
        "# Sau đó, bạn có thể tính classification report bằng scikit-learn\n",
        "from sklearn.metrics import classification_report\n",
        "print(classification_report(y_test, y_pred_labels))"
      ],
      "metadata": {
        "colab": {
          "base_uri": "https://localhost:8080/"
        },
        "outputId": "7c301259-69d3-4c3a-9c59-a09f623d7c5a",
        "id": "babgZzhULCez"
      },
      "execution_count": null,
      "outputs": [
        {
          "output_type": "stream",
          "name": "stdout",
          "text": [
            "25/25 [==============================] - 0s 5ms/step\n",
            "              precision    recall  f1-score   support\n",
            "\n",
            "           0       0.93      0.84      0.88        82\n",
            "           1       0.62      0.84      0.71        49\n",
            "           2       0.84      0.89      0.86       110\n",
            "           3       0.83      0.81      0.82       113\n",
            "           4       0.93      0.84      0.88       126\n",
            "           5       0.82      0.76      0.79       107\n",
            "           6       0.75      0.87      0.80        97\n",
            "           7       0.89      0.82      0.85       104\n",
            "\n",
            "    accuracy                           0.83       788\n",
            "   macro avg       0.83      0.83      0.83       788\n",
            "weighted avg       0.84      0.83      0.83       788\n",
            "\n"
          ]
        }
      ]
    },
    {
      "cell_type": "code",
      "source": [
        "model.save('/content/drive/MyDrive/Study/Năm 3/CS337-Xử lý âm thanh và tiếng nói/model/LSTM_CNN_full.h5')"
      ],
      "metadata": {
        "id": "0B9EoSMr0_KU"
      },
      "execution_count": null,
      "outputs": []
    },
    {
      "cell_type": "markdown",
      "source": [
        "### Dùng mfcc"
      ],
      "metadata": {
        "id": "0iPHeIdVSlqv"
      }
    },
    {
      "cell_type": "code",
      "source": [
        "test_root_data = \"/content/drive/MyDrive/Study/Năm 3/CS337-Xử lý âm thanh và tiếng nói/test_features\""
      ],
      "metadata": {
        "id": "YV0_3bom1uzd"
      },
      "execution_count": null,
      "outputs": []
    },
    {
      "cell_type": "code",
      "source": [
        "features = \"mfcc_features\"\n",
        "# load data\n",
        "feature_path = test_root_data + \"/\" + features + \"/\"\n",
        "X_train = joblib.load(feature_path + 'X_train.joblib')\n",
        "y_train = joblib.load(feature_path + 'y_train.joblib')\n",
        "X_test = joblib.load(feature_path + 'X_test.joblib')\n",
        "y_test = joblib.load(feature_path + 'y_test.joblib')\n",
        "X_dev = joblib.load(feature_path + 'X_dev.joblib')\n",
        "y_dev = joblib.load(feature_path + 'y_dev.joblib')\n",
        "# Chuẩn hóa dữ liệu\n",
        "scaler = StandardScaler()\n",
        "X_train = scaler.fit_transform(X_train)\n",
        "X_test = scaler.transform(X_test)\n",
        "X_dev = scaler.transform(X_dev)\n",
        "X_train.shape\n",
        "# reshape\n",
        "y_train = to_categorical(y_train, num_classes=8)\n",
        "y_dev = to_categorical(y_dev, num_classes=8)"
      ],
      "metadata": {
        "id": "0E_okghLSlq3"
      },
      "execution_count": null,
      "outputs": []
    },
    {
      "cell_type": "markdown",
      "source": [
        "#### LSTM"
      ],
      "metadata": {
        "id": "_4hwQEK_vdyD"
      }
    },
    {
      "cell_type": "code",
      "source": [
        "import tensorflow as tf\n",
        "from tensorflow.keras.models import Sequential\n",
        "from tensorflow.keras.layers import LSTM, Dense, Dropout\n",
        "from tensorflow.keras.optimizers import Adam\n",
        "from tensorflow.keras.callbacks import EarlyStopping, ModelCheckpoint\n",
        "\n",
        "# Thiết lập mô hình\n",
        "model = Sequential()\n",
        "\n",
        "# Thêm lớp LSTM với 100 đơn vị và đầu vào có shape (1440, 193)\n",
        "model.add(LSTM(256, input_shape=(40,1), return_sequences=True))\n",
        "model.add(Dropout(0.2))\n",
        "\n",
        "# Thêm lớp LSTM thứ hai\n",
        "model.add(LSTM(128, return_sequences=True))\n",
        "model.add(Dropout(0.2))\n",
        "\n",
        "model.add(LSTM(64))\n",
        "model.add(Dropout(0.2))\n",
        "\n",
        "# Thêm lớp Dense đầu tiên\n",
        "model.add(Dense(32, activation='relu'))\n",
        "model.add(Dropout(0.2))\n",
        "# Thêm lớp Dense với 8 đầu ra (số lớp bạn muốn phân loại)\n",
        "model.add(Dense(8, activation='softmax'))\n",
        "\n",
        "# Tạo tối ưu hóa với learning rate mới\n",
        "learning_rate = 0.001\n",
        "custom_optimizer = Adam(learning_rate=learning_rate)\n",
        "\n",
        "# Dừng sớm\n",
        "early_stopping_callback = EarlyStopping(monitor='val_loss', patience=10, min_delta=0.005, mode='min', verbose=1)\n",
        "\n",
        "# Callback để lưu mô hình tại điểm kiểm tra tốt nhất\n",
        "model_checkpoint_callback = ModelCheckpoint('best_model.h5', monitor='val_loss', save_best_only=True, mode='min')\n",
        "\n",
        "# Biên dịch mô hình\n",
        "model.compile(loss='categorical_crossentropy', optimizer=custom_optimizer, metrics=['accuracy'])\n",
        "\n",
        "# # Hiển thị tóm tắt của mô hình\n",
        "# model.summary()\n",
        "model.fit(X_train, y_train, epochs=200, batch_size=64, validation_data=(X_dev, y_dev), callbacks=[early_stopping_callback, model_checkpoint_callback])\n"
      ],
      "metadata": {
        "colab": {
          "base_uri": "https://localhost:8080/"
        },
        "id": "LXwDcSG0vgIV",
        "outputId": "6de5f516-c4e7-4ecf-ee99-759dce7621a6"
      },
      "execution_count": null,
      "outputs": [
        {
          "output_type": "stream",
          "name": "stdout",
          "text": [
            "Epoch 1/200\n",
            "58/58 [==============================] - 48s 39ms/step - loss: 1.6990 - accuracy: 0.3678 - val_loss: 1.3003 - val_accuracy: 0.5368\n",
            "Epoch 2/200\n",
            "58/58 [==============================] - 1s 18ms/step - loss: 1.2916 - accuracy: 0.5356 - val_loss: 1.0855 - val_accuracy: 0.5901\n",
            "Epoch 3/200\n",
            "58/58 [==============================] - 1s 16ms/step - loss: 1.1767 - accuracy: 0.5699 - val_loss: 1.0699 - val_accuracy: 0.5825\n",
            "Epoch 4/200\n",
            "58/58 [==============================] - 1s 17ms/step - loss: 1.0977 - accuracy: 0.5968 - val_loss: 0.9694 - val_accuracy: 0.6142\n",
            "Epoch 5/200\n",
            "58/58 [==============================] - 1s 13ms/step - loss: 1.0442 - accuracy: 0.6085 - val_loss: 0.9892 - val_accuracy: 0.6371\n",
            "Epoch 6/200\n",
            "58/58 [==============================] - 1s 12ms/step - loss: 1.0256 - accuracy: 0.6164 - val_loss: 0.9583 - val_accuracy: 0.6193\n",
            "Epoch 7/200\n",
            "58/58 [==============================] - 1s 11ms/step - loss: 0.9852 - accuracy: 0.6322 - val_loss: 0.9675 - val_accuracy: 0.6193\n",
            "Epoch 8/200\n",
            "58/58 [==============================] - 1s 12ms/step - loss: 0.9982 - accuracy: 0.6219 - val_loss: 0.8970 - val_accuracy: 0.6637\n",
            "Epoch 9/200\n",
            "58/58 [==============================] - 1s 11ms/step - loss: 0.9113 - accuracy: 0.6616 - val_loss: 0.9278 - val_accuracy: 0.6548\n",
            "Epoch 10/200\n",
            "58/58 [==============================] - 1s 12ms/step - loss: 0.9110 - accuracy: 0.6621 - val_loss: 0.8881 - val_accuracy: 0.6688\n",
            "Epoch 11/200\n",
            "58/58 [==============================] - 1s 12ms/step - loss: 0.9169 - accuracy: 0.6526 - val_loss: 0.8543 - val_accuracy: 0.6751\n",
            "Epoch 12/200\n",
            "58/58 [==============================] - 1s 11ms/step - loss: 0.8889 - accuracy: 0.6610 - val_loss: 0.8731 - val_accuracy: 0.6599\n",
            "Epoch 13/200\n",
            "58/58 [==============================] - 1s 12ms/step - loss: 0.8612 - accuracy: 0.6736 - val_loss: 0.8145 - val_accuracy: 0.6865\n",
            "Epoch 14/200\n",
            "58/58 [==============================] - 1s 12ms/step - loss: 0.8364 - accuracy: 0.6891 - val_loss: 0.8122 - val_accuracy: 0.6865\n",
            "Epoch 15/200\n",
            "58/58 [==============================] - 1s 11ms/step - loss: 0.8264 - accuracy: 0.6950 - val_loss: 0.8929 - val_accuracy: 0.6612\n",
            "Epoch 16/200\n",
            "58/58 [==============================] - 1s 12ms/step - loss: 0.8007 - accuracy: 0.7013 - val_loss: 0.7868 - val_accuracy: 0.7145\n",
            "Epoch 17/200\n",
            "58/58 [==============================] - 1s 12ms/step - loss: 0.7764 - accuracy: 0.7141 - val_loss: 0.7856 - val_accuracy: 0.7069\n",
            "Epoch 18/200\n",
            "58/58 [==============================] - 1s 12ms/step - loss: 0.7556 - accuracy: 0.7149 - val_loss: 0.7766 - val_accuracy: 0.7145\n",
            "Epoch 19/200\n",
            "58/58 [==============================] - 1s 12ms/step - loss: 0.7489 - accuracy: 0.7198 - val_loss: 0.7320 - val_accuracy: 0.7386\n",
            "Epoch 20/200\n",
            "58/58 [==============================] - 1s 16ms/step - loss: 0.7388 - accuracy: 0.7315 - val_loss: 0.7279 - val_accuracy: 0.7373\n",
            "Epoch 21/200\n",
            "58/58 [==============================] - 1s 17ms/step - loss: 0.7340 - accuracy: 0.7318 - val_loss: 0.7424 - val_accuracy: 0.7335\n",
            "Epoch 22/200\n",
            "58/58 [==============================] - 1s 16ms/step - loss: 0.7084 - accuracy: 0.7252 - val_loss: 0.7444 - val_accuracy: 0.7360\n",
            "Epoch 23/200\n",
            "58/58 [==============================] - 1s 16ms/step - loss: 0.6841 - accuracy: 0.7462 - val_loss: 0.6985 - val_accuracy: 0.7411\n",
            "Epoch 24/200\n",
            "58/58 [==============================] - 1s 15ms/step - loss: 0.6791 - accuracy: 0.7478 - val_loss: 0.6978 - val_accuracy: 0.7360\n",
            "Epoch 25/200\n",
            "58/58 [==============================] - 1s 11ms/step - loss: 0.6622 - accuracy: 0.7519 - val_loss: 0.7253 - val_accuracy: 0.7335\n",
            "Epoch 26/200\n",
            "58/58 [==============================] - 1s 11ms/step - loss: 0.6502 - accuracy: 0.7538 - val_loss: 0.6987 - val_accuracy: 0.7576\n",
            "Epoch 27/200\n",
            "58/58 [==============================] - 1s 12ms/step - loss: 0.6340 - accuracy: 0.7650 - val_loss: 0.6863 - val_accuracy: 0.7487\n",
            "Epoch 28/200\n",
            "58/58 [==============================] - 1s 12ms/step - loss: 0.6122 - accuracy: 0.7720 - val_loss: 0.6541 - val_accuracy: 0.7602\n",
            "Epoch 29/200\n",
            "58/58 [==============================] - 1s 11ms/step - loss: 0.5989 - accuracy: 0.7816 - val_loss: 0.6635 - val_accuracy: 0.7563\n",
            "Epoch 30/200\n",
            "58/58 [==============================] - 1s 11ms/step - loss: 0.5877 - accuracy: 0.7840 - val_loss: 0.7165 - val_accuracy: 0.7576\n",
            "Epoch 31/200\n",
            "58/58 [==============================] - 1s 11ms/step - loss: 0.6071 - accuracy: 0.7737 - val_loss: 0.6896 - val_accuracy: 0.7437\n",
            "Epoch 32/200\n",
            "58/58 [==============================] - 1s 11ms/step - loss: 0.5778 - accuracy: 0.7835 - val_loss: 0.6812 - val_accuracy: 0.7589\n",
            "Epoch 33/200\n",
            "58/58 [==============================] - 1s 13ms/step - loss: 0.5597 - accuracy: 0.7875 - val_loss: 0.6529 - val_accuracy: 0.7602\n",
            "Epoch 34/200\n",
            "58/58 [==============================] - 1s 12ms/step - loss: 0.5275 - accuracy: 0.8079 - val_loss: 0.6369 - val_accuracy: 0.7868\n",
            "Epoch 35/200\n",
            "58/58 [==============================] - 1s 11ms/step - loss: 0.5764 - accuracy: 0.7903 - val_loss: 0.6561 - val_accuracy: 0.7652\n",
            "Epoch 36/200\n",
            "58/58 [==============================] - 1s 12ms/step - loss: 0.5258 - accuracy: 0.8022 - val_loss: 0.6731 - val_accuracy: 0.7665\n",
            "Epoch 37/200\n",
            "58/58 [==============================] - 1s 15ms/step - loss: 0.5145 - accuracy: 0.8066 - val_loss: 0.6526 - val_accuracy: 0.7665\n",
            "Epoch 38/200\n",
            "58/58 [==============================] - 1s 11ms/step - loss: 0.5122 - accuracy: 0.8118 - val_loss: 0.6380 - val_accuracy: 0.7906\n",
            "Epoch 39/200\n",
            "58/58 [==============================] - 1s 15ms/step - loss: 0.5127 - accuracy: 0.8128 - val_loss: 0.6524 - val_accuracy: 0.7868\n",
            "Epoch 40/200\n",
            "58/58 [==============================] - 1s 16ms/step - loss: 0.4681 - accuracy: 0.8281 - val_loss: 0.7138 - val_accuracy: 0.7563\n",
            "Epoch 41/200\n",
            "58/58 [==============================] - 1s 16ms/step - loss: 0.4761 - accuracy: 0.8224 - val_loss: 0.6245 - val_accuracy: 0.7792\n",
            "Epoch 42/200\n",
            "58/58 [==============================] - 1s 15ms/step - loss: 0.4750 - accuracy: 0.8172 - val_loss: 0.6363 - val_accuracy: 0.7741\n",
            "Epoch 43/200\n",
            "58/58 [==============================] - 1s 15ms/step - loss: 0.4399 - accuracy: 0.8395 - val_loss: 0.6486 - val_accuracy: 0.7652\n",
            "Epoch 44/200\n",
            "58/58 [==============================] - 1s 11ms/step - loss: 0.4244 - accuracy: 0.8414 - val_loss: 0.7315 - val_accuracy: 0.7563\n",
            "Epoch 45/200\n",
            "58/58 [==============================] - 1s 11ms/step - loss: 0.4628 - accuracy: 0.8338 - val_loss: 0.7262 - val_accuracy: 0.7525\n",
            "Epoch 46/200\n",
            "58/58 [==============================] - 1s 11ms/step - loss: 0.5073 - accuracy: 0.8118 - val_loss: 0.6905 - val_accuracy: 0.7576\n",
            "Epoch 47/200\n",
            "58/58 [==============================] - 1s 11ms/step - loss: 0.4219 - accuracy: 0.8463 - val_loss: 0.6576 - val_accuracy: 0.7805\n",
            "Epoch 48/200\n",
            "58/58 [==============================] - 1s 11ms/step - loss: 0.3950 - accuracy: 0.8531 - val_loss: 0.6676 - val_accuracy: 0.7678\n",
            "Epoch 49/200\n",
            "58/58 [==============================] - 1s 11ms/step - loss: 0.4197 - accuracy: 0.8498 - val_loss: 0.6694 - val_accuracy: 0.7779\n",
            "Epoch 50/200\n",
            "58/58 [==============================] - 1s 11ms/step - loss: 0.4111 - accuracy: 0.8425 - val_loss: 0.6948 - val_accuracy: 0.7728\n",
            "Epoch 51/200\n",
            "58/58 [==============================] - 1s 12ms/step - loss: 0.3648 - accuracy: 0.8610 - val_loss: 0.6951 - val_accuracy: 0.7703\n",
            "Epoch 51: early stopping\n"
          ]
        },
        {
          "output_type": "execute_result",
          "data": {
            "text/plain": [
              "<keras.src.callbacks.History at 0x7d0046507820>"
            ]
          },
          "metadata": {},
          "execution_count": 52
        }
      ]
    },
    {
      "cell_type": "code",
      "source": [
        "y_pred = model.predict(X_test)\n",
        "# Chuyển dự đoán thành danh sách các lớp\n",
        "y_pred_labels = np.argmax(y_pred, axis=1)\n",
        "\n",
        "# Sau đó, bạn có thể tính classification report bằng scikit-learn\n",
        "from sklearn.metrics import classification_report\n",
        "print(classification_report(y_test, y_pred_labels))"
      ],
      "metadata": {
        "colab": {
          "base_uri": "https://localhost:8080/"
        },
        "id": "VFZKe4mNv6o_",
        "outputId": "1e2f2fde-66a0-4f76-eaf7-b0b8dc0bb1ad"
      },
      "execution_count": null,
      "outputs": [
        {
          "output_type": "stream",
          "name": "stdout",
          "text": [
            "25/25 [==============================] - 1s 4ms/step\n",
            "              precision    recall  f1-score   support\n",
            "\n",
            "           0       0.94      0.89      0.91        82\n",
            "           1       0.71      0.82      0.76        49\n",
            "           2       0.80      0.75      0.77       110\n",
            "           3       0.83      0.79      0.81       113\n",
            "           4       0.85      0.78      0.81       126\n",
            "           5       0.74      0.84      0.79       107\n",
            "           6       0.73      0.86      0.79        97\n",
            "           7       0.91      0.83      0.87       104\n",
            "\n",
            "    accuracy                           0.81       788\n",
            "   macro avg       0.81      0.82      0.81       788\n",
            "weighted avg       0.82      0.81      0.81       788\n",
            "\n"
          ]
        }
      ]
    },
    {
      "cell_type": "code",
      "source": [
        "model.save('/content/drive/MyDrive/Study/Năm 3/CS337-Xử lý âm thanh và tiếng nói/model/LSTM_mfcc.h5')"
      ],
      "metadata": {
        "id": "PNuzpm7Z2pBs"
      },
      "execution_count": null,
      "outputs": []
    },
    {
      "cell_type": "markdown",
      "source": [
        "#### LSTM + CNN"
      ],
      "metadata": {
        "id": "xLvPvnZeSlq5"
      }
    },
    {
      "cell_type": "code",
      "source": [
        "import tensorflow as tf\n",
        "from tensorflow.keras.models import Sequential\n",
        "from tensorflow.keras.layers import LSTM, Dense, Dropout\n",
        "from tensorflow.keras.optimizers import Adam\n",
        "from tensorflow.keras.callbacks import EarlyStopping, ModelCheckpoint\n",
        "from tensorflow.keras.layers import Conv1D, MaxPooling1D, Flatten, LSTM, Dense, BatchNormalization\n",
        "# Xây dựng mô hình CNN\n",
        "model = Sequential()\n",
        "\n",
        "model.add(Conv1D(256, 5, activation='relu', input_shape=(40, 1)))\n",
        "#model.add(BatchNormalization())\n",
        "\n",
        "model.add(Conv1D(128, 5, activation='relu'))\n",
        "model.add(MaxPooling1D(pool_size=8))\n",
        "\n",
        "model.add(BatchNormalization())\n",
        "model.add(Dropout(0.3))\n",
        "\n",
        "# Thêm lớp Bi-LSTM thứ hai với 100 đơn vị\n",
        "# model.add(Bidirectional(LSTM(100, return_sequences=True)))\n",
        "# model.add(Dropout(0.3))\n",
        "\n",
        "# Thêm lớp LSTM cho xử lý thông tin thời gian\n",
        "model.add(LSTM(128, return_sequences=True))\n",
        "model.add(Dropout(0.2))\n",
        "# Thêm lớp LSTM cho xử lý thông tin thời gian\n",
        "model.add(LSTM(64))\n",
        "model.add(Dropout(0.2))\n",
        "\n",
        "# Thêm lớp Dense đầu tiên\n",
        "model.add(Dense(32, activation='relu'))\n",
        "model.add(Dropout(0.3))\n",
        "\n",
        "# Thêm lớp Dense với 8 đầu ra (số lớp bạn muốn phân loại)\n",
        "model.add(Dense(8, activation='softmax'))\n",
        "\n",
        "# Tạo tối ưu hóa với learning rate mới\n",
        "learning_rate = 0.0005\n",
        "custom_optimizer = Adam(learning_rate=learning_rate)\n",
        "\n",
        "# Dừng sớm\n",
        "early_stopping_callback = EarlyStopping(monitor='val_loss', patience=20, min_delta=0.001, mode='min', verbose=1)\n",
        "\n",
        "# Callback để lưu mô hình tại điểm kiểm tra tốt nhất\n",
        "model_checkpoint_callback = ModelCheckpoint('best_model.h5', monitor='val_loss', save_best_only=True, mode='min')\n",
        "\n",
        "# Biên dịch mô hình\n",
        "model.compile(loss='categorical_crossentropy', optimizer=custom_optimizer, metrics=['accuracy'])\n",
        "\n",
        "# # Hiển thị tóm tắt của mô hình\n",
        "# model.summary()\n",
        "model.fit(X_train, y_train, epochs=200, batch_size=64, validation_data=(X_dev, y_dev), callbacks=[early_stopping_callback, model_checkpoint_callback])\n"
      ],
      "metadata": {
        "colab": {
          "base_uri": "https://localhost:8080/"
        },
        "outputId": "249ff5bd-b64d-4390-d045-b829c858ae59",
        "id": "LREBoxXlSlq5"
      },
      "execution_count": null,
      "outputs": [
        {
          "output_type": "stream",
          "name": "stdout",
          "text": [
            "Epoch 1/200\n",
            "58/58 [==============================] - 7s 33ms/step - loss: 1.8839 - accuracy: 0.3308 - val_loss: 1.9601 - val_accuracy: 0.2475\n",
            "Epoch 2/200\n",
            "58/58 [==============================] - 1s 11ms/step - loss: 1.3928 - accuracy: 0.5261 - val_loss: 1.6141 - val_accuracy: 0.4467\n",
            "Epoch 3/200\n",
            "58/58 [==============================] - 1s 10ms/step - loss: 1.1708 - accuracy: 0.5824 - val_loss: 1.3035 - val_accuracy: 0.5254\n",
            "Epoch 4/200\n",
            "58/58 [==============================] - 1s 10ms/step - loss: 1.0364 - accuracy: 0.6246 - val_loss: 1.0978 - val_accuracy: 0.6066\n",
            "Epoch 5/200\n",
            "58/58 [==============================] - 1s 10ms/step - loss: 0.9702 - accuracy: 0.6474 - val_loss: 0.9382 - val_accuracy: 0.6459\n",
            "Epoch 6/200\n",
            "58/58 [==============================] - 1s 10ms/step - loss: 0.9195 - accuracy: 0.6717 - val_loss: 0.8452 - val_accuracy: 0.6612\n",
            "Epoch 7/200\n",
            "58/58 [==============================] - 1s 10ms/step - loss: 0.8561 - accuracy: 0.6891 - val_loss: 0.7819 - val_accuracy: 0.7119\n",
            "Epoch 8/200\n",
            "58/58 [==============================] - 1s 9ms/step - loss: 0.8185 - accuracy: 0.7051 - val_loss: 0.8228 - val_accuracy: 0.7094\n",
            "Epoch 9/200\n",
            "58/58 [==============================] - 1s 10ms/step - loss: 0.7812 - accuracy: 0.7157 - val_loss: 0.7264 - val_accuracy: 0.7360\n",
            "Epoch 10/200\n",
            "58/58 [==============================] - 1s 9ms/step - loss: 0.7529 - accuracy: 0.7315 - val_loss: 0.7214 - val_accuracy: 0.7449\n",
            "Epoch 11/200\n",
            "58/58 [==============================] - 1s 10ms/step - loss: 0.7093 - accuracy: 0.7467 - val_loss: 0.6365 - val_accuracy: 0.7766\n",
            "Epoch 12/200\n",
            "58/58 [==============================] - 1s 10ms/step - loss: 0.6914 - accuracy: 0.7492 - val_loss: 0.6288 - val_accuracy: 0.7754\n",
            "Epoch 13/200\n",
            "58/58 [==============================] - 1s 10ms/step - loss: 0.6744 - accuracy: 0.7598 - val_loss: 0.6209 - val_accuracy: 0.7779\n",
            "Epoch 14/200\n",
            "58/58 [==============================] - 1s 9ms/step - loss: 0.6240 - accuracy: 0.7756 - val_loss: 0.6669 - val_accuracy: 0.7754\n",
            "Epoch 15/200\n",
            "58/58 [==============================] - 1s 10ms/step - loss: 0.6156 - accuracy: 0.7878 - val_loss: 0.6014 - val_accuracy: 0.7995\n",
            "Epoch 16/200\n",
            "58/58 [==============================] - 1s 9ms/step - loss: 0.5788 - accuracy: 0.8011 - val_loss: 0.6039 - val_accuracy: 0.7995\n",
            "Epoch 17/200\n",
            "58/58 [==============================] - 1s 9ms/step - loss: 0.5482 - accuracy: 0.8079 - val_loss: 0.6820 - val_accuracy: 0.7754\n",
            "Epoch 18/200\n",
            "58/58 [==============================] - 1s 10ms/step - loss: 0.5565 - accuracy: 0.8041 - val_loss: 0.5885 - val_accuracy: 0.7931\n",
            "Epoch 19/200\n",
            "58/58 [==============================] - 1s 11ms/step - loss: 0.5252 - accuracy: 0.8145 - val_loss: 0.5675 - val_accuracy: 0.8096\n",
            "Epoch 20/200\n",
            "58/58 [==============================] - 1s 12ms/step - loss: 0.5023 - accuracy: 0.8232 - val_loss: 0.6088 - val_accuracy: 0.7931\n",
            "Epoch 21/200\n",
            "58/58 [==============================] - 1s 13ms/step - loss: 0.4825 - accuracy: 0.8294 - val_loss: 0.5783 - val_accuracy: 0.8122\n",
            "Epoch 22/200\n",
            "58/58 [==============================] - 1s 12ms/step - loss: 0.4581 - accuracy: 0.8343 - val_loss: 0.5977 - val_accuracy: 0.7982\n",
            "Epoch 23/200\n",
            "58/58 [==============================] - 1s 13ms/step - loss: 0.4586 - accuracy: 0.8390 - val_loss: 0.5315 - val_accuracy: 0.8249\n",
            "Epoch 24/200\n",
            "58/58 [==============================] - 1s 12ms/step - loss: 0.4285 - accuracy: 0.8507 - val_loss: 0.6004 - val_accuracy: 0.8071\n",
            "Epoch 25/200\n",
            "58/58 [==============================] - 1s 11ms/step - loss: 0.4315 - accuracy: 0.8504 - val_loss: 0.5386 - val_accuracy: 0.8211\n",
            "Epoch 26/200\n",
            "58/58 [==============================] - 1s 10ms/step - loss: 0.4014 - accuracy: 0.8539 - val_loss: 0.5278 - val_accuracy: 0.8287\n",
            "Epoch 27/200\n",
            "58/58 [==============================] - 1s 10ms/step - loss: 0.3880 - accuracy: 0.8667 - val_loss: 0.5032 - val_accuracy: 0.8236\n",
            "Epoch 28/200\n",
            "58/58 [==============================] - 1s 9ms/step - loss: 0.3928 - accuracy: 0.8662 - val_loss: 0.5393 - val_accuracy: 0.8185\n",
            "Epoch 29/200\n",
            "58/58 [==============================] - 1s 15ms/step - loss: 0.3797 - accuracy: 0.8645 - val_loss: 0.4932 - val_accuracy: 0.8312\n",
            "Epoch 30/200\n",
            "58/58 [==============================] - 1s 12ms/step - loss: 0.3715 - accuracy: 0.8653 - val_loss: 0.4929 - val_accuracy: 0.8350\n",
            "Epoch 31/200\n",
            "58/58 [==============================] - 1s 13ms/step - loss: 0.3372 - accuracy: 0.8896 - val_loss: 0.5172 - val_accuracy: 0.8299\n",
            "Epoch 32/200\n",
            "58/58 [==============================] - 1s 11ms/step - loss: 0.3551 - accuracy: 0.8787 - val_loss: 0.5029 - val_accuracy: 0.8363\n",
            "Epoch 33/200\n",
            "58/58 [==============================] - 1s 9ms/step - loss: 0.3351 - accuracy: 0.8904 - val_loss: 0.5002 - val_accuracy: 0.8376\n",
            "Epoch 34/200\n",
            "58/58 [==============================] - 1s 10ms/step - loss: 0.3318 - accuracy: 0.8920 - val_loss: 0.5012 - val_accuracy: 0.8338\n",
            "Epoch 35/200\n",
            "58/58 [==============================] - 1s 9ms/step - loss: 0.3238 - accuracy: 0.8890 - val_loss: 0.6279 - val_accuracy: 0.8122\n",
            "Epoch 36/200\n",
            "58/58 [==============================] - 1s 10ms/step - loss: 0.3048 - accuracy: 0.8985 - val_loss: 0.4601 - val_accuracy: 0.8439\n",
            "Epoch 37/200\n",
            "58/58 [==============================] - 1s 9ms/step - loss: 0.2836 - accuracy: 0.9023 - val_loss: 0.5723 - val_accuracy: 0.8198\n",
            "Epoch 38/200\n",
            "58/58 [==============================] - 1s 9ms/step - loss: 0.2766 - accuracy: 0.9072 - val_loss: 0.5616 - val_accuracy: 0.8211\n",
            "Epoch 39/200\n",
            "58/58 [==============================] - 1s 9ms/step - loss: 0.2681 - accuracy: 0.9083 - val_loss: 0.5445 - val_accuracy: 0.8388\n",
            "Epoch 40/200\n",
            "58/58 [==============================] - 1s 9ms/step - loss: 0.2580 - accuracy: 0.9124 - val_loss: 0.5388 - val_accuracy: 0.8325\n",
            "Epoch 41/200\n",
            "58/58 [==============================] - 1s 9ms/step - loss: 0.2608 - accuracy: 0.9119 - val_loss: 0.6078 - val_accuracy: 0.8211\n",
            "Epoch 42/200\n",
            "58/58 [==============================] - 1s 11ms/step - loss: 0.2623 - accuracy: 0.9146 - val_loss: 0.5812 - val_accuracy: 0.8287\n",
            "Epoch 43/200\n",
            "58/58 [==============================] - 1s 12ms/step - loss: 0.2423 - accuracy: 0.9241 - val_loss: 0.5701 - val_accuracy: 0.8376\n",
            "Epoch 44/200\n",
            "58/58 [==============================] - 1s 12ms/step - loss: 0.2283 - accuracy: 0.9257 - val_loss: 0.5905 - val_accuracy: 0.8287\n",
            "Epoch 45/200\n",
            "58/58 [==============================] - 1s 12ms/step - loss: 0.2382 - accuracy: 0.9222 - val_loss: 0.5590 - val_accuracy: 0.8439\n",
            "Epoch 46/200\n",
            "58/58 [==============================] - 1s 12ms/step - loss: 0.2177 - accuracy: 0.9312 - val_loss: 0.6435 - val_accuracy: 0.8236\n",
            "Epoch 47/200\n",
            "58/58 [==============================] - 1s 12ms/step - loss: 0.2336 - accuracy: 0.9233 - val_loss: 0.5115 - val_accuracy: 0.8515\n",
            "Epoch 48/200\n",
            "58/58 [==============================] - 1s 12ms/step - loss: 0.2288 - accuracy: 0.9257 - val_loss: 0.5185 - val_accuracy: 0.8426\n",
            "Epoch 49/200\n",
            "58/58 [==============================] - 1s 9ms/step - loss: 0.2199 - accuracy: 0.9328 - val_loss: 0.5091 - val_accuracy: 0.8452\n",
            "Epoch 50/200\n",
            "58/58 [==============================] - 1s 9ms/step - loss: 0.2058 - accuracy: 0.9377 - val_loss: 0.5198 - val_accuracy: 0.8515\n",
            "Epoch 51/200\n",
            "58/58 [==============================] - 1s 9ms/step - loss: 0.1960 - accuracy: 0.9363 - val_loss: 0.5868 - val_accuracy: 0.8579\n",
            "Epoch 52/200\n",
            "58/58 [==============================] - 1s 9ms/step - loss: 0.1758 - accuracy: 0.9410 - val_loss: 0.5117 - val_accuracy: 0.8617\n",
            "Epoch 53/200\n",
            "58/58 [==============================] - 1s 10ms/step - loss: 0.1930 - accuracy: 0.9388 - val_loss: 0.5660 - val_accuracy: 0.8490\n",
            "Epoch 54/200\n",
            "58/58 [==============================] - 1s 9ms/step - loss: 0.1806 - accuracy: 0.9391 - val_loss: 0.6236 - val_accuracy: 0.8299\n",
            "Epoch 55/200\n",
            "58/58 [==============================] - 1s 9ms/step - loss: 0.1693 - accuracy: 0.9450 - val_loss: 0.5053 - val_accuracy: 0.8515\n",
            "Epoch 56/200\n",
            "58/58 [==============================] - 1s 9ms/step - loss: 0.1889 - accuracy: 0.9418 - val_loss: 0.5703 - val_accuracy: 0.8426\n",
            "Epoch 56: early stopping\n"
          ]
        },
        {
          "output_type": "execute_result",
          "data": {
            "text/plain": [
              "<keras.src.callbacks.History at 0x7d0041ce2980>"
            ]
          },
          "metadata": {},
          "execution_count": 91
        }
      ]
    },
    {
      "cell_type": "code",
      "source": [
        "y_pred = model.predict(X_test)\n",
        "# Chuyển dự đoán thành danh sách các lớp\n",
        "y_pred_labels = np.argmax(y_pred, axis=1)\n",
        "\n",
        "# Sau đó, bạn có thể tính classification report bằng scikit-learn\n",
        "from sklearn.metrics import classification_report\n",
        "print(classification_report(y_test, y_pred_labels))"
      ],
      "metadata": {
        "colab": {
          "base_uri": "https://localhost:8080/"
        },
        "outputId": "48ffe4a1-73c6-494c-a352-6e338f48408f",
        "id": "bIUxBd3WSlq6"
      },
      "execution_count": null,
      "outputs": [
        {
          "output_type": "stream",
          "name": "stdout",
          "text": [
            "25/25 [==============================] - 1s 3ms/step\n",
            "              precision    recall  f1-score   support\n",
            "\n",
            "           0       0.91      0.90      0.91        82\n",
            "           1       0.88      0.86      0.87        49\n",
            "           2       0.81      0.87      0.84       110\n",
            "           3       0.93      0.88      0.90       113\n",
            "           4       0.79      0.95      0.86       126\n",
            "           5       0.88      0.86      0.87       107\n",
            "           6       0.95      0.80      0.87        97\n",
            "           7       0.91      0.84      0.87       104\n",
            "\n",
            "    accuracy                           0.87       788\n",
            "   macro avg       0.88      0.87      0.87       788\n",
            "weighted avg       0.88      0.87      0.87       788\n",
            "\n"
          ]
        }
      ]
    },
    {
      "cell_type": "code",
      "source": [
        "model.save('/content/drive/MyDrive/Study/Năm 3/CS337-Xử lý âm thanh và tiếng nói/model/LSTM_CNN_mfcc.h5')"
      ],
      "metadata": {
        "id": "SFj6rmZQ2wwi"
      },
      "execution_count": null,
      "outputs": []
    },
    {
      "cell_type": "markdown",
      "source": [
        "## CNN"
      ],
      "metadata": {
        "id": "ApwSIhXWgR8O"
      }
    },
    {
      "cell_type": "code",
      "source": [
        "import os\n",
        "root_data = \"/content/drive/MyDrive/Study/Năm 3/CS337-Xử lý âm thanh và tiếng nói/RAVDESS_5000/src_data\""
      ],
      "metadata": {
        "id": "oDtkKVWthUMj"
      },
      "execution_count": null,
      "outputs": []
    },
    {
      "cell_type": "code",
      "source": [],
      "metadata": {
        "id": "UN12eIB3ibbE"
      },
      "execution_count": null,
      "outputs": []
    },
    {
      "cell_type": "markdown",
      "source": [
        "### Dùng spectral feature"
      ],
      "metadata": {
        "id": "UGqFvv0EgV8I"
      }
    },
    {
      "cell_type": "code",
      "source": [
        "features = \"spectral_features\"\n",
        "# load data\n",
        "feature_path = root_data + \"/\" + features + \"/\"\n",
        "X_train = joblib.load(feature_path + 'X_train.joblib')\n",
        "y_train = joblib.load(feature_path + 'y_train.joblib')\n",
        "X_test = joblib.load(feature_path + 'X_test.joblib')\n",
        "y_test = joblib.load(feature_path + 'y_test.joblib')\n",
        "X_dev = joblib.load(feature_path + 'X_dev.joblib')\n",
        "y_dev = joblib.load(feature_path + 'y_dev.joblib')\n",
        "# Chuẩn hóa dữ liệu\n",
        "scaler = StandardScaler()\n",
        "X_train = scaler.fit_transform(X_train)\n",
        "X_test = scaler.transform(X_test)\n",
        "X_dev = scaler.transform(X_dev)\n",
        "# reshape\n",
        "X_train = np.expand_dims(X_train, axis=2)\n",
        "X_dev = np.expand_dims(X_dev, axis=2)\n",
        "X_test = np.expand_dims(X_test, axis=2)\n",
        "\n",
        "y_train = to_categorical(y_train, num_classes=8)\n",
        "y_dev = to_categorical(y_dev, num_classes=8)\n",
        "\n",
        "X_train.shape, X_dev.shape, X_test.shape, y_train.shape, y_dev.shape"
      ],
      "metadata": {
        "colab": {
          "base_uri": "https://localhost:8080/"
        },
        "id": "wZWdsaQzgbUt",
        "outputId": "c6c2d072-d6e9-476e-8566-70216ac0f771"
      },
      "execution_count": null,
      "outputs": [
        {
          "output_type": "execute_result",
          "data": {
            "text/plain": [
              "((3676, 193, 1), (788, 193, 1), (788, 193, 1), (3676, 8), (788, 8))"
            ]
          },
          "metadata": {},
          "execution_count": 62
        }
      ]
    },
    {
      "cell_type": "code",
      "source": [
        "from keras.models import Sequential\n",
        "from keras.layers import Conv1D, MaxPooling1D, Dropout, Activation, BatchNormalization, Dense, Flatten\n",
        "from keras.optimizers import RMSprop\n",
        "\n",
        "model = Sequential()\n",
        "model.add(Conv1D(filters=256, kernel_size=5, padding='same', input_shape=(193, 1)))\n",
        "model.add(Activation('relu'))\n",
        "model.add(Dropout(0.1))\n",
        "model.add(MaxPooling1D(pool_size=8))\n",
        "model.add(Conv1D(filters=128, kernel_size=5, padding='same'))\n",
        "model.add(BatchNormalization())\n",
        "model.add(Activation('relu'))\n",
        "model.add(Conv1D(filters=128, kernel_size=5, padding='same'))\n",
        "model.add(Activation('relu'))\n",
        "model.add(Dropout(0.1))\n",
        "model.add(Conv1D(filters=64, kernel_size=5, padding='same'))\n",
        "model.add(Activation('relu'))\n",
        "model.add(Flatten())\n",
        "model.add(Dense(units=8))\n",
        "model.add(BatchNormalization())\n",
        "model.add(Activation('softmax'))\n",
        "\n",
        "opt = RMSprop(learning_rate=0.0001, weight_decay=1e-6)\n",
        "\n",
        "model.compile(optimizer=opt, loss='categorical_crossentropy', metrics=['accuracy'])\n",
        "\n",
        "model.fit(X_train, y_train, batch_size=64, epochs=300, validation_data=(X_dev, y_dev))"
      ],
      "metadata": {
        "colab": {
          "base_uri": "https://localhost:8080/"
        },
        "id": "JHlIQVMyiz-m",
        "outputId": "3fc144a6-ee7c-4243-e051-c51c9a68061b"
      },
      "execution_count": null,
      "outputs": [
        {
          "output_type": "stream",
          "name": "stdout",
          "text": [
            "Epoch 1/300\n",
            "58/58 [==============================] - 3s 18ms/step - loss: 1.4522 - accuracy: 0.5161 - val_loss: 1.9622 - val_accuracy: 0.4873\n",
            "Epoch 2/300\n",
            "58/58 [==============================] - 0s 8ms/step - loss: 1.1634 - accuracy: 0.6567 - val_loss: 1.8815 - val_accuracy: 0.4201\n",
            "Epoch 3/300\n",
            "58/58 [==============================] - 0s 8ms/step - loss: 1.0537 - accuracy: 0.7024 - val_loss: 1.7887 - val_accuracy: 0.4810\n",
            "Epoch 4/300\n",
            "58/58 [==============================] - 1s 9ms/step - loss: 0.9890 - accuracy: 0.7361 - val_loss: 1.6750 - val_accuracy: 0.5736\n",
            "Epoch 5/300\n",
            "58/58 [==============================] - 0s 8ms/step - loss: 0.9341 - accuracy: 0.7620 - val_loss: 1.5395 - val_accuracy: 0.6447\n",
            "Epoch 6/300\n",
            "58/58 [==============================] - 0s 8ms/step - loss: 0.9040 - accuracy: 0.7715 - val_loss: 1.3486 - val_accuracy: 0.7018\n",
            "Epoch 7/300\n",
            "58/58 [==============================] - 0s 8ms/step - loss: 0.8673 - accuracy: 0.7840 - val_loss: 1.2067 - val_accuracy: 0.7551\n",
            "Epoch 8/300\n",
            "58/58 [==============================] - 0s 9ms/step - loss: 0.8433 - accuracy: 0.7973 - val_loss: 1.0660 - val_accuracy: 0.7589\n",
            "Epoch 9/300\n",
            "58/58 [==============================] - 1s 9ms/step - loss: 0.8126 - accuracy: 0.8115 - val_loss: 0.9566 - val_accuracy: 0.7944\n",
            "Epoch 10/300\n",
            "58/58 [==============================] - 0s 8ms/step - loss: 0.7945 - accuracy: 0.8145 - val_loss: 0.9053 - val_accuracy: 0.8033\n",
            "Epoch 11/300\n",
            "58/58 [==============================] - 1s 9ms/step - loss: 0.7736 - accuracy: 0.8264 - val_loss: 0.8567 - val_accuracy: 0.8185\n",
            "Epoch 12/300\n",
            "58/58 [==============================] - 1s 9ms/step - loss: 0.7525 - accuracy: 0.8376 - val_loss: 0.8993 - val_accuracy: 0.7881\n",
            "Epoch 13/300\n",
            "58/58 [==============================] - 1s 11ms/step - loss: 0.7351 - accuracy: 0.8471 - val_loss: 0.8417 - val_accuracy: 0.8109\n",
            "Epoch 14/300\n",
            "58/58 [==============================] - 1s 13ms/step - loss: 0.7215 - accuracy: 0.8466 - val_loss: 0.8307 - val_accuracy: 0.8122\n",
            "Epoch 15/300\n",
            "58/58 [==============================] - 1s 16ms/step - loss: 0.7008 - accuracy: 0.8580 - val_loss: 0.8025 - val_accuracy: 0.8173\n",
            "Epoch 16/300\n",
            "58/58 [==============================] - 1s 16ms/step - loss: 0.6956 - accuracy: 0.8569 - val_loss: 0.7993 - val_accuracy: 0.8287\n",
            "Epoch 17/300\n",
            "58/58 [==============================] - 1s 24ms/step - loss: 0.6779 - accuracy: 0.8621 - val_loss: 0.7743 - val_accuracy: 0.8312\n",
            "Epoch 18/300\n",
            "58/58 [==============================] - 1s 18ms/step - loss: 0.6673 - accuracy: 0.8675 - val_loss: 0.7535 - val_accuracy: 0.8388\n",
            "Epoch 19/300\n",
            "58/58 [==============================] - 1s 19ms/step - loss: 0.6524 - accuracy: 0.8792 - val_loss: 0.7629 - val_accuracy: 0.8477\n",
            "Epoch 20/300\n",
            "58/58 [==============================] - 1s 20ms/step - loss: 0.6363 - accuracy: 0.8789 - val_loss: 0.7778 - val_accuracy: 0.8198\n",
            "Epoch 21/300\n",
            "58/58 [==============================] - 1s 18ms/step - loss: 0.6294 - accuracy: 0.8814 - val_loss: 0.7565 - val_accuracy: 0.8299\n",
            "Epoch 22/300\n",
            "58/58 [==============================] - 1s 19ms/step - loss: 0.6182 - accuracy: 0.8836 - val_loss: 0.7181 - val_accuracy: 0.8249\n",
            "Epoch 23/300\n",
            "58/58 [==============================] - 1s 18ms/step - loss: 0.6006 - accuracy: 0.8964 - val_loss: 0.7497 - val_accuracy: 0.8236\n",
            "Epoch 24/300\n",
            "58/58 [==============================] - 1s 19ms/step - loss: 0.6037 - accuracy: 0.8983 - val_loss: 0.7281 - val_accuracy: 0.8490\n",
            "Epoch 25/300\n",
            "58/58 [==============================] - 1s 17ms/step - loss: 0.5857 - accuracy: 0.8993 - val_loss: 0.7336 - val_accuracy: 0.8198\n",
            "Epoch 26/300\n",
            "58/58 [==============================] - 1s 16ms/step - loss: 0.5693 - accuracy: 0.9089 - val_loss: 0.7145 - val_accuracy: 0.8249\n",
            "Epoch 27/300\n",
            "58/58 [==============================] - 1s 19ms/step - loss: 0.5638 - accuracy: 0.9119 - val_loss: 0.7655 - val_accuracy: 0.8096\n",
            "Epoch 28/300\n",
            "58/58 [==============================] - 1s 21ms/step - loss: 0.5455 - accuracy: 0.9200 - val_loss: 0.6797 - val_accuracy: 0.8414\n",
            "Epoch 29/300\n",
            "58/58 [==============================] - 1s 24ms/step - loss: 0.5419 - accuracy: 0.9181 - val_loss: 0.6945 - val_accuracy: 0.8426\n",
            "Epoch 30/300\n",
            "58/58 [==============================] - 1s 23ms/step - loss: 0.5371 - accuracy: 0.9151 - val_loss: 0.6958 - val_accuracy: 0.8401\n",
            "Epoch 31/300\n",
            "58/58 [==============================] - 1s 25ms/step - loss: 0.5284 - accuracy: 0.9238 - val_loss: 0.6953 - val_accuracy: 0.8350\n",
            "Epoch 32/300\n",
            "58/58 [==============================] - 1s 19ms/step - loss: 0.5196 - accuracy: 0.9214 - val_loss: 0.7223 - val_accuracy: 0.8376\n",
            "Epoch 33/300\n",
            "58/58 [==============================] - 1s 20ms/step - loss: 0.5089 - accuracy: 0.9282 - val_loss: 0.6497 - val_accuracy: 0.8490\n",
            "Epoch 34/300\n",
            "58/58 [==============================] - 1s 14ms/step - loss: 0.5080 - accuracy: 0.9323 - val_loss: 0.7038 - val_accuracy: 0.8401\n",
            "Epoch 35/300\n",
            "58/58 [==============================] - 1s 12ms/step - loss: 0.4887 - accuracy: 0.9350 - val_loss: 0.6606 - val_accuracy: 0.8426\n",
            "Epoch 36/300\n",
            "58/58 [==============================] - 1s 14ms/step - loss: 0.4962 - accuracy: 0.9344 - val_loss: 0.6581 - val_accuracy: 0.8528\n",
            "Epoch 37/300\n",
            "58/58 [==============================] - 1s 12ms/step - loss: 0.4803 - accuracy: 0.9380 - val_loss: 0.6721 - val_accuracy: 0.8579\n",
            "Epoch 38/300\n",
            "58/58 [==============================] - 1s 12ms/step - loss: 0.4691 - accuracy: 0.9440 - val_loss: 0.6570 - val_accuracy: 0.8388\n",
            "Epoch 39/300\n",
            "58/58 [==============================] - 1s 11ms/step - loss: 0.4591 - accuracy: 0.9461 - val_loss: 0.6334 - val_accuracy: 0.8566\n",
            "Epoch 40/300\n",
            "58/58 [==============================] - 1s 11ms/step - loss: 0.4522 - accuracy: 0.9456 - val_loss: 0.6714 - val_accuracy: 0.8464\n",
            "Epoch 41/300\n",
            "58/58 [==============================] - 1s 14ms/step - loss: 0.4481 - accuracy: 0.9510 - val_loss: 0.6364 - val_accuracy: 0.8566\n",
            "Epoch 42/300\n",
            "58/58 [==============================] - 1s 14ms/step - loss: 0.4399 - accuracy: 0.9489 - val_loss: 0.6404 - val_accuracy: 0.8528\n",
            "Epoch 43/300\n",
            "58/58 [==============================] - 1s 12ms/step - loss: 0.4332 - accuracy: 0.9532 - val_loss: 0.6150 - val_accuracy: 0.8439\n",
            "Epoch 44/300\n",
            "58/58 [==============================] - 1s 15ms/step - loss: 0.4338 - accuracy: 0.9489 - val_loss: 0.6216 - val_accuracy: 0.8617\n",
            "Epoch 45/300\n",
            "58/58 [==============================] - 1s 16ms/step - loss: 0.4197 - accuracy: 0.9587 - val_loss: 0.6101 - val_accuracy: 0.8617\n",
            "Epoch 46/300\n",
            "58/58 [==============================] - 1s 15ms/step - loss: 0.4109 - accuracy: 0.9619 - val_loss: 0.6173 - val_accuracy: 0.8553\n",
            "Epoch 47/300\n",
            "58/58 [==============================] - 1s 16ms/step - loss: 0.4025 - accuracy: 0.9616 - val_loss: 0.6210 - val_accuracy: 0.8591\n",
            "Epoch 48/300\n",
            "58/58 [==============================] - 1s 16ms/step - loss: 0.4006 - accuracy: 0.9633 - val_loss: 0.6209 - val_accuracy: 0.8503\n",
            "Epoch 49/300\n",
            "58/58 [==============================] - 1s 15ms/step - loss: 0.3946 - accuracy: 0.9619 - val_loss: 0.6304 - val_accuracy: 0.8553\n",
            "Epoch 50/300\n",
            "58/58 [==============================] - 1s 12ms/step - loss: 0.3802 - accuracy: 0.9682 - val_loss: 0.6029 - val_accuracy: 0.8617\n",
            "Epoch 51/300\n",
            "58/58 [==============================] - 1s 11ms/step - loss: 0.3858 - accuracy: 0.9619 - val_loss: 0.5995 - val_accuracy: 0.8629\n",
            "Epoch 52/300\n",
            "58/58 [==============================] - 1s 11ms/step - loss: 0.3783 - accuracy: 0.9684 - val_loss: 0.5878 - val_accuracy: 0.8769\n",
            "Epoch 53/300\n",
            "58/58 [==============================] - 1s 12ms/step - loss: 0.3756 - accuracy: 0.9679 - val_loss: 0.5637 - val_accuracy: 0.8617\n",
            "Epoch 54/300\n",
            "58/58 [==============================] - 0s 8ms/step - loss: 0.3614 - accuracy: 0.9725 - val_loss: 0.5790 - val_accuracy: 0.8655\n",
            "Epoch 55/300\n",
            "58/58 [==============================] - 1s 9ms/step - loss: 0.3624 - accuracy: 0.9712 - val_loss: 0.5807 - val_accuracy: 0.8617\n",
            "Epoch 56/300\n",
            "58/58 [==============================] - 1s 9ms/step - loss: 0.3519 - accuracy: 0.9723 - val_loss: 0.5623 - val_accuracy: 0.8591\n",
            "Epoch 57/300\n",
            "58/58 [==============================] - 0s 9ms/step - loss: 0.3510 - accuracy: 0.9769 - val_loss: 0.6150 - val_accuracy: 0.8629\n",
            "Epoch 58/300\n",
            "58/58 [==============================] - 0s 8ms/step - loss: 0.3410 - accuracy: 0.9739 - val_loss: 0.5551 - val_accuracy: 0.8706\n",
            "Epoch 59/300\n",
            "58/58 [==============================] - 0s 8ms/step - loss: 0.3467 - accuracy: 0.9725 - val_loss: 0.5880 - val_accuracy: 0.8528\n",
            "Epoch 60/300\n",
            "58/58 [==============================] - 0s 9ms/step - loss: 0.3362 - accuracy: 0.9771 - val_loss: 0.5881 - val_accuracy: 0.8731\n",
            "Epoch 61/300\n",
            "58/58 [==============================] - 0s 8ms/step - loss: 0.3283 - accuracy: 0.9780 - val_loss: 0.5993 - val_accuracy: 0.8642\n",
            "Epoch 62/300\n",
            "58/58 [==============================] - 0s 8ms/step - loss: 0.3301 - accuracy: 0.9766 - val_loss: 0.5809 - val_accuracy: 0.8706\n",
            "Epoch 63/300\n",
            "58/58 [==============================] - 0s 8ms/step - loss: 0.3231 - accuracy: 0.9812 - val_loss: 0.5569 - val_accuracy: 0.8794\n",
            "Epoch 64/300\n",
            "58/58 [==============================] - 0s 8ms/step - loss: 0.3179 - accuracy: 0.9815 - val_loss: 0.5657 - val_accuracy: 0.8604\n",
            "Epoch 65/300\n",
            "58/58 [==============================] - 0s 8ms/step - loss: 0.3038 - accuracy: 0.9834 - val_loss: 0.5721 - val_accuracy: 0.8655\n",
            "Epoch 66/300\n",
            "58/58 [==============================] - 0s 8ms/step - loss: 0.3016 - accuracy: 0.9842 - val_loss: 0.5367 - val_accuracy: 0.8769\n",
            "Epoch 67/300\n",
            "58/58 [==============================] - 0s 8ms/step - loss: 0.2959 - accuracy: 0.9872 - val_loss: 0.5949 - val_accuracy: 0.8668\n",
            "Epoch 68/300\n",
            "58/58 [==============================] - 1s 10ms/step - loss: 0.3004 - accuracy: 0.9791 - val_loss: 0.5483 - val_accuracy: 0.8642\n",
            "Epoch 69/300\n",
            "58/58 [==============================] - 1s 11ms/step - loss: 0.2942 - accuracy: 0.9839 - val_loss: 0.5480 - val_accuracy: 0.8718\n",
            "Epoch 70/300\n",
            "58/58 [==============================] - 1s 11ms/step - loss: 0.2963 - accuracy: 0.9812 - val_loss: 0.5253 - val_accuracy: 0.8744\n",
            "Epoch 71/300\n",
            "58/58 [==============================] - 1s 10ms/step - loss: 0.2827 - accuracy: 0.9839 - val_loss: 0.5479 - val_accuracy: 0.8718\n",
            "Epoch 72/300\n",
            "58/58 [==============================] - 1s 11ms/step - loss: 0.2758 - accuracy: 0.9869 - val_loss: 0.5423 - val_accuracy: 0.8731\n",
            "Epoch 73/300\n",
            "58/58 [==============================] - 1s 11ms/step - loss: 0.2653 - accuracy: 0.9910 - val_loss: 0.5273 - val_accuracy: 0.8794\n",
            "Epoch 74/300\n",
            "58/58 [==============================] - 1s 10ms/step - loss: 0.2742 - accuracy: 0.9864 - val_loss: 0.5469 - val_accuracy: 0.8617\n",
            "Epoch 75/300\n",
            "58/58 [==============================] - 1s 10ms/step - loss: 0.2688 - accuracy: 0.9902 - val_loss: 0.5491 - val_accuracy: 0.8680\n",
            "Epoch 76/300\n",
            "58/58 [==============================] - 0s 9ms/step - loss: 0.2624 - accuracy: 0.9905 - val_loss: 0.5274 - val_accuracy: 0.8756\n",
            "Epoch 77/300\n",
            "58/58 [==============================] - 0s 8ms/step - loss: 0.2597 - accuracy: 0.9869 - val_loss: 0.5292 - val_accuracy: 0.8693\n",
            "Epoch 78/300\n",
            "58/58 [==============================] - 0s 8ms/step - loss: 0.2503 - accuracy: 0.9916 - val_loss: 0.5014 - val_accuracy: 0.8807\n",
            "Epoch 79/300\n",
            "58/58 [==============================] - 1s 9ms/step - loss: 0.2497 - accuracy: 0.9908 - val_loss: 0.5383 - val_accuracy: 0.8541\n",
            "Epoch 80/300\n",
            "58/58 [==============================] - 0s 8ms/step - loss: 0.2474 - accuracy: 0.9910 - val_loss: 0.5126 - val_accuracy: 0.8706\n",
            "Epoch 81/300\n",
            "58/58 [==============================] - 0s 8ms/step - loss: 0.2487 - accuracy: 0.9872 - val_loss: 0.5591 - val_accuracy: 0.8490\n",
            "Epoch 82/300\n",
            "58/58 [==============================] - 0s 8ms/step - loss: 0.2409 - accuracy: 0.9916 - val_loss: 0.5008 - val_accuracy: 0.8756\n",
            "Epoch 83/300\n",
            "58/58 [==============================] - 0s 8ms/step - loss: 0.2333 - accuracy: 0.9924 - val_loss: 0.5258 - val_accuracy: 0.8756\n",
            "Epoch 84/300\n",
            "58/58 [==============================] - 0s 8ms/step - loss: 0.2323 - accuracy: 0.9927 - val_loss: 0.5376 - val_accuracy: 0.8617\n",
            "Epoch 85/300\n",
            "58/58 [==============================] - 0s 8ms/step - loss: 0.2366 - accuracy: 0.9883 - val_loss: 0.5512 - val_accuracy: 0.8782\n",
            "Epoch 86/300\n",
            "58/58 [==============================] - 0s 9ms/step - loss: 0.2271 - accuracy: 0.9908 - val_loss: 0.5013 - val_accuracy: 0.8782\n",
            "Epoch 87/300\n",
            "58/58 [==============================] - 0s 8ms/step - loss: 0.2205 - accuracy: 0.9935 - val_loss: 0.4870 - val_accuracy: 0.8769\n",
            "Epoch 88/300\n",
            "58/58 [==============================] - 0s 8ms/step - loss: 0.2235 - accuracy: 0.9927 - val_loss: 0.4930 - val_accuracy: 0.8883\n",
            "Epoch 89/300\n",
            "58/58 [==============================] - 1s 9ms/step - loss: 0.2170 - accuracy: 0.9940 - val_loss: 0.4912 - val_accuracy: 0.8896\n",
            "Epoch 90/300\n",
            "58/58 [==============================] - 0s 8ms/step - loss: 0.2137 - accuracy: 0.9948 - val_loss: 0.4911 - val_accuracy: 0.8769\n",
            "Epoch 91/300\n",
            "58/58 [==============================] - 0s 8ms/step - loss: 0.2109 - accuracy: 0.9927 - val_loss: 0.5078 - val_accuracy: 0.8553\n",
            "Epoch 92/300\n",
            "58/58 [==============================] - 0s 8ms/step - loss: 0.2044 - accuracy: 0.9948 - val_loss: 0.4858 - val_accuracy: 0.8756\n",
            "Epoch 93/300\n",
            "58/58 [==============================] - 0s 9ms/step - loss: 0.2060 - accuracy: 0.9956 - val_loss: 0.4934 - val_accuracy: 0.8769\n",
            "Epoch 94/300\n",
            "58/58 [==============================] - 1s 9ms/step - loss: 0.1995 - accuracy: 0.9943 - val_loss: 0.5407 - val_accuracy: 0.8553\n",
            "Epoch 95/300\n",
            "58/58 [==============================] - 0s 8ms/step - loss: 0.2022 - accuracy: 0.9946 - val_loss: 0.5271 - val_accuracy: 0.8718\n",
            "Epoch 96/300\n",
            "58/58 [==============================] - 1s 11ms/step - loss: 0.1908 - accuracy: 0.9970 - val_loss: 0.5129 - val_accuracy: 0.8744\n",
            "Epoch 97/300\n",
            "58/58 [==============================] - 1s 11ms/step - loss: 0.1965 - accuracy: 0.9959 - val_loss: 0.4704 - val_accuracy: 0.8909\n",
            "Epoch 98/300\n",
            "58/58 [==============================] - 1s 11ms/step - loss: 0.1943 - accuracy: 0.9946 - val_loss: 0.4755 - val_accuracy: 0.8909\n",
            "Epoch 99/300\n",
            "58/58 [==============================] - 1s 11ms/step - loss: 0.1903 - accuracy: 0.9951 - val_loss: 0.4731 - val_accuracy: 0.8845\n",
            "Epoch 100/300\n",
            "58/58 [==============================] - 1s 11ms/step - loss: 0.1891 - accuracy: 0.9946 - val_loss: 0.4858 - val_accuracy: 0.8693\n",
            "Epoch 101/300\n",
            "58/58 [==============================] - 1s 11ms/step - loss: 0.1824 - accuracy: 0.9948 - val_loss: 0.4736 - val_accuracy: 0.8794\n",
            "Epoch 102/300\n",
            "58/58 [==============================] - 1s 11ms/step - loss: 0.1887 - accuracy: 0.9946 - val_loss: 0.4806 - val_accuracy: 0.8680\n",
            "Epoch 103/300\n",
            "58/58 [==============================] - 1s 9ms/step - loss: 0.1814 - accuracy: 0.9948 - val_loss: 0.5069 - val_accuracy: 0.8566\n",
            "Epoch 104/300\n",
            "58/58 [==============================] - 0s 8ms/step - loss: 0.1798 - accuracy: 0.9965 - val_loss: 0.4847 - val_accuracy: 0.8642\n",
            "Epoch 105/300\n",
            "58/58 [==============================] - 0s 8ms/step - loss: 0.1790 - accuracy: 0.9954 - val_loss: 0.4754 - val_accuracy: 0.8832\n",
            "Epoch 106/300\n",
            "58/58 [==============================] - 0s 8ms/step - loss: 0.1717 - accuracy: 0.9951 - val_loss: 0.4795 - val_accuracy: 0.8883\n",
            "Epoch 107/300\n",
            "58/58 [==============================] - 0s 8ms/step - loss: 0.1637 - accuracy: 0.9970 - val_loss: 0.4711 - val_accuracy: 0.8883\n",
            "Epoch 108/300\n",
            "58/58 [==============================] - 1s 9ms/step - loss: 0.1658 - accuracy: 0.9967 - val_loss: 0.4626 - val_accuracy: 0.8909\n",
            "Epoch 109/300\n",
            "58/58 [==============================] - 1s 9ms/step - loss: 0.1735 - accuracy: 0.9956 - val_loss: 0.5100 - val_accuracy: 0.8655\n",
            "Epoch 110/300\n",
            "58/58 [==============================] - 1s 9ms/step - loss: 0.1624 - accuracy: 0.9986 - val_loss: 0.5209 - val_accuracy: 0.8718\n",
            "Epoch 111/300\n",
            "58/58 [==============================] - 0s 9ms/step - loss: 0.1583 - accuracy: 0.9970 - val_loss: 0.4403 - val_accuracy: 0.8871\n",
            "Epoch 112/300\n",
            "58/58 [==============================] - 0s 8ms/step - loss: 0.1549 - accuracy: 0.9976 - val_loss: 0.4672 - val_accuracy: 0.8718\n",
            "Epoch 113/300\n",
            "58/58 [==============================] - 0s 8ms/step - loss: 0.1657 - accuracy: 0.9965 - val_loss: 0.4974 - val_accuracy: 0.8858\n",
            "Epoch 114/300\n",
            "58/58 [==============================] - 1s 9ms/step - loss: 0.1567 - accuracy: 0.9962 - val_loss: 0.4707 - val_accuracy: 0.8794\n",
            "Epoch 115/300\n",
            "58/58 [==============================] - 0s 9ms/step - loss: 0.1542 - accuracy: 0.9959 - val_loss: 0.4999 - val_accuracy: 0.8706\n",
            "Epoch 116/300\n",
            "58/58 [==============================] - 0s 9ms/step - loss: 0.1543 - accuracy: 0.9978 - val_loss: 0.4548 - val_accuracy: 0.8744\n",
            "Epoch 117/300\n",
            "58/58 [==============================] - 0s 9ms/step - loss: 0.1522 - accuracy: 0.9984 - val_loss: 0.4592 - val_accuracy: 0.8794\n",
            "Epoch 118/300\n",
            "58/58 [==============================] - 0s 8ms/step - loss: 0.1494 - accuracy: 0.9973 - val_loss: 0.4681 - val_accuracy: 0.8693\n",
            "Epoch 119/300\n",
            "58/58 [==============================] - 0s 8ms/step - loss: 0.1445 - accuracy: 0.9976 - val_loss: 0.4429 - val_accuracy: 0.8896\n",
            "Epoch 120/300\n",
            "58/58 [==============================] - 0s 8ms/step - loss: 0.1448 - accuracy: 0.9970 - val_loss: 0.4804 - val_accuracy: 0.8731\n",
            "Epoch 121/300\n",
            "58/58 [==============================] - 1s 9ms/step - loss: 0.1421 - accuracy: 0.9965 - val_loss: 0.4698 - val_accuracy: 0.8655\n",
            "Epoch 122/300\n",
            "58/58 [==============================] - 0s 8ms/step - loss: 0.1405 - accuracy: 0.9984 - val_loss: 0.4692 - val_accuracy: 0.8731\n",
            "Epoch 123/300\n",
            "58/58 [==============================] - 1s 10ms/step - loss: 0.1435 - accuracy: 0.9965 - val_loss: 0.4426 - val_accuracy: 0.8921\n",
            "Epoch 124/300\n",
            "58/58 [==============================] - 1s 11ms/step - loss: 0.1325 - accuracy: 0.9986 - val_loss: 0.4223 - val_accuracy: 0.8832\n",
            "Epoch 125/300\n",
            "58/58 [==============================] - 1s 11ms/step - loss: 0.1311 - accuracy: 0.9986 - val_loss: 0.4698 - val_accuracy: 0.8820\n",
            "Epoch 126/300\n",
            "58/58 [==============================] - 1s 11ms/step - loss: 0.1336 - accuracy: 0.9981 - val_loss: 0.4598 - val_accuracy: 0.8921\n",
            "Epoch 127/300\n",
            "58/58 [==============================] - 1s 11ms/step - loss: 0.1365 - accuracy: 0.9981 - val_loss: 0.4446 - val_accuracy: 0.8744\n",
            "Epoch 128/300\n",
            "58/58 [==============================] - 1s 11ms/step - loss: 0.1337 - accuracy: 0.9978 - val_loss: 0.4510 - val_accuracy: 0.8959\n",
            "Epoch 129/300\n",
            "58/58 [==============================] - 1s 11ms/step - loss: 0.1317 - accuracy: 0.9976 - val_loss: 0.4439 - val_accuracy: 0.8706\n",
            "Epoch 130/300\n",
            "58/58 [==============================] - 1s 10ms/step - loss: 0.1274 - accuracy: 0.9986 - val_loss: 0.4439 - val_accuracy: 0.8832\n",
            "Epoch 131/300\n",
            "58/58 [==============================] - 1s 9ms/step - loss: 0.1244 - accuracy: 0.9978 - val_loss: 0.4728 - val_accuracy: 0.8693\n",
            "Epoch 132/300\n",
            "58/58 [==============================] - 0s 8ms/step - loss: 0.1263 - accuracy: 0.9986 - val_loss: 0.4185 - val_accuracy: 0.8858\n",
            "Epoch 133/300\n",
            "58/58 [==============================] - 0s 8ms/step - loss: 0.1247 - accuracy: 0.9992 - val_loss: 0.4598 - val_accuracy: 0.8731\n",
            "Epoch 134/300\n",
            "58/58 [==============================] - 0s 8ms/step - loss: 0.1198 - accuracy: 0.9986 - val_loss: 0.4642 - val_accuracy: 0.8655\n",
            "Epoch 135/300\n",
            "58/58 [==============================] - 0s 8ms/step - loss: 0.1201 - accuracy: 0.9978 - val_loss: 0.4748 - val_accuracy: 0.8845\n",
            "Epoch 136/300\n",
            "58/58 [==============================] - 0s 8ms/step - loss: 0.1182 - accuracy: 0.9981 - val_loss: 0.4405 - val_accuracy: 0.8706\n",
            "Epoch 137/300\n",
            "58/58 [==============================] - 0s 8ms/step - loss: 0.1164 - accuracy: 0.9986 - val_loss: 0.4183 - val_accuracy: 0.8909\n",
            "Epoch 138/300\n",
            "58/58 [==============================] - 1s 9ms/step - loss: 0.1166 - accuracy: 0.9986 - val_loss: 0.4217 - val_accuracy: 0.8959\n",
            "Epoch 139/300\n",
            "58/58 [==============================] - 1s 9ms/step - loss: 0.1107 - accuracy: 0.9989 - val_loss: 0.4439 - val_accuracy: 0.8769\n",
            "Epoch 140/300\n",
            "58/58 [==============================] - 0s 8ms/step - loss: 0.1190 - accuracy: 0.9978 - val_loss: 0.4338 - val_accuracy: 0.8756\n",
            "Epoch 141/300\n",
            "58/58 [==============================] - 0s 8ms/step - loss: 0.1106 - accuracy: 0.9981 - val_loss: 0.4059 - val_accuracy: 0.8909\n",
            "Epoch 142/300\n",
            "58/58 [==============================] - 0s 8ms/step - loss: 0.1103 - accuracy: 0.9995 - val_loss: 0.4486 - val_accuracy: 0.8668\n",
            "Epoch 143/300\n",
            "58/58 [==============================] - 0s 8ms/step - loss: 0.1090 - accuracy: 0.9986 - val_loss: 0.4343 - val_accuracy: 0.8794\n",
            "Epoch 144/300\n",
            "58/58 [==============================] - 1s 9ms/step - loss: 0.1047 - accuracy: 0.9989 - val_loss: 0.4381 - val_accuracy: 0.8845\n",
            "Epoch 145/300\n",
            "58/58 [==============================] - 0s 8ms/step - loss: 0.1074 - accuracy: 0.9976 - val_loss: 0.4440 - val_accuracy: 0.8642\n",
            "Epoch 146/300\n",
            "58/58 [==============================] - 0s 8ms/step - loss: 0.1022 - accuracy: 0.9981 - val_loss: 0.4344 - val_accuracy: 0.8909\n",
            "Epoch 147/300\n",
            "58/58 [==============================] - 0s 8ms/step - loss: 0.1048 - accuracy: 0.9995 - val_loss: 0.4319 - val_accuracy: 0.8858\n",
            "Epoch 148/300\n",
            "58/58 [==============================] - 1s 9ms/step - loss: 0.1018 - accuracy: 0.9989 - val_loss: 0.4322 - val_accuracy: 0.8858\n",
            "Epoch 149/300\n",
            "58/58 [==============================] - 0s 8ms/step - loss: 0.1045 - accuracy: 0.9976 - val_loss: 0.4182 - val_accuracy: 0.8947\n",
            "Epoch 150/300\n",
            "58/58 [==============================] - 1s 9ms/step - loss: 0.1016 - accuracy: 0.9986 - val_loss: 0.4489 - val_accuracy: 0.8782\n",
            "Epoch 151/300\n",
            "58/58 [==============================] - 1s 11ms/step - loss: 0.0993 - accuracy: 0.9984 - val_loss: 0.4239 - val_accuracy: 0.8997\n",
            "Epoch 152/300\n",
            "58/58 [==============================] - 1s 11ms/step - loss: 0.0971 - accuracy: 0.9992 - val_loss: 0.4078 - val_accuracy: 0.8947\n",
            "Epoch 153/300\n",
            "58/58 [==============================] - 1s 10ms/step - loss: 0.1019 - accuracy: 0.9976 - val_loss: 0.4753 - val_accuracy: 0.8668\n",
            "Epoch 154/300\n",
            "58/58 [==============================] - 1s 11ms/step - loss: 0.0996 - accuracy: 0.9992 - val_loss: 0.4399 - val_accuracy: 0.8744\n",
            "Epoch 155/300\n",
            "58/58 [==============================] - 1s 11ms/step - loss: 0.0979 - accuracy: 0.9978 - val_loss: 0.4138 - val_accuracy: 0.8883\n",
            "Epoch 156/300\n",
            "58/58 [==============================] - 1s 11ms/step - loss: 0.0969 - accuracy: 0.9989 - val_loss: 0.4277 - val_accuracy: 0.8756\n",
            "Epoch 157/300\n",
            "58/58 [==============================] - 1s 11ms/step - loss: 0.0936 - accuracy: 0.9992 - val_loss: 0.4225 - val_accuracy: 0.8896\n",
            "Epoch 158/300\n",
            "58/58 [==============================] - 1s 9ms/step - loss: 0.0908 - accuracy: 0.9992 - val_loss: 0.4054 - val_accuracy: 0.8896\n",
            "Epoch 159/300\n",
            "58/58 [==============================] - 0s 8ms/step - loss: 0.0907 - accuracy: 0.9997 - val_loss: 0.4079 - val_accuracy: 0.8845\n",
            "Epoch 160/300\n",
            "58/58 [==============================] - 1s 9ms/step - loss: 0.0877 - accuracy: 0.9989 - val_loss: 0.4900 - val_accuracy: 0.8591\n",
            "Epoch 161/300\n",
            "58/58 [==============================] - 0s 8ms/step - loss: 0.0895 - accuracy: 0.9995 - val_loss: 0.4321 - val_accuracy: 0.8871\n",
            "Epoch 162/300\n",
            "58/58 [==============================] - 0s 8ms/step - loss: 0.0855 - accuracy: 0.9995 - val_loss: 0.4012 - val_accuracy: 0.8934\n",
            "Epoch 163/300\n",
            "58/58 [==============================] - 1s 9ms/step - loss: 0.0876 - accuracy: 0.9989 - val_loss: 0.4386 - val_accuracy: 0.8807\n",
            "Epoch 164/300\n",
            "58/58 [==============================] - 1s 9ms/step - loss: 0.0835 - accuracy: 0.9989 - val_loss: 0.4081 - val_accuracy: 0.8820\n",
            "Epoch 165/300\n",
            "58/58 [==============================] - 0s 8ms/step - loss: 0.0887 - accuracy: 0.9981 - val_loss: 0.4253 - val_accuracy: 0.8871\n",
            "Epoch 166/300\n",
            "58/58 [==============================] - 0s 9ms/step - loss: 0.0799 - accuracy: 0.9995 - val_loss: 0.4053 - val_accuracy: 0.8883\n",
            "Epoch 167/300\n",
            "58/58 [==============================] - 0s 9ms/step - loss: 0.0864 - accuracy: 0.9981 - val_loss: 0.4370 - val_accuracy: 0.8794\n",
            "Epoch 168/300\n",
            "58/58 [==============================] - 0s 9ms/step - loss: 0.0808 - accuracy: 0.9989 - val_loss: 0.4192 - val_accuracy: 0.8845\n",
            "Epoch 169/300\n",
            "58/58 [==============================] - 1s 9ms/step - loss: 0.0798 - accuracy: 0.9992 - val_loss: 0.4310 - val_accuracy: 0.8845\n",
            "Epoch 170/300\n",
            "58/58 [==============================] - 0s 9ms/step - loss: 0.0826 - accuracy: 0.9992 - val_loss: 0.4271 - val_accuracy: 0.8858\n",
            "Epoch 171/300\n",
            "58/58 [==============================] - 1s 9ms/step - loss: 0.0765 - accuracy: 0.9997 - val_loss: 0.4312 - val_accuracy: 0.8794\n",
            "Epoch 172/300\n",
            "58/58 [==============================] - 0s 9ms/step - loss: 0.0764 - accuracy: 0.9997 - val_loss: 0.4269 - val_accuracy: 0.8668\n",
            "Epoch 173/300\n",
            "58/58 [==============================] - 1s 9ms/step - loss: 0.0808 - accuracy: 0.9989 - val_loss: 0.4183 - val_accuracy: 0.8871\n",
            "Epoch 174/300\n",
            "58/58 [==============================] - 1s 9ms/step - loss: 0.0768 - accuracy: 0.9995 - val_loss: 0.4082 - val_accuracy: 0.8858\n",
            "Epoch 175/300\n",
            "58/58 [==============================] - 0s 8ms/step - loss: 0.0724 - accuracy: 0.9995 - val_loss: 0.4353 - val_accuracy: 0.8744\n",
            "Epoch 176/300\n",
            "58/58 [==============================] - 0s 8ms/step - loss: 0.0744 - accuracy: 0.9992 - val_loss: 0.4157 - val_accuracy: 0.8756\n",
            "Epoch 177/300\n",
            "58/58 [==============================] - 0s 8ms/step - loss: 0.0739 - accuracy: 0.9995 - val_loss: 0.4233 - val_accuracy: 0.8871\n",
            "Epoch 178/300\n",
            "58/58 [==============================] - 1s 11ms/step - loss: 0.0787 - accuracy: 0.9986 - val_loss: 0.4212 - val_accuracy: 0.8782\n",
            "Epoch 179/300\n",
            "58/58 [==============================] - 1s 11ms/step - loss: 0.0769 - accuracy: 0.9981 - val_loss: 0.4317 - val_accuracy: 0.8744\n",
            "Epoch 180/300\n",
            "58/58 [==============================] - 1s 11ms/step - loss: 0.0748 - accuracy: 0.9981 - val_loss: 0.4189 - val_accuracy: 0.8871\n",
            "Epoch 181/300\n",
            "58/58 [==============================] - 1s 11ms/step - loss: 0.0713 - accuracy: 0.9995 - val_loss: 0.4287 - val_accuracy: 0.8693\n",
            "Epoch 182/300\n",
            "58/58 [==============================] - 1s 11ms/step - loss: 0.0755 - accuracy: 0.9992 - val_loss: 0.4109 - val_accuracy: 0.8959\n",
            "Epoch 183/300\n",
            "58/58 [==============================] - 1s 11ms/step - loss: 0.0712 - accuracy: 0.9997 - val_loss: 0.3829 - val_accuracy: 0.8934\n",
            "Epoch 184/300\n",
            "58/58 [==============================] - 1s 13ms/step - loss: 0.0670 - accuracy: 0.9992 - val_loss: 0.4149 - val_accuracy: 0.8845\n",
            "Epoch 185/300\n",
            "58/58 [==============================] - 1s 9ms/step - loss: 0.0663 - accuracy: 0.9995 - val_loss: 0.4156 - val_accuracy: 0.8807\n",
            "Epoch 186/300\n",
            "58/58 [==============================] - 1s 9ms/step - loss: 0.0661 - accuracy: 0.9992 - val_loss: 0.4274 - val_accuracy: 0.8744\n",
            "Epoch 187/300\n",
            "58/58 [==============================] - 1s 9ms/step - loss: 0.0676 - accuracy: 0.9992 - val_loss: 0.4042 - val_accuracy: 0.8909\n",
            "Epoch 188/300\n",
            "58/58 [==============================] - 1s 9ms/step - loss: 0.0680 - accuracy: 0.9992 - val_loss: 0.3952 - val_accuracy: 0.8845\n",
            "Epoch 189/300\n",
            "58/58 [==============================] - 0s 8ms/step - loss: 0.0652 - accuracy: 0.9992 - val_loss: 0.3945 - val_accuracy: 0.8909\n",
            "Epoch 190/300\n",
            "58/58 [==============================] - 0s 8ms/step - loss: 0.0657 - accuracy: 0.9995 - val_loss: 0.4106 - val_accuracy: 0.8858\n",
            "Epoch 191/300\n",
            "58/58 [==============================] - 0s 8ms/step - loss: 0.0651 - accuracy: 0.9986 - val_loss: 0.4414 - val_accuracy: 0.8642\n",
            "Epoch 192/300\n",
            "58/58 [==============================] - 0s 8ms/step - loss: 0.0619 - accuracy: 0.9992 - val_loss: 0.4138 - val_accuracy: 0.8769\n",
            "Epoch 193/300\n",
            "58/58 [==============================] - 1s 9ms/step - loss: 0.0619 - accuracy: 0.9995 - val_loss: 0.4154 - val_accuracy: 0.8832\n",
            "Epoch 194/300\n",
            "58/58 [==============================] - 0s 9ms/step - loss: 0.0608 - accuracy: 0.9997 - val_loss: 0.3936 - val_accuracy: 0.8921\n",
            "Epoch 195/300\n",
            "58/58 [==============================] - 1s 9ms/step - loss: 0.0603 - accuracy: 0.9995 - val_loss: 0.3854 - val_accuracy: 0.8985\n",
            "Epoch 196/300\n",
            "58/58 [==============================] - 1s 9ms/step - loss: 0.0594 - accuracy: 0.9995 - val_loss: 0.3886 - val_accuracy: 0.8934\n",
            "Epoch 197/300\n",
            "58/58 [==============================] - 1s 9ms/step - loss: 0.0579 - accuracy: 0.9992 - val_loss: 0.4043 - val_accuracy: 0.8845\n",
            "Epoch 198/300\n",
            "58/58 [==============================] - 1s 9ms/step - loss: 0.0624 - accuracy: 0.9986 - val_loss: 0.3829 - val_accuracy: 0.8934\n",
            "Epoch 199/300\n",
            "58/58 [==============================] - 1s 9ms/step - loss: 0.0579 - accuracy: 1.0000 - val_loss: 0.3885 - val_accuracy: 0.8934\n",
            "Epoch 200/300\n",
            "58/58 [==============================] - 0s 9ms/step - loss: 0.0564 - accuracy: 0.9992 - val_loss: 0.3952 - val_accuracy: 0.8997\n",
            "Epoch 201/300\n",
            "58/58 [==============================] - 0s 8ms/step - loss: 0.0575 - accuracy: 0.9997 - val_loss: 0.3971 - val_accuracy: 0.8871\n",
            "Epoch 202/300\n",
            "58/58 [==============================] - 0s 8ms/step - loss: 0.0556 - accuracy: 1.0000 - val_loss: 0.4438 - val_accuracy: 0.8731\n",
            "Epoch 203/300\n",
            "58/58 [==============================] - 0s 8ms/step - loss: 0.0588 - accuracy: 0.9995 - val_loss: 0.3885 - val_accuracy: 0.8947\n",
            "Epoch 204/300\n",
            "58/58 [==============================] - 1s 9ms/step - loss: 0.0542 - accuracy: 0.9997 - val_loss: 0.3772 - val_accuracy: 0.8871\n",
            "Epoch 205/300\n",
            "58/58 [==============================] - 1s 11ms/step - loss: 0.0560 - accuracy: 0.9997 - val_loss: 0.3794 - val_accuracy: 0.8985\n",
            "Epoch 206/300\n",
            "58/58 [==============================] - 1s 11ms/step - loss: 0.0542 - accuracy: 0.9995 - val_loss: 0.3929 - val_accuracy: 0.8934\n",
            "Epoch 207/300\n",
            "58/58 [==============================] - 1s 11ms/step - loss: 0.0555 - accuracy: 0.9992 - val_loss: 0.4157 - val_accuracy: 0.8820\n",
            "Epoch 208/300\n",
            "58/58 [==============================] - 1s 11ms/step - loss: 0.0575 - accuracy: 0.9992 - val_loss: 0.3933 - val_accuracy: 0.8756\n",
            "Epoch 209/300\n",
            "58/58 [==============================] - 1s 11ms/step - loss: 0.0548 - accuracy: 0.9992 - val_loss: 0.3676 - val_accuracy: 0.8997\n",
            "Epoch 210/300\n",
            "58/58 [==============================] - 1s 11ms/step - loss: 0.0546 - accuracy: 0.9992 - val_loss: 0.3775 - val_accuracy: 0.8985\n",
            "Epoch 211/300\n",
            "58/58 [==============================] - 1s 11ms/step - loss: 0.0528 - accuracy: 0.9995 - val_loss: 0.4003 - val_accuracy: 0.8718\n",
            "Epoch 212/300\n",
            "58/58 [==============================] - 1s 9ms/step - loss: 0.0505 - accuracy: 1.0000 - val_loss: 0.4341 - val_accuracy: 0.8731\n",
            "Epoch 213/300\n",
            "58/58 [==============================] - 0s 9ms/step - loss: 0.0500 - accuracy: 1.0000 - val_loss: 0.3824 - val_accuracy: 0.8909\n",
            "Epoch 214/300\n",
            "58/58 [==============================] - 0s 9ms/step - loss: 0.0500 - accuracy: 0.9997 - val_loss: 0.4018 - val_accuracy: 0.8871\n",
            "Epoch 215/300\n",
            "58/58 [==============================] - 0s 9ms/step - loss: 0.0510 - accuracy: 0.9992 - val_loss: 0.3761 - val_accuracy: 0.8896\n",
            "Epoch 216/300\n",
            "58/58 [==============================] - 1s 9ms/step - loss: 0.0493 - accuracy: 0.9997 - val_loss: 0.3704 - val_accuracy: 0.8959\n",
            "Epoch 217/300\n",
            "58/58 [==============================] - 0s 8ms/step - loss: 0.0473 - accuracy: 1.0000 - val_loss: 0.3809 - val_accuracy: 0.8972\n",
            "Epoch 218/300\n",
            "58/58 [==============================] - 1s 9ms/step - loss: 0.0480 - accuracy: 0.9992 - val_loss: 0.3924 - val_accuracy: 0.8871\n",
            "Epoch 219/300\n",
            "58/58 [==============================] - 1s 9ms/step - loss: 0.0465 - accuracy: 1.0000 - val_loss: 0.3806 - val_accuracy: 0.9048\n",
            "Epoch 220/300\n",
            "58/58 [==============================] - 0s 8ms/step - loss: 0.0478 - accuracy: 0.9997 - val_loss: 0.3692 - val_accuracy: 0.8921\n",
            "Epoch 221/300\n",
            "58/58 [==============================] - 1s 9ms/step - loss: 0.0480 - accuracy: 0.9997 - val_loss: 0.3812 - val_accuracy: 0.8972\n",
            "Epoch 222/300\n",
            "58/58 [==============================] - 1s 9ms/step - loss: 0.0465 - accuracy: 0.9992 - val_loss: 0.4060 - val_accuracy: 0.8947\n",
            "Epoch 223/300\n",
            "58/58 [==============================] - 0s 8ms/step - loss: 0.0486 - accuracy: 0.9995 - val_loss: 0.3751 - val_accuracy: 0.8947\n",
            "Epoch 224/300\n",
            "58/58 [==============================] - 1s 12ms/step - loss: 0.0460 - accuracy: 0.9995 - val_loss: 0.3657 - val_accuracy: 0.9010\n",
            "Epoch 225/300\n",
            "58/58 [==============================] - 1s 10ms/step - loss: 0.0442 - accuracy: 1.0000 - val_loss: 0.3740 - val_accuracy: 0.9048\n",
            "Epoch 226/300\n",
            "58/58 [==============================] - 1s 9ms/step - loss: 0.0442 - accuracy: 1.0000 - val_loss: 0.4191 - val_accuracy: 0.8769\n",
            "Epoch 227/300\n",
            "58/58 [==============================] - 1s 9ms/step - loss: 0.0441 - accuracy: 0.9997 - val_loss: 0.3997 - val_accuracy: 0.8845\n",
            "Epoch 228/300\n",
            "58/58 [==============================] - 0s 8ms/step - loss: 0.0404 - accuracy: 1.0000 - val_loss: 0.3549 - val_accuracy: 0.9023\n",
            "Epoch 229/300\n",
            "58/58 [==============================] - 1s 9ms/step - loss: 0.0443 - accuracy: 0.9995 - val_loss: 0.4191 - val_accuracy: 0.8731\n",
            "Epoch 230/300\n",
            "58/58 [==============================] - 0s 8ms/step - loss: 0.0412 - accuracy: 0.9992 - val_loss: 0.4176 - val_accuracy: 0.8871\n",
            "Epoch 231/300\n",
            "58/58 [==============================] - 1s 10ms/step - loss: 0.0438 - accuracy: 0.9992 - val_loss: 0.4095 - val_accuracy: 0.8794\n",
            "Epoch 232/300\n",
            "58/58 [==============================] - 1s 11ms/step - loss: 0.0423 - accuracy: 1.0000 - val_loss: 0.3757 - val_accuracy: 0.8959\n",
            "Epoch 233/300\n",
            "58/58 [==============================] - 1s 11ms/step - loss: 0.0402 - accuracy: 0.9997 - val_loss: 0.3766 - val_accuracy: 0.8883\n",
            "Epoch 234/300\n",
            "58/58 [==============================] - 1s 10ms/step - loss: 0.0404 - accuracy: 1.0000 - val_loss: 0.3686 - val_accuracy: 0.8934\n",
            "Epoch 235/300\n",
            "58/58 [==============================] - 1s 11ms/step - loss: 0.0397 - accuracy: 0.9992 - val_loss: 0.3855 - val_accuracy: 0.8896\n",
            "Epoch 236/300\n",
            "58/58 [==============================] - 1s 11ms/step - loss: 0.0423 - accuracy: 0.9989 - val_loss: 0.3620 - val_accuracy: 0.8934\n",
            "Epoch 237/300\n",
            "58/58 [==============================] - 1s 11ms/step - loss: 0.0383 - accuracy: 0.9992 - val_loss: 0.3724 - val_accuracy: 0.8972\n",
            "Epoch 238/300\n",
            "58/58 [==============================] - 1s 11ms/step - loss: 0.0397 - accuracy: 1.0000 - val_loss: 0.3877 - val_accuracy: 0.8934\n",
            "Epoch 239/300\n",
            "58/58 [==============================] - 0s 8ms/step - loss: 0.0393 - accuracy: 1.0000 - val_loss: 0.3819 - val_accuracy: 0.8934\n",
            "Epoch 240/300\n",
            "58/58 [==============================] - 1s 9ms/step - loss: 0.0377 - accuracy: 1.0000 - val_loss: 0.3698 - val_accuracy: 0.8909\n",
            "Epoch 241/300\n",
            "58/58 [==============================] - 1s 9ms/step - loss: 0.0379 - accuracy: 0.9997 - val_loss: 0.3681 - val_accuracy: 0.8972\n",
            "Epoch 242/300\n",
            "58/58 [==============================] - 0s 9ms/step - loss: 0.0379 - accuracy: 1.0000 - val_loss: 0.3857 - val_accuracy: 0.8845\n",
            "Epoch 243/300\n",
            "58/58 [==============================] - 0s 8ms/step - loss: 0.0362 - accuracy: 0.9995 - val_loss: 0.3677 - val_accuracy: 0.8921\n",
            "Epoch 244/300\n",
            "58/58 [==============================] - 1s 9ms/step - loss: 0.0364 - accuracy: 0.9995 - val_loss: 0.3646 - val_accuracy: 0.9010\n",
            "Epoch 245/300\n",
            "58/58 [==============================] - 1s 9ms/step - loss: 0.0361 - accuracy: 1.0000 - val_loss: 0.3706 - val_accuracy: 0.8921\n",
            "Epoch 246/300\n",
            "58/58 [==============================] - 1s 9ms/step - loss: 0.0355 - accuracy: 0.9995 - val_loss: 0.4022 - val_accuracy: 0.8832\n",
            "Epoch 247/300\n",
            "58/58 [==============================] - 1s 9ms/step - loss: 0.0392 - accuracy: 1.0000 - val_loss: 0.3738 - val_accuracy: 0.8896\n",
            "Epoch 248/300\n",
            "58/58 [==============================] - 1s 9ms/step - loss: 0.0368 - accuracy: 0.9997 - val_loss: 0.3642 - val_accuracy: 0.8858\n",
            "Epoch 249/300\n",
            "58/58 [==============================] - 0s 8ms/step - loss: 0.0389 - accuracy: 0.9992 - val_loss: 0.3669 - val_accuracy: 0.8959\n",
            "Epoch 250/300\n",
            "58/58 [==============================] - 1s 9ms/step - loss: 0.0356 - accuracy: 0.9995 - val_loss: 0.4020 - val_accuracy: 0.8832\n",
            "Epoch 251/300\n",
            "58/58 [==============================] - 1s 8ms/step - loss: 0.0347 - accuracy: 0.9997 - val_loss: 0.3640 - val_accuracy: 0.8985\n",
            "Epoch 252/300\n",
            "58/58 [==============================] - 1s 9ms/step - loss: 0.0338 - accuracy: 0.9997 - val_loss: 0.3740 - val_accuracy: 0.8871\n",
            "Epoch 253/300\n",
            "58/58 [==============================] - 1s 9ms/step - loss: 0.0326 - accuracy: 0.9997 - val_loss: 0.3901 - val_accuracy: 0.8858\n",
            "Epoch 254/300\n",
            "58/58 [==============================] - 0s 8ms/step - loss: 0.0340 - accuracy: 0.9995 - val_loss: 0.3819 - val_accuracy: 0.8820\n",
            "Epoch 255/300\n",
            "58/58 [==============================] - 0s 8ms/step - loss: 0.0329 - accuracy: 0.9997 - val_loss: 0.3711 - val_accuracy: 0.8896\n",
            "Epoch 256/300\n",
            "58/58 [==============================] - 1s 9ms/step - loss: 0.0338 - accuracy: 0.9992 - val_loss: 0.3534 - val_accuracy: 0.9048\n",
            "Epoch 257/300\n",
            "58/58 [==============================] - 1s 9ms/step - loss: 0.0320 - accuracy: 0.9995 - val_loss: 0.3660 - val_accuracy: 0.8921\n",
            "Epoch 258/300\n",
            "58/58 [==============================] - 1s 11ms/step - loss: 0.0304 - accuracy: 1.0000 - val_loss: 0.3588 - val_accuracy: 0.8921\n",
            "Epoch 259/300\n",
            "58/58 [==============================] - 1s 11ms/step - loss: 0.0337 - accuracy: 0.9997 - val_loss: 0.3771 - val_accuracy: 0.8909\n",
            "Epoch 260/300\n",
            "58/58 [==============================] - 1s 11ms/step - loss: 0.0307 - accuracy: 1.0000 - val_loss: 0.3643 - val_accuracy: 0.8858\n",
            "Epoch 261/300\n",
            "58/58 [==============================] - 1s 11ms/step - loss: 0.0334 - accuracy: 0.9992 - val_loss: 0.3725 - val_accuracy: 0.8883\n",
            "Epoch 262/300\n",
            "58/58 [==============================] - 1s 11ms/step - loss: 0.0300 - accuracy: 1.0000 - val_loss: 0.3499 - val_accuracy: 0.9023\n",
            "Epoch 263/300\n",
            "58/58 [==============================] - 1s 11ms/step - loss: 0.0317 - accuracy: 0.9997 - val_loss: 0.3611 - val_accuracy: 0.8934\n",
            "Epoch 264/300\n",
            "58/58 [==============================] - 1s 11ms/step - loss: 0.0332 - accuracy: 0.9992 - val_loss: 0.3856 - val_accuracy: 0.8934\n",
            "Epoch 265/300\n",
            "58/58 [==============================] - 1s 10ms/step - loss: 0.0305 - accuracy: 1.0000 - val_loss: 0.3533 - val_accuracy: 0.8934\n",
            "Epoch 266/300\n",
            "58/58 [==============================] - 1s 9ms/step - loss: 0.0321 - accuracy: 0.9992 - val_loss: 0.3547 - val_accuracy: 0.8985\n",
            "Epoch 267/300\n",
            "58/58 [==============================] - 1s 9ms/step - loss: 0.0321 - accuracy: 0.9992 - val_loss: 0.3675 - val_accuracy: 0.8909\n",
            "Epoch 268/300\n",
            "58/58 [==============================] - 1s 9ms/step - loss: 0.0258 - accuracy: 1.0000 - val_loss: 0.3662 - val_accuracy: 0.8985\n",
            "Epoch 269/300\n",
            "58/58 [==============================] - 0s 8ms/step - loss: 0.0290 - accuracy: 0.9997 - val_loss: 0.3604 - val_accuracy: 0.8934\n",
            "Epoch 270/300\n",
            "58/58 [==============================] - 0s 8ms/step - loss: 0.0298 - accuracy: 1.0000 - val_loss: 0.3644 - val_accuracy: 0.9023\n",
            "Epoch 271/300\n",
            "58/58 [==============================] - 1s 9ms/step - loss: 0.0296 - accuracy: 1.0000 - val_loss: 0.3665 - val_accuracy: 0.8883\n",
            "Epoch 272/300\n",
            "58/58 [==============================] - 1s 9ms/step - loss: 0.0291 - accuracy: 0.9997 - val_loss: 0.3542 - val_accuracy: 0.8896\n",
            "Epoch 273/300\n",
            "58/58 [==============================] - 0s 9ms/step - loss: 0.0290 - accuracy: 0.9997 - val_loss: 0.3664 - val_accuracy: 0.8909\n",
            "Epoch 274/300\n",
            "58/58 [==============================] - 1s 9ms/step - loss: 0.0264 - accuracy: 1.0000 - val_loss: 0.3803 - val_accuracy: 0.8769\n",
            "Epoch 275/300\n",
            "58/58 [==============================] - 0s 8ms/step - loss: 0.0300 - accuracy: 0.9997 - val_loss: 0.3647 - val_accuracy: 0.8947\n",
            "Epoch 276/300\n",
            "58/58 [==============================] - 0s 8ms/step - loss: 0.0298 - accuracy: 0.9995 - val_loss: 0.3563 - val_accuracy: 0.8934\n",
            "Epoch 277/300\n",
            "58/58 [==============================] - 1s 9ms/step - loss: 0.0282 - accuracy: 0.9997 - val_loss: 0.3732 - val_accuracy: 0.8921\n",
            "Epoch 278/300\n",
            "58/58 [==============================] - 1s 9ms/step - loss: 0.0288 - accuracy: 1.0000 - val_loss: 0.4158 - val_accuracy: 0.8794\n",
            "Epoch 279/300\n",
            "58/58 [==============================] - 0s 9ms/step - loss: 0.0270 - accuracy: 0.9997 - val_loss: 0.3669 - val_accuracy: 0.8871\n",
            "Epoch 280/300\n",
            "58/58 [==============================] - 0s 9ms/step - loss: 0.0267 - accuracy: 0.9997 - val_loss: 0.3587 - val_accuracy: 0.8858\n",
            "Epoch 281/300\n",
            "58/58 [==============================] - 0s 8ms/step - loss: 0.0271 - accuracy: 1.0000 - val_loss: 0.4051 - val_accuracy: 0.8782\n",
            "Epoch 282/300\n",
            "58/58 [==============================] - 1s 9ms/step - loss: 0.0267 - accuracy: 0.9997 - val_loss: 0.3602 - val_accuracy: 0.8947\n",
            "Epoch 283/300\n",
            "58/58 [==============================] - 0s 8ms/step - loss: 0.0227 - accuracy: 1.0000 - val_loss: 0.3612 - val_accuracy: 0.8858\n",
            "Epoch 284/300\n",
            "58/58 [==============================] - 1s 9ms/step - loss: 0.0243 - accuracy: 1.0000 - val_loss: 0.3847 - val_accuracy: 0.8832\n",
            "Epoch 285/300\n",
            "58/58 [==============================] - 1s 11ms/step - loss: 0.0252 - accuracy: 0.9997 - val_loss: 0.3688 - val_accuracy: 0.8947\n",
            "Epoch 286/300\n",
            "58/58 [==============================] - 1s 11ms/step - loss: 0.0234 - accuracy: 1.0000 - val_loss: 0.3483 - val_accuracy: 0.8934\n",
            "Epoch 287/300\n",
            "58/58 [==============================] - 1s 11ms/step - loss: 0.0260 - accuracy: 0.9997 - val_loss: 0.3648 - val_accuracy: 0.8934\n",
            "Epoch 288/300\n",
            "58/58 [==============================] - 1s 11ms/step - loss: 0.0240 - accuracy: 1.0000 - val_loss: 0.3490 - val_accuracy: 0.8972\n",
            "Epoch 289/300\n",
            "58/58 [==============================] - 1s 11ms/step - loss: 0.0236 - accuracy: 0.9997 - val_loss: 0.3531 - val_accuracy: 0.8985\n",
            "Epoch 290/300\n",
            "58/58 [==============================] - 1s 11ms/step - loss: 0.0221 - accuracy: 1.0000 - val_loss: 0.3560 - val_accuracy: 0.8909\n",
            "Epoch 291/300\n",
            "58/58 [==============================] - 1s 12ms/step - loss: 0.0234 - accuracy: 1.0000 - val_loss: 0.3828 - val_accuracy: 0.8832\n",
            "Epoch 292/300\n",
            "58/58 [==============================] - 1s 10ms/step - loss: 0.0249 - accuracy: 0.9997 - val_loss: 0.3761 - val_accuracy: 0.8845\n",
            "Epoch 293/300\n",
            "58/58 [==============================] - 0s 8ms/step - loss: 0.0227 - accuracy: 1.0000 - val_loss: 0.3553 - val_accuracy: 0.8858\n",
            "Epoch 294/300\n",
            "58/58 [==============================] - 0s 9ms/step - loss: 0.0218 - accuracy: 0.9997 - val_loss: 0.3581 - val_accuracy: 0.8934\n",
            "Epoch 295/300\n",
            "58/58 [==============================] - 1s 9ms/step - loss: 0.0227 - accuracy: 0.9997 - val_loss: 0.3700 - val_accuracy: 0.8896\n",
            "Epoch 296/300\n",
            "58/58 [==============================] - 1s 9ms/step - loss: 0.0228 - accuracy: 0.9997 - val_loss: 0.3693 - val_accuracy: 0.8883\n",
            "Epoch 297/300\n",
            "58/58 [==============================] - 0s 9ms/step - loss: 0.0232 - accuracy: 0.9997 - val_loss: 0.3535 - val_accuracy: 0.8972\n",
            "Epoch 298/300\n",
            "58/58 [==============================] - 1s 9ms/step - loss: 0.0205 - accuracy: 1.0000 - val_loss: 0.3728 - val_accuracy: 0.8871\n",
            "Epoch 299/300\n",
            "58/58 [==============================] - 0s 8ms/step - loss: 0.0237 - accuracy: 0.9995 - val_loss: 0.3536 - val_accuracy: 0.8959\n",
            "Epoch 300/300\n",
            "58/58 [==============================] - 1s 9ms/step - loss: 0.0208 - accuracy: 1.0000 - val_loss: 0.3664 - val_accuracy: 0.8871\n"
          ]
        },
        {
          "output_type": "execute_result",
          "data": {
            "text/plain": [
              "<keras.src.callbacks.History at 0x7d006baaa6b0>"
            ]
          },
          "metadata": {},
          "execution_count": 63
        }
      ]
    },
    {
      "cell_type": "code",
      "source": [
        "y_pred = model.predict(X_test)\n",
        "# Chuyển dự đoán thành danh sách các lớp\n",
        "y_pred_labels = np.argmax(y_pred, axis=1)\n",
        "\n",
        "# Sau đó, bạn có thể tính classification report bằng scikit-learn\n",
        "from sklearn.metrics import classification_report\n",
        "print(classification_report(y_test, y_pred_labels))"
      ],
      "metadata": {
        "colab": {
          "base_uri": "https://localhost:8080/"
        },
        "id": "Q5f6KHOxnBlw",
        "outputId": "9a1a1d79-682d-426c-e61b-0ca8f463c565"
      },
      "execution_count": null,
      "outputs": [
        {
          "output_type": "stream",
          "name": "stdout",
          "text": [
            "25/25 [==============================] - 0s 2ms/step\n",
            "              precision    recall  f1-score   support\n",
            "\n",
            "           0       0.99      0.94      0.96        82\n",
            "           1       0.85      0.94      0.89        49\n",
            "           2       0.87      0.88      0.87       110\n",
            "           3       0.85      0.92      0.89       113\n",
            "           4       0.91      0.90      0.91       126\n",
            "           5       0.90      0.84      0.87       107\n",
            "           6       0.90      0.92      0.91        97\n",
            "           7       0.96      0.90      0.93       104\n",
            "\n",
            "    accuracy                           0.90       788\n",
            "   macro avg       0.90      0.91      0.90       788\n",
            "weighted avg       0.90      0.90      0.90       788\n",
            "\n"
          ]
        }
      ]
    },
    {
      "cell_type": "code",
      "source": [
        "model.save('/content/drive/MyDrive/Study/Năm 3/CS337-Xử lý âm thanh và tiếng nói/model/CNN_spectral.h5')"
      ],
      "metadata": {
        "id": "9xQ9lkn8w7T_"
      },
      "execution_count": null,
      "outputs": []
    },
    {
      "cell_type": "markdown",
      "source": [
        "\n",
        "### Dùng prosodic feature"
      ],
      "metadata": {
        "id": "3rX0q5nZgYzE"
      }
    },
    {
      "cell_type": "code",
      "source": [
        "features = \"prosodic_features\"\n",
        "# load data\n",
        "feature_path = root_data + \"/\" + features + \"/\"\n",
        "X_train = joblib.load(feature_path + 'X_train.joblib')\n",
        "y_train = joblib.load(feature_path + 'y_train.joblib')\n",
        "X_test = joblib.load(feature_path + 'X_test.joblib')\n",
        "y_test = joblib.load(feature_path + 'y_test.joblib')\n",
        "X_dev = joblib.load(feature_path + 'X_dev.joblib')\n",
        "y_dev = joblib.load(feature_path + 'y_dev.joblib')\n",
        "# Chuẩn hóa dữ liệu\n",
        "scaler = StandardScaler()\n",
        "X_train = scaler.fit_transform(X_train)\n",
        "X_test = scaler.transform(X_test)\n",
        "X_dev = scaler.transform(X_dev)\n",
        "# reshape\n",
        "X_train = np.expand_dims(X_train, axis=2)\n",
        "X_dev = np.expand_dims(X_dev, axis=2)\n",
        "X_test = np.expand_dims(X_test, axis=2)\n",
        "\n",
        "y_train = to_categorical(y_train, num_classes=8)\n",
        "y_dev = to_categorical(y_dev, num_classes=8)\n",
        "\n",
        "X_train.shape, X_dev.shape, X_test.shape, y_train.shape, y_dev.shape"
      ],
      "metadata": {
        "colab": {
          "base_uri": "https://localhost:8080/"
        },
        "id": "Ers5h9VVh4hq",
        "outputId": "9475fd60-337e-4d4b-9106-84823f4e96c5"
      },
      "execution_count": null,
      "outputs": [
        {
          "output_type": "execute_result",
          "data": {
            "text/plain": [
              "((3676, 67, 1), (788, 67, 1), (788, 67, 1), (3676, 8), (788, 8))"
            ]
          },
          "metadata": {},
          "execution_count": 66
        }
      ]
    },
    {
      "cell_type": "code",
      "source": [
        "from keras.models import Sequential\n",
        "from keras.layers import Conv1D, MaxPooling1D, Dropout, Activation, BatchNormalization, Dense, Flatten\n",
        "from keras.optimizers import RMSprop\n",
        "\n",
        "model = Sequential()\n",
        "model.add(Conv1D(filters=256, kernel_size=5, padding='same', input_shape=(67, 1)))\n",
        "model.add(Activation('relu'))\n",
        "model.add(Dropout(0.1))\n",
        "model.add(MaxPooling1D(pool_size=8))\n",
        "model.add(Conv1D(filters=128, kernel_size=5, padding='same'))\n",
        "model.add(BatchNormalization())\n",
        "model.add(Activation('relu'))\n",
        "model.add(Conv1D(filters=128, kernel_size=5, padding='same'))\n",
        "model.add(Activation('relu'))\n",
        "model.add(Dropout(0.1))\n",
        "model.add(Conv1D(filters=64, kernel_size=5, padding='same'))\n",
        "model.add(Activation('relu'))\n",
        "model.add(Flatten())\n",
        "model.add(Dense(units=8))\n",
        "model.add(BatchNormalization())\n",
        "model.add(Activation('softmax'))\n",
        "\n",
        "opt = RMSprop(learning_rate=0.0001, weight_decay=1e-6)\n",
        "\n",
        "model.compile(optimizer=opt, loss='categorical_crossentropy', metrics=['accuracy'])\n",
        "\n",
        "model.fit(X_train, y_train, batch_size=64, epochs=300, validation_data=(X_dev, y_dev))"
      ],
      "metadata": {
        "colab": {
          "base_uri": "https://localhost:8080/"
        },
        "id": "yMalSc76nZkM",
        "outputId": "b86dcf8b-1c63-4f23-b2d6-20e7e084a46f"
      },
      "execution_count": null,
      "outputs": [
        {
          "output_type": "stream",
          "name": "stdout",
          "text": [
            "Epoch 1/300\n",
            "58/58 [==============================] - 4s 24ms/step - loss: 1.8724 - accuracy: 0.3101 - val_loss: 2.0827 - val_accuracy: 0.1282\n",
            "Epoch 2/300\n",
            "58/58 [==============================] - 1s 10ms/step - loss: 1.5926 - accuracy: 0.4238 - val_loss: 2.1258 - val_accuracy: 0.1091\n",
            "Epoch 3/300\n",
            "58/58 [==============================] - 1s 10ms/step - loss: 1.5012 - accuracy: 0.4646 - val_loss: 2.1408 - val_accuracy: 0.1104\n",
            "Epoch 4/300\n",
            "58/58 [==============================] - 1s 9ms/step - loss: 1.4483 - accuracy: 0.4905 - val_loss: 2.1140 - val_accuracy: 0.1129\n",
            "Epoch 5/300\n",
            "58/58 [==============================] - 1s 9ms/step - loss: 1.4041 - accuracy: 0.5035 - val_loss: 2.0509 - val_accuracy: 0.1282\n",
            "Epoch 6/300\n",
            "58/58 [==============================] - 1s 14ms/step - loss: 1.3687 - accuracy: 0.5237 - val_loss: 1.9855 - val_accuracy: 0.1624\n",
            "Epoch 7/300\n",
            "58/58 [==============================] - 1s 13ms/step - loss: 1.3227 - accuracy: 0.5443 - val_loss: 1.8317 - val_accuracy: 0.2335\n",
            "Epoch 8/300\n",
            "58/58 [==============================] - 1s 12ms/step - loss: 1.3033 - accuracy: 0.5530 - val_loss: 1.6795 - val_accuracy: 0.3782\n",
            "Epoch 9/300\n",
            "58/58 [==============================] - 1s 10ms/step - loss: 1.2635 - accuracy: 0.5737 - val_loss: 1.5634 - val_accuracy: 0.4492\n",
            "Epoch 10/300\n",
            "58/58 [==============================] - 1s 11ms/step - loss: 1.2433 - accuracy: 0.5805 - val_loss: 1.4726 - val_accuracy: 0.4911\n",
            "Epoch 11/300\n",
            "58/58 [==============================] - 1s 10ms/step - loss: 1.2334 - accuracy: 0.5805 - val_loss: 1.4072 - val_accuracy: 0.5102\n",
            "Epoch 12/300\n",
            "58/58 [==============================] - 1s 11ms/step - loss: 1.2039 - accuracy: 0.5955 - val_loss: 1.3900 - val_accuracy: 0.5216\n",
            "Epoch 13/300\n",
            "58/58 [==============================] - 1s 11ms/step - loss: 1.1882 - accuracy: 0.6148 - val_loss: 1.3067 - val_accuracy: 0.5571\n",
            "Epoch 14/300\n",
            "58/58 [==============================] - 1s 11ms/step - loss: 1.1701 - accuracy: 0.6145 - val_loss: 1.2977 - val_accuracy: 0.5711\n",
            "Epoch 15/300\n",
            "58/58 [==============================] - 1s 11ms/step - loss: 1.1558 - accuracy: 0.6172 - val_loss: 1.3085 - val_accuracy: 0.5685\n",
            "Epoch 16/300\n",
            "58/58 [==============================] - 1s 10ms/step - loss: 1.1327 - accuracy: 0.6363 - val_loss: 1.3288 - val_accuracy: 0.5495\n",
            "Epoch 17/300\n",
            "58/58 [==============================] - 1s 10ms/step - loss: 1.1157 - accuracy: 0.6469 - val_loss: 1.2778 - val_accuracy: 0.5812\n",
            "Epoch 18/300\n",
            "58/58 [==============================] - 1s 14ms/step - loss: 1.0997 - accuracy: 0.6529 - val_loss: 1.2643 - val_accuracy: 0.5825\n",
            "Epoch 19/300\n",
            "58/58 [==============================] - 1s 16ms/step - loss: 1.0994 - accuracy: 0.6485 - val_loss: 1.2687 - val_accuracy: 0.5711\n",
            "Epoch 20/300\n",
            "58/58 [==============================] - 1s 17ms/step - loss: 1.0782 - accuracy: 0.6670 - val_loss: 1.2316 - val_accuracy: 0.6028\n",
            "Epoch 21/300\n",
            "58/58 [==============================] - 1s 22ms/step - loss: 1.0521 - accuracy: 0.6779 - val_loss: 1.2589 - val_accuracy: 0.5838\n",
            "Epoch 22/300\n",
            "58/58 [==============================] - 1s 22ms/step - loss: 1.0533 - accuracy: 0.6725 - val_loss: 1.2467 - val_accuracy: 0.5749\n",
            "Epoch 23/300\n",
            "58/58 [==============================] - 1s 23ms/step - loss: 1.0237 - accuracy: 0.6891 - val_loss: 1.2637 - val_accuracy: 0.5812\n",
            "Epoch 24/300\n",
            "58/58 [==============================] - 1s 17ms/step - loss: 1.0124 - accuracy: 0.6961 - val_loss: 1.2047 - val_accuracy: 0.6041\n",
            "Epoch 25/300\n",
            "58/58 [==============================] - 1s 17ms/step - loss: 1.0064 - accuracy: 0.6953 - val_loss: 1.2270 - val_accuracy: 0.5888\n",
            "Epoch 26/300\n",
            "58/58 [==============================] - 1s 14ms/step - loss: 0.9934 - accuracy: 0.7038 - val_loss: 1.2192 - val_accuracy: 0.6117\n",
            "Epoch 27/300\n",
            "58/58 [==============================] - 1s 15ms/step - loss: 0.9774 - accuracy: 0.7078 - val_loss: 1.2328 - val_accuracy: 0.5901\n",
            "Epoch 28/300\n",
            "58/58 [==============================] - 1s 16ms/step - loss: 0.9610 - accuracy: 0.7233 - val_loss: 1.2019 - val_accuracy: 0.5901\n",
            "Epoch 29/300\n",
            "58/58 [==============================] - 1s 14ms/step - loss: 0.9522 - accuracy: 0.7299 - val_loss: 1.2401 - val_accuracy: 0.5914\n",
            "Epoch 30/300\n",
            "58/58 [==============================] - 1s 14ms/step - loss: 0.9365 - accuracy: 0.7350 - val_loss: 1.2161 - val_accuracy: 0.5685\n",
            "Epoch 31/300\n",
            "58/58 [==============================] - 1s 16ms/step - loss: 0.9284 - accuracy: 0.7323 - val_loss: 1.1872 - val_accuracy: 0.6168\n",
            "Epoch 32/300\n",
            "58/58 [==============================] - 1s 16ms/step - loss: 0.9269 - accuracy: 0.7383 - val_loss: 1.1907 - val_accuracy: 0.6142\n",
            "Epoch 33/300\n",
            "58/58 [==============================] - 1s 16ms/step - loss: 0.9046 - accuracy: 0.7492 - val_loss: 1.1885 - val_accuracy: 0.5977\n",
            "Epoch 34/300\n",
            "58/58 [==============================] - 1s 13ms/step - loss: 0.9013 - accuracy: 0.7573 - val_loss: 1.2070 - val_accuracy: 0.5939\n",
            "Epoch 35/300\n",
            "58/58 [==============================] - 1s 22ms/step - loss: 0.8774 - accuracy: 0.7674 - val_loss: 1.1901 - val_accuracy: 0.6028\n",
            "Epoch 36/300\n",
            "58/58 [==============================] - 1s 16ms/step - loss: 0.8857 - accuracy: 0.7497 - val_loss: 1.2204 - val_accuracy: 0.5926\n",
            "Epoch 37/300\n",
            "58/58 [==============================] - 1s 16ms/step - loss: 0.8671 - accuracy: 0.7661 - val_loss: 1.1991 - val_accuracy: 0.5964\n",
            "Epoch 38/300\n",
            "58/58 [==============================] - 1s 14ms/step - loss: 0.8433 - accuracy: 0.7810 - val_loss: 1.2132 - val_accuracy: 0.5558\n",
            "Epoch 39/300\n",
            "58/58 [==============================] - 1s 15ms/step - loss: 0.8545 - accuracy: 0.7682 - val_loss: 1.2072 - val_accuracy: 0.5838\n",
            "Epoch 40/300\n",
            "58/58 [==============================] - 1s 15ms/step - loss: 0.8329 - accuracy: 0.7845 - val_loss: 1.1712 - val_accuracy: 0.6155\n",
            "Epoch 41/300\n",
            "58/58 [==============================] - 1s 12ms/step - loss: 0.8226 - accuracy: 0.7826 - val_loss: 1.1682 - val_accuracy: 0.6180\n",
            "Epoch 42/300\n",
            "58/58 [==============================] - 1s 12ms/step - loss: 0.8086 - accuracy: 0.8017 - val_loss: 1.2012 - val_accuracy: 0.5774\n",
            "Epoch 43/300\n",
            "58/58 [==============================] - 1s 10ms/step - loss: 0.7975 - accuracy: 0.8041 - val_loss: 1.1490 - val_accuracy: 0.6066\n",
            "Epoch 44/300\n",
            "58/58 [==============================] - 1s 10ms/step - loss: 0.8027 - accuracy: 0.7998 - val_loss: 1.1752 - val_accuracy: 0.6104\n",
            "Epoch 45/300\n",
            "58/58 [==============================] - 1s 11ms/step - loss: 0.7821 - accuracy: 0.8050 - val_loss: 1.1505 - val_accuracy: 0.6371\n",
            "Epoch 46/300\n",
            "58/58 [==============================] - 1s 11ms/step - loss: 0.7743 - accuracy: 0.8090 - val_loss: 1.1623 - val_accuracy: 0.6053\n",
            "Epoch 47/300\n",
            "58/58 [==============================] - 1s 10ms/step - loss: 0.7583 - accuracy: 0.8169 - val_loss: 1.1642 - val_accuracy: 0.6168\n",
            "Epoch 48/300\n",
            "58/58 [==============================] - 1s 10ms/step - loss: 0.7539 - accuracy: 0.8259 - val_loss: 1.1862 - val_accuracy: 0.6015\n",
            "Epoch 49/300\n",
            "58/58 [==============================] - 1s 10ms/step - loss: 0.7517 - accuracy: 0.8166 - val_loss: 1.1782 - val_accuracy: 0.6066\n",
            "Epoch 50/300\n",
            "58/58 [==============================] - 1s 11ms/step - loss: 0.7369 - accuracy: 0.8273 - val_loss: 1.1918 - val_accuracy: 0.6168\n",
            "Epoch 51/300\n",
            "58/58 [==============================] - 1s 11ms/step - loss: 0.7277 - accuracy: 0.8351 - val_loss: 1.1725 - val_accuracy: 0.6168\n",
            "Epoch 52/300\n",
            "58/58 [==============================] - 1s 11ms/step - loss: 0.7176 - accuracy: 0.8289 - val_loss: 1.1745 - val_accuracy: 0.6041\n",
            "Epoch 53/300\n",
            "58/58 [==============================] - 1s 10ms/step - loss: 0.7010 - accuracy: 0.8507 - val_loss: 1.1677 - val_accuracy: 0.6066\n",
            "Epoch 54/300\n",
            "58/58 [==============================] - 1s 11ms/step - loss: 0.7008 - accuracy: 0.8490 - val_loss: 1.1745 - val_accuracy: 0.6041\n",
            "Epoch 55/300\n",
            "58/58 [==============================] - 1s 9ms/step - loss: 0.6926 - accuracy: 0.8474 - val_loss: 1.1650 - val_accuracy: 0.6091\n",
            "Epoch 56/300\n",
            "58/58 [==============================] - 1s 9ms/step - loss: 0.6758 - accuracy: 0.8594 - val_loss: 1.1719 - val_accuracy: 0.6003\n",
            "Epoch 57/300\n",
            "58/58 [==============================] - 1s 10ms/step - loss: 0.6618 - accuracy: 0.8667 - val_loss: 1.1581 - val_accuracy: 0.6104\n",
            "Epoch 58/300\n",
            "58/58 [==============================] - 1s 10ms/step - loss: 0.6633 - accuracy: 0.8594 - val_loss: 1.1724 - val_accuracy: 0.6104\n",
            "Epoch 59/300\n",
            "58/58 [==============================] - 1s 14ms/step - loss: 0.6563 - accuracy: 0.8692 - val_loss: 1.1828 - val_accuracy: 0.6066\n",
            "Epoch 60/300\n",
            "58/58 [==============================] - 1s 17ms/step - loss: 0.6485 - accuracy: 0.8667 - val_loss: 1.1507 - val_accuracy: 0.6053\n",
            "Epoch 61/300\n",
            "58/58 [==============================] - 1s 22ms/step - loss: 0.6347 - accuracy: 0.8727 - val_loss: 1.1797 - val_accuracy: 0.5977\n",
            "Epoch 62/300\n",
            "58/58 [==============================] - 1s 17ms/step - loss: 0.6308 - accuracy: 0.8798 - val_loss: 1.2197 - val_accuracy: 0.5838\n",
            "Epoch 63/300\n",
            "58/58 [==============================] - 1s 10ms/step - loss: 0.6324 - accuracy: 0.8732 - val_loss: 1.1508 - val_accuracy: 0.6142\n",
            "Epoch 64/300\n",
            "58/58 [==============================] - 1s 10ms/step - loss: 0.6168 - accuracy: 0.8833 - val_loss: 1.1621 - val_accuracy: 0.6091\n",
            "Epoch 65/300\n",
            "58/58 [==============================] - 1s 9ms/step - loss: 0.6083 - accuracy: 0.8915 - val_loss: 1.1859 - val_accuracy: 0.6155\n",
            "Epoch 66/300\n",
            "58/58 [==============================] - 1s 10ms/step - loss: 0.6091 - accuracy: 0.8871 - val_loss: 1.1357 - val_accuracy: 0.6383\n",
            "Epoch 67/300\n",
            "58/58 [==============================] - 1s 10ms/step - loss: 0.5830 - accuracy: 0.8991 - val_loss: 1.1700 - val_accuracy: 0.5952\n",
            "Epoch 68/300\n",
            "58/58 [==============================] - 1s 11ms/step - loss: 0.5880 - accuracy: 0.8928 - val_loss: 1.1661 - val_accuracy: 0.6041\n",
            "Epoch 69/300\n",
            "58/58 [==============================] - 1s 13ms/step - loss: 0.5805 - accuracy: 0.9010 - val_loss: 1.1413 - val_accuracy: 0.6053\n",
            "Epoch 70/300\n",
            "58/58 [==============================] - 1s 12ms/step - loss: 0.5732 - accuracy: 0.9037 - val_loss: 1.1576 - val_accuracy: 0.6168\n",
            "Epoch 71/300\n",
            "58/58 [==============================] - 1s 11ms/step - loss: 0.5569 - accuracy: 0.9053 - val_loss: 1.1519 - val_accuracy: 0.6218\n",
            "Epoch 72/300\n",
            "58/58 [==============================] - 1s 11ms/step - loss: 0.5485 - accuracy: 0.9094 - val_loss: 1.1841 - val_accuracy: 0.6053\n",
            "Epoch 73/300\n",
            "58/58 [==============================] - 1s 10ms/step - loss: 0.5430 - accuracy: 0.9168 - val_loss: 1.1832 - val_accuracy: 0.6028\n",
            "Epoch 74/300\n",
            "58/58 [==============================] - 1s 10ms/step - loss: 0.5382 - accuracy: 0.9176 - val_loss: 1.1914 - val_accuracy: 0.6091\n",
            "Epoch 75/300\n",
            "58/58 [==============================] - 1s 10ms/step - loss: 0.5292 - accuracy: 0.9214 - val_loss: 1.1709 - val_accuracy: 0.6091\n",
            "Epoch 76/300\n",
            "58/58 [==============================] - 1s 12ms/step - loss: 0.5360 - accuracy: 0.9072 - val_loss: 1.1845 - val_accuracy: 0.5838\n",
            "Epoch 77/300\n",
            "58/58 [==============================] - 1s 11ms/step - loss: 0.5158 - accuracy: 0.9260 - val_loss: 1.2047 - val_accuracy: 0.5901\n",
            "Epoch 78/300\n",
            "58/58 [==============================] - 1s 10ms/step - loss: 0.5109 - accuracy: 0.9184 - val_loss: 1.1742 - val_accuracy: 0.6129\n",
            "Epoch 79/300\n",
            "58/58 [==============================] - 1s 14ms/step - loss: 0.5111 - accuracy: 0.9290 - val_loss: 1.1743 - val_accuracy: 0.6129\n",
            "Epoch 80/300\n",
            "58/58 [==============================] - 1s 18ms/step - loss: 0.5043 - accuracy: 0.9257 - val_loss: 1.1689 - val_accuracy: 0.6091\n",
            "Epoch 81/300\n",
            "58/58 [==============================] - 1s 18ms/step - loss: 0.4966 - accuracy: 0.9263 - val_loss: 1.1526 - val_accuracy: 0.6053\n",
            "Epoch 82/300\n",
            "58/58 [==============================] - 1s 23ms/step - loss: 0.4996 - accuracy: 0.9233 - val_loss: 1.1586 - val_accuracy: 0.6091\n",
            "Epoch 83/300\n",
            "58/58 [==============================] - 1s 12ms/step - loss: 0.4834 - accuracy: 0.9314 - val_loss: 1.1609 - val_accuracy: 0.6028\n",
            "Epoch 84/300\n",
            "58/58 [==============================] - 1s 14ms/step - loss: 0.4793 - accuracy: 0.9309 - val_loss: 1.1586 - val_accuracy: 0.6028\n",
            "Epoch 85/300\n",
            "58/58 [==============================] - 1s 15ms/step - loss: 0.4750 - accuracy: 0.9325 - val_loss: 1.1797 - val_accuracy: 0.6079\n",
            "Epoch 86/300\n",
            "58/58 [==============================] - 1s 13ms/step - loss: 0.4641 - accuracy: 0.9347 - val_loss: 1.1653 - val_accuracy: 0.5990\n",
            "Epoch 87/300\n",
            "58/58 [==============================] - 1s 12ms/step - loss: 0.4583 - accuracy: 0.9429 - val_loss: 1.1629 - val_accuracy: 0.6053\n",
            "Epoch 88/300\n",
            "58/58 [==============================] - 1s 13ms/step - loss: 0.4422 - accuracy: 0.9497 - val_loss: 1.1496 - val_accuracy: 0.6104\n",
            "Epoch 89/300\n",
            "58/58 [==============================] - 1s 14ms/step - loss: 0.4545 - accuracy: 0.9353 - val_loss: 1.1543 - val_accuracy: 0.6155\n",
            "Epoch 90/300\n",
            "58/58 [==============================] - 1s 12ms/step - loss: 0.4387 - accuracy: 0.9480 - val_loss: 1.1598 - val_accuracy: 0.6168\n",
            "Epoch 91/300\n",
            "58/58 [==============================] - 1s 11ms/step - loss: 0.4363 - accuracy: 0.9521 - val_loss: 1.1775 - val_accuracy: 0.6015\n",
            "Epoch 92/300\n",
            "58/58 [==============================] - 1s 11ms/step - loss: 0.4298 - accuracy: 0.9486 - val_loss: 1.1359 - val_accuracy: 0.6117\n",
            "Epoch 93/300\n",
            "58/58 [==============================] - 1s 11ms/step - loss: 0.4206 - accuracy: 0.9508 - val_loss: 1.1797 - val_accuracy: 0.6117\n",
            "Epoch 94/300\n",
            "58/58 [==============================] - 1s 10ms/step - loss: 0.4176 - accuracy: 0.9546 - val_loss: 1.1501 - val_accuracy: 0.6168\n",
            "Epoch 95/300\n",
            "58/58 [==============================] - 1s 11ms/step - loss: 0.4077 - accuracy: 0.9581 - val_loss: 1.1616 - val_accuracy: 0.6180\n",
            "Epoch 96/300\n",
            "58/58 [==============================] - 1s 10ms/step - loss: 0.4138 - accuracy: 0.9513 - val_loss: 1.1983 - val_accuracy: 0.5977\n",
            "Epoch 97/300\n",
            "58/58 [==============================] - 1s 12ms/step - loss: 0.4095 - accuracy: 0.9472 - val_loss: 1.1808 - val_accuracy: 0.6066\n",
            "Epoch 98/300\n",
            "58/58 [==============================] - 1s 16ms/step - loss: 0.4047 - accuracy: 0.9540 - val_loss: 1.1936 - val_accuracy: 0.6003\n",
            "Epoch 99/300\n",
            "58/58 [==============================] - 1s 15ms/step - loss: 0.3967 - accuracy: 0.9557 - val_loss: 1.2025 - val_accuracy: 0.6015\n",
            "Epoch 100/300\n",
            "58/58 [==============================] - 1s 14ms/step - loss: 0.3860 - accuracy: 0.9576 - val_loss: 1.1810 - val_accuracy: 0.6015\n",
            "Epoch 101/300\n",
            "58/58 [==============================] - 1s 16ms/step - loss: 0.3814 - accuracy: 0.9595 - val_loss: 1.1558 - val_accuracy: 0.6193\n",
            "Epoch 102/300\n",
            "58/58 [==============================] - 1s 15ms/step - loss: 0.3849 - accuracy: 0.9625 - val_loss: 1.1439 - val_accuracy: 0.6117\n",
            "Epoch 103/300\n",
            "58/58 [==============================] - 1s 12ms/step - loss: 0.3727 - accuracy: 0.9657 - val_loss: 1.1624 - val_accuracy: 0.6028\n",
            "Epoch 104/300\n",
            "58/58 [==============================] - 0s 8ms/step - loss: 0.3671 - accuracy: 0.9614 - val_loss: 1.1693 - val_accuracy: 0.6066\n",
            "Epoch 105/300\n",
            "58/58 [==============================] - 0s 8ms/step - loss: 0.3623 - accuracy: 0.9660 - val_loss: 1.1805 - val_accuracy: 0.6091\n",
            "Epoch 106/300\n",
            "58/58 [==============================] - 0s 8ms/step - loss: 0.3613 - accuracy: 0.9665 - val_loss: 1.1693 - val_accuracy: 0.6041\n",
            "Epoch 107/300\n",
            "58/58 [==============================] - 0s 8ms/step - loss: 0.3572 - accuracy: 0.9682 - val_loss: 1.1976 - val_accuracy: 0.5990\n",
            "Epoch 108/300\n",
            "58/58 [==============================] - 0s 7ms/step - loss: 0.3575 - accuracy: 0.9644 - val_loss: 1.1943 - val_accuracy: 0.6142\n",
            "Epoch 109/300\n",
            "58/58 [==============================] - 0s 8ms/step - loss: 0.3387 - accuracy: 0.9668 - val_loss: 1.1746 - val_accuracy: 0.6168\n",
            "Epoch 110/300\n",
            "58/58 [==============================] - 0s 8ms/step - loss: 0.3429 - accuracy: 0.9682 - val_loss: 1.1385 - val_accuracy: 0.6231\n",
            "Epoch 111/300\n",
            "58/58 [==============================] - 0s 7ms/step - loss: 0.3441 - accuracy: 0.9663 - val_loss: 1.1575 - val_accuracy: 0.5990\n",
            "Epoch 112/300\n",
            "58/58 [==============================] - 0s 8ms/step - loss: 0.3285 - accuracy: 0.9736 - val_loss: 1.1559 - val_accuracy: 0.6206\n",
            "Epoch 113/300\n",
            "58/58 [==============================] - 0s 7ms/step - loss: 0.3336 - accuracy: 0.9679 - val_loss: 1.1495 - val_accuracy: 0.6015\n",
            "Epoch 114/300\n",
            "58/58 [==============================] - 0s 7ms/step - loss: 0.3278 - accuracy: 0.9720 - val_loss: 1.1602 - val_accuracy: 0.6193\n",
            "Epoch 115/300\n",
            "58/58 [==============================] - 0s 8ms/step - loss: 0.3259 - accuracy: 0.9728 - val_loss: 1.1602 - val_accuracy: 0.6282\n",
            "Epoch 116/300\n",
            "58/58 [==============================] - 0s 8ms/step - loss: 0.3126 - accuracy: 0.9761 - val_loss: 1.2054 - val_accuracy: 0.6053\n",
            "Epoch 117/300\n",
            "58/58 [==============================] - 0s 7ms/step - loss: 0.3135 - accuracy: 0.9728 - val_loss: 1.1853 - val_accuracy: 0.6079\n",
            "Epoch 118/300\n",
            "58/58 [==============================] - 0s 7ms/step - loss: 0.3132 - accuracy: 0.9744 - val_loss: 1.1517 - val_accuracy: 0.6180\n",
            "Epoch 119/300\n",
            "58/58 [==============================] - 0s 8ms/step - loss: 0.2996 - accuracy: 0.9815 - val_loss: 1.1541 - val_accuracy: 0.6091\n",
            "Epoch 120/300\n",
            "58/58 [==============================] - 0s 7ms/step - loss: 0.3051 - accuracy: 0.9755 - val_loss: 1.1641 - val_accuracy: 0.6129\n",
            "Epoch 121/300\n",
            "58/58 [==============================] - 0s 7ms/step - loss: 0.2989 - accuracy: 0.9752 - val_loss: 1.1759 - val_accuracy: 0.6117\n",
            "Epoch 122/300\n",
            "58/58 [==============================] - 0s 7ms/step - loss: 0.2961 - accuracy: 0.9782 - val_loss: 1.1536 - val_accuracy: 0.6206\n",
            "Epoch 123/300\n",
            "58/58 [==============================] - 0s 8ms/step - loss: 0.2890 - accuracy: 0.9761 - val_loss: 1.1697 - val_accuracy: 0.5964\n",
            "Epoch 124/300\n",
            "58/58 [==============================] - 0s 7ms/step - loss: 0.2803 - accuracy: 0.9810 - val_loss: 1.2059 - val_accuracy: 0.5926\n",
            "Epoch 125/300\n",
            "58/58 [==============================] - 0s 8ms/step - loss: 0.2842 - accuracy: 0.9758 - val_loss: 1.1814 - val_accuracy: 0.6079\n",
            "Epoch 126/300\n",
            "58/58 [==============================] - 1s 9ms/step - loss: 0.2805 - accuracy: 0.9829 - val_loss: 1.1792 - val_accuracy: 0.6028\n",
            "Epoch 127/300\n",
            "58/58 [==============================] - 1s 10ms/step - loss: 0.2801 - accuracy: 0.9796 - val_loss: 1.1653 - val_accuracy: 0.6142\n",
            "Epoch 128/300\n",
            "58/58 [==============================] - 1s 10ms/step - loss: 0.2759 - accuracy: 0.9807 - val_loss: 1.1659 - val_accuracy: 0.6168\n",
            "Epoch 129/300\n",
            "58/58 [==============================] - 1s 10ms/step - loss: 0.2741 - accuracy: 0.9810 - val_loss: 1.1728 - val_accuracy: 0.6180\n",
            "Epoch 130/300\n",
            "58/58 [==============================] - 1s 10ms/step - loss: 0.2691 - accuracy: 0.9812 - val_loss: 1.1412 - val_accuracy: 0.6129\n",
            "Epoch 131/300\n",
            "58/58 [==============================] - 1s 11ms/step - loss: 0.2727 - accuracy: 0.9812 - val_loss: 1.1780 - val_accuracy: 0.6142\n",
            "Epoch 132/300\n",
            "58/58 [==============================] - 1s 10ms/step - loss: 0.2604 - accuracy: 0.9812 - val_loss: 1.1869 - val_accuracy: 0.6053\n",
            "Epoch 133/300\n",
            "58/58 [==============================] - 1s 10ms/step - loss: 0.2621 - accuracy: 0.9831 - val_loss: 1.1834 - val_accuracy: 0.6066\n",
            "Epoch 134/300\n",
            "58/58 [==============================] - 0s 8ms/step - loss: 0.2491 - accuracy: 0.9853 - val_loss: 1.1925 - val_accuracy: 0.6091\n",
            "Epoch 135/300\n",
            "58/58 [==============================] - 0s 8ms/step - loss: 0.2593 - accuracy: 0.9810 - val_loss: 1.1777 - val_accuracy: 0.6244\n",
            "Epoch 136/300\n",
            "58/58 [==============================] - 0s 8ms/step - loss: 0.2495 - accuracy: 0.9831 - val_loss: 1.1701 - val_accuracy: 0.6104\n",
            "Epoch 137/300\n",
            "58/58 [==============================] - 0s 8ms/step - loss: 0.2413 - accuracy: 0.9878 - val_loss: 1.1791 - val_accuracy: 0.6180\n",
            "Epoch 138/300\n",
            "58/58 [==============================] - 0s 7ms/step - loss: 0.2431 - accuracy: 0.9848 - val_loss: 1.1595 - val_accuracy: 0.6269\n",
            "Epoch 139/300\n",
            "58/58 [==============================] - 0s 8ms/step - loss: 0.2435 - accuracy: 0.9853 - val_loss: 1.1428 - val_accuracy: 0.6168\n",
            "Epoch 140/300\n",
            "58/58 [==============================] - 0s 8ms/step - loss: 0.2320 - accuracy: 0.9886 - val_loss: 1.1711 - val_accuracy: 0.6180\n",
            "Epoch 141/300\n",
            "58/58 [==============================] - 0s 8ms/step - loss: 0.2397 - accuracy: 0.9869 - val_loss: 1.1936 - val_accuracy: 0.5977\n",
            "Epoch 142/300\n",
            "58/58 [==============================] - 0s 8ms/step - loss: 0.2368 - accuracy: 0.9878 - val_loss: 1.1602 - val_accuracy: 0.6104\n",
            "Epoch 143/300\n",
            "58/58 [==============================] - 0s 7ms/step - loss: 0.2306 - accuracy: 0.9894 - val_loss: 1.1613 - val_accuracy: 0.6206\n",
            "Epoch 144/300\n",
            "58/58 [==============================] - 0s 7ms/step - loss: 0.2370 - accuracy: 0.9820 - val_loss: 1.2108 - val_accuracy: 0.5990\n",
            "Epoch 145/300\n",
            "58/58 [==============================] - 0s 8ms/step - loss: 0.2221 - accuracy: 0.9883 - val_loss: 1.1671 - val_accuracy: 0.6129\n",
            "Epoch 146/300\n",
            "58/58 [==============================] - 0s 8ms/step - loss: 0.2274 - accuracy: 0.9878 - val_loss: 1.1770 - val_accuracy: 0.6155\n",
            "Epoch 147/300\n",
            "58/58 [==============================] - 0s 7ms/step - loss: 0.2165 - accuracy: 0.9902 - val_loss: 1.1759 - val_accuracy: 0.6028\n",
            "Epoch 148/300\n",
            "58/58 [==============================] - 0s 7ms/step - loss: 0.2190 - accuracy: 0.9891 - val_loss: 1.1698 - val_accuracy: 0.6180\n",
            "Epoch 149/300\n",
            "58/58 [==============================] - 0s 8ms/step - loss: 0.2183 - accuracy: 0.9899 - val_loss: 1.1630 - val_accuracy: 0.6218\n",
            "Epoch 150/300\n",
            "58/58 [==============================] - 0s 7ms/step - loss: 0.2156 - accuracy: 0.9878 - val_loss: 1.1881 - val_accuracy: 0.6091\n",
            "Epoch 151/300\n",
            "58/58 [==============================] - 0s 8ms/step - loss: 0.2106 - accuracy: 0.9910 - val_loss: 1.1881 - val_accuracy: 0.6117\n",
            "Epoch 152/300\n",
            "58/58 [==============================] - 0s 8ms/step - loss: 0.2074 - accuracy: 0.9867 - val_loss: 1.1763 - val_accuracy: 0.6155\n",
            "Epoch 153/300\n",
            "58/58 [==============================] - 0s 8ms/step - loss: 0.1975 - accuracy: 0.9905 - val_loss: 1.1558 - val_accuracy: 0.6231\n",
            "Epoch 154/300\n",
            "58/58 [==============================] - 0s 8ms/step - loss: 0.2078 - accuracy: 0.9886 - val_loss: 1.1773 - val_accuracy: 0.6053\n",
            "Epoch 155/300\n",
            "58/58 [==============================] - 0s 8ms/step - loss: 0.2016 - accuracy: 0.9916 - val_loss: 1.1823 - val_accuracy: 0.6142\n",
            "Epoch 156/300\n",
            "58/58 [==============================] - 1s 10ms/step - loss: 0.2031 - accuracy: 0.9853 - val_loss: 1.1649 - val_accuracy: 0.6332\n",
            "Epoch 157/300\n",
            "58/58 [==============================] - 1s 10ms/step - loss: 0.2020 - accuracy: 0.9891 - val_loss: 1.1471 - val_accuracy: 0.6282\n",
            "Epoch 158/300\n",
            "58/58 [==============================] - 1s 10ms/step - loss: 0.1985 - accuracy: 0.9894 - val_loss: 1.1564 - val_accuracy: 0.6294\n",
            "Epoch 159/300\n",
            "58/58 [==============================] - 1s 10ms/step - loss: 0.1937 - accuracy: 0.9913 - val_loss: 1.1560 - val_accuracy: 0.6269\n",
            "Epoch 160/300\n",
            "58/58 [==============================] - 1s 10ms/step - loss: 0.1871 - accuracy: 0.9924 - val_loss: 1.1750 - val_accuracy: 0.6193\n",
            "Epoch 161/300\n",
            "58/58 [==============================] - 1s 10ms/step - loss: 0.1894 - accuracy: 0.9908 - val_loss: 1.2014 - val_accuracy: 0.5888\n",
            "Epoch 162/300\n",
            "58/58 [==============================] - 1s 10ms/step - loss: 0.1920 - accuracy: 0.9891 - val_loss: 1.1757 - val_accuracy: 0.6028\n",
            "Epoch 163/300\n",
            "58/58 [==============================] - 1s 10ms/step - loss: 0.1933 - accuracy: 0.9883 - val_loss: 1.1654 - val_accuracy: 0.6142\n",
            "Epoch 164/300\n",
            "58/58 [==============================] - 0s 8ms/step - loss: 0.1840 - accuracy: 0.9927 - val_loss: 1.1783 - val_accuracy: 0.6193\n",
            "Epoch 165/300\n",
            "58/58 [==============================] - 0s 8ms/step - loss: 0.1809 - accuracy: 0.9888 - val_loss: 1.1730 - val_accuracy: 0.6180\n",
            "Epoch 166/300\n",
            "58/58 [==============================] - 0s 7ms/step - loss: 0.1840 - accuracy: 0.9878 - val_loss: 1.1911 - val_accuracy: 0.6003\n",
            "Epoch 167/300\n",
            "58/58 [==============================] - 0s 8ms/step - loss: 0.1783 - accuracy: 0.9940 - val_loss: 1.1792 - val_accuracy: 0.6129\n",
            "Epoch 168/300\n",
            "58/58 [==============================] - 0s 8ms/step - loss: 0.1764 - accuracy: 0.9888 - val_loss: 1.1637 - val_accuracy: 0.6193\n",
            "Epoch 169/300\n",
            "58/58 [==============================] - 0s 7ms/step - loss: 0.1704 - accuracy: 0.9929 - val_loss: 1.1658 - val_accuracy: 0.6168\n",
            "Epoch 170/300\n",
            "58/58 [==============================] - 0s 7ms/step - loss: 0.1641 - accuracy: 0.9951 - val_loss: 1.1681 - val_accuracy: 0.6155\n",
            "Epoch 171/300\n",
            "58/58 [==============================] - 0s 8ms/step - loss: 0.1668 - accuracy: 0.9927 - val_loss: 1.1777 - val_accuracy: 0.6155\n",
            "Epoch 172/300\n",
            "58/58 [==============================] - 0s 7ms/step - loss: 0.1617 - accuracy: 0.9954 - val_loss: 1.1925 - val_accuracy: 0.6244\n",
            "Epoch 173/300\n",
            "58/58 [==============================] - 0s 7ms/step - loss: 0.1703 - accuracy: 0.9908 - val_loss: 1.2066 - val_accuracy: 0.6079\n",
            "Epoch 174/300\n",
            "58/58 [==============================] - 0s 8ms/step - loss: 0.1622 - accuracy: 0.9940 - val_loss: 1.2034 - val_accuracy: 0.6129\n",
            "Epoch 175/300\n",
            "58/58 [==============================] - 0s 8ms/step - loss: 0.1560 - accuracy: 0.9948 - val_loss: 1.1611 - val_accuracy: 0.6282\n",
            "Epoch 176/300\n",
            "58/58 [==============================] - 0s 8ms/step - loss: 0.1567 - accuracy: 0.9954 - val_loss: 1.1672 - val_accuracy: 0.6142\n",
            "Epoch 177/300\n",
            "58/58 [==============================] - 0s 8ms/step - loss: 0.1629 - accuracy: 0.9929 - val_loss: 1.1673 - val_accuracy: 0.6256\n",
            "Epoch 178/300\n",
            "58/58 [==============================] - 0s 8ms/step - loss: 0.1591 - accuracy: 0.9940 - val_loss: 1.1740 - val_accuracy: 0.6282\n",
            "Epoch 179/300\n",
            "58/58 [==============================] - 0s 8ms/step - loss: 0.1565 - accuracy: 0.9948 - val_loss: 1.1661 - val_accuracy: 0.6091\n",
            "Epoch 180/300\n",
            "58/58 [==============================] - 0s 8ms/step - loss: 0.1613 - accuracy: 0.9924 - val_loss: 1.1870 - val_accuracy: 0.6206\n",
            "Epoch 181/300\n",
            "58/58 [==============================] - 0s 7ms/step - loss: 0.1550 - accuracy: 0.9927 - val_loss: 1.2489 - val_accuracy: 0.5964\n",
            "Epoch 182/300\n",
            "58/58 [==============================] - 0s 8ms/step - loss: 0.1500 - accuracy: 0.9940 - val_loss: 1.1421 - val_accuracy: 0.6256\n",
            "Epoch 183/300\n",
            "58/58 [==============================] - 0s 8ms/step - loss: 0.1477 - accuracy: 0.9932 - val_loss: 1.1730 - val_accuracy: 0.6155\n",
            "Epoch 184/300\n",
            "58/58 [==============================] - 0s 7ms/step - loss: 0.1485 - accuracy: 0.9951 - val_loss: 1.1588 - val_accuracy: 0.6231\n",
            "Epoch 185/300\n",
            "58/58 [==============================] - 0s 8ms/step - loss: 0.1460 - accuracy: 0.9943 - val_loss: 1.2052 - val_accuracy: 0.6168\n",
            "Epoch 186/300\n",
            "58/58 [==============================] - 1s 10ms/step - loss: 0.1455 - accuracy: 0.9940 - val_loss: 1.2249 - val_accuracy: 0.6117\n",
            "Epoch 187/300\n",
            "58/58 [==============================] - 1s 10ms/step - loss: 0.1489 - accuracy: 0.9927 - val_loss: 1.2214 - val_accuracy: 0.5990\n",
            "Epoch 188/300\n",
            "58/58 [==============================] - 1s 10ms/step - loss: 0.1421 - accuracy: 0.9932 - val_loss: 1.1707 - val_accuracy: 0.6206\n",
            "Epoch 189/300\n",
            "58/58 [==============================] - 1s 10ms/step - loss: 0.1386 - accuracy: 0.9956 - val_loss: 1.2254 - val_accuracy: 0.6066\n",
            "Epoch 190/300\n",
            "58/58 [==============================] - 1s 10ms/step - loss: 0.1407 - accuracy: 0.9943 - val_loss: 1.1931 - val_accuracy: 0.6168\n",
            "Epoch 191/300\n",
            "58/58 [==============================] - 1s 10ms/step - loss: 0.1394 - accuracy: 0.9954 - val_loss: 1.1706 - val_accuracy: 0.6117\n",
            "Epoch 192/300\n",
            "58/58 [==============================] - 1s 10ms/step - loss: 0.1392 - accuracy: 0.9948 - val_loss: 1.1842 - val_accuracy: 0.6332\n",
            "Epoch 193/300\n",
            "58/58 [==============================] - 1s 10ms/step - loss: 0.1346 - accuracy: 0.9959 - val_loss: 1.1822 - val_accuracy: 0.6193\n",
            "Epoch 194/300\n",
            "58/58 [==============================] - 0s 8ms/step - loss: 0.1404 - accuracy: 0.9956 - val_loss: 1.2115 - val_accuracy: 0.6180\n",
            "Epoch 195/300\n",
            "58/58 [==============================] - 0s 7ms/step - loss: 0.1306 - accuracy: 0.9954 - val_loss: 1.1887 - val_accuracy: 0.6142\n",
            "Epoch 196/300\n",
            "58/58 [==============================] - 0s 7ms/step - loss: 0.1412 - accuracy: 0.9924 - val_loss: 1.2127 - val_accuracy: 0.6142\n",
            "Epoch 197/300\n",
            "58/58 [==============================] - 0s 7ms/step - loss: 0.1321 - accuracy: 0.9959 - val_loss: 1.2008 - val_accuracy: 0.6269\n",
            "Epoch 198/300\n",
            "58/58 [==============================] - 0s 8ms/step - loss: 0.1321 - accuracy: 0.9932 - val_loss: 1.1899 - val_accuracy: 0.6193\n",
            "Epoch 199/300\n",
            "58/58 [==============================] - 0s 7ms/step - loss: 0.1254 - accuracy: 0.9937 - val_loss: 1.1899 - val_accuracy: 0.6244\n",
            "Epoch 200/300\n",
            "58/58 [==============================] - 0s 8ms/step - loss: 0.1274 - accuracy: 0.9951 - val_loss: 1.2164 - val_accuracy: 0.6028\n",
            "Epoch 201/300\n",
            "58/58 [==============================] - 0s 8ms/step - loss: 0.1241 - accuracy: 0.9954 - val_loss: 1.1899 - val_accuracy: 0.6129\n",
            "Epoch 202/300\n",
            "58/58 [==============================] - 0s 7ms/step - loss: 0.1291 - accuracy: 0.9937 - val_loss: 1.1779 - val_accuracy: 0.6142\n",
            "Epoch 203/300\n",
            "58/58 [==============================] - 0s 8ms/step - loss: 0.1228 - accuracy: 0.9954 - val_loss: 1.2144 - val_accuracy: 0.6155\n",
            "Epoch 204/300\n",
            "58/58 [==============================] - 0s 8ms/step - loss: 0.1297 - accuracy: 0.9956 - val_loss: 1.2321 - val_accuracy: 0.6028\n",
            "Epoch 205/300\n",
            "58/58 [==============================] - 0s 8ms/step - loss: 0.1275 - accuracy: 0.9929 - val_loss: 1.2504 - val_accuracy: 0.6117\n",
            "Epoch 206/300\n",
            "58/58 [==============================] - 0s 8ms/step - loss: 0.1271 - accuracy: 0.9937 - val_loss: 1.1963 - val_accuracy: 0.6180\n",
            "Epoch 207/300\n",
            "58/58 [==============================] - 0s 7ms/step - loss: 0.1158 - accuracy: 0.9970 - val_loss: 1.2249 - val_accuracy: 0.6015\n",
            "Epoch 208/300\n",
            "58/58 [==============================] - 0s 7ms/step - loss: 0.1192 - accuracy: 0.9970 - val_loss: 1.1999 - val_accuracy: 0.6129\n",
            "Epoch 209/300\n",
            "58/58 [==============================] - 0s 7ms/step - loss: 0.1117 - accuracy: 0.9973 - val_loss: 1.1831 - val_accuracy: 0.6193\n",
            "Epoch 210/300\n",
            "58/58 [==============================] - 0s 8ms/step - loss: 0.1197 - accuracy: 0.9951 - val_loss: 1.1812 - val_accuracy: 0.6434\n",
            "Epoch 211/300\n",
            "58/58 [==============================] - 0s 8ms/step - loss: 0.1178 - accuracy: 0.9970 - val_loss: 1.1937 - val_accuracy: 0.6168\n",
            "Epoch 212/300\n",
            "58/58 [==============================] - 0s 7ms/step - loss: 0.1133 - accuracy: 0.9956 - val_loss: 1.2183 - val_accuracy: 0.6015\n",
            "Epoch 213/300\n",
            "58/58 [==============================] - 0s 8ms/step - loss: 0.1106 - accuracy: 0.9973 - val_loss: 1.1986 - val_accuracy: 0.6142\n",
            "Epoch 214/300\n",
            "58/58 [==============================] - 0s 7ms/step - loss: 0.1099 - accuracy: 0.9976 - val_loss: 1.2420 - val_accuracy: 0.6231\n",
            "Epoch 215/300\n",
            "58/58 [==============================] - 0s 8ms/step - loss: 0.1088 - accuracy: 0.9970 - val_loss: 1.1789 - val_accuracy: 0.6244\n",
            "Epoch 216/300\n",
            "58/58 [==============================] - 1s 10ms/step - loss: 0.1138 - accuracy: 0.9951 - val_loss: 1.1860 - val_accuracy: 0.6142\n",
            "Epoch 217/300\n",
            "58/58 [==============================] - 1s 10ms/step - loss: 0.1140 - accuracy: 0.9959 - val_loss: 1.1968 - val_accuracy: 0.6332\n",
            "Epoch 218/300\n",
            "58/58 [==============================] - 1s 10ms/step - loss: 0.1080 - accuracy: 0.9965 - val_loss: 1.2054 - val_accuracy: 0.6168\n",
            "Epoch 219/300\n",
            "58/58 [==============================] - 1s 10ms/step - loss: 0.1033 - accuracy: 0.9976 - val_loss: 1.2714 - val_accuracy: 0.5939\n",
            "Epoch 220/300\n",
            "58/58 [==============================] - 1s 10ms/step - loss: 0.1033 - accuracy: 0.9965 - val_loss: 1.1822 - val_accuracy: 0.6256\n",
            "Epoch 221/300\n",
            "58/58 [==============================] - 1s 10ms/step - loss: 0.0975 - accuracy: 0.9986 - val_loss: 1.1906 - val_accuracy: 0.6244\n",
            "Epoch 222/300\n",
            "58/58 [==============================] - 1s 11ms/step - loss: 0.0998 - accuracy: 0.9970 - val_loss: 1.1932 - val_accuracy: 0.6307\n",
            "Epoch 223/300\n",
            "58/58 [==============================] - 1s 10ms/step - loss: 0.1031 - accuracy: 0.9962 - val_loss: 1.2004 - val_accuracy: 0.6231\n",
            "Epoch 224/300\n",
            "58/58 [==============================] - 0s 8ms/step - loss: 0.0999 - accuracy: 0.9967 - val_loss: 1.1928 - val_accuracy: 0.6193\n",
            "Epoch 225/300\n",
            "58/58 [==============================] - 0s 8ms/step - loss: 0.1039 - accuracy: 0.9965 - val_loss: 1.2188 - val_accuracy: 0.6041\n",
            "Epoch 226/300\n",
            "58/58 [==============================] - 0s 8ms/step - loss: 0.1006 - accuracy: 0.9965 - val_loss: 1.1822 - val_accuracy: 0.6180\n",
            "Epoch 227/300\n",
            "58/58 [==============================] - 0s 8ms/step - loss: 0.1017 - accuracy: 0.9946 - val_loss: 1.2168 - val_accuracy: 0.6066\n",
            "Epoch 228/300\n",
            "58/58 [==============================] - 0s 7ms/step - loss: 0.0999 - accuracy: 0.9962 - val_loss: 1.2198 - val_accuracy: 0.6231\n",
            "Epoch 229/300\n",
            "58/58 [==============================] - 0s 7ms/step - loss: 0.0969 - accuracy: 0.9962 - val_loss: 1.2083 - val_accuracy: 0.6142\n",
            "Epoch 230/300\n",
            "58/58 [==============================] - 0s 7ms/step - loss: 0.0948 - accuracy: 0.9967 - val_loss: 1.2332 - val_accuracy: 0.5964\n",
            "Epoch 231/300\n",
            "58/58 [==============================] - 0s 7ms/step - loss: 0.0942 - accuracy: 0.9973 - val_loss: 1.2491 - val_accuracy: 0.6206\n",
            "Epoch 232/300\n",
            "58/58 [==============================] - 0s 8ms/step - loss: 0.0946 - accuracy: 0.9951 - val_loss: 1.2239 - val_accuracy: 0.6041\n",
            "Epoch 233/300\n",
            "58/58 [==============================] - 0s 8ms/step - loss: 0.0975 - accuracy: 0.9970 - val_loss: 1.2471 - val_accuracy: 0.6218\n",
            "Epoch 234/300\n",
            "58/58 [==============================] - 0s 7ms/step - loss: 0.0955 - accuracy: 0.9965 - val_loss: 1.1918 - val_accuracy: 0.6307\n",
            "Epoch 235/300\n",
            "58/58 [==============================] - 0s 7ms/step - loss: 0.0892 - accuracy: 0.9978 - val_loss: 1.2466 - val_accuracy: 0.6091\n",
            "Epoch 236/300\n",
            "58/58 [==============================] - 0s 8ms/step - loss: 0.0884 - accuracy: 0.9981 - val_loss: 1.2093 - val_accuracy: 0.6129\n",
            "Epoch 237/300\n",
            "58/58 [==============================] - 0s 7ms/step - loss: 0.0873 - accuracy: 0.9973 - val_loss: 1.2200 - val_accuracy: 0.6091\n",
            "Epoch 238/300\n",
            "58/58 [==============================] - 0s 8ms/step - loss: 0.0871 - accuracy: 0.9978 - val_loss: 1.1994 - val_accuracy: 0.6269\n",
            "Epoch 239/300\n",
            "58/58 [==============================] - 0s 8ms/step - loss: 0.0847 - accuracy: 0.9976 - val_loss: 1.1928 - val_accuracy: 0.6193\n",
            "Epoch 240/300\n",
            "58/58 [==============================] - 0s 8ms/step - loss: 0.0860 - accuracy: 0.9976 - val_loss: 1.2378 - val_accuracy: 0.6028\n",
            "Epoch 241/300\n",
            "58/58 [==============================] - 0s 8ms/step - loss: 0.0850 - accuracy: 0.9984 - val_loss: 1.2101 - val_accuracy: 0.6142\n",
            "Epoch 242/300\n",
            "58/58 [==============================] - 0s 8ms/step - loss: 0.0858 - accuracy: 0.9981 - val_loss: 1.1991 - val_accuracy: 0.6168\n",
            "Epoch 243/300\n",
            "58/58 [==============================] - 0s 7ms/step - loss: 0.0847 - accuracy: 0.9962 - val_loss: 1.1795 - val_accuracy: 0.6142\n",
            "Epoch 244/300\n",
            "58/58 [==============================] - 0s 7ms/step - loss: 0.0817 - accuracy: 0.9986 - val_loss: 1.2088 - val_accuracy: 0.6231\n",
            "Epoch 245/300\n",
            "58/58 [==============================] - 0s 8ms/step - loss: 0.0804 - accuracy: 0.9981 - val_loss: 1.2371 - val_accuracy: 0.6231\n",
            "Epoch 246/300\n",
            "58/58 [==============================] - 1s 10ms/step - loss: 0.0824 - accuracy: 0.9978 - val_loss: 1.2179 - val_accuracy: 0.6193\n",
            "Epoch 247/300\n",
            "58/58 [==============================] - 1s 10ms/step - loss: 0.0815 - accuracy: 0.9981 - val_loss: 1.2137 - val_accuracy: 0.6129\n",
            "Epoch 248/300\n",
            "58/58 [==============================] - 1s 11ms/step - loss: 0.0822 - accuracy: 0.9978 - val_loss: 1.2615 - val_accuracy: 0.6104\n",
            "Epoch 249/300\n",
            "58/58 [==============================] - 1s 10ms/step - loss: 0.0839 - accuracy: 0.9973 - val_loss: 1.2124 - val_accuracy: 0.6206\n",
            "Epoch 250/300\n",
            "58/58 [==============================] - 1s 11ms/step - loss: 0.0777 - accuracy: 0.9986 - val_loss: 1.2051 - val_accuracy: 0.6244\n",
            "Epoch 251/300\n",
            "58/58 [==============================] - 1s 11ms/step - loss: 0.0793 - accuracy: 0.9965 - val_loss: 1.2002 - val_accuracy: 0.6142\n",
            "Epoch 252/300\n",
            "58/58 [==============================] - 1s 10ms/step - loss: 0.0776 - accuracy: 0.9978 - val_loss: 1.2463 - val_accuracy: 0.6294\n",
            "Epoch 253/300\n",
            "58/58 [==============================] - 1s 9ms/step - loss: 0.0834 - accuracy: 0.9973 - val_loss: 1.2183 - val_accuracy: 0.6218\n",
            "Epoch 254/300\n",
            "58/58 [==============================] - 0s 7ms/step - loss: 0.0764 - accuracy: 0.9970 - val_loss: 1.2173 - val_accuracy: 0.6180\n",
            "Epoch 255/300\n",
            "58/58 [==============================] - 0s 8ms/step - loss: 0.0788 - accuracy: 0.9976 - val_loss: 1.2546 - val_accuracy: 0.6003\n",
            "Epoch 256/300\n",
            "58/58 [==============================] - 0s 7ms/step - loss: 0.0779 - accuracy: 0.9973 - val_loss: 1.2311 - val_accuracy: 0.6041\n",
            "Epoch 257/300\n",
            "58/58 [==============================] - 0s 8ms/step - loss: 0.0772 - accuracy: 0.9962 - val_loss: 1.3115 - val_accuracy: 0.5990\n",
            "Epoch 258/300\n",
            "58/58 [==============================] - 0s 7ms/step - loss: 0.0735 - accuracy: 0.9970 - val_loss: 1.2288 - val_accuracy: 0.6206\n",
            "Epoch 259/300\n",
            "58/58 [==============================] - 0s 7ms/step - loss: 0.0733 - accuracy: 0.9970 - val_loss: 1.2111 - val_accuracy: 0.6244\n",
            "Epoch 260/300\n",
            "58/58 [==============================] - 0s 8ms/step - loss: 0.0746 - accuracy: 0.9981 - val_loss: 1.2091 - val_accuracy: 0.6218\n",
            "Epoch 261/300\n",
            "58/58 [==============================] - 0s 7ms/step - loss: 0.0763 - accuracy: 0.9986 - val_loss: 1.2196 - val_accuracy: 0.6193\n",
            "Epoch 262/300\n",
            "58/58 [==============================] - 0s 8ms/step - loss: 0.0694 - accuracy: 0.9984 - val_loss: 1.2764 - val_accuracy: 0.6028\n",
            "Epoch 263/300\n",
            "58/58 [==============================] - 0s 8ms/step - loss: 0.0762 - accuracy: 0.9976 - val_loss: 1.2302 - val_accuracy: 0.6256\n",
            "Epoch 264/300\n",
            "58/58 [==============================] - 0s 8ms/step - loss: 0.0717 - accuracy: 0.9967 - val_loss: 1.2358 - val_accuracy: 0.6091\n",
            "Epoch 265/300\n",
            "58/58 [==============================] - 0s 7ms/step - loss: 0.0779 - accuracy: 0.9970 - val_loss: 1.2504 - val_accuracy: 0.5952\n",
            "Epoch 266/300\n",
            "58/58 [==============================] - 0s 8ms/step - loss: 0.0687 - accuracy: 0.9976 - val_loss: 1.2197 - val_accuracy: 0.6091\n",
            "Epoch 267/300\n",
            "58/58 [==============================] - 0s 7ms/step - loss: 0.0694 - accuracy: 0.9976 - val_loss: 1.2057 - val_accuracy: 0.6383\n",
            "Epoch 268/300\n",
            "58/58 [==============================] - 0s 8ms/step - loss: 0.0711 - accuracy: 0.9978 - val_loss: 1.2417 - val_accuracy: 0.6206\n",
            "Epoch 269/300\n",
            "58/58 [==============================] - 0s 8ms/step - loss: 0.0670 - accuracy: 0.9984 - val_loss: 1.2575 - val_accuracy: 0.6041\n",
            "Epoch 270/300\n",
            "58/58 [==============================] - 0s 8ms/step - loss: 0.0689 - accuracy: 0.9976 - val_loss: 1.2175 - val_accuracy: 0.6269\n",
            "Epoch 271/300\n",
            "58/58 [==============================] - 0s 8ms/step - loss: 0.0647 - accuracy: 0.9995 - val_loss: 1.2096 - val_accuracy: 0.6117\n",
            "Epoch 272/300\n",
            "58/58 [==============================] - 0s 8ms/step - loss: 0.0672 - accuracy: 0.9978 - val_loss: 1.2117 - val_accuracy: 0.6117\n",
            "Epoch 273/300\n",
            "58/58 [==============================] - 0s 8ms/step - loss: 0.0677 - accuracy: 0.9973 - val_loss: 1.2395 - val_accuracy: 0.6041\n",
            "Epoch 274/300\n",
            "58/58 [==============================] - 0s 7ms/step - loss: 0.0705 - accuracy: 0.9973 - val_loss: 1.2285 - val_accuracy: 0.6142\n",
            "Epoch 275/300\n",
            "58/58 [==============================] - 1s 9ms/step - loss: 0.0682 - accuracy: 0.9978 - val_loss: 1.2289 - val_accuracy: 0.6206\n",
            "Epoch 276/300\n",
            "58/58 [==============================] - 1s 10ms/step - loss: 0.0616 - accuracy: 0.9986 - val_loss: 1.2467 - val_accuracy: 0.6168\n",
            "Epoch 277/300\n",
            "58/58 [==============================] - 1s 10ms/step - loss: 0.0625 - accuracy: 0.9984 - val_loss: 1.2596 - val_accuracy: 0.6079\n",
            "Epoch 278/300\n",
            "58/58 [==============================] - 1s 10ms/step - loss: 0.0664 - accuracy: 0.9981 - val_loss: 1.2727 - val_accuracy: 0.6117\n",
            "Epoch 279/300\n",
            "58/58 [==============================] - 1s 11ms/step - loss: 0.0604 - accuracy: 0.9986 - val_loss: 1.2423 - val_accuracy: 0.6218\n",
            "Epoch 280/300\n",
            "58/58 [==============================] - 1s 11ms/step - loss: 0.0604 - accuracy: 0.9995 - val_loss: 1.2186 - val_accuracy: 0.6218\n",
            "Epoch 281/300\n",
            "58/58 [==============================] - 1s 10ms/step - loss: 0.0663 - accuracy: 0.9959 - val_loss: 1.2519 - val_accuracy: 0.6041\n",
            "Epoch 282/300\n",
            "58/58 [==============================] - 1s 11ms/step - loss: 0.0621 - accuracy: 0.9978 - val_loss: 1.2285 - val_accuracy: 0.6396\n",
            "Epoch 283/300\n",
            "58/58 [==============================] - 1s 9ms/step - loss: 0.0562 - accuracy: 0.9992 - val_loss: 1.2466 - val_accuracy: 0.6218\n",
            "Epoch 284/300\n",
            "58/58 [==============================] - 0s 8ms/step - loss: 0.0595 - accuracy: 0.9978 - val_loss: 1.2172 - val_accuracy: 0.6256\n",
            "Epoch 285/300\n",
            "58/58 [==============================] - 0s 7ms/step - loss: 0.0629 - accuracy: 0.9973 - val_loss: 1.2105 - val_accuracy: 0.6117\n",
            "Epoch 286/300\n",
            "58/58 [==============================] - 0s 7ms/step - loss: 0.0605 - accuracy: 0.9978 - val_loss: 1.3016 - val_accuracy: 0.5926\n",
            "Epoch 287/300\n",
            "58/58 [==============================] - 0s 7ms/step - loss: 0.0583 - accuracy: 0.9989 - val_loss: 1.2180 - val_accuracy: 0.6129\n",
            "Epoch 288/300\n",
            "58/58 [==============================] - 0s 7ms/step - loss: 0.0615 - accuracy: 0.9984 - val_loss: 1.2181 - val_accuracy: 0.6206\n",
            "Epoch 289/300\n",
            "58/58 [==============================] - 0s 8ms/step - loss: 0.0584 - accuracy: 0.9981 - val_loss: 1.2411 - val_accuracy: 0.6269\n",
            "Epoch 290/300\n",
            "58/58 [==============================] - 0s 8ms/step - loss: 0.0573 - accuracy: 0.9984 - val_loss: 1.2113 - val_accuracy: 0.6269\n",
            "Epoch 291/300\n",
            "58/58 [==============================] - 0s 8ms/step - loss: 0.0593 - accuracy: 0.9981 - val_loss: 1.2542 - val_accuracy: 0.6142\n",
            "Epoch 292/300\n",
            "58/58 [==============================] - 0s 7ms/step - loss: 0.0597 - accuracy: 0.9981 - val_loss: 1.2491 - val_accuracy: 0.6142\n",
            "Epoch 293/300\n",
            "58/58 [==============================] - 0s 8ms/step - loss: 0.0566 - accuracy: 0.9978 - val_loss: 1.2353 - val_accuracy: 0.6193\n",
            "Epoch 294/300\n",
            "58/58 [==============================] - 0s 8ms/step - loss: 0.0602 - accuracy: 0.9967 - val_loss: 1.2171 - val_accuracy: 0.6193\n",
            "Epoch 295/300\n",
            "58/58 [==============================] - 0s 8ms/step - loss: 0.0516 - accuracy: 0.9992 - val_loss: 1.1938 - val_accuracy: 0.6244\n",
            "Epoch 296/300\n",
            "58/58 [==============================] - 0s 8ms/step - loss: 0.0566 - accuracy: 0.9984 - val_loss: 1.2000 - val_accuracy: 0.6371\n",
            "Epoch 297/300\n",
            "58/58 [==============================] - 0s 8ms/step - loss: 0.0541 - accuracy: 0.9986 - val_loss: 1.2018 - val_accuracy: 0.6218\n",
            "Epoch 298/300\n",
            "58/58 [==============================] - 0s 8ms/step - loss: 0.0535 - accuracy: 0.9995 - val_loss: 1.2509 - val_accuracy: 0.6206\n",
            "Epoch 299/300\n",
            "58/58 [==============================] - 0s 8ms/step - loss: 0.0525 - accuracy: 0.9989 - val_loss: 1.2248 - val_accuracy: 0.6269\n",
            "Epoch 300/300\n",
            "58/58 [==============================] - 0s 8ms/step - loss: 0.0545 - accuracy: 0.9981 - val_loss: 1.2455 - val_accuracy: 0.6320\n"
          ]
        },
        {
          "output_type": "execute_result",
          "data": {
            "text/plain": [
              "<keras.src.callbacks.History at 0x7d005a7dd780>"
            ]
          },
          "metadata": {},
          "execution_count": 67
        }
      ]
    },
    {
      "cell_type": "code",
      "source": [
        "y_pred = model.predict(X_test)\n",
        "# Chuyển dự đoán thành danh sách các lớp\n",
        "y_pred_labels = np.argmax(y_pred, axis=1)\n",
        "\n",
        "# Sau đó, bạn có thể tính classification report bằng scikit-learn\n",
        "from sklearn.metrics import classification_report\n",
        "print(classification_report(y_test, y_pred_labels))"
      ],
      "metadata": {
        "colab": {
          "base_uri": "https://localhost:8080/"
        },
        "id": "yhRNVkkDnnEi",
        "outputId": "0943d824-3eb8-4bdd-da3d-5ad4a00ba333"
      },
      "execution_count": null,
      "outputs": [
        {
          "output_type": "stream",
          "name": "stdout",
          "text": [
            "25/25 [==============================] - 0s 2ms/step\n",
            "              precision    recall  f1-score   support\n",
            "\n",
            "           0       0.62      0.63      0.63        82\n",
            "           1       0.45      0.49      0.47        49\n",
            "           2       0.65      0.60      0.62       110\n",
            "           3       0.66      0.67      0.67       113\n",
            "           4       0.71      0.62      0.66       126\n",
            "           5       0.56      0.72      0.63       107\n",
            "           6       0.72      0.66      0.69        97\n",
            "           7       0.49      0.46      0.48       104\n",
            "\n",
            "    accuracy                           0.62       788\n",
            "   macro avg       0.61      0.61      0.61       788\n",
            "weighted avg       0.62      0.62      0.62       788\n",
            "\n"
          ]
        }
      ]
    },
    {
      "cell_type": "code",
      "source": [
        "model.save('/content/drive/MyDrive/Study/Năm 3/CS337-Xử lý âm thanh và tiếng nói/model/CNN_prosodic.h5')"
      ],
      "metadata": {
        "id": "zBC5lpTF4_l1"
      },
      "execution_count": null,
      "outputs": []
    },
    {
      "cell_type": "markdown",
      "source": [
        "### Dùng full feature"
      ],
      "metadata": {
        "id": "c27Hyp-Fgb1Y"
      }
    },
    {
      "cell_type": "code",
      "source": [
        "features = \"full_features\"\n",
        "# load data\n",
        "feature_path = root_data + \"/\" + features + \"/\"\n",
        "X_train = joblib.load(feature_path + 'X_train.joblib')\n",
        "y_train = joblib.load(feature_path + 'y_train.joblib')\n",
        "X_test = joblib.load(feature_path + 'X_test.joblib')\n",
        "y_test = joblib.load(feature_path + 'y_test.joblib')\n",
        "X_dev = joblib.load(feature_path + 'X_dev.joblib')\n",
        "y_dev = joblib.load(feature_path + 'y_dev.joblib')\n",
        "# Chuẩn hóa dữ liệu\n",
        "scaler = StandardScaler()\n",
        "X_train = scaler.fit_transform(X_train)\n",
        "X_test = scaler.transform(X_test)\n",
        "X_dev = scaler.transform(X_dev)\n",
        "# reshape\n",
        "X_train = np.expand_dims(X_train, axis=2)\n",
        "X_dev = np.expand_dims(X_dev, axis=2)\n",
        "X_test = np.expand_dims(X_test, axis=2)\n",
        "\n",
        "y_train = to_categorical(y_train, num_classes=8)\n",
        "y_dev = to_categorical(y_dev, num_classes=8)\n",
        "\n",
        "X_train.shape, X_dev.shape, X_test.shape, y_train.shape, y_dev.shape"
      ],
      "metadata": {
        "colab": {
          "base_uri": "https://localhost:8080/"
        },
        "id": "vjvCFr1igdcL",
        "outputId": "ee6c8d06-a4a1-4875-bc6e-d1ef7597a6c8"
      },
      "execution_count": null,
      "outputs": [
        {
          "output_type": "execute_result",
          "data": {
            "text/plain": [
              "((3676, 260, 1), (788, 260, 1), (788, 260, 1), (3676, 8), (788, 8))"
            ]
          },
          "metadata": {},
          "execution_count": 71
        }
      ]
    },
    {
      "cell_type": "code",
      "source": [
        "from keras.models import Sequential\n",
        "from keras.layers import Conv1D, MaxPooling1D, Dropout, Activation, BatchNormalization, Dense, Flatten\n",
        "from keras.optimizers import RMSprop\n",
        "\n",
        "model = Sequential()\n",
        "model.add(Conv1D(filters=256, kernel_size=5, padding='same', input_shape=(260, 1)))\n",
        "model.add(Activation('relu'))\n",
        "model.add(Dropout(0.1))\n",
        "model.add(MaxPooling1D(pool_size=8))\n",
        "model.add(Conv1D(filters=128, kernel_size=5, padding='same'))\n",
        "model.add(BatchNormalization())\n",
        "model.add(Activation('relu'))\n",
        "model.add(Conv1D(filters=128, kernel_size=5, padding='same'))\n",
        "model.add(Activation('relu'))\n",
        "model.add(Dropout(0.1))\n",
        "model.add(Conv1D(filters=64, kernel_size=5, padding='same'))\n",
        "model.add(Activation('relu'))\n",
        "model.add(Flatten())\n",
        "model.add(Dense(units=8))\n",
        "model.add(BatchNormalization())\n",
        "model.add(Activation('softmax'))\n",
        "\n",
        "opt = RMSprop(learning_rate=0.0001, weight_decay=1e-6)\n",
        "\n",
        "model.compile(optimizer=opt, loss='categorical_crossentropy', metrics=['accuracy'])\n",
        "\n",
        "model.fit(X_train, y_train, batch_size=64, epochs=300, validation_data=(X_dev, y_dev))"
      ],
      "metadata": {
        "colab": {
          "base_uri": "https://localhost:8080/"
        },
        "id": "3mgYR0xTnxiG",
        "outputId": "da213cae-336d-41d8-e693-c28f3fe35688"
      },
      "execution_count": null,
      "outputs": [
        {
          "output_type": "stream",
          "name": "stdout",
          "text": [
            "Epoch 1/300\n",
            "58/58 [==============================] - 4s 24ms/step - loss: 1.4818 - accuracy: 0.5041 - val_loss: 1.9774 - val_accuracy: 0.3731\n",
            "Epoch 2/300\n",
            "58/58 [==============================] - 1s 10ms/step - loss: 1.1657 - accuracy: 0.6523 - val_loss: 1.9184 - val_accuracy: 0.2843\n",
            "Epoch 3/300\n",
            "58/58 [==============================] - 1s 9ms/step - loss: 1.0725 - accuracy: 0.6964 - val_loss: 1.8311 - val_accuracy: 0.3997\n",
            "Epoch 4/300\n",
            "58/58 [==============================] - 1s 9ms/step - loss: 0.9930 - accuracy: 0.7307 - val_loss: 1.6937 - val_accuracy: 0.4975\n",
            "Epoch 5/300\n",
            "58/58 [==============================] - 1s 9ms/step - loss: 0.9454 - accuracy: 0.7527 - val_loss: 1.5661 - val_accuracy: 0.5926\n",
            "Epoch 6/300\n",
            "58/58 [==============================] - 1s 11ms/step - loss: 0.9048 - accuracy: 0.7737 - val_loss: 1.4683 - val_accuracy: 0.6218\n",
            "Epoch 7/300\n",
            "58/58 [==============================] - 1s 11ms/step - loss: 0.8692 - accuracy: 0.7826 - val_loss: 1.2699 - val_accuracy: 0.7030\n",
            "Epoch 8/300\n",
            "58/58 [==============================] - 1s 11ms/step - loss: 0.8386 - accuracy: 0.7971 - val_loss: 1.1817 - val_accuracy: 0.7284\n",
            "Epoch 9/300\n",
            "58/58 [==============================] - 1s 11ms/step - loss: 0.8162 - accuracy: 0.8082 - val_loss: 1.0260 - val_accuracy: 0.7931\n",
            "Epoch 10/300\n",
            "58/58 [==============================] - 1s 11ms/step - loss: 0.7937 - accuracy: 0.8150 - val_loss: 0.9970 - val_accuracy: 0.7843\n",
            "Epoch 11/300\n",
            "58/58 [==============================] - 1s 11ms/step - loss: 0.7683 - accuracy: 0.8297 - val_loss: 0.9074 - val_accuracy: 0.7906\n",
            "Epoch 12/300\n",
            "58/58 [==============================] - 1s 11ms/step - loss: 0.7593 - accuracy: 0.8322 - val_loss: 0.8851 - val_accuracy: 0.8122\n",
            "Epoch 13/300\n",
            "58/58 [==============================] - 1s 9ms/step - loss: 0.7353 - accuracy: 0.8485 - val_loss: 0.8574 - val_accuracy: 0.8173\n",
            "Epoch 14/300\n",
            "58/58 [==============================] - 1s 9ms/step - loss: 0.7215 - accuracy: 0.8547 - val_loss: 0.7836 - val_accuracy: 0.8211\n",
            "Epoch 15/300\n",
            "58/58 [==============================] - 1s 9ms/step - loss: 0.6931 - accuracy: 0.8632 - val_loss: 0.8208 - val_accuracy: 0.8299\n",
            "Epoch 16/300\n",
            "58/58 [==============================] - 1s 9ms/step - loss: 0.6951 - accuracy: 0.8555 - val_loss: 0.7802 - val_accuracy: 0.8122\n",
            "Epoch 17/300\n",
            "58/58 [==============================] - 1s 9ms/step - loss: 0.6832 - accuracy: 0.8689 - val_loss: 0.7755 - val_accuracy: 0.8185\n",
            "Epoch 18/300\n",
            "58/58 [==============================] - 1s 10ms/step - loss: 0.6620 - accuracy: 0.8697 - val_loss: 0.7495 - val_accuracy: 0.8211\n",
            "Epoch 19/300\n",
            "58/58 [==============================] - 1s 9ms/step - loss: 0.6451 - accuracy: 0.8784 - val_loss: 0.8129 - val_accuracy: 0.8236\n",
            "Epoch 20/300\n",
            "58/58 [==============================] - 1s 9ms/step - loss: 0.6384 - accuracy: 0.8879 - val_loss: 0.7471 - val_accuracy: 0.8350\n",
            "Epoch 21/300\n",
            "58/58 [==============================] - 1s 9ms/step - loss: 0.6271 - accuracy: 0.8893 - val_loss: 0.7544 - val_accuracy: 0.8490\n",
            "Epoch 22/300\n",
            "58/58 [==============================] - 1s 9ms/step - loss: 0.6157 - accuracy: 0.8928 - val_loss: 0.7662 - val_accuracy: 0.8376\n",
            "Epoch 23/300\n",
            "58/58 [==============================] - 1s 9ms/step - loss: 0.6055 - accuracy: 0.8917 - val_loss: 0.7266 - val_accuracy: 0.8274\n",
            "Epoch 24/300\n",
            "58/58 [==============================] - 1s 9ms/step - loss: 0.5884 - accuracy: 0.9048 - val_loss: 0.7114 - val_accuracy: 0.8579\n",
            "Epoch 25/300\n",
            "58/58 [==============================] - 1s 9ms/step - loss: 0.5752 - accuracy: 0.9149 - val_loss: 0.7276 - val_accuracy: 0.8566\n",
            "Epoch 26/300\n",
            "58/58 [==============================] - 1s 9ms/step - loss: 0.5660 - accuracy: 0.9181 - val_loss: 0.7454 - val_accuracy: 0.8464\n",
            "Epoch 27/300\n",
            "58/58 [==============================] - 1s 9ms/step - loss: 0.5685 - accuracy: 0.9089 - val_loss: 0.7004 - val_accuracy: 0.8452\n",
            "Epoch 28/300\n",
            "58/58 [==============================] - 1s 9ms/step - loss: 0.5431 - accuracy: 0.9230 - val_loss: 0.7078 - val_accuracy: 0.8439\n",
            "Epoch 29/300\n",
            "58/58 [==============================] - 1s 9ms/step - loss: 0.5331 - accuracy: 0.9293 - val_loss: 0.6838 - val_accuracy: 0.8401\n",
            "Epoch 30/300\n",
            "58/58 [==============================] - 1s 9ms/step - loss: 0.5271 - accuracy: 0.9293 - val_loss: 0.7111 - val_accuracy: 0.8464\n",
            "Epoch 31/300\n",
            "58/58 [==============================] - 1s 11ms/step - loss: 0.5200 - accuracy: 0.9304 - val_loss: 0.6598 - val_accuracy: 0.8477\n",
            "Epoch 32/300\n",
            "58/58 [==============================] - 1s 11ms/step - loss: 0.5174 - accuracy: 0.9309 - val_loss: 0.6526 - val_accuracy: 0.8629\n",
            "Epoch 33/300\n",
            "58/58 [==============================] - 1s 11ms/step - loss: 0.4986 - accuracy: 0.9374 - val_loss: 0.7133 - val_accuracy: 0.8515\n",
            "Epoch 34/300\n",
            "58/58 [==============================] - 1s 11ms/step - loss: 0.4971 - accuracy: 0.9431 - val_loss: 0.6572 - val_accuracy: 0.8464\n",
            "Epoch 35/300\n",
            "58/58 [==============================] - 1s 11ms/step - loss: 0.4788 - accuracy: 0.9467 - val_loss: 0.7087 - val_accuracy: 0.8591\n",
            "Epoch 36/300\n",
            "58/58 [==============================] - 1s 11ms/step - loss: 0.4722 - accuracy: 0.9505 - val_loss: 0.6651 - val_accuracy: 0.8452\n",
            "Epoch 37/300\n",
            "58/58 [==============================] - 1s 11ms/step - loss: 0.4689 - accuracy: 0.9470 - val_loss: 0.6628 - val_accuracy: 0.8503\n",
            "Epoch 38/300\n",
            "58/58 [==============================] - 1s 9ms/step - loss: 0.4576 - accuracy: 0.9546 - val_loss: 0.6784 - val_accuracy: 0.8541\n",
            "Epoch 39/300\n",
            "58/58 [==============================] - 1s 9ms/step - loss: 0.4475 - accuracy: 0.9562 - val_loss: 0.6592 - val_accuracy: 0.8503\n",
            "Epoch 40/300\n",
            "58/58 [==============================] - 1s 9ms/step - loss: 0.4413 - accuracy: 0.9587 - val_loss: 0.6495 - val_accuracy: 0.8579\n",
            "Epoch 41/300\n",
            "58/58 [==============================] - 1s 9ms/step - loss: 0.4381 - accuracy: 0.9595 - val_loss: 0.6179 - val_accuracy: 0.8642\n",
            "Epoch 42/300\n",
            "58/58 [==============================] - 1s 9ms/step - loss: 0.4230 - accuracy: 0.9616 - val_loss: 0.6179 - val_accuracy: 0.8503\n",
            "Epoch 43/300\n",
            "58/58 [==============================] - 1s 9ms/step - loss: 0.4250 - accuracy: 0.9614 - val_loss: 0.6234 - val_accuracy: 0.8693\n",
            "Epoch 44/300\n",
            "58/58 [==============================] - 1s 9ms/step - loss: 0.4197 - accuracy: 0.9633 - val_loss: 0.6218 - val_accuracy: 0.8541\n",
            "Epoch 45/300\n",
            "58/58 [==============================] - 1s 9ms/step - loss: 0.4017 - accuracy: 0.9682 - val_loss: 0.6210 - val_accuracy: 0.8629\n",
            "Epoch 46/300\n",
            "58/58 [==============================] - 1s 9ms/step - loss: 0.4012 - accuracy: 0.9684 - val_loss: 0.6540 - val_accuracy: 0.8541\n",
            "Epoch 47/300\n",
            "58/58 [==============================] - 1s 9ms/step - loss: 0.3933 - accuracy: 0.9709 - val_loss: 0.6107 - val_accuracy: 0.8503\n",
            "Epoch 48/300\n",
            "58/58 [==============================] - 1s 9ms/step - loss: 0.3838 - accuracy: 0.9731 - val_loss: 0.6398 - val_accuracy: 0.8668\n",
            "Epoch 49/300\n",
            "58/58 [==============================] - 1s 9ms/step - loss: 0.3811 - accuracy: 0.9712 - val_loss: 0.6028 - val_accuracy: 0.8566\n",
            "Epoch 50/300\n",
            "58/58 [==============================] - 1s 9ms/step - loss: 0.3801 - accuracy: 0.9728 - val_loss: 0.6083 - val_accuracy: 0.8655\n",
            "Epoch 51/300\n",
            "58/58 [==============================] - 1s 9ms/step - loss: 0.3762 - accuracy: 0.9736 - val_loss: 0.6342 - val_accuracy: 0.8579\n",
            "Epoch 52/300\n",
            "58/58 [==============================] - 1s 9ms/step - loss: 0.3580 - accuracy: 0.9785 - val_loss: 0.6103 - val_accuracy: 0.8426\n",
            "Epoch 53/300\n",
            "58/58 [==============================] - 1s 9ms/step - loss: 0.3588 - accuracy: 0.9771 - val_loss: 0.5804 - val_accuracy: 0.8756\n",
            "Epoch 54/300\n",
            "58/58 [==============================] - 1s 9ms/step - loss: 0.3477 - accuracy: 0.9829 - val_loss: 0.5857 - val_accuracy: 0.8642\n",
            "Epoch 55/300\n",
            "58/58 [==============================] - 1s 11ms/step - loss: 0.3503 - accuracy: 0.9752 - val_loss: 0.5839 - val_accuracy: 0.8668\n",
            "Epoch 56/300\n",
            "58/58 [==============================] - 1s 15ms/step - loss: 0.3436 - accuracy: 0.9818 - val_loss: 0.5782 - val_accuracy: 0.8629\n",
            "Epoch 57/300\n",
            "58/58 [==============================] - 1s 17ms/step - loss: 0.3388 - accuracy: 0.9771 - val_loss: 0.5980 - val_accuracy: 0.8629\n",
            "Epoch 58/300\n",
            "58/58 [==============================] - 1s 15ms/step - loss: 0.3243 - accuracy: 0.9861 - val_loss: 0.5854 - val_accuracy: 0.8629\n",
            "Epoch 59/300\n",
            "58/58 [==============================] - 1s 18ms/step - loss: 0.3213 - accuracy: 0.9861 - val_loss: 0.5771 - val_accuracy: 0.8604\n",
            "Epoch 60/300\n",
            "58/58 [==============================] - 1s 18ms/step - loss: 0.3240 - accuracy: 0.9820 - val_loss: 0.5723 - val_accuracy: 0.8579\n",
            "Epoch 61/300\n",
            "58/58 [==============================] - 1s 14ms/step - loss: 0.3217 - accuracy: 0.9831 - val_loss: 0.6098 - val_accuracy: 0.8642\n",
            "Epoch 62/300\n",
            "58/58 [==============================] - 1s 12ms/step - loss: 0.3127 - accuracy: 0.9850 - val_loss: 0.5697 - val_accuracy: 0.8490\n",
            "Epoch 63/300\n",
            "58/58 [==============================] - 1s 12ms/step - loss: 0.3100 - accuracy: 0.9875 - val_loss: 0.5541 - val_accuracy: 0.8642\n",
            "Epoch 64/300\n",
            "58/58 [==============================] - 1s 13ms/step - loss: 0.2989 - accuracy: 0.9867 - val_loss: 0.5472 - val_accuracy: 0.8731\n",
            "Epoch 65/300\n",
            "58/58 [==============================] - 1s 11ms/step - loss: 0.2953 - accuracy: 0.9888 - val_loss: 0.6069 - val_accuracy: 0.8744\n",
            "Epoch 66/300\n",
            "58/58 [==============================] - 1s 12ms/step - loss: 0.2878 - accuracy: 0.9883 - val_loss: 0.5622 - val_accuracy: 0.8744\n",
            "Epoch 67/300\n",
            "58/58 [==============================] - 1s 12ms/step - loss: 0.2956 - accuracy: 0.9850 - val_loss: 0.5840 - val_accuracy: 0.8617\n",
            "Epoch 68/300\n",
            "58/58 [==============================] - 1s 11ms/step - loss: 0.2844 - accuracy: 0.9888 - val_loss: 0.5683 - val_accuracy: 0.8553\n",
            "Epoch 69/300\n",
            "58/58 [==============================] - 1s 12ms/step - loss: 0.2776 - accuracy: 0.9897 - val_loss: 0.5614 - val_accuracy: 0.8693\n",
            "Epoch 70/300\n",
            "58/58 [==============================] - 1s 12ms/step - loss: 0.2738 - accuracy: 0.9918 - val_loss: 0.5581 - val_accuracy: 0.8591\n",
            "Epoch 71/300\n",
            "58/58 [==============================] - 1s 11ms/step - loss: 0.2736 - accuracy: 0.9899 - val_loss: 0.5824 - val_accuracy: 0.8604\n",
            "Epoch 72/300\n",
            "58/58 [==============================] - 1s 13ms/step - loss: 0.2691 - accuracy: 0.9897 - val_loss: 0.5460 - val_accuracy: 0.8744\n",
            "Epoch 73/300\n",
            "58/58 [==============================] - 1s 10ms/step - loss: 0.2600 - accuracy: 0.9921 - val_loss: 0.5768 - val_accuracy: 0.8541\n",
            "Epoch 74/300\n",
            "58/58 [==============================] - 1s 9ms/step - loss: 0.2556 - accuracy: 0.9951 - val_loss: 0.5705 - val_accuracy: 0.8668\n",
            "Epoch 75/300\n",
            "58/58 [==============================] - 1s 9ms/step - loss: 0.2517 - accuracy: 0.9880 - val_loss: 0.5426 - val_accuracy: 0.8591\n",
            "Epoch 76/300\n",
            "58/58 [==============================] - 1s 11ms/step - loss: 0.2438 - accuracy: 0.9940 - val_loss: 0.5750 - val_accuracy: 0.8579\n",
            "Epoch 77/300\n",
            "58/58 [==============================] - 1s 11ms/step - loss: 0.2508 - accuracy: 0.9924 - val_loss: 0.5797 - val_accuracy: 0.8566\n",
            "Epoch 78/300\n",
            "58/58 [==============================] - 1s 11ms/step - loss: 0.2505 - accuracy: 0.9916 - val_loss: 0.4933 - val_accuracy: 0.8769\n",
            "Epoch 79/300\n",
            "58/58 [==============================] - 1s 11ms/step - loss: 0.2444 - accuracy: 0.9924 - val_loss: 0.5280 - val_accuracy: 0.8617\n",
            "Epoch 80/300\n",
            "58/58 [==============================] - 1s 11ms/step - loss: 0.2402 - accuracy: 0.9954 - val_loss: 0.5446 - val_accuracy: 0.8668\n",
            "Epoch 81/300\n",
            "58/58 [==============================] - 1s 13ms/step - loss: 0.2303 - accuracy: 0.9956 - val_loss: 0.4980 - val_accuracy: 0.8680\n",
            "Epoch 82/300\n",
            "58/58 [==============================] - 1s 11ms/step - loss: 0.2289 - accuracy: 0.9959 - val_loss: 0.5151 - val_accuracy: 0.8782\n",
            "Epoch 83/300\n",
            "58/58 [==============================] - 1s 9ms/step - loss: 0.2315 - accuracy: 0.9927 - val_loss: 0.4998 - val_accuracy: 0.8744\n",
            "Epoch 84/300\n",
            "58/58 [==============================] - 1s 9ms/step - loss: 0.2267 - accuracy: 0.9951 - val_loss: 0.5485 - val_accuracy: 0.8832\n",
            "Epoch 85/300\n",
            "58/58 [==============================] - 1s 9ms/step - loss: 0.2183 - accuracy: 0.9967 - val_loss: 0.5164 - val_accuracy: 0.8794\n",
            "Epoch 86/300\n",
            "58/58 [==============================] - 1s 9ms/step - loss: 0.2129 - accuracy: 0.9954 - val_loss: 0.5226 - val_accuracy: 0.8718\n",
            "Epoch 87/300\n",
            "58/58 [==============================] - 1s 9ms/step - loss: 0.2131 - accuracy: 0.9951 - val_loss: 0.5101 - val_accuracy: 0.8718\n",
            "Epoch 88/300\n",
            "58/58 [==============================] - 1s 9ms/step - loss: 0.2069 - accuracy: 0.9976 - val_loss: 0.5014 - val_accuracy: 0.8693\n",
            "Epoch 89/300\n",
            "58/58 [==============================] - 1s 9ms/step - loss: 0.2104 - accuracy: 0.9940 - val_loss: 0.5203 - val_accuracy: 0.8731\n",
            "Epoch 90/300\n",
            "58/58 [==============================] - 1s 9ms/step - loss: 0.2032 - accuracy: 0.9970 - val_loss: 0.5045 - val_accuracy: 0.8718\n",
            "Epoch 91/300\n",
            "58/58 [==============================] - 1s 9ms/step - loss: 0.2038 - accuracy: 0.9965 - val_loss: 0.5294 - val_accuracy: 0.8706\n",
            "Epoch 92/300\n",
            "58/58 [==============================] - 1s 9ms/step - loss: 0.1964 - accuracy: 0.9967 - val_loss: 0.5040 - val_accuracy: 0.8668\n",
            "Epoch 93/300\n",
            "58/58 [==============================] - 1s 9ms/step - loss: 0.1949 - accuracy: 0.9973 - val_loss: 0.5418 - val_accuracy: 0.8528\n",
            "Epoch 94/300\n",
            "58/58 [==============================] - 1s 9ms/step - loss: 0.1931 - accuracy: 0.9956 - val_loss: 0.4992 - val_accuracy: 0.8528\n",
            "Epoch 95/300\n",
            "58/58 [==============================] - 1s 9ms/step - loss: 0.1847 - accuracy: 0.9981 - val_loss: 0.5193 - val_accuracy: 0.8693\n",
            "Epoch 96/300\n",
            "58/58 [==============================] - 1s 9ms/step - loss: 0.1883 - accuracy: 0.9967 - val_loss: 0.5095 - val_accuracy: 0.8693\n",
            "Epoch 97/300\n",
            "58/58 [==============================] - 1s 9ms/step - loss: 0.1866 - accuracy: 0.9970 - val_loss: 0.5480 - val_accuracy: 0.8553\n",
            "Epoch 98/300\n",
            "58/58 [==============================] - 1s 9ms/step - loss: 0.1881 - accuracy: 0.9965 - val_loss: 0.4993 - val_accuracy: 0.8668\n",
            "Epoch 99/300\n",
            "58/58 [==============================] - 1s 9ms/step - loss: 0.1811 - accuracy: 0.9986 - val_loss: 0.5039 - val_accuracy: 0.8718\n",
            "Epoch 100/300\n",
            "58/58 [==============================] - 1s 9ms/step - loss: 0.1779 - accuracy: 0.9986 - val_loss: 0.5086 - val_accuracy: 0.8668\n",
            "Epoch 101/300\n",
            "58/58 [==============================] - 1s 10ms/step - loss: 0.1805 - accuracy: 0.9970 - val_loss: 0.5155 - val_accuracy: 0.8629\n",
            "Epoch 102/300\n",
            "58/58 [==============================] - 1s 11ms/step - loss: 0.1804 - accuracy: 0.9954 - val_loss: 0.4784 - val_accuracy: 0.8794\n",
            "Epoch 103/300\n",
            "58/58 [==============================] - 1s 11ms/step - loss: 0.1710 - accuracy: 0.9984 - val_loss: 0.4949 - val_accuracy: 0.8668\n",
            "Epoch 104/300\n",
            "58/58 [==============================] - 1s 11ms/step - loss: 0.1698 - accuracy: 0.9976 - val_loss: 0.5287 - val_accuracy: 0.8629\n",
            "Epoch 105/300\n",
            "58/58 [==============================] - 1s 12ms/step - loss: 0.1648 - accuracy: 0.9986 - val_loss: 0.5262 - val_accuracy: 0.8515\n",
            "Epoch 106/300\n",
            "58/58 [==============================] - 1s 11ms/step - loss: 0.1625 - accuracy: 0.9986 - val_loss: 0.4864 - val_accuracy: 0.8553\n",
            "Epoch 107/300\n",
            "58/58 [==============================] - 1s 11ms/step - loss: 0.1646 - accuracy: 0.9984 - val_loss: 0.5073 - val_accuracy: 0.8553\n",
            "Epoch 108/300\n",
            "58/58 [==============================] - 1s 10ms/step - loss: 0.1617 - accuracy: 0.9986 - val_loss: 0.5551 - val_accuracy: 0.8464\n",
            "Epoch 109/300\n",
            "58/58 [==============================] - 1s 9ms/step - loss: 0.1582 - accuracy: 0.9986 - val_loss: 0.5025 - val_accuracy: 0.8718\n",
            "Epoch 110/300\n",
            "58/58 [==============================] - 1s 9ms/step - loss: 0.1576 - accuracy: 0.9992 - val_loss: 0.4834 - val_accuracy: 0.8668\n",
            "Epoch 111/300\n",
            "58/58 [==============================] - 1s 9ms/step - loss: 0.1545 - accuracy: 0.9978 - val_loss: 0.5233 - val_accuracy: 0.8515\n",
            "Epoch 112/300\n",
            "58/58 [==============================] - 1s 9ms/step - loss: 0.1473 - accuracy: 0.9995 - val_loss: 0.5021 - val_accuracy: 0.8680\n",
            "Epoch 113/300\n",
            "58/58 [==============================] - 1s 9ms/step - loss: 0.1466 - accuracy: 0.9995 - val_loss: 0.4892 - val_accuracy: 0.8680\n",
            "Epoch 114/300\n",
            "58/58 [==============================] - 1s 9ms/step - loss: 0.1498 - accuracy: 0.9981 - val_loss: 0.5825 - val_accuracy: 0.8414\n",
            "Epoch 115/300\n",
            "58/58 [==============================] - 1s 9ms/step - loss: 0.1470 - accuracy: 0.9973 - val_loss: 0.5104 - val_accuracy: 0.8617\n",
            "Epoch 116/300\n",
            "58/58 [==============================] - 1s 9ms/step - loss: 0.1466 - accuracy: 0.9981 - val_loss: 0.4910 - val_accuracy: 0.8731\n",
            "Epoch 117/300\n",
            "58/58 [==============================] - 1s 9ms/step - loss: 0.1431 - accuracy: 0.9992 - val_loss: 0.5065 - val_accuracy: 0.8668\n",
            "Epoch 118/300\n",
            "58/58 [==============================] - 1s 9ms/step - loss: 0.1421 - accuracy: 0.9995 - val_loss: 0.4867 - val_accuracy: 0.8693\n",
            "Epoch 119/300\n",
            "58/58 [==============================] - 1s 9ms/step - loss: 0.1362 - accuracy: 0.9992 - val_loss: 0.4813 - val_accuracy: 0.8655\n",
            "Epoch 120/300\n",
            "58/58 [==============================] - 1s 9ms/step - loss: 0.1393 - accuracy: 0.9997 - val_loss: 0.4460 - val_accuracy: 0.8820\n",
            "Epoch 121/300\n",
            "58/58 [==============================] - 1s 9ms/step - loss: 0.1406 - accuracy: 0.9981 - val_loss: 0.4425 - val_accuracy: 0.8591\n",
            "Epoch 122/300\n",
            "58/58 [==============================] - 1s 9ms/step - loss: 0.1348 - accuracy: 0.9995 - val_loss: 0.4546 - val_accuracy: 0.8769\n",
            "Epoch 123/300\n",
            "58/58 [==============================] - 1s 9ms/step - loss: 0.1317 - accuracy: 0.9984 - val_loss: 0.4803 - val_accuracy: 0.8668\n",
            "Epoch 124/300\n",
            "58/58 [==============================] - 1s 10ms/step - loss: 0.1291 - accuracy: 0.9997 - val_loss: 0.4626 - val_accuracy: 0.8680\n",
            "Epoch 125/300\n",
            "58/58 [==============================] - 1s 9ms/step - loss: 0.1285 - accuracy: 0.9992 - val_loss: 0.4441 - val_accuracy: 0.8744\n",
            "Epoch 126/300\n",
            "58/58 [==============================] - 1s 9ms/step - loss: 0.1253 - accuracy: 1.0000 - val_loss: 0.4597 - val_accuracy: 0.8769\n",
            "Epoch 127/300\n",
            "58/58 [==============================] - 1s 11ms/step - loss: 0.1241 - accuracy: 0.9992 - val_loss: 0.4338 - val_accuracy: 0.8769\n",
            "Epoch 128/300\n",
            "58/58 [==============================] - 1s 11ms/step - loss: 0.1236 - accuracy: 1.0000 - val_loss: 0.4354 - val_accuracy: 0.8731\n",
            "Epoch 129/300\n",
            "58/58 [==============================] - 1s 11ms/step - loss: 0.1207 - accuracy: 0.9989 - val_loss: 0.4750 - val_accuracy: 0.8756\n",
            "Epoch 130/300\n",
            "58/58 [==============================] - 1s 11ms/step - loss: 0.1225 - accuracy: 0.9992 - val_loss: 0.4391 - val_accuracy: 0.8718\n",
            "Epoch 131/300\n",
            "58/58 [==============================] - 1s 11ms/step - loss: 0.1214 - accuracy: 0.9992 - val_loss: 0.4793 - val_accuracy: 0.8642\n",
            "Epoch 132/300\n",
            "58/58 [==============================] - 1s 11ms/step - loss: 0.1188 - accuracy: 0.9986 - val_loss: 0.4710 - val_accuracy: 0.8604\n",
            "Epoch 133/300\n",
            "58/58 [==============================] - 1s 11ms/step - loss: 0.1209 - accuracy: 0.9978 - val_loss: 0.4743 - val_accuracy: 0.8642\n",
            "Epoch 134/300\n",
            "58/58 [==============================] - 1s 10ms/step - loss: 0.1150 - accuracy: 0.9986 - val_loss: 0.4819 - val_accuracy: 0.8617\n",
            "Epoch 135/300\n",
            "58/58 [==============================] - 1s 9ms/step - loss: 0.1111 - accuracy: 0.9995 - val_loss: 0.4213 - val_accuracy: 0.8807\n",
            "Epoch 136/300\n",
            "58/58 [==============================] - 1s 9ms/step - loss: 0.1125 - accuracy: 0.9995 - val_loss: 0.4583 - val_accuracy: 0.8832\n",
            "Epoch 137/300\n",
            "58/58 [==============================] - 1s 9ms/step - loss: 0.1086 - accuracy: 0.9997 - val_loss: 0.4595 - val_accuracy: 0.8769\n",
            "Epoch 138/300\n",
            "58/58 [==============================] - 1s 9ms/step - loss: 0.1088 - accuracy: 0.9995 - val_loss: 0.4703 - val_accuracy: 0.8668\n",
            "Epoch 139/300\n",
            "58/58 [==============================] - 1s 9ms/step - loss: 0.1089 - accuracy: 0.9978 - val_loss: 0.4632 - val_accuracy: 0.8668\n",
            "Epoch 140/300\n",
            "58/58 [==============================] - 1s 9ms/step - loss: 0.1086 - accuracy: 0.9984 - val_loss: 0.4550 - val_accuracy: 0.8731\n",
            "Epoch 141/300\n",
            "58/58 [==============================] - 1s 9ms/step - loss: 0.1049 - accuracy: 0.9992 - val_loss: 0.5118 - val_accuracy: 0.8452\n",
            "Epoch 142/300\n",
            "58/58 [==============================] - 1s 9ms/step - loss: 0.1061 - accuracy: 0.9997 - val_loss: 0.4304 - val_accuracy: 0.8883\n",
            "Epoch 143/300\n",
            "58/58 [==============================] - 1s 9ms/step - loss: 0.1047 - accuracy: 0.9992 - val_loss: 0.4577 - val_accuracy: 0.8680\n",
            "Epoch 144/300\n",
            "58/58 [==============================] - 1s 9ms/step - loss: 0.1034 - accuracy: 0.9986 - val_loss: 0.4055 - val_accuracy: 0.8934\n",
            "Epoch 145/300\n",
            "58/58 [==============================] - 1s 9ms/step - loss: 0.1029 - accuracy: 0.9995 - val_loss: 0.4696 - val_accuracy: 0.8553\n",
            "Epoch 146/300\n",
            "58/58 [==============================] - 1s 9ms/step - loss: 0.0988 - accuracy: 0.9997 - val_loss: 0.4792 - val_accuracy: 0.8718\n",
            "Epoch 147/300\n",
            "58/58 [==============================] - 1s 9ms/step - loss: 0.0997 - accuracy: 0.9997 - val_loss: 0.4448 - val_accuracy: 0.8718\n",
            "Epoch 148/300\n",
            "58/58 [==============================] - 1s 9ms/step - loss: 0.0979 - accuracy: 0.9997 - val_loss: 0.4581 - val_accuracy: 0.8706\n",
            "Epoch 149/300\n",
            "58/58 [==============================] - 1s 9ms/step - loss: 0.0966 - accuracy: 0.9992 - val_loss: 0.4585 - val_accuracy: 0.8668\n",
            "Epoch 150/300\n",
            "58/58 [==============================] - 1s 9ms/step - loss: 0.0929 - accuracy: 0.9995 - val_loss: 0.4435 - val_accuracy: 0.8883\n",
            "Epoch 151/300\n",
            "58/58 [==============================] - 1s 9ms/step - loss: 0.0920 - accuracy: 0.9992 - val_loss: 0.4511 - val_accuracy: 0.8693\n",
            "Epoch 152/300\n",
            "58/58 [==============================] - 1s 10ms/step - loss: 0.0933 - accuracy: 1.0000 - val_loss: 0.4384 - val_accuracy: 0.8655\n",
            "Epoch 153/300\n",
            "58/58 [==============================] - 1s 11ms/step - loss: 0.0937 - accuracy: 0.9986 - val_loss: 0.4239 - val_accuracy: 0.8832\n",
            "Epoch 154/300\n",
            "58/58 [==============================] - 1s 12ms/step - loss: 0.0899 - accuracy: 0.9995 - val_loss: 0.4388 - val_accuracy: 0.8617\n",
            "Epoch 155/300\n",
            "58/58 [==============================] - 1s 11ms/step - loss: 0.0909 - accuracy: 1.0000 - val_loss: 0.4209 - val_accuracy: 0.8642\n",
            "Epoch 156/300\n",
            "58/58 [==============================] - 1s 11ms/step - loss: 0.0895 - accuracy: 1.0000 - val_loss: 0.4425 - val_accuracy: 0.8744\n",
            "Epoch 157/300\n",
            "58/58 [==============================] - 1s 13ms/step - loss: 0.0895 - accuracy: 0.9992 - val_loss: 0.4495 - val_accuracy: 0.8718\n",
            "Epoch 158/300\n",
            "58/58 [==============================] - 1s 11ms/step - loss: 0.0834 - accuracy: 0.9997 - val_loss: 0.4228 - val_accuracy: 0.8756\n",
            "Epoch 159/300\n",
            "58/58 [==============================] - 1s 9ms/step - loss: 0.0827 - accuracy: 0.9997 - val_loss: 0.4235 - val_accuracy: 0.8756\n",
            "Epoch 160/300\n",
            "58/58 [==============================] - 1s 9ms/step - loss: 0.0835 - accuracy: 1.0000 - val_loss: 0.4062 - val_accuracy: 0.8871\n",
            "Epoch 161/300\n",
            "58/58 [==============================] - 1s 9ms/step - loss: 0.0825 - accuracy: 0.9992 - val_loss: 0.4668 - val_accuracy: 0.8617\n",
            "Epoch 162/300\n",
            "58/58 [==============================] - 1s 9ms/step - loss: 0.0869 - accuracy: 0.9992 - val_loss: 0.4536 - val_accuracy: 0.8655\n",
            "Epoch 163/300\n",
            "58/58 [==============================] - 1s 9ms/step - loss: 0.0805 - accuracy: 0.9992 - val_loss: 0.4273 - val_accuracy: 0.8756\n",
            "Epoch 164/300\n",
            "58/58 [==============================] - 1s 9ms/step - loss: 0.0834 - accuracy: 0.9986 - val_loss: 0.4298 - val_accuracy: 0.8769\n",
            "Epoch 165/300\n",
            "58/58 [==============================] - 1s 9ms/step - loss: 0.0809 - accuracy: 0.9992 - val_loss: 0.4196 - val_accuracy: 0.8693\n",
            "Epoch 166/300\n",
            "58/58 [==============================] - 1s 9ms/step - loss: 0.0807 - accuracy: 0.9992 - val_loss: 0.4134 - val_accuracy: 0.8744\n",
            "Epoch 167/300\n",
            "58/58 [==============================] - 1s 9ms/step - loss: 0.0768 - accuracy: 0.9992 - val_loss: 0.4557 - val_accuracy: 0.8604\n",
            "Epoch 168/300\n",
            "58/58 [==============================] - 1s 9ms/step - loss: 0.0791 - accuracy: 0.9986 - val_loss: 0.4078 - val_accuracy: 0.8807\n",
            "Epoch 169/300\n",
            "58/58 [==============================] - 1s 9ms/step - loss: 0.0742 - accuracy: 1.0000 - val_loss: 0.4139 - val_accuracy: 0.8693\n",
            "Epoch 170/300\n",
            "58/58 [==============================] - 1s 9ms/step - loss: 0.0754 - accuracy: 0.9997 - val_loss: 0.4270 - val_accuracy: 0.8731\n",
            "Epoch 171/300\n",
            "58/58 [==============================] - 1s 9ms/step - loss: 0.0788 - accuracy: 0.9984 - val_loss: 0.4518 - val_accuracy: 0.8490\n",
            "Epoch 172/300\n",
            "58/58 [==============================] - 1s 10ms/step - loss: 0.0720 - accuracy: 1.0000 - val_loss: 0.4151 - val_accuracy: 0.8896\n",
            "Epoch 173/300\n",
            "58/58 [==============================] - 1s 9ms/step - loss: 0.0719 - accuracy: 0.9997 - val_loss: 0.3991 - val_accuracy: 0.8871\n",
            "Epoch 174/300\n",
            "58/58 [==============================] - 1s 9ms/step - loss: 0.0705 - accuracy: 0.9997 - val_loss: 0.4038 - val_accuracy: 0.8756\n",
            "Epoch 175/300\n",
            "58/58 [==============================] - 1s 9ms/step - loss: 0.0714 - accuracy: 0.9995 - val_loss: 0.4303 - val_accuracy: 0.8756\n",
            "Epoch 176/300\n",
            "58/58 [==============================] - 1s 9ms/step - loss: 0.0692 - accuracy: 0.9997 - val_loss: 0.4049 - val_accuracy: 0.8807\n",
            "Epoch 177/300\n",
            "58/58 [==============================] - 1s 10ms/step - loss: 0.0671 - accuracy: 1.0000 - val_loss: 0.4638 - val_accuracy: 0.8744\n",
            "Epoch 178/300\n",
            "58/58 [==============================] - 1s 11ms/step - loss: 0.0702 - accuracy: 0.9995 - val_loss: 0.4205 - val_accuracy: 0.8794\n",
            "Epoch 179/300\n",
            "58/58 [==============================] - 1s 11ms/step - loss: 0.0672 - accuracy: 1.0000 - val_loss: 0.4036 - val_accuracy: 0.8769\n",
            "Epoch 180/300\n",
            "58/58 [==============================] - 1s 11ms/step - loss: 0.0673 - accuracy: 0.9997 - val_loss: 0.4295 - val_accuracy: 0.8756\n",
            "Epoch 181/300\n",
            "58/58 [==============================] - 1s 11ms/step - loss: 0.0650 - accuracy: 1.0000 - val_loss: 0.4073 - val_accuracy: 0.8756\n",
            "Epoch 182/300\n",
            "58/58 [==============================] - 1s 11ms/step - loss: 0.0648 - accuracy: 1.0000 - val_loss: 0.4133 - val_accuracy: 0.8706\n",
            "Epoch 183/300\n",
            "58/58 [==============================] - 1s 12ms/step - loss: 0.0649 - accuracy: 0.9995 - val_loss: 0.4290 - val_accuracy: 0.8706\n",
            "Epoch 184/300\n",
            "58/58 [==============================] - 1s 11ms/step - loss: 0.0648 - accuracy: 0.9995 - val_loss: 0.4370 - val_accuracy: 0.8604\n",
            "Epoch 185/300\n",
            "58/58 [==============================] - 1s 9ms/step - loss: 0.0637 - accuracy: 0.9997 - val_loss: 0.4015 - val_accuracy: 0.8731\n",
            "Epoch 186/300\n",
            "58/58 [==============================] - 1s 9ms/step - loss: 0.0651 - accuracy: 0.9995 - val_loss: 0.4019 - val_accuracy: 0.8807\n",
            "Epoch 187/300\n",
            "58/58 [==============================] - 1s 9ms/step - loss: 0.0623 - accuracy: 0.9997 - val_loss: 0.4001 - val_accuracy: 0.8832\n",
            "Epoch 188/300\n",
            "58/58 [==============================] - 1s 9ms/step - loss: 0.0630 - accuracy: 0.9995 - val_loss: 0.4357 - val_accuracy: 0.8668\n",
            "Epoch 189/300\n",
            "58/58 [==============================] - 1s 9ms/step - loss: 0.0622 - accuracy: 0.9992 - val_loss: 0.4018 - val_accuracy: 0.8858\n",
            "Epoch 190/300\n",
            "58/58 [==============================] - 1s 9ms/step - loss: 0.0588 - accuracy: 0.9997 - val_loss: 0.4072 - val_accuracy: 0.8756\n",
            "Epoch 191/300\n",
            "58/58 [==============================] - 1s 9ms/step - loss: 0.0617 - accuracy: 0.9989 - val_loss: 0.4109 - val_accuracy: 0.8871\n",
            "Epoch 192/300\n",
            "58/58 [==============================] - 1s 9ms/step - loss: 0.0584 - accuracy: 0.9995 - val_loss: 0.4037 - val_accuracy: 0.8794\n",
            "Epoch 193/300\n",
            "58/58 [==============================] - 1s 9ms/step - loss: 0.0584 - accuracy: 1.0000 - val_loss: 0.4088 - val_accuracy: 0.8744\n",
            "Epoch 194/300\n",
            "58/58 [==============================] - 1s 9ms/step - loss: 0.0562 - accuracy: 0.9997 - val_loss: 0.4256 - val_accuracy: 0.8731\n",
            "Epoch 195/300\n",
            "58/58 [==============================] - 1s 9ms/step - loss: 0.0584 - accuracy: 1.0000 - val_loss: 0.4438 - val_accuracy: 0.8693\n",
            "Epoch 196/300\n",
            "58/58 [==============================] - 1s 9ms/step - loss: 0.0556 - accuracy: 1.0000 - val_loss: 0.3845 - val_accuracy: 0.8845\n",
            "Epoch 197/300\n",
            "58/58 [==============================] - 1s 9ms/step - loss: 0.0568 - accuracy: 1.0000 - val_loss: 0.3901 - val_accuracy: 0.8896\n",
            "Epoch 198/300\n",
            "58/58 [==============================] - 1s 9ms/step - loss: 0.0560 - accuracy: 0.9995 - val_loss: 0.3918 - val_accuracy: 0.8769\n",
            "Epoch 199/300\n",
            "58/58 [==============================] - 1s 9ms/step - loss: 0.0550 - accuracy: 1.0000 - val_loss: 0.3880 - val_accuracy: 0.8769\n",
            "Epoch 200/300\n",
            "58/58 [==============================] - 1s 9ms/step - loss: 0.0542 - accuracy: 0.9997 - val_loss: 0.4321 - val_accuracy: 0.8693\n",
            "Epoch 201/300\n",
            "58/58 [==============================] - 1s 9ms/step - loss: 0.0523 - accuracy: 0.9995 - val_loss: 0.3794 - val_accuracy: 0.8756\n",
            "Epoch 202/300\n",
            "58/58 [==============================] - 1s 9ms/step - loss: 0.0540 - accuracy: 0.9997 - val_loss: 0.4156 - val_accuracy: 0.8782\n",
            "Epoch 203/300\n",
            "58/58 [==============================] - 1s 11ms/step - loss: 0.0524 - accuracy: 0.9995 - val_loss: 0.4080 - val_accuracy: 0.8655\n",
            "Epoch 204/300\n",
            "58/58 [==============================] - 1s 11ms/step - loss: 0.0497 - accuracy: 1.0000 - val_loss: 0.3923 - val_accuracy: 0.8756\n",
            "Epoch 205/300\n",
            "58/58 [==============================] - 1s 11ms/step - loss: 0.0522 - accuracy: 0.9997 - val_loss: 0.3972 - val_accuracy: 0.8731\n",
            "Epoch 206/300\n",
            "58/58 [==============================] - 1s 11ms/step - loss: 0.0538 - accuracy: 0.9995 - val_loss: 0.4300 - val_accuracy: 0.8693\n",
            "Epoch 207/300\n",
            "58/58 [==============================] - 1s 11ms/step - loss: 0.0517 - accuracy: 1.0000 - val_loss: 0.3999 - val_accuracy: 0.8807\n",
            "Epoch 208/300\n",
            "58/58 [==============================] - 1s 11ms/step - loss: 0.0477 - accuracy: 1.0000 - val_loss: 0.3979 - val_accuracy: 0.8769\n",
            "Epoch 209/300\n",
            "58/58 [==============================] - 1s 12ms/step - loss: 0.0489 - accuracy: 1.0000 - val_loss: 0.4672 - val_accuracy: 0.8579\n",
            "Epoch 210/300\n",
            "58/58 [==============================] - 1s 10ms/step - loss: 0.0489 - accuracy: 0.9995 - val_loss: 0.3776 - val_accuracy: 0.8921\n",
            "Epoch 211/300\n",
            "58/58 [==============================] - 1s 9ms/step - loss: 0.0484 - accuracy: 0.9997 - val_loss: 0.4059 - val_accuracy: 0.8744\n",
            "Epoch 212/300\n",
            "58/58 [==============================] - 1s 9ms/step - loss: 0.0478 - accuracy: 0.9997 - val_loss: 0.4194 - val_accuracy: 0.8693\n",
            "Epoch 213/300\n",
            "58/58 [==============================] - 1s 9ms/step - loss: 0.0472 - accuracy: 1.0000 - val_loss: 0.4241 - val_accuracy: 0.8629\n",
            "Epoch 214/300\n",
            "58/58 [==============================] - 1s 9ms/step - loss: 0.0449 - accuracy: 1.0000 - val_loss: 0.3762 - val_accuracy: 0.8706\n",
            "Epoch 215/300\n",
            "58/58 [==============================] - 1s 9ms/step - loss: 0.0423 - accuracy: 0.9997 - val_loss: 0.3777 - val_accuracy: 0.8794\n",
            "Epoch 216/300\n",
            "58/58 [==============================] - 1s 9ms/step - loss: 0.0460 - accuracy: 0.9997 - val_loss: 0.3977 - val_accuracy: 0.8769\n",
            "Epoch 217/300\n",
            "58/58 [==============================] - 1s 9ms/step - loss: 0.0453 - accuracy: 1.0000 - val_loss: 0.4177 - val_accuracy: 0.8668\n",
            "Epoch 218/300\n",
            "58/58 [==============================] - 1s 9ms/step - loss: 0.0451 - accuracy: 0.9995 - val_loss: 0.4115 - val_accuracy: 0.8706\n",
            "Epoch 219/300\n",
            "58/58 [==============================] - 1s 9ms/step - loss: 0.0465 - accuracy: 1.0000 - val_loss: 0.3813 - val_accuracy: 0.8794\n",
            "Epoch 220/300\n",
            "58/58 [==============================] - 1s 9ms/step - loss: 0.0427 - accuracy: 1.0000 - val_loss: 0.4095 - val_accuracy: 0.8718\n",
            "Epoch 221/300\n",
            "58/58 [==============================] - 1s 10ms/step - loss: 0.0404 - accuracy: 1.0000 - val_loss: 0.3968 - val_accuracy: 0.8794\n",
            "Epoch 222/300\n",
            "58/58 [==============================] - 1s 9ms/step - loss: 0.0457 - accuracy: 0.9995 - val_loss: 0.4605 - val_accuracy: 0.8655\n",
            "Epoch 223/300\n",
            "58/58 [==============================] - 1s 9ms/step - loss: 0.0423 - accuracy: 1.0000 - val_loss: 0.4125 - val_accuracy: 0.8693\n",
            "Epoch 224/300\n",
            "58/58 [==============================] - 1s 9ms/step - loss: 0.0438 - accuracy: 0.9997 - val_loss: 0.4108 - val_accuracy: 0.8807\n",
            "Epoch 225/300\n",
            "58/58 [==============================] - 1s 9ms/step - loss: 0.0417 - accuracy: 0.9995 - val_loss: 0.4114 - val_accuracy: 0.8731\n",
            "Epoch 226/300\n",
            "58/58 [==============================] - 1s 9ms/step - loss: 0.0399 - accuracy: 1.0000 - val_loss: 0.3711 - val_accuracy: 0.8858\n",
            "Epoch 227/300\n",
            "58/58 [==============================] - 1s 9ms/step - loss: 0.0405 - accuracy: 1.0000 - val_loss: 0.4081 - val_accuracy: 0.8820\n",
            "Epoch 228/300\n",
            "58/58 [==============================] - 1s 9ms/step - loss: 0.0413 - accuracy: 0.9995 - val_loss: 0.3811 - val_accuracy: 0.8731\n",
            "Epoch 229/300\n",
            "58/58 [==============================] - 1s 11ms/step - loss: 0.0391 - accuracy: 1.0000 - val_loss: 0.3829 - val_accuracy: 0.8769\n",
            "Epoch 230/300\n",
            "58/58 [==============================] - 1s 11ms/step - loss: 0.0392 - accuracy: 1.0000 - val_loss: 0.4043 - val_accuracy: 0.8718\n",
            "Epoch 231/300\n",
            "58/58 [==============================] - 1s 11ms/step - loss: 0.0404 - accuracy: 0.9997 - val_loss: 0.3895 - val_accuracy: 0.8731\n",
            "Epoch 232/300\n",
            "58/58 [==============================] - 1s 11ms/step - loss: 0.0406 - accuracy: 0.9997 - val_loss: 0.3995 - val_accuracy: 0.8680\n",
            "Epoch 233/300\n",
            "58/58 [==============================] - 1s 11ms/step - loss: 0.0383 - accuracy: 0.9995 - val_loss: 0.4025 - val_accuracy: 0.8706\n",
            "Epoch 234/300\n",
            "58/58 [==============================] - 1s 11ms/step - loss: 0.0385 - accuracy: 1.0000 - val_loss: 0.3894 - val_accuracy: 0.8693\n",
            "Epoch 235/300\n",
            "58/58 [==============================] - 1s 12ms/step - loss: 0.0382 - accuracy: 0.9997 - val_loss: 0.3813 - val_accuracy: 0.8718\n",
            "Epoch 236/300\n",
            "58/58 [==============================] - 1s 10ms/step - loss: 0.0380 - accuracy: 1.0000 - val_loss: 0.3831 - val_accuracy: 0.8820\n",
            "Epoch 237/300\n",
            "58/58 [==============================] - 1s 9ms/step - loss: 0.0366 - accuracy: 0.9997 - val_loss: 0.3716 - val_accuracy: 0.8769\n",
            "Epoch 238/300\n",
            "58/58 [==============================] - 1s 9ms/step - loss: 0.0363 - accuracy: 1.0000 - val_loss: 0.3612 - val_accuracy: 0.8845\n",
            "Epoch 239/300\n",
            "58/58 [==============================] - 1s 9ms/step - loss: 0.0357 - accuracy: 0.9995 - val_loss: 0.3978 - val_accuracy: 0.8756\n",
            "Epoch 240/300\n",
            "58/58 [==============================] - 1s 9ms/step - loss: 0.0386 - accuracy: 1.0000 - val_loss: 0.3710 - val_accuracy: 0.8693\n",
            "Epoch 241/300\n",
            "58/58 [==============================] - 1s 9ms/step - loss: 0.0335 - accuracy: 0.9997 - val_loss: 0.4219 - val_accuracy: 0.8731\n",
            "Epoch 242/300\n",
            "58/58 [==============================] - 1s 9ms/step - loss: 0.0344 - accuracy: 0.9997 - val_loss: 0.3748 - val_accuracy: 0.8769\n",
            "Epoch 243/300\n",
            "58/58 [==============================] - 1s 9ms/step - loss: 0.0358 - accuracy: 1.0000 - val_loss: 0.3828 - val_accuracy: 0.8807\n",
            "Epoch 244/300\n",
            "58/58 [==============================] - 1s 9ms/step - loss: 0.0338 - accuracy: 1.0000 - val_loss: 0.3698 - val_accuracy: 0.8807\n",
            "Epoch 245/300\n",
            "58/58 [==============================] - 1s 9ms/step - loss: 0.0370 - accuracy: 0.9995 - val_loss: 0.4295 - val_accuracy: 0.8832\n",
            "Epoch 246/300\n",
            "58/58 [==============================] - 1s 9ms/step - loss: 0.0354 - accuracy: 1.0000 - val_loss: 0.3669 - val_accuracy: 0.8731\n",
            "Epoch 247/300\n",
            "58/58 [==============================] - 1s 9ms/step - loss: 0.0310 - accuracy: 1.0000 - val_loss: 0.3795 - val_accuracy: 0.8642\n",
            "Epoch 248/300\n",
            "58/58 [==============================] - 1s 9ms/step - loss: 0.0329 - accuracy: 0.9997 - val_loss: 0.3920 - val_accuracy: 0.8832\n",
            "Epoch 249/300\n",
            "58/58 [==============================] - 1s 9ms/step - loss: 0.0346 - accuracy: 0.9995 - val_loss: 0.4013 - val_accuracy: 0.8642\n",
            "Epoch 250/300\n",
            "58/58 [==============================] - 1s 9ms/step - loss: 0.0331 - accuracy: 1.0000 - val_loss: 0.4316 - val_accuracy: 0.8629\n",
            "Epoch 251/300\n",
            "58/58 [==============================] - 1s 9ms/step - loss: 0.0318 - accuracy: 1.0000 - val_loss: 0.3753 - val_accuracy: 0.8845\n",
            "Epoch 252/300\n",
            "58/58 [==============================] - 1s 10ms/step - loss: 0.0317 - accuracy: 1.0000 - val_loss: 0.3754 - val_accuracy: 0.8845\n",
            "Epoch 253/300\n",
            "58/58 [==============================] - 1s 9ms/step - loss: 0.0311 - accuracy: 1.0000 - val_loss: 0.3990 - val_accuracy: 0.8718\n",
            "Epoch 254/300\n",
            "58/58 [==============================] - 1s 10ms/step - loss: 0.0328 - accuracy: 1.0000 - val_loss: 0.3844 - val_accuracy: 0.8756\n",
            "Epoch 255/300\n",
            "58/58 [==============================] - 1s 11ms/step - loss: 0.0302 - accuracy: 0.9997 - val_loss: 0.3650 - val_accuracy: 0.8832\n",
            "Epoch 256/300\n",
            "58/58 [==============================] - 1s 11ms/step - loss: 0.0309 - accuracy: 0.9997 - val_loss: 0.3685 - val_accuracy: 0.8807\n",
            "Epoch 257/300\n",
            "58/58 [==============================] - 1s 11ms/step - loss: 0.0307 - accuracy: 0.9997 - val_loss: 0.3666 - val_accuracy: 0.8871\n",
            "Epoch 258/300\n",
            "58/58 [==============================] - 1s 11ms/step - loss: 0.0299 - accuracy: 1.0000 - val_loss: 0.3867 - val_accuracy: 0.8756\n",
            "Epoch 259/300\n",
            "58/58 [==============================] - 1s 11ms/step - loss: 0.0303 - accuracy: 1.0000 - val_loss: 0.3776 - val_accuracy: 0.8807\n",
            "Epoch 260/300\n",
            "58/58 [==============================] - 1s 11ms/step - loss: 0.0297 - accuracy: 1.0000 - val_loss: 0.4109 - val_accuracy: 0.8718\n",
            "Epoch 261/300\n",
            "58/58 [==============================] - 1s 11ms/step - loss: 0.0307 - accuracy: 0.9997 - val_loss: 0.3725 - val_accuracy: 0.8794\n",
            "Epoch 262/300\n",
            "58/58 [==============================] - 1s 9ms/step - loss: 0.0276 - accuracy: 1.0000 - val_loss: 0.3880 - val_accuracy: 0.8782\n",
            "Epoch 263/300\n",
            "58/58 [==============================] - 1s 9ms/step - loss: 0.0274 - accuracy: 1.0000 - val_loss: 0.4101 - val_accuracy: 0.8731\n",
            "Epoch 264/300\n",
            "58/58 [==============================] - 1s 9ms/step - loss: 0.0274 - accuracy: 1.0000 - val_loss: 0.3880 - val_accuracy: 0.8744\n",
            "Epoch 265/300\n",
            "58/58 [==============================] - 1s 9ms/step - loss: 0.0282 - accuracy: 1.0000 - val_loss: 0.3671 - val_accuracy: 0.8782\n",
            "Epoch 266/300\n",
            "58/58 [==============================] - 1s 9ms/step - loss: 0.0274 - accuracy: 1.0000 - val_loss: 0.3637 - val_accuracy: 0.8782\n",
            "Epoch 267/300\n",
            "58/58 [==============================] - 1s 10ms/step - loss: 0.0294 - accuracy: 1.0000 - val_loss: 0.3902 - val_accuracy: 0.8731\n",
            "Epoch 268/300\n",
            "58/58 [==============================] - 1s 9ms/step - loss: 0.0283 - accuracy: 1.0000 - val_loss: 0.3826 - val_accuracy: 0.8807\n",
            "Epoch 269/300\n",
            "58/58 [==============================] - 1s 9ms/step - loss: 0.0261 - accuracy: 1.0000 - val_loss: 0.3723 - val_accuracy: 0.8731\n",
            "Epoch 270/300\n",
            "58/58 [==============================] - 1s 9ms/step - loss: 0.0251 - accuracy: 1.0000 - val_loss: 0.3776 - val_accuracy: 0.8731\n",
            "Epoch 271/300\n",
            "58/58 [==============================] - 1s 9ms/step - loss: 0.0271 - accuracy: 0.9992 - val_loss: 0.4194 - val_accuracy: 0.8604\n",
            "Epoch 272/300\n",
            "58/58 [==============================] - 1s 9ms/step - loss: 0.0251 - accuracy: 1.0000 - val_loss: 0.3697 - val_accuracy: 0.8769\n",
            "Epoch 273/300\n",
            "58/58 [==============================] - 1s 9ms/step - loss: 0.0266 - accuracy: 0.9997 - val_loss: 0.3977 - val_accuracy: 0.8668\n",
            "Epoch 274/300\n",
            "58/58 [==============================] - 1s 9ms/step - loss: 0.0276 - accuracy: 1.0000 - val_loss: 0.3653 - val_accuracy: 0.8782\n",
            "Epoch 275/300\n",
            "58/58 [==============================] - 1s 10ms/step - loss: 0.0257 - accuracy: 1.0000 - val_loss: 0.3608 - val_accuracy: 0.8769\n",
            "Epoch 276/300\n",
            "58/58 [==============================] - 1s 9ms/step - loss: 0.0269 - accuracy: 0.9995 - val_loss: 0.3802 - val_accuracy: 0.8769\n",
            "Epoch 277/300\n",
            "58/58 [==============================] - 1s 9ms/step - loss: 0.0247 - accuracy: 1.0000 - val_loss: 0.3964 - val_accuracy: 0.8655\n",
            "Epoch 278/300\n",
            "58/58 [==============================] - 1s 10ms/step - loss: 0.0261 - accuracy: 0.9997 - val_loss: 0.3602 - val_accuracy: 0.8832\n",
            "Epoch 279/300\n",
            "58/58 [==============================] - 1s 9ms/step - loss: 0.0233 - accuracy: 1.0000 - val_loss: 0.3642 - val_accuracy: 0.8794\n",
            "Epoch 280/300\n",
            "58/58 [==============================] - 1s 11ms/step - loss: 0.0239 - accuracy: 1.0000 - val_loss: 0.3563 - val_accuracy: 0.8871\n",
            "Epoch 281/300\n",
            "58/58 [==============================] - 1s 12ms/step - loss: 0.0243 - accuracy: 0.9997 - val_loss: 0.3868 - val_accuracy: 0.8693\n",
            "Epoch 282/300\n",
            "58/58 [==============================] - 1s 12ms/step - loss: 0.0226 - accuracy: 1.0000 - val_loss: 0.3912 - val_accuracy: 0.8642\n",
            "Epoch 283/300\n",
            "58/58 [==============================] - 1s 12ms/step - loss: 0.0247 - accuracy: 0.9997 - val_loss: 0.3580 - val_accuracy: 0.8832\n",
            "Epoch 284/300\n",
            "58/58 [==============================] - 1s 12ms/step - loss: 0.0250 - accuracy: 0.9997 - val_loss: 0.3696 - val_accuracy: 0.8921\n",
            "Epoch 285/300\n",
            "58/58 [==============================] - 1s 12ms/step - loss: 0.0230 - accuracy: 1.0000 - val_loss: 0.3686 - val_accuracy: 0.8807\n",
            "Epoch 286/300\n",
            "58/58 [==============================] - 1s 12ms/step - loss: 0.0258 - accuracy: 0.9995 - val_loss: 0.3715 - val_accuracy: 0.8845\n",
            "Epoch 287/300\n",
            "58/58 [==============================] - 1s 9ms/step - loss: 0.0252 - accuracy: 0.9995 - val_loss: 0.3901 - val_accuracy: 0.8756\n",
            "Epoch 288/300\n",
            "58/58 [==============================] - 1s 10ms/step - loss: 0.0223 - accuracy: 1.0000 - val_loss: 0.3831 - val_accuracy: 0.8655\n",
            "Epoch 289/300\n",
            "58/58 [==============================] - 1s 9ms/step - loss: 0.0228 - accuracy: 1.0000 - val_loss: 0.3685 - val_accuracy: 0.8794\n",
            "Epoch 290/300\n",
            "58/58 [==============================] - 1s 9ms/step - loss: 0.0227 - accuracy: 0.9997 - val_loss: 0.3736 - val_accuracy: 0.8769\n",
            "Epoch 291/300\n",
            "58/58 [==============================] - 1s 10ms/step - loss: 0.0209 - accuracy: 1.0000 - val_loss: 0.3614 - val_accuracy: 0.8845\n",
            "Epoch 292/300\n",
            "58/58 [==============================] - 1s 10ms/step - loss: 0.0203 - accuracy: 1.0000 - val_loss: 0.3862 - val_accuracy: 0.8718\n",
            "Epoch 293/300\n",
            "58/58 [==============================] - 1s 9ms/step - loss: 0.0219 - accuracy: 0.9997 - val_loss: 0.3700 - val_accuracy: 0.8744\n",
            "Epoch 294/300\n",
            "58/58 [==============================] - 1s 9ms/step - loss: 0.0207 - accuracy: 0.9997 - val_loss: 0.3605 - val_accuracy: 0.8820\n",
            "Epoch 295/300\n",
            "58/58 [==============================] - 1s 9ms/step - loss: 0.0213 - accuracy: 1.0000 - val_loss: 0.3686 - val_accuracy: 0.8832\n",
            "Epoch 296/300\n",
            "58/58 [==============================] - 1s 10ms/step - loss: 0.0196 - accuracy: 1.0000 - val_loss: 0.3597 - val_accuracy: 0.8794\n",
            "Epoch 297/300\n",
            "58/58 [==============================] - 1s 9ms/step - loss: 0.0208 - accuracy: 1.0000 - val_loss: 0.3710 - val_accuracy: 0.8769\n",
            "Epoch 298/300\n",
            "58/58 [==============================] - 1s 9ms/step - loss: 0.0202 - accuracy: 1.0000 - val_loss: 0.3702 - val_accuracy: 0.8718\n",
            "Epoch 299/300\n",
            "58/58 [==============================] - 1s 9ms/step - loss: 0.0187 - accuracy: 1.0000 - val_loss: 0.3971 - val_accuracy: 0.8756\n",
            "Epoch 300/300\n",
            "58/58 [==============================] - 1s 9ms/step - loss: 0.0212 - accuracy: 1.0000 - val_loss: 0.3846 - val_accuracy: 0.8782\n"
          ]
        },
        {
          "output_type": "execute_result",
          "data": {
            "text/plain": [
              "<keras.src.callbacks.History at 0x7d005a413a00>"
            ]
          },
          "metadata": {},
          "execution_count": 72
        }
      ]
    },
    {
      "cell_type": "code",
      "source": [
        "y_pred = model.predict(X_test)\n",
        "# Chuyển dự đoán thành danh sách các lớp\n",
        "y_pred_labels = np.argmax(y_pred, axis=1)\n",
        "\n",
        "# Sau đó, bạn có thể tính classification report bằng scikit-learn\n",
        "from sklearn.metrics import classification_report\n",
        "print(classification_report(y_test, y_pred_labels))"
      ],
      "metadata": {
        "colab": {
          "base_uri": "https://localhost:8080/"
        },
        "id": "bKC_MqdJn5sh",
        "outputId": "dbcd90f7-194e-4548-de7d-a48cc1a7ddce"
      },
      "execution_count": null,
      "outputs": [
        {
          "output_type": "stream",
          "name": "stdout",
          "text": [
            "25/25 [==============================] - 0s 2ms/step\n",
            "              precision    recall  f1-score   support\n",
            "\n",
            "           0       0.97      0.91      0.94        82\n",
            "           1       0.83      0.90      0.86        49\n",
            "           2       0.90      0.86      0.88       110\n",
            "           3       0.90      0.89      0.90       113\n",
            "           4       0.89      0.96      0.92       126\n",
            "           5       0.91      0.84      0.87       107\n",
            "           6       0.90      0.95      0.92        97\n",
            "           7       0.95      0.94      0.95       104\n",
            "\n",
            "    accuracy                           0.91       788\n",
            "   macro avg       0.91      0.91      0.91       788\n",
            "weighted avg       0.91      0.91      0.91       788\n",
            "\n"
          ]
        }
      ]
    },
    {
      "cell_type": "code",
      "source": [
        "model.save('/content/drive/MyDrive/Study/Năm 3/CS337-Xử lý âm thanh và tiếng nói/model/CNN_full.h5')"
      ],
      "metadata": {
        "id": "f43yhXst5JtL"
      },
      "execution_count": null,
      "outputs": []
    },
    {
      "cell_type": "markdown",
      "source": [
        "### Dùng MFCC"
      ],
      "metadata": {
        "id": "-pJR8W99oCQL"
      }
    },
    {
      "cell_type": "code",
      "source": [
        "test_root_data = \"/content/drive/MyDrive/Study/Năm 3/CS337-Xử lý âm thanh và tiếng nói/test_features\"\n",
        "features = \"mfcc_features\"\n",
        "# load data\n",
        "feature_path = test_root_data + \"/\" + features + \"/\"\n",
        "X_train = joblib.load(feature_path + 'X_train.joblib')\n",
        "y_train = joblib.load(feature_path + 'y_train.joblib')\n",
        "X_test = joblib.load(feature_path + 'X_test.joblib')\n",
        "y_test = joblib.load(feature_path + 'y_test.joblib')\n",
        "X_dev = joblib.load(feature_path + 'X_dev.joblib')\n",
        "y_dev = joblib.load(feature_path + 'y_dev.joblib')\n",
        "# Chuẩn hóa dữ liệu\n",
        "scaler = StandardScaler()\n",
        "X_train = scaler.fit_transform(X_train)\n",
        "X_test = scaler.transform(X_test)\n",
        "X_dev = scaler.transform(X_dev)\n",
        "# reshape\n",
        "X_train = np.expand_dims(X_train, axis=2)\n",
        "X_dev = np.expand_dims(X_dev, axis=2)\n",
        "X_test = np.expand_dims(X_test, axis=2)\n",
        "\n",
        "y_train = to_categorical(y_train, num_classes=8)\n",
        "y_dev = to_categorical(y_dev, num_classes=8)\n",
        "\n",
        "X_train.shape, X_dev.shape, X_test.shape, y_train.shape, y_dev.shape"
      ],
      "metadata": {
        "colab": {
          "base_uri": "https://localhost:8080/"
        },
        "id": "uAvMlAFloDvF",
        "outputId": "454b8e59-553a-4f9a-9ed8-3a4b447db398"
      },
      "execution_count": null,
      "outputs": [
        {
          "output_type": "execute_result",
          "data": {
            "text/plain": [
              "((3676, 40, 1), (788, 40, 1), (788, 40, 1), (3676, 8), (788, 8))"
            ]
          },
          "metadata": {},
          "execution_count": 75
        }
      ]
    },
    {
      "cell_type": "code",
      "source": [
        "from keras.models import Sequential\n",
        "from keras.layers import Conv1D, MaxPooling1D, Dropout, Activation, BatchNormalization, Dense, Flatten\n",
        "from keras.optimizers import RMSprop\n",
        "\n",
        "model = Sequential()\n",
        "model.add(Conv1D(filters=256, kernel_size=5, padding='same', input_shape=(40, 1)))\n",
        "model.add(Activation('relu'))\n",
        "model.add(Dropout(0.1))\n",
        "model.add(MaxPooling1D(pool_size=8))\n",
        "model.add(Conv1D(filters=128, kernel_size=5, padding='same'))\n",
        "model.add(BatchNormalization())\n",
        "model.add(Activation('relu'))\n",
        "model.add(Conv1D(filters=128, kernel_size=5, padding='same'))\n",
        "model.add(Activation('relu'))\n",
        "model.add(Dropout(0.1))\n",
        "model.add(Conv1D(filters=64, kernel_size=5, padding='same'))\n",
        "model.add(Activation('relu'))\n",
        "model.add(Flatten())\n",
        "model.add(Dense(units=8))\n",
        "model.add(BatchNormalization())\n",
        "model.add(Activation('softmax'))\n",
        "\n",
        "opt = RMSprop(learning_rate=0.0001, weight_decay=1e-6)\n",
        "\n",
        "model.compile(optimizer=opt, loss='categorical_crossentropy', metrics=['accuracy'])\n",
        "\n",
        "model.fit(X_train, y_train, batch_size=64, epochs=300, validation_data=(X_dev, y_dev))"
      ],
      "metadata": {
        "colab": {
          "base_uri": "https://localhost:8080/"
        },
        "id": "-iMqsMvJorlH",
        "outputId": "c74f4887-1038-4a26-99fc-d2463fc32355"
      },
      "execution_count": null,
      "outputs": [
        {
          "output_type": "stream",
          "name": "stdout",
          "text": [
            "Epoch 1/300\n",
            "58/58 [==============================] - 3s 20ms/step - loss: 1.4108 - accuracy: 0.5245 - val_loss: 2.0053 - val_accuracy: 0.4150\n",
            "Epoch 2/300\n",
            "58/58 [==============================] - 1s 10ms/step - loss: 1.1343 - accuracy: 0.6480 - val_loss: 1.9395 - val_accuracy: 0.4492\n",
            "Epoch 3/300\n",
            "58/58 [==============================] - 1s 10ms/step - loss: 1.0372 - accuracy: 0.6880 - val_loss: 1.8478 - val_accuracy: 0.5127\n",
            "Epoch 4/300\n",
            "58/58 [==============================] - 1s 10ms/step - loss: 0.9799 - accuracy: 0.7184 - val_loss: 1.7214 - val_accuracy: 0.5977\n",
            "Epoch 5/300\n",
            "58/58 [==============================] - 1s 9ms/step - loss: 0.9411 - accuracy: 0.7342 - val_loss: 1.5563 - val_accuracy: 0.6637\n",
            "Epoch 6/300\n",
            "58/58 [==============================] - 1s 10ms/step - loss: 0.8898 - accuracy: 0.7576 - val_loss: 1.4012 - val_accuracy: 0.7119\n",
            "Epoch 7/300\n",
            "58/58 [==============================] - 1s 10ms/step - loss: 0.8622 - accuracy: 0.7775 - val_loss: 1.2351 - val_accuracy: 0.7589\n",
            "Epoch 8/300\n",
            "58/58 [==============================] - 1s 9ms/step - loss: 0.8413 - accuracy: 0.7818 - val_loss: 1.0903 - val_accuracy: 0.7766\n",
            "Epoch 9/300\n",
            "58/58 [==============================] - 0s 8ms/step - loss: 0.8085 - accuracy: 0.8044 - val_loss: 0.9932 - val_accuracy: 0.7665\n",
            "Epoch 10/300\n",
            "58/58 [==============================] - 0s 7ms/step - loss: 0.7861 - accuracy: 0.8123 - val_loss: 0.9261 - val_accuracy: 0.7792\n",
            "Epoch 11/300\n",
            "58/58 [==============================] - 0s 8ms/step - loss: 0.7730 - accuracy: 0.8166 - val_loss: 0.8543 - val_accuracy: 0.7868\n",
            "Epoch 12/300\n",
            "58/58 [==============================] - 0s 7ms/step - loss: 0.7592 - accuracy: 0.8175 - val_loss: 0.8072 - val_accuracy: 0.7982\n",
            "Epoch 13/300\n",
            "58/58 [==============================] - 0s 8ms/step - loss: 0.7280 - accuracy: 0.8441 - val_loss: 0.7744 - val_accuracy: 0.7893\n",
            "Epoch 14/300\n",
            "58/58 [==============================] - 0s 7ms/step - loss: 0.7191 - accuracy: 0.8392 - val_loss: 0.7532 - val_accuracy: 0.8122\n",
            "Epoch 15/300\n",
            "58/58 [==============================] - 0s 7ms/step - loss: 0.6991 - accuracy: 0.8534 - val_loss: 0.7829 - val_accuracy: 0.7970\n",
            "Epoch 16/300\n",
            "58/58 [==============================] - 0s 7ms/step - loss: 0.6857 - accuracy: 0.8596 - val_loss: 0.7375 - val_accuracy: 0.8160\n",
            "Epoch 17/300\n",
            "58/58 [==============================] - 0s 7ms/step - loss: 0.6665 - accuracy: 0.8656 - val_loss: 0.7266 - val_accuracy: 0.8350\n",
            "Epoch 18/300\n",
            "58/58 [==============================] - 0s 7ms/step - loss: 0.6618 - accuracy: 0.8746 - val_loss: 0.7342 - val_accuracy: 0.8261\n",
            "Epoch 19/300\n",
            "58/58 [==============================] - 0s 7ms/step - loss: 0.6458 - accuracy: 0.8803 - val_loss: 0.7312 - val_accuracy: 0.8249\n",
            "Epoch 20/300\n",
            "58/58 [==============================] - 0s 8ms/step - loss: 0.6288 - accuracy: 0.8855 - val_loss: 0.7111 - val_accuracy: 0.8287\n",
            "Epoch 21/300\n",
            "58/58 [==============================] - 0s 8ms/step - loss: 0.6218 - accuracy: 0.8876 - val_loss: 0.6945 - val_accuracy: 0.8249\n",
            "Epoch 22/300\n",
            "58/58 [==============================] - 0s 7ms/step - loss: 0.6111 - accuracy: 0.8906 - val_loss: 0.7110 - val_accuracy: 0.8299\n",
            "Epoch 23/300\n",
            "58/58 [==============================] - 0s 8ms/step - loss: 0.6014 - accuracy: 0.8955 - val_loss: 0.6770 - val_accuracy: 0.8388\n",
            "Epoch 24/300\n",
            "58/58 [==============================] - 0s 8ms/step - loss: 0.5891 - accuracy: 0.8993 - val_loss: 0.6932 - val_accuracy: 0.8452\n",
            "Epoch 25/300\n",
            "58/58 [==============================] - 0s 8ms/step - loss: 0.5654 - accuracy: 0.9116 - val_loss: 0.6535 - val_accuracy: 0.8350\n",
            "Epoch 26/300\n",
            "58/58 [==============================] - 0s 7ms/step - loss: 0.5595 - accuracy: 0.9121 - val_loss: 0.6859 - val_accuracy: 0.8363\n",
            "Epoch 27/300\n",
            "58/58 [==============================] - 0s 8ms/step - loss: 0.5449 - accuracy: 0.9181 - val_loss: 0.6836 - val_accuracy: 0.8312\n",
            "Epoch 28/300\n",
            "58/58 [==============================] - 0s 7ms/step - loss: 0.5436 - accuracy: 0.9119 - val_loss: 0.6997 - val_accuracy: 0.8287\n",
            "Epoch 29/300\n",
            "58/58 [==============================] - 0s 7ms/step - loss: 0.5433 - accuracy: 0.9159 - val_loss: 0.6575 - val_accuracy: 0.8515\n",
            "Epoch 30/300\n",
            "58/58 [==============================] - 0s 7ms/step - loss: 0.5262 - accuracy: 0.9206 - val_loss: 0.6569 - val_accuracy: 0.8350\n",
            "Epoch 31/300\n",
            "58/58 [==============================] - 0s 8ms/step - loss: 0.5186 - accuracy: 0.9268 - val_loss: 0.6667 - val_accuracy: 0.8439\n",
            "Epoch 32/300\n",
            "58/58 [==============================] - 1s 10ms/step - loss: 0.5087 - accuracy: 0.9331 - val_loss: 0.6426 - val_accuracy: 0.8401\n",
            "Epoch 33/300\n",
            "58/58 [==============================] - 1s 9ms/step - loss: 0.4957 - accuracy: 0.9347 - val_loss: 0.6497 - val_accuracy: 0.8401\n",
            "Epoch 34/300\n",
            "58/58 [==============================] - 1s 10ms/step - loss: 0.4978 - accuracy: 0.9309 - val_loss: 0.6525 - val_accuracy: 0.8401\n",
            "Epoch 35/300\n",
            "58/58 [==============================] - 1s 10ms/step - loss: 0.4758 - accuracy: 0.9355 - val_loss: 0.6232 - val_accuracy: 0.8376\n",
            "Epoch 36/300\n",
            "58/58 [==============================] - 1s 10ms/step - loss: 0.4765 - accuracy: 0.9412 - val_loss: 0.6250 - val_accuracy: 0.8579\n",
            "Epoch 37/300\n",
            "58/58 [==============================] - 1s 10ms/step - loss: 0.4667 - accuracy: 0.9402 - val_loss: 0.6463 - val_accuracy: 0.8401\n",
            "Epoch 38/300\n",
            "58/58 [==============================] - 1s 10ms/step - loss: 0.4569 - accuracy: 0.9491 - val_loss: 0.6079 - val_accuracy: 0.8490\n",
            "Epoch 39/300\n",
            "58/58 [==============================] - 0s 8ms/step - loss: 0.4541 - accuracy: 0.9475 - val_loss: 0.6110 - val_accuracy: 0.8439\n",
            "Epoch 40/300\n",
            "58/58 [==============================] - 0s 8ms/step - loss: 0.4518 - accuracy: 0.9494 - val_loss: 0.6068 - val_accuracy: 0.8591\n",
            "Epoch 41/300\n",
            "58/58 [==============================] - 0s 7ms/step - loss: 0.4327 - accuracy: 0.9516 - val_loss: 0.6216 - val_accuracy: 0.8541\n",
            "Epoch 42/300\n",
            "58/58 [==============================] - 0s 7ms/step - loss: 0.4260 - accuracy: 0.9543 - val_loss: 0.6059 - val_accuracy: 0.8617\n",
            "Epoch 43/300\n",
            "58/58 [==============================] - 0s 7ms/step - loss: 0.4269 - accuracy: 0.9529 - val_loss: 0.6020 - val_accuracy: 0.8464\n",
            "Epoch 44/300\n",
            "58/58 [==============================] - 0s 8ms/step - loss: 0.4218 - accuracy: 0.9562 - val_loss: 0.5924 - val_accuracy: 0.8452\n",
            "Epoch 45/300\n",
            "58/58 [==============================] - 0s 7ms/step - loss: 0.4102 - accuracy: 0.9600 - val_loss: 0.5953 - val_accuracy: 0.8503\n",
            "Epoch 46/300\n",
            "58/58 [==============================] - 0s 8ms/step - loss: 0.4010 - accuracy: 0.9611 - val_loss: 0.6127 - val_accuracy: 0.8452\n",
            "Epoch 47/300\n",
            "58/58 [==============================] - 0s 7ms/step - loss: 0.3986 - accuracy: 0.9592 - val_loss: 0.5874 - val_accuracy: 0.8490\n",
            "Epoch 48/300\n",
            "58/58 [==============================] - 0s 7ms/step - loss: 0.3929 - accuracy: 0.9635 - val_loss: 0.5977 - val_accuracy: 0.8541\n",
            "Epoch 49/300\n",
            "58/58 [==============================] - 0s 7ms/step - loss: 0.3875 - accuracy: 0.9657 - val_loss: 0.5808 - val_accuracy: 0.8477\n",
            "Epoch 50/300\n",
            "58/58 [==============================] - 0s 7ms/step - loss: 0.3764 - accuracy: 0.9684 - val_loss: 0.5649 - val_accuracy: 0.8541\n",
            "Epoch 51/300\n",
            "58/58 [==============================] - 0s 7ms/step - loss: 0.3637 - accuracy: 0.9736 - val_loss: 0.5845 - val_accuracy: 0.8515\n",
            "Epoch 52/300\n",
            "58/58 [==============================] - 0s 7ms/step - loss: 0.3658 - accuracy: 0.9736 - val_loss: 0.5633 - val_accuracy: 0.8617\n",
            "Epoch 53/300\n",
            "58/58 [==============================] - 0s 8ms/step - loss: 0.3683 - accuracy: 0.9701 - val_loss: 0.5611 - val_accuracy: 0.8541\n",
            "Epoch 54/300\n",
            "58/58 [==============================] - 0s 7ms/step - loss: 0.3509 - accuracy: 0.9761 - val_loss: 0.5549 - val_accuracy: 0.8566\n",
            "Epoch 55/300\n",
            "58/58 [==============================] - 0s 7ms/step - loss: 0.3552 - accuracy: 0.9712 - val_loss: 0.5819 - val_accuracy: 0.8515\n",
            "Epoch 56/300\n",
            "58/58 [==============================] - 0s 8ms/step - loss: 0.3468 - accuracy: 0.9733 - val_loss: 0.5768 - val_accuracy: 0.8414\n",
            "Epoch 57/300\n",
            "58/58 [==============================] - 0s 7ms/step - loss: 0.3376 - accuracy: 0.9771 - val_loss: 0.5663 - val_accuracy: 0.8604\n",
            "Epoch 58/300\n",
            "58/58 [==============================] - 0s 7ms/step - loss: 0.3311 - accuracy: 0.9766 - val_loss: 0.5554 - val_accuracy: 0.8566\n",
            "Epoch 59/300\n",
            "58/58 [==============================] - 0s 8ms/step - loss: 0.3295 - accuracy: 0.9769 - val_loss: 0.5461 - val_accuracy: 0.8591\n",
            "Epoch 60/300\n",
            "58/58 [==============================] - 0s 8ms/step - loss: 0.3269 - accuracy: 0.9774 - val_loss: 0.5726 - val_accuracy: 0.8490\n",
            "Epoch 61/300\n",
            "58/58 [==============================] - 0s 7ms/step - loss: 0.3269 - accuracy: 0.9788 - val_loss: 0.5449 - val_accuracy: 0.8706\n",
            "Epoch 62/300\n",
            "58/58 [==============================] - 1s 9ms/step - loss: 0.3119 - accuracy: 0.9801 - val_loss: 0.5445 - val_accuracy: 0.8617\n",
            "Epoch 63/300\n",
            "58/58 [==============================] - 1s 9ms/step - loss: 0.3081 - accuracy: 0.9801 - val_loss: 0.5429 - val_accuracy: 0.8655\n",
            "Epoch 64/300\n",
            "58/58 [==============================] - 1s 10ms/step - loss: 0.3095 - accuracy: 0.9810 - val_loss: 0.5522 - val_accuracy: 0.8604\n",
            "Epoch 65/300\n",
            "58/58 [==============================] - 1s 9ms/step - loss: 0.3031 - accuracy: 0.9834 - val_loss: 0.5569 - val_accuracy: 0.8566\n",
            "Epoch 66/300\n",
            "58/58 [==============================] - 1s 10ms/step - loss: 0.2939 - accuracy: 0.9845 - val_loss: 0.5535 - val_accuracy: 0.8490\n",
            "Epoch 67/300\n",
            "58/58 [==============================] - 1s 10ms/step - loss: 0.2991 - accuracy: 0.9815 - val_loss: 0.5458 - val_accuracy: 0.8566\n",
            "Epoch 68/300\n",
            "58/58 [==============================] - 1s 10ms/step - loss: 0.2899 - accuracy: 0.9875 - val_loss: 0.5332 - val_accuracy: 0.8566\n",
            "Epoch 69/300\n",
            "58/58 [==============================] - 1s 10ms/step - loss: 0.2769 - accuracy: 0.9878 - val_loss: 0.5467 - val_accuracy: 0.8464\n",
            "Epoch 70/300\n",
            "58/58 [==============================] - 0s 8ms/step - loss: 0.2801 - accuracy: 0.9869 - val_loss: 0.5507 - val_accuracy: 0.8541\n",
            "Epoch 71/300\n",
            "58/58 [==============================] - 0s 7ms/step - loss: 0.2828 - accuracy: 0.9839 - val_loss: 0.5236 - val_accuracy: 0.8629\n",
            "Epoch 72/300\n",
            "58/58 [==============================] - 0s 7ms/step - loss: 0.2738 - accuracy: 0.9845 - val_loss: 0.5408 - val_accuracy: 0.8579\n",
            "Epoch 73/300\n",
            "58/58 [==============================] - 0s 7ms/step - loss: 0.2734 - accuracy: 0.9861 - val_loss: 0.5321 - val_accuracy: 0.8629\n",
            "Epoch 74/300\n",
            "58/58 [==============================] - 0s 7ms/step - loss: 0.2675 - accuracy: 0.9883 - val_loss: 0.5328 - val_accuracy: 0.8617\n",
            "Epoch 75/300\n",
            "58/58 [==============================] - 0s 8ms/step - loss: 0.2597 - accuracy: 0.9894 - val_loss: 0.5307 - val_accuracy: 0.8579\n",
            "Epoch 76/300\n",
            "58/58 [==============================] - 0s 7ms/step - loss: 0.2568 - accuracy: 0.9883 - val_loss: 0.5077 - val_accuracy: 0.8604\n",
            "Epoch 77/300\n",
            "58/58 [==============================] - 0s 7ms/step - loss: 0.2492 - accuracy: 0.9899 - val_loss: 0.5269 - val_accuracy: 0.8528\n",
            "Epoch 78/300\n",
            "58/58 [==============================] - 0s 8ms/step - loss: 0.2528 - accuracy: 0.9910 - val_loss: 0.5419 - val_accuracy: 0.8515\n",
            "Epoch 79/300\n",
            "58/58 [==============================] - 0s 7ms/step - loss: 0.2497 - accuracy: 0.9867 - val_loss: 0.5010 - val_accuracy: 0.8591\n",
            "Epoch 80/300\n",
            "58/58 [==============================] - 0s 8ms/step - loss: 0.2443 - accuracy: 0.9918 - val_loss: 0.5270 - val_accuracy: 0.8617\n",
            "Epoch 81/300\n",
            "58/58 [==============================] - 0s 7ms/step - loss: 0.2375 - accuracy: 0.9916 - val_loss: 0.4904 - val_accuracy: 0.8693\n",
            "Epoch 82/300\n",
            "58/58 [==============================] - 0s 7ms/step - loss: 0.2383 - accuracy: 0.9899 - val_loss: 0.5307 - val_accuracy: 0.8528\n",
            "Epoch 83/300\n",
            "58/58 [==============================] - 0s 7ms/step - loss: 0.2323 - accuracy: 0.9908 - val_loss: 0.5005 - val_accuracy: 0.8579\n",
            "Epoch 84/300\n",
            "58/58 [==============================] - 0s 8ms/step - loss: 0.2298 - accuracy: 0.9929 - val_loss: 0.5114 - val_accuracy: 0.8553\n",
            "Epoch 85/300\n",
            "58/58 [==============================] - 0s 7ms/step - loss: 0.2211 - accuracy: 0.9918 - val_loss: 0.5128 - val_accuracy: 0.8503\n",
            "Epoch 86/300\n",
            "58/58 [==============================] - 0s 7ms/step - loss: 0.2216 - accuracy: 0.9935 - val_loss: 0.4933 - val_accuracy: 0.8706\n",
            "Epoch 87/300\n",
            "58/58 [==============================] - 0s 7ms/step - loss: 0.2205 - accuracy: 0.9927 - val_loss: 0.4846 - val_accuracy: 0.8642\n",
            "Epoch 88/300\n",
            "58/58 [==============================] - 0s 7ms/step - loss: 0.2192 - accuracy: 0.9918 - val_loss: 0.4921 - val_accuracy: 0.8693\n",
            "Epoch 89/300\n",
            "58/58 [==============================] - 0s 8ms/step - loss: 0.2170 - accuracy: 0.9921 - val_loss: 0.4896 - val_accuracy: 0.8642\n",
            "Epoch 90/300\n",
            "58/58 [==============================] - 0s 8ms/step - loss: 0.2086 - accuracy: 0.9940 - val_loss: 0.5070 - val_accuracy: 0.8655\n",
            "Epoch 91/300\n",
            "58/58 [==============================] - 0s 8ms/step - loss: 0.2075 - accuracy: 0.9943 - val_loss: 0.5085 - val_accuracy: 0.8515\n",
            "Epoch 92/300\n",
            "58/58 [==============================] - 0s 8ms/step - loss: 0.2027 - accuracy: 0.9946 - val_loss: 0.4733 - val_accuracy: 0.8794\n",
            "Epoch 93/300\n",
            "58/58 [==============================] - 1s 9ms/step - loss: 0.2049 - accuracy: 0.9940 - val_loss: 0.4980 - val_accuracy: 0.8642\n",
            "Epoch 94/300\n",
            "58/58 [==============================] - 1s 9ms/step - loss: 0.2033 - accuracy: 0.9951 - val_loss: 0.4953 - val_accuracy: 0.8604\n",
            "Epoch 95/300\n",
            "58/58 [==============================] - 1s 10ms/step - loss: 0.1959 - accuracy: 0.9959 - val_loss: 0.4746 - val_accuracy: 0.8769\n",
            "Epoch 96/300\n",
            "58/58 [==============================] - 1s 10ms/step - loss: 0.2011 - accuracy: 0.9940 - val_loss: 0.5209 - val_accuracy: 0.8655\n",
            "Epoch 97/300\n",
            "58/58 [==============================] - 1s 10ms/step - loss: 0.1950 - accuracy: 0.9935 - val_loss: 0.4980 - val_accuracy: 0.8541\n",
            "Epoch 98/300\n",
            "58/58 [==============================] - 1s 10ms/step - loss: 0.1909 - accuracy: 0.9948 - val_loss: 0.4747 - val_accuracy: 0.8629\n",
            "Epoch 99/300\n",
            "58/58 [==============================] - 1s 10ms/step - loss: 0.1877 - accuracy: 0.9956 - val_loss: 0.5019 - val_accuracy: 0.8541\n",
            "Epoch 100/300\n",
            "58/58 [==============================] - 1s 10ms/step - loss: 0.1869 - accuracy: 0.9935 - val_loss: 0.5056 - val_accuracy: 0.8591\n",
            "Epoch 101/300\n",
            "58/58 [==============================] - 1s 9ms/step - loss: 0.1790 - accuracy: 0.9965 - val_loss: 0.4799 - val_accuracy: 0.8680\n",
            "Epoch 102/300\n",
            "58/58 [==============================] - 0s 8ms/step - loss: 0.1802 - accuracy: 0.9962 - val_loss: 0.4936 - val_accuracy: 0.8503\n",
            "Epoch 103/300\n",
            "58/58 [==============================] - 0s 7ms/step - loss: 0.1760 - accuracy: 0.9951 - val_loss: 0.4578 - val_accuracy: 0.8731\n",
            "Epoch 104/300\n",
            "58/58 [==============================] - 0s 7ms/step - loss: 0.1721 - accuracy: 0.9965 - val_loss: 0.4603 - val_accuracy: 0.8680\n",
            "Epoch 105/300\n",
            "58/58 [==============================] - 0s 8ms/step - loss: 0.1753 - accuracy: 0.9973 - val_loss: 0.4602 - val_accuracy: 0.8706\n",
            "Epoch 106/300\n",
            "58/58 [==============================] - 0s 7ms/step - loss: 0.1711 - accuracy: 0.9959 - val_loss: 0.4925 - val_accuracy: 0.8541\n",
            "Epoch 107/300\n",
            "58/58 [==============================] - 0s 8ms/step - loss: 0.1696 - accuracy: 0.9948 - val_loss: 0.4605 - val_accuracy: 0.8782\n",
            "Epoch 108/300\n",
            "58/58 [==============================] - 0s 7ms/step - loss: 0.1750 - accuracy: 0.9935 - val_loss: 0.4535 - val_accuracy: 0.8807\n",
            "Epoch 109/300\n",
            "58/58 [==============================] - 0s 8ms/step - loss: 0.1646 - accuracy: 0.9959 - val_loss: 0.4488 - val_accuracy: 0.8756\n",
            "Epoch 110/300\n",
            "58/58 [==============================] - 0s 7ms/step - loss: 0.1626 - accuracy: 0.9956 - val_loss: 0.4704 - val_accuracy: 0.8744\n",
            "Epoch 111/300\n",
            "58/58 [==============================] - 0s 7ms/step - loss: 0.1632 - accuracy: 0.9962 - val_loss: 0.4418 - val_accuracy: 0.8769\n",
            "Epoch 112/300\n",
            "58/58 [==============================] - 0s 7ms/step - loss: 0.1639 - accuracy: 0.9967 - val_loss: 0.4675 - val_accuracy: 0.8731\n",
            "Epoch 113/300\n",
            "58/58 [==============================] - 0s 8ms/step - loss: 0.1596 - accuracy: 0.9951 - val_loss: 0.4751 - val_accuracy: 0.8591\n",
            "Epoch 114/300\n",
            "58/58 [==============================] - 0s 8ms/step - loss: 0.1527 - accuracy: 0.9986 - val_loss: 0.4757 - val_accuracy: 0.8604\n",
            "Epoch 115/300\n",
            "58/58 [==============================] - 0s 7ms/step - loss: 0.1547 - accuracy: 0.9965 - val_loss: 0.4509 - val_accuracy: 0.8693\n",
            "Epoch 116/300\n",
            "58/58 [==============================] - 0s 8ms/step - loss: 0.1519 - accuracy: 0.9954 - val_loss: 0.4860 - val_accuracy: 0.8591\n",
            "Epoch 117/300\n",
            "58/58 [==============================] - 1s 10ms/step - loss: 0.1538 - accuracy: 0.9965 - val_loss: 0.4642 - val_accuracy: 0.8744\n",
            "Epoch 118/300\n",
            "58/58 [==============================] - 0s 7ms/step - loss: 0.1479 - accuracy: 0.9970 - val_loss: 0.4470 - val_accuracy: 0.8731\n",
            "Epoch 119/300\n",
            "58/58 [==============================] - 0s 8ms/step - loss: 0.1470 - accuracy: 0.9967 - val_loss: 0.4561 - val_accuracy: 0.8629\n",
            "Epoch 120/300\n",
            "58/58 [==============================] - 0s 7ms/step - loss: 0.1478 - accuracy: 0.9967 - val_loss: 0.4799 - val_accuracy: 0.8744\n",
            "Epoch 121/300\n",
            "58/58 [==============================] - 0s 8ms/step - loss: 0.1379 - accuracy: 0.9989 - val_loss: 0.4661 - val_accuracy: 0.8655\n",
            "Epoch 122/300\n",
            "58/58 [==============================] - 0s 8ms/step - loss: 0.1453 - accuracy: 0.9948 - val_loss: 0.4483 - val_accuracy: 0.8731\n",
            "Epoch 123/300\n",
            "58/58 [==============================] - 1s 9ms/step - loss: 0.1398 - accuracy: 0.9976 - val_loss: 0.4502 - val_accuracy: 0.8604\n",
            "Epoch 124/300\n",
            "58/58 [==============================] - 1s 10ms/step - loss: 0.1371 - accuracy: 0.9978 - val_loss: 0.4550 - val_accuracy: 0.8604\n",
            "Epoch 125/300\n",
            "58/58 [==============================] - 1s 10ms/step - loss: 0.1367 - accuracy: 0.9981 - val_loss: 0.4683 - val_accuracy: 0.8655\n",
            "Epoch 126/300\n",
            "58/58 [==============================] - 1s 10ms/step - loss: 0.1316 - accuracy: 0.9981 - val_loss: 0.4488 - val_accuracy: 0.8693\n",
            "Epoch 127/300\n",
            "58/58 [==============================] - 1s 10ms/step - loss: 0.1337 - accuracy: 0.9976 - val_loss: 0.4505 - val_accuracy: 0.8655\n",
            "Epoch 128/300\n",
            "58/58 [==============================] - 1s 10ms/step - loss: 0.1274 - accuracy: 0.9976 - val_loss: 0.4427 - val_accuracy: 0.8744\n",
            "Epoch 129/300\n",
            "58/58 [==============================] - 1s 10ms/step - loss: 0.1335 - accuracy: 0.9973 - val_loss: 0.4401 - val_accuracy: 0.8680\n",
            "Epoch 130/300\n",
            "58/58 [==============================] - 1s 10ms/step - loss: 0.1302 - accuracy: 0.9984 - val_loss: 0.4466 - val_accuracy: 0.8718\n",
            "Epoch 131/300\n",
            "58/58 [==============================] - 1s 9ms/step - loss: 0.1242 - accuracy: 0.9984 - val_loss: 0.4336 - val_accuracy: 0.8718\n",
            "Epoch 132/300\n",
            "58/58 [==============================] - 0s 8ms/step - loss: 0.1237 - accuracy: 0.9970 - val_loss: 0.4454 - val_accuracy: 0.8693\n",
            "Epoch 133/300\n",
            "58/58 [==============================] - 0s 8ms/step - loss: 0.1204 - accuracy: 0.9984 - val_loss: 0.4339 - val_accuracy: 0.8820\n",
            "Epoch 134/300\n",
            "58/58 [==============================] - 0s 7ms/step - loss: 0.1207 - accuracy: 0.9962 - val_loss: 0.4375 - val_accuracy: 0.8731\n",
            "Epoch 135/300\n",
            "58/58 [==============================] - 0s 8ms/step - loss: 0.1214 - accuracy: 0.9976 - val_loss: 0.4424 - val_accuracy: 0.8680\n",
            "Epoch 136/300\n",
            "58/58 [==============================] - 0s 8ms/step - loss: 0.1183 - accuracy: 0.9986 - val_loss: 0.4347 - val_accuracy: 0.8731\n",
            "Epoch 137/300\n",
            "58/58 [==============================] - 0s 7ms/step - loss: 0.1185 - accuracy: 0.9992 - val_loss: 0.4508 - val_accuracy: 0.8731\n",
            "Epoch 138/300\n",
            "58/58 [==============================] - 0s 7ms/step - loss: 0.1152 - accuracy: 0.9992 - val_loss: 0.4550 - val_accuracy: 0.8553\n",
            "Epoch 139/300\n",
            "58/58 [==============================] - 0s 8ms/step - loss: 0.1134 - accuracy: 0.9986 - val_loss: 0.4407 - val_accuracy: 0.8642\n",
            "Epoch 140/300\n",
            "58/58 [==============================] - 0s 8ms/step - loss: 0.1111 - accuracy: 0.9986 - val_loss: 0.4257 - val_accuracy: 0.8769\n",
            "Epoch 141/300\n",
            "58/58 [==============================] - 0s 7ms/step - loss: 0.1105 - accuracy: 0.9989 - val_loss: 0.4390 - val_accuracy: 0.8731\n",
            "Epoch 142/300\n",
            "58/58 [==============================] - 0s 8ms/step - loss: 0.1117 - accuracy: 0.9989 - val_loss: 0.4371 - val_accuracy: 0.8693\n",
            "Epoch 143/300\n",
            "58/58 [==============================] - 0s 7ms/step - loss: 0.1089 - accuracy: 0.9978 - val_loss: 0.4215 - val_accuracy: 0.8807\n",
            "Epoch 144/300\n",
            "58/58 [==============================] - 0s 7ms/step - loss: 0.1054 - accuracy: 0.9989 - val_loss: 0.4301 - val_accuracy: 0.8744\n",
            "Epoch 145/300\n",
            "58/58 [==============================] - 0s 7ms/step - loss: 0.1097 - accuracy: 0.9986 - val_loss: 0.4324 - val_accuracy: 0.8642\n",
            "Epoch 146/300\n",
            "58/58 [==============================] - 0s 7ms/step - loss: 0.1092 - accuracy: 0.9986 - val_loss: 0.4203 - val_accuracy: 0.8794\n",
            "Epoch 147/300\n",
            "58/58 [==============================] - 0s 8ms/step - loss: 0.1056 - accuracy: 0.9984 - val_loss: 0.4508 - val_accuracy: 0.8706\n",
            "Epoch 148/300\n",
            "58/58 [==============================] - 0s 8ms/step - loss: 0.1035 - accuracy: 0.9989 - val_loss: 0.4509 - val_accuracy: 0.8668\n",
            "Epoch 149/300\n",
            "58/58 [==============================] - 0s 8ms/step - loss: 0.1004 - accuracy: 0.9976 - val_loss: 0.4435 - val_accuracy: 0.8731\n",
            "Epoch 150/300\n",
            "58/58 [==============================] - 0s 8ms/step - loss: 0.1056 - accuracy: 0.9984 - val_loss: 0.4248 - val_accuracy: 0.8706\n",
            "Epoch 151/300\n",
            "58/58 [==============================] - 0s 7ms/step - loss: 0.1014 - accuracy: 0.9962 - val_loss: 0.4276 - val_accuracy: 0.8744\n",
            "Epoch 152/300\n",
            "58/58 [==============================] - 0s 8ms/step - loss: 0.0983 - accuracy: 0.9989 - val_loss: 0.4414 - val_accuracy: 0.8668\n",
            "Epoch 153/300\n",
            "58/58 [==============================] - 0s 8ms/step - loss: 0.0936 - accuracy: 0.9989 - val_loss: 0.4314 - val_accuracy: 0.8769\n",
            "Epoch 154/300\n",
            "58/58 [==============================] - 1s 10ms/step - loss: 0.0984 - accuracy: 0.9986 - val_loss: 0.4264 - val_accuracy: 0.8718\n",
            "Epoch 155/300\n",
            "58/58 [==============================] - 1s 10ms/step - loss: 0.0971 - accuracy: 0.9989 - val_loss: 0.4393 - val_accuracy: 0.8668\n",
            "Epoch 156/300\n",
            "58/58 [==============================] - 1s 10ms/step - loss: 0.0952 - accuracy: 0.9981 - val_loss: 0.4147 - val_accuracy: 0.8769\n",
            "Epoch 157/300\n",
            "58/58 [==============================] - 1s 10ms/step - loss: 0.0918 - accuracy: 0.9992 - val_loss: 0.4134 - val_accuracy: 0.8744\n",
            "Epoch 158/300\n",
            "58/58 [==============================] - 1s 10ms/step - loss: 0.0923 - accuracy: 0.9986 - val_loss: 0.3944 - val_accuracy: 0.8858\n",
            "Epoch 159/300\n",
            "58/58 [==============================] - 1s 10ms/step - loss: 0.0878 - accuracy: 0.9995 - val_loss: 0.4146 - val_accuracy: 0.8769\n",
            "Epoch 160/300\n",
            "58/58 [==============================] - 1s 10ms/step - loss: 0.0923 - accuracy: 0.9981 - val_loss: 0.4042 - val_accuracy: 0.8820\n",
            "Epoch 161/300\n",
            "58/58 [==============================] - 1s 10ms/step - loss: 0.0899 - accuracy: 0.9978 - val_loss: 0.4252 - val_accuracy: 0.8706\n",
            "Epoch 162/300\n",
            "58/58 [==============================] - 0s 8ms/step - loss: 0.0898 - accuracy: 0.9981 - val_loss: 0.4204 - val_accuracy: 0.8706\n",
            "Epoch 163/300\n",
            "58/58 [==============================] - 0s 7ms/step - loss: 0.0891 - accuracy: 0.9973 - val_loss: 0.4376 - val_accuracy: 0.8668\n",
            "Epoch 164/300\n",
            "58/58 [==============================] - 0s 7ms/step - loss: 0.0914 - accuracy: 0.9981 - val_loss: 0.4168 - val_accuracy: 0.8756\n",
            "Epoch 165/300\n",
            "58/58 [==============================] - 0s 7ms/step - loss: 0.0862 - accuracy: 0.9992 - val_loss: 0.4009 - val_accuracy: 0.8731\n",
            "Epoch 166/300\n",
            "58/58 [==============================] - 0s 8ms/step - loss: 0.0823 - accuracy: 0.9992 - val_loss: 0.4231 - val_accuracy: 0.8718\n",
            "Epoch 167/300\n",
            "58/58 [==============================] - 0s 7ms/step - loss: 0.0856 - accuracy: 0.9984 - val_loss: 0.4107 - val_accuracy: 0.8744\n",
            "Epoch 168/300\n",
            "58/58 [==============================] - 0s 7ms/step - loss: 0.0849 - accuracy: 0.9986 - val_loss: 0.4131 - val_accuracy: 0.8706\n",
            "Epoch 169/300\n",
            "58/58 [==============================] - 0s 7ms/step - loss: 0.0829 - accuracy: 0.9984 - val_loss: 0.4125 - val_accuracy: 0.8693\n",
            "Epoch 170/300\n",
            "58/58 [==============================] - 0s 7ms/step - loss: 0.0798 - accuracy: 0.9989 - val_loss: 0.4055 - val_accuracy: 0.8756\n",
            "Epoch 171/300\n",
            "58/58 [==============================] - 0s 8ms/step - loss: 0.0796 - accuracy: 0.9986 - val_loss: 0.4295 - val_accuracy: 0.8782\n",
            "Epoch 172/300\n",
            "58/58 [==============================] - 0s 8ms/step - loss: 0.0798 - accuracy: 0.9978 - val_loss: 0.4075 - val_accuracy: 0.8871\n",
            "Epoch 173/300\n",
            "58/58 [==============================] - 0s 7ms/step - loss: 0.0750 - accuracy: 0.9992 - val_loss: 0.3870 - val_accuracy: 0.8820\n",
            "Epoch 174/300\n",
            "58/58 [==============================] - 0s 7ms/step - loss: 0.0767 - accuracy: 0.9995 - val_loss: 0.4021 - val_accuracy: 0.8794\n",
            "Epoch 175/300\n",
            "58/58 [==============================] - 0s 8ms/step - loss: 0.0796 - accuracy: 0.9997 - val_loss: 0.4154 - val_accuracy: 0.8706\n",
            "Epoch 176/300\n",
            "58/58 [==============================] - 0s 7ms/step - loss: 0.0760 - accuracy: 0.9992 - val_loss: 0.4232 - val_accuracy: 0.8744\n",
            "Epoch 177/300\n",
            "58/58 [==============================] - 0s 8ms/step - loss: 0.0807 - accuracy: 0.9984 - val_loss: 0.4181 - val_accuracy: 0.8706\n",
            "Epoch 178/300\n",
            "58/58 [==============================] - 0s 7ms/step - loss: 0.0752 - accuracy: 0.9989 - val_loss: 0.4095 - val_accuracy: 0.8769\n",
            "Epoch 179/300\n",
            "58/58 [==============================] - 0s 7ms/step - loss: 0.0743 - accuracy: 0.9989 - val_loss: 0.4354 - val_accuracy: 0.8655\n",
            "Epoch 180/300\n",
            "58/58 [==============================] - 0s 7ms/step - loss: 0.0696 - accuracy: 0.9992 - val_loss: 0.3915 - val_accuracy: 0.8807\n",
            "Epoch 181/300\n",
            "58/58 [==============================] - 0s 7ms/step - loss: 0.0687 - accuracy: 0.9992 - val_loss: 0.4094 - val_accuracy: 0.8769\n",
            "Epoch 182/300\n",
            "58/58 [==============================] - 0s 7ms/step - loss: 0.0765 - accuracy: 0.9989 - val_loss: 0.4147 - val_accuracy: 0.8693\n",
            "Epoch 183/300\n",
            "58/58 [==============================] - 0s 8ms/step - loss: 0.0731 - accuracy: 0.9992 - val_loss: 0.3809 - val_accuracy: 0.8871\n",
            "Epoch 184/300\n",
            "58/58 [==============================] - 0s 8ms/step - loss: 0.0699 - accuracy: 0.9984 - val_loss: 0.4111 - val_accuracy: 0.8782\n",
            "Epoch 185/300\n",
            "58/58 [==============================] - 1s 10ms/step - loss: 0.0673 - accuracy: 0.9989 - val_loss: 0.4019 - val_accuracy: 0.8794\n",
            "Epoch 186/300\n",
            "58/58 [==============================] - 1s 10ms/step - loss: 0.0675 - accuracy: 0.9997 - val_loss: 0.4193 - val_accuracy: 0.8718\n",
            "Epoch 187/300\n",
            "58/58 [==============================] - 1s 10ms/step - loss: 0.0685 - accuracy: 0.9989 - val_loss: 0.3994 - val_accuracy: 0.8845\n",
            "Epoch 188/300\n",
            "58/58 [==============================] - 1s 10ms/step - loss: 0.0667 - accuracy: 0.9992 - val_loss: 0.4094 - val_accuracy: 0.8782\n",
            "Epoch 189/300\n",
            "58/58 [==============================] - 1s 10ms/step - loss: 0.0648 - accuracy: 0.9995 - val_loss: 0.3984 - val_accuracy: 0.8820\n",
            "Epoch 190/300\n",
            "58/58 [==============================] - 1s 10ms/step - loss: 0.0654 - accuracy: 0.9992 - val_loss: 0.4095 - val_accuracy: 0.8744\n",
            "Epoch 191/300\n",
            "58/58 [==============================] - 1s 10ms/step - loss: 0.0630 - accuracy: 0.9992 - val_loss: 0.3898 - val_accuracy: 0.8896\n",
            "Epoch 192/300\n",
            "58/58 [==============================] - 1s 11ms/step - loss: 0.0619 - accuracy: 0.9992 - val_loss: 0.4057 - val_accuracy: 0.8782\n",
            "Epoch 193/300\n",
            "58/58 [==============================] - 0s 8ms/step - loss: 0.0619 - accuracy: 0.9995 - val_loss: 0.3948 - val_accuracy: 0.8794\n",
            "Epoch 194/300\n",
            "58/58 [==============================] - 0s 7ms/step - loss: 0.0619 - accuracy: 1.0000 - val_loss: 0.3948 - val_accuracy: 0.8782\n",
            "Epoch 195/300\n",
            "58/58 [==============================] - 0s 7ms/step - loss: 0.0620 - accuracy: 1.0000 - val_loss: 0.3927 - val_accuracy: 0.8832\n",
            "Epoch 196/300\n",
            "58/58 [==============================] - 0s 7ms/step - loss: 0.0623 - accuracy: 0.9986 - val_loss: 0.3903 - val_accuracy: 0.8769\n",
            "Epoch 197/300\n",
            "58/58 [==============================] - 0s 7ms/step - loss: 0.0606 - accuracy: 0.9989 - val_loss: 0.4043 - val_accuracy: 0.8807\n",
            "Epoch 198/300\n",
            "58/58 [==============================] - 0s 8ms/step - loss: 0.0583 - accuracy: 1.0000 - val_loss: 0.3970 - val_accuracy: 0.8731\n",
            "Epoch 199/300\n",
            "58/58 [==============================] - 0s 8ms/step - loss: 0.0586 - accuracy: 0.9984 - val_loss: 0.4025 - val_accuracy: 0.8832\n",
            "Epoch 200/300\n",
            "58/58 [==============================] - 0s 8ms/step - loss: 0.0603 - accuracy: 0.9992 - val_loss: 0.4361 - val_accuracy: 0.8680\n",
            "Epoch 201/300\n",
            "58/58 [==============================] - 0s 8ms/step - loss: 0.0577 - accuracy: 0.9989 - val_loss: 0.4031 - val_accuracy: 0.8731\n",
            "Epoch 202/300\n",
            "58/58 [==============================] - 0s 8ms/step - loss: 0.0586 - accuracy: 0.9992 - val_loss: 0.3942 - val_accuracy: 0.8794\n",
            "Epoch 203/300\n",
            "58/58 [==============================] - 0s 7ms/step - loss: 0.0550 - accuracy: 0.9995 - val_loss: 0.4036 - val_accuracy: 0.8845\n",
            "Epoch 204/300\n",
            "58/58 [==============================] - 0s 8ms/step - loss: 0.0559 - accuracy: 0.9992 - val_loss: 0.3783 - val_accuracy: 0.8820\n",
            "Epoch 205/300\n",
            "58/58 [==============================] - 0s 7ms/step - loss: 0.0582 - accuracy: 0.9997 - val_loss: 0.4119 - val_accuracy: 0.8718\n",
            "Epoch 206/300\n",
            "58/58 [==============================] - 0s 8ms/step - loss: 0.0545 - accuracy: 0.9992 - val_loss: 0.4037 - val_accuracy: 0.8680\n",
            "Epoch 207/300\n",
            "58/58 [==============================] - 0s 8ms/step - loss: 0.0520 - accuracy: 1.0000 - val_loss: 0.3875 - val_accuracy: 0.8731\n",
            "Epoch 208/300\n",
            "58/58 [==============================] - 0s 8ms/step - loss: 0.0525 - accuracy: 0.9989 - val_loss: 0.3895 - val_accuracy: 0.8769\n",
            "Epoch 209/300\n",
            "58/58 [==============================] - 0s 8ms/step - loss: 0.0531 - accuracy: 0.9997 - val_loss: 0.3948 - val_accuracy: 0.8756\n",
            "Epoch 210/300\n",
            "58/58 [==============================] - 0s 8ms/step - loss: 0.0498 - accuracy: 0.9992 - val_loss: 0.3940 - val_accuracy: 0.8782\n",
            "Epoch 211/300\n",
            "58/58 [==============================] - 0s 8ms/step - loss: 0.0516 - accuracy: 0.9995 - val_loss: 0.3887 - val_accuracy: 0.8769\n",
            "Epoch 212/300\n",
            "58/58 [==============================] - 0s 7ms/step - loss: 0.0499 - accuracy: 0.9997 - val_loss: 0.4022 - val_accuracy: 0.8718\n",
            "Epoch 213/300\n",
            "58/58 [==============================] - 0s 8ms/step - loss: 0.0540 - accuracy: 0.9989 - val_loss: 0.3787 - val_accuracy: 0.8807\n",
            "Epoch 214/300\n",
            "58/58 [==============================] - 0s 8ms/step - loss: 0.0497 - accuracy: 0.9995 - val_loss: 0.4029 - val_accuracy: 0.8731\n",
            "Epoch 215/300\n",
            "58/58 [==============================] - 1s 10ms/step - loss: 0.0532 - accuracy: 0.9997 - val_loss: 0.3763 - val_accuracy: 0.8731\n",
            "Epoch 216/300\n",
            "58/58 [==============================] - 1s 10ms/step - loss: 0.0493 - accuracy: 0.9995 - val_loss: 0.3816 - val_accuracy: 0.8896\n",
            "Epoch 217/300\n",
            "58/58 [==============================] - 1s 10ms/step - loss: 0.0484 - accuracy: 0.9992 - val_loss: 0.3798 - val_accuracy: 0.8909\n",
            "Epoch 218/300\n",
            "58/58 [==============================] - 1s 10ms/step - loss: 0.0476 - accuracy: 0.9992 - val_loss: 0.4126 - val_accuracy: 0.8706\n",
            "Epoch 219/300\n",
            "58/58 [==============================] - 1s 10ms/step - loss: 0.0471 - accuracy: 0.9997 - val_loss: 0.4194 - val_accuracy: 0.8744\n",
            "Epoch 220/300\n",
            "58/58 [==============================] - 1s 10ms/step - loss: 0.0467 - accuracy: 0.9995 - val_loss: 0.3879 - val_accuracy: 0.8731\n",
            "Epoch 221/300\n",
            "58/58 [==============================] - 1s 10ms/step - loss: 0.0487 - accuracy: 0.9986 - val_loss: 0.3753 - val_accuracy: 0.8871\n",
            "Epoch 222/300\n",
            "58/58 [==============================] - 1s 10ms/step - loss: 0.0473 - accuracy: 0.9995 - val_loss: 0.4008 - val_accuracy: 0.8782\n",
            "Epoch 223/300\n",
            "58/58 [==============================] - 0s 8ms/step - loss: 0.0466 - accuracy: 0.9995 - val_loss: 0.3852 - val_accuracy: 0.8718\n",
            "Epoch 224/300\n",
            "58/58 [==============================] - 0s 8ms/step - loss: 0.0459 - accuracy: 0.9997 - val_loss: 0.3855 - val_accuracy: 0.8782\n",
            "Epoch 225/300\n",
            "58/58 [==============================] - 0s 7ms/step - loss: 0.0454 - accuracy: 1.0000 - val_loss: 0.3841 - val_accuracy: 0.8794\n",
            "Epoch 226/300\n",
            "58/58 [==============================] - 0s 7ms/step - loss: 0.0464 - accuracy: 0.9995 - val_loss: 0.3782 - val_accuracy: 0.8794\n",
            "Epoch 227/300\n",
            "58/58 [==============================] - 0s 8ms/step - loss: 0.0450 - accuracy: 0.9989 - val_loss: 0.3868 - val_accuracy: 0.8782\n",
            "Epoch 228/300\n",
            "58/58 [==============================] - 0s 8ms/step - loss: 0.0460 - accuracy: 0.9995 - val_loss: 0.3775 - val_accuracy: 0.8794\n",
            "Epoch 229/300\n",
            "58/58 [==============================] - 0s 8ms/step - loss: 0.0426 - accuracy: 0.9995 - val_loss: 0.3822 - val_accuracy: 0.8820\n",
            "Epoch 230/300\n",
            "58/58 [==============================] - 0s 7ms/step - loss: 0.0427 - accuracy: 1.0000 - val_loss: 0.3809 - val_accuracy: 0.8832\n",
            "Epoch 231/300\n",
            "58/58 [==============================] - 0s 8ms/step - loss: 0.0419 - accuracy: 0.9997 - val_loss: 0.3779 - val_accuracy: 0.8807\n",
            "Epoch 232/300\n",
            "58/58 [==============================] - 0s 7ms/step - loss: 0.0439 - accuracy: 0.9989 - val_loss: 0.4080 - val_accuracy: 0.8744\n",
            "Epoch 233/300\n",
            "58/58 [==============================] - 0s 8ms/step - loss: 0.0417 - accuracy: 1.0000 - val_loss: 0.3900 - val_accuracy: 0.8820\n",
            "Epoch 234/300\n",
            "58/58 [==============================] - 0s 8ms/step - loss: 0.0412 - accuracy: 0.9992 - val_loss: 0.3898 - val_accuracy: 0.8858\n",
            "Epoch 235/300\n",
            "58/58 [==============================] - 0s 7ms/step - loss: 0.0422 - accuracy: 0.9997 - val_loss: 0.3968 - val_accuracy: 0.8756\n",
            "Epoch 236/300\n",
            "58/58 [==============================] - 0s 8ms/step - loss: 0.0419 - accuracy: 0.9986 - val_loss: 0.4406 - val_accuracy: 0.8566\n",
            "Epoch 237/300\n",
            "58/58 [==============================] - 0s 8ms/step - loss: 0.0407 - accuracy: 0.9995 - val_loss: 0.3795 - val_accuracy: 0.8896\n",
            "Epoch 238/300\n",
            "58/58 [==============================] - 0s 8ms/step - loss: 0.0420 - accuracy: 0.9992 - val_loss: 0.3970 - val_accuracy: 0.8769\n",
            "Epoch 239/300\n",
            "58/58 [==============================] - 0s 8ms/step - loss: 0.0422 - accuracy: 1.0000 - val_loss: 0.4033 - val_accuracy: 0.8693\n",
            "Epoch 240/300\n",
            "58/58 [==============================] - 0s 8ms/step - loss: 0.0392 - accuracy: 0.9997 - val_loss: 0.3781 - val_accuracy: 0.8832\n",
            "Epoch 241/300\n",
            "58/58 [==============================] - 0s 8ms/step - loss: 0.0393 - accuracy: 1.0000 - val_loss: 0.4084 - val_accuracy: 0.8756\n",
            "Epoch 242/300\n",
            "58/58 [==============================] - 0s 8ms/step - loss: 0.0372 - accuracy: 0.9997 - val_loss: 0.3810 - val_accuracy: 0.8832\n",
            "Epoch 243/300\n",
            "58/58 [==============================] - 0s 8ms/step - loss: 0.0399 - accuracy: 0.9995 - val_loss: 0.4186 - val_accuracy: 0.8769\n",
            "Epoch 244/300\n",
            "58/58 [==============================] - 0s 8ms/step - loss: 0.0393 - accuracy: 0.9992 - val_loss: 0.3734 - val_accuracy: 0.8832\n",
            "Epoch 245/300\n",
            "58/58 [==============================] - 1s 10ms/step - loss: 0.0360 - accuracy: 1.0000 - val_loss: 0.3894 - val_accuracy: 0.8769\n",
            "Epoch 246/300\n",
            "58/58 [==============================] - 1s 11ms/step - loss: 0.0377 - accuracy: 0.9992 - val_loss: 0.3836 - val_accuracy: 0.8756\n",
            "Epoch 247/300\n",
            "58/58 [==============================] - 1s 10ms/step - loss: 0.0356 - accuracy: 0.9997 - val_loss: 0.3753 - val_accuracy: 0.8807\n",
            "Epoch 248/300\n",
            "58/58 [==============================] - 1s 10ms/step - loss: 0.0342 - accuracy: 0.9995 - val_loss: 0.3956 - val_accuracy: 0.8744\n",
            "Epoch 249/300\n",
            "58/58 [==============================] - 1s 11ms/step - loss: 0.0353 - accuracy: 0.9997 - val_loss: 0.3857 - val_accuracy: 0.8807\n",
            "Epoch 250/300\n",
            "58/58 [==============================] - 1s 10ms/step - loss: 0.0367 - accuracy: 0.9989 - val_loss: 0.4085 - val_accuracy: 0.8680\n",
            "Epoch 251/300\n",
            "58/58 [==============================] - 1s 10ms/step - loss: 0.0357 - accuracy: 0.9997 - val_loss: 0.3898 - val_accuracy: 0.8871\n",
            "Epoch 252/300\n",
            "58/58 [==============================] - 1s 10ms/step - loss: 0.0376 - accuracy: 0.9992 - val_loss: 0.3751 - val_accuracy: 0.8858\n",
            "Epoch 253/300\n",
            "58/58 [==============================] - 1s 9ms/step - loss: 0.0351 - accuracy: 1.0000 - val_loss: 0.3885 - val_accuracy: 0.8744\n",
            "Epoch 254/300\n",
            "58/58 [==============================] - 0s 7ms/step - loss: 0.0357 - accuracy: 0.9997 - val_loss: 0.3746 - val_accuracy: 0.8744\n",
            "Epoch 255/300\n",
            "58/58 [==============================] - 0s 8ms/step - loss: 0.0344 - accuracy: 0.9997 - val_loss: 0.3749 - val_accuracy: 0.8756\n",
            "Epoch 256/300\n",
            "58/58 [==============================] - 0s 7ms/step - loss: 0.0331 - accuracy: 0.9995 - val_loss: 0.3798 - val_accuracy: 0.8871\n",
            "Epoch 257/300\n",
            "58/58 [==============================] - 0s 8ms/step - loss: 0.0322 - accuracy: 0.9997 - val_loss: 0.3970 - val_accuracy: 0.8744\n",
            "Epoch 258/300\n",
            "58/58 [==============================] - 0s 8ms/step - loss: 0.0323 - accuracy: 1.0000 - val_loss: 0.3798 - val_accuracy: 0.8718\n",
            "Epoch 259/300\n",
            "58/58 [==============================] - 0s 8ms/step - loss: 0.0346 - accuracy: 0.9992 - val_loss: 0.3741 - val_accuracy: 0.8782\n",
            "Epoch 260/300\n",
            "58/58 [==============================] - 0s 8ms/step - loss: 0.0362 - accuracy: 0.9989 - val_loss: 0.3712 - val_accuracy: 0.8845\n",
            "Epoch 261/300\n",
            "58/58 [==============================] - 0s 8ms/step - loss: 0.0323 - accuracy: 0.9997 - val_loss: 0.4165 - val_accuracy: 0.8756\n",
            "Epoch 262/300\n",
            "58/58 [==============================] - 0s 8ms/step - loss: 0.0296 - accuracy: 0.9997 - val_loss: 0.3794 - val_accuracy: 0.8769\n",
            "Epoch 263/300\n",
            "58/58 [==============================] - 0s 8ms/step - loss: 0.0328 - accuracy: 0.9984 - val_loss: 0.3743 - val_accuracy: 0.8794\n",
            "Epoch 264/300\n",
            "58/58 [==============================] - 0s 7ms/step - loss: 0.0291 - accuracy: 1.0000 - val_loss: 0.4008 - val_accuracy: 0.8756\n",
            "Epoch 265/300\n",
            "58/58 [==============================] - 0s 8ms/step - loss: 0.0300 - accuracy: 0.9997 - val_loss: 0.3748 - val_accuracy: 0.8871\n",
            "Epoch 266/300\n",
            "58/58 [==============================] - 0s 7ms/step - loss: 0.0312 - accuracy: 1.0000 - val_loss: 0.3694 - val_accuracy: 0.8871\n",
            "Epoch 267/300\n",
            "58/58 [==============================] - 0s 8ms/step - loss: 0.0298 - accuracy: 1.0000 - val_loss: 0.3769 - val_accuracy: 0.8858\n",
            "Epoch 268/300\n",
            "58/58 [==============================] - 0s 8ms/step - loss: 0.0302 - accuracy: 1.0000 - val_loss: 0.3824 - val_accuracy: 0.8820\n",
            "Epoch 269/300\n",
            "58/58 [==============================] - 0s 8ms/step - loss: 0.0288 - accuracy: 0.9997 - val_loss: 0.3963 - val_accuracy: 0.8820\n",
            "Epoch 270/300\n",
            "58/58 [==============================] - 0s 7ms/step - loss: 0.0291 - accuracy: 0.9997 - val_loss: 0.3663 - val_accuracy: 0.8820\n",
            "Epoch 271/300\n",
            "58/58 [==============================] - 0s 8ms/step - loss: 0.0303 - accuracy: 0.9992 - val_loss: 0.3753 - val_accuracy: 0.8883\n",
            "Epoch 272/300\n",
            "58/58 [==============================] - 0s 8ms/step - loss: 0.0285 - accuracy: 0.9997 - val_loss: 0.3835 - val_accuracy: 0.8845\n",
            "Epoch 273/300\n",
            "58/58 [==============================] - 0s 8ms/step - loss: 0.0276 - accuracy: 0.9992 - val_loss: 0.3716 - val_accuracy: 0.8871\n",
            "Epoch 274/300\n",
            "58/58 [==============================] - 0s 7ms/step - loss: 0.0298 - accuracy: 0.9995 - val_loss: 0.3798 - val_accuracy: 0.8896\n",
            "Epoch 275/300\n",
            "58/58 [==============================] - 1s 10ms/step - loss: 0.0267 - accuracy: 0.9989 - val_loss: 0.3974 - val_accuracy: 0.8782\n",
            "Epoch 276/300\n",
            "58/58 [==============================] - 1s 10ms/step - loss: 0.0268 - accuracy: 1.0000 - val_loss: 0.3684 - val_accuracy: 0.8807\n",
            "Epoch 277/300\n",
            "58/58 [==============================] - 1s 10ms/step - loss: 0.0260 - accuracy: 1.0000 - val_loss: 0.3792 - val_accuracy: 0.8845\n",
            "Epoch 278/300\n",
            "58/58 [==============================] - 1s 10ms/step - loss: 0.0275 - accuracy: 0.9995 - val_loss: 0.3804 - val_accuracy: 0.8782\n",
            "Epoch 279/300\n",
            "58/58 [==============================] - 1s 11ms/step - loss: 0.0262 - accuracy: 0.9995 - val_loss: 0.3708 - val_accuracy: 0.8832\n",
            "Epoch 280/300\n",
            "58/58 [==============================] - 1s 10ms/step - loss: 0.0263 - accuracy: 0.9995 - val_loss: 0.3555 - val_accuracy: 0.8845\n",
            "Epoch 281/300\n",
            "58/58 [==============================] - 1s 11ms/step - loss: 0.0258 - accuracy: 0.9997 - val_loss: 0.3987 - val_accuracy: 0.8756\n",
            "Epoch 282/300\n",
            "58/58 [==============================] - 1s 11ms/step - loss: 0.0263 - accuracy: 0.9995 - val_loss: 0.3821 - val_accuracy: 0.8769\n",
            "Epoch 283/300\n",
            "58/58 [==============================] - 0s 8ms/step - loss: 0.0261 - accuracy: 1.0000 - val_loss: 0.3745 - val_accuracy: 0.8794\n",
            "Epoch 284/300\n",
            "58/58 [==============================] - 0s 8ms/step - loss: 0.0257 - accuracy: 0.9995 - val_loss: 0.3763 - val_accuracy: 0.8858\n",
            "Epoch 285/300\n",
            "58/58 [==============================] - 0s 8ms/step - loss: 0.0261 - accuracy: 0.9995 - val_loss: 0.3627 - val_accuracy: 0.8921\n",
            "Epoch 286/300\n",
            "58/58 [==============================] - 0s 8ms/step - loss: 0.0251 - accuracy: 0.9995 - val_loss: 0.3738 - val_accuracy: 0.8832\n",
            "Epoch 287/300\n",
            "58/58 [==============================] - 0s 7ms/step - loss: 0.0253 - accuracy: 0.9995 - val_loss: 0.3873 - val_accuracy: 0.8845\n",
            "Epoch 288/300\n",
            "58/58 [==============================] - 0s 7ms/step - loss: 0.0257 - accuracy: 0.9995 - val_loss: 0.3693 - val_accuracy: 0.8820\n",
            "Epoch 289/300\n",
            "58/58 [==============================] - 0s 8ms/step - loss: 0.0249 - accuracy: 0.9992 - val_loss: 0.3834 - val_accuracy: 0.8731\n",
            "Epoch 290/300\n",
            "58/58 [==============================] - 0s 7ms/step - loss: 0.0252 - accuracy: 0.9997 - val_loss: 0.3866 - val_accuracy: 0.8731\n",
            "Epoch 291/300\n",
            "58/58 [==============================] - 0s 8ms/step - loss: 0.0268 - accuracy: 0.9992 - val_loss: 0.3709 - val_accuracy: 0.8769\n",
            "Epoch 292/300\n",
            "58/58 [==============================] - 0s 7ms/step - loss: 0.0241 - accuracy: 0.9995 - val_loss: 0.3818 - val_accuracy: 0.8832\n",
            "Epoch 293/300\n",
            "58/58 [==============================] - 0s 8ms/step - loss: 0.0242 - accuracy: 0.9995 - val_loss: 0.4069 - val_accuracy: 0.8680\n",
            "Epoch 294/300\n",
            "58/58 [==============================] - 0s 7ms/step - loss: 0.0249 - accuracy: 0.9995 - val_loss: 0.3728 - val_accuracy: 0.8883\n",
            "Epoch 295/300\n",
            "58/58 [==============================] - 0s 7ms/step - loss: 0.0224 - accuracy: 0.9997 - val_loss: 0.3813 - val_accuracy: 0.8756\n",
            "Epoch 296/300\n",
            "58/58 [==============================] - 0s 7ms/step - loss: 0.0232 - accuracy: 1.0000 - val_loss: 0.4176 - val_accuracy: 0.8680\n",
            "Epoch 297/300\n",
            "58/58 [==============================] - 0s 8ms/step - loss: 0.0225 - accuracy: 0.9995 - val_loss: 0.3813 - val_accuracy: 0.8756\n",
            "Epoch 298/300\n",
            "58/58 [==============================] - 0s 7ms/step - loss: 0.0243 - accuracy: 0.9992 - val_loss: 0.3779 - val_accuracy: 0.8782\n",
            "Epoch 299/300\n",
            "58/58 [==============================] - 0s 8ms/step - loss: 0.0210 - accuracy: 1.0000 - val_loss: 0.3735 - val_accuracy: 0.8845\n",
            "Epoch 300/300\n",
            "58/58 [==============================] - 0s 8ms/step - loss: 0.0208 - accuracy: 1.0000 - val_loss: 0.3939 - val_accuracy: 0.8744\n"
          ]
        },
        {
          "output_type": "execute_result",
          "data": {
            "text/plain": [
              "<keras.src.callbacks.History at 0x7d005a00b1f0>"
            ]
          },
          "metadata": {},
          "execution_count": 76
        }
      ]
    },
    {
      "cell_type": "code",
      "source": [
        "y_pred = model.predict(X_test)\n",
        "# Chuyển dự đoán thành danh sách các lớp\n",
        "y_pred_labels = np.argmax(y_pred, axis=1)\n",
        "\n",
        "# Sau đó, bạn có thể tính classification report bằng scikit-learn\n",
        "from sklearn.metrics import classification_report\n",
        "print(classification_report(y_test, y_pred_labels))"
      ],
      "metadata": {
        "colab": {
          "base_uri": "https://localhost:8080/"
        },
        "id": "Cfl3LT8UowR5",
        "outputId": "52ef4436-e6c3-4178-fb8f-e2f26638af78"
      },
      "execution_count": null,
      "outputs": [
        {
          "output_type": "stream",
          "name": "stdout",
          "text": [
            "25/25 [==============================] - 0s 2ms/step\n",
            "              precision    recall  f1-score   support\n",
            "\n",
            "           0       0.99      0.93      0.96        82\n",
            "           1       0.85      0.90      0.87        49\n",
            "           2       0.86      0.92      0.89       110\n",
            "           3       0.88      0.94      0.91       113\n",
            "           4       0.94      0.90      0.92       126\n",
            "           5       0.93      0.85      0.89       107\n",
            "           6       0.91      0.92      0.91        97\n",
            "           7       0.92      0.92      0.92       104\n",
            "\n",
            "    accuracy                           0.91       788\n",
            "   macro avg       0.91      0.91      0.91       788\n",
            "weighted avg       0.91      0.91      0.91       788\n",
            "\n"
          ]
        }
      ]
    },
    {
      "cell_type": "code",
      "source": [
        "model.save('/content/drive/MyDrive/Study/Năm 3/CS337-Xử lý âm thanh và tiếng nói/model/CNN_mfcc.h5')"
      ],
      "metadata": {
        "id": "rWa4Sqb85MZa"
      },
      "execution_count": null,
      "outputs": []
    },
    {
      "cell_type": "code",
      "source": [],
      "metadata": {
        "id": "XHcSH_ks72ib"
      },
      "execution_count": null,
      "outputs": []
    }
  ]
}